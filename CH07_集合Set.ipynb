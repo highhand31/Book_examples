{
 "cells": [
  {
   "cell_type": "markdown",
   "id": "scenic-commodity",
   "metadata": {},
   "source": [
    "# 集合的基本使用"
   ]
  },
  {
   "cell_type": "code",
   "execution_count": 18,
   "id": "explicit-collar",
   "metadata": {},
   "outputs": [
    {
     "ename": "TypeError",
     "evalue": "unhashable type: 'dict'",
     "output_type": "error",
     "traceback": [
      "\u001b[1;31m---------------------------------------------------------------------------\u001b[0m",
      "\u001b[1;31mTypeError\u001b[0m                                 Traceback (most recent call last)",
      "\u001b[1;32m<ipython-input-18-8bc427e2e0ce>\u001b[0m in \u001b[0;36m<module>\u001b[1;34m\u001b[0m\n\u001b[0;32m      1\u001b[0m \u001b[0ma\u001b[0m \u001b[1;33m=\u001b[0m \u001b[1;33m{\u001b[0m\u001b[1;36m1\u001b[0m\u001b[1;33m:\u001b[0m\u001b[1;36m2\u001b[0m\u001b[1;33m}\u001b[0m\u001b[1;33m\u001b[0m\u001b[1;33m\u001b[0m\u001b[0m\n\u001b[1;32m----> 2\u001b[1;33m \u001b[0mname_set\u001b[0m \u001b[1;33m=\u001b[0m \u001b[1;33m{\u001b[0m\u001b[1;34m'Mary'\u001b[0m\u001b[1;33m,\u001b[0m \u001b[1;34m'Kyo'\u001b[0m\u001b[1;33m,\u001b[0m \u001b[1;34m'Iori'\u001b[0m\u001b[1;33m,\u001b[0m\u001b[1;34m'Kyo'\u001b[0m\u001b[1;33m,\u001b[0m\u001b[1;34m\"Chris\"\u001b[0m\u001b[1;33m,\u001b[0m\u001b[1;34m'Kyo'\u001b[0m\u001b[1;33m,\u001b[0m\u001b[0ma\u001b[0m\u001b[1;33m}\u001b[0m\u001b[1;33m\u001b[0m\u001b[1;33m\u001b[0m\u001b[0m\n\u001b[0m\u001b[0;32m      3\u001b[0m \u001b[1;33m\u001b[0m\u001b[0m\n\u001b[0;32m      4\u001b[0m \u001b[0mprint\u001b[0m\u001b[1;33m(\u001b[0m\u001b[0mtype\u001b[0m\u001b[1;33m(\u001b[0m\u001b[0mname_set\u001b[0m\u001b[1;33m)\u001b[0m\u001b[1;33m)\u001b[0m\u001b[1;33m\u001b[0m\u001b[1;33m\u001b[0m\u001b[0m\n\u001b[0;32m      5\u001b[0m \u001b[1;33m\u001b[0m\u001b[0m\n",
      "\u001b[1;31mTypeError\u001b[0m: unhashable type: 'dict'"
     ]
    }
   ],
   "source": [
    "name_set = {'Mary', 'Kyo', 'Iori','Kyo',\"Chris\",'Kyo',a}\n",
    "\n",
    "print(type(name_set))\n",
    "\n",
    "for name in name_set:\n",
    "    print(name)"
   ]
  },
  {
   "cell_type": "markdown",
   "id": "after-relevance",
   "metadata": {},
   "source": [
    "# 無法使用索引值讀出特定元素"
   ]
  },
  {
   "cell_type": "code",
   "execution_count": 5,
   "id": "superb-drain",
   "metadata": {},
   "outputs": [
    {
     "name": "stdout",
     "output_type": "stream",
     "text": [
      "{'Mary', 'Iori', 'Chris', 'Kyo'}\n"
     ]
    },
    {
     "ename": "TypeError",
     "evalue": "'set' object is not subscriptable",
     "output_type": "error",
     "traceback": [
      "\u001b[1;31m---------------------------------------------------------------------------\u001b[0m",
      "\u001b[1;31mTypeError\u001b[0m                                 Traceback (most recent call last)",
      "\u001b[1;32m<ipython-input-5-8da3d7146387>\u001b[0m in \u001b[0;36m<module>\u001b[1;34m\u001b[0m\n\u001b[0;32m      2\u001b[0m \u001b[1;33m\u001b[0m\u001b[0m\n\u001b[0;32m      3\u001b[0m \u001b[0mprint\u001b[0m\u001b[1;33m(\u001b[0m\u001b[0mname_set\u001b[0m\u001b[1;33m)\u001b[0m\u001b[1;33m\u001b[0m\u001b[1;33m\u001b[0m\u001b[0m\n\u001b[1;32m----> 4\u001b[1;33m \u001b[0mprint\u001b[0m\u001b[1;33m(\u001b[0m\u001b[0mname_set\u001b[0m\u001b[1;33m[\u001b[0m\u001b[1;36m0\u001b[0m\u001b[1;33m]\u001b[0m\u001b[1;33m)\u001b[0m\u001b[1;33m\u001b[0m\u001b[1;33m\u001b[0m\u001b[0m\n\u001b[0m",
      "\u001b[1;31mTypeError\u001b[0m: 'set' object is not subscriptable"
     ]
    }
   ],
   "source": [
    "name_set = {'Mary', 'Kyo', 'Iori','Kyo',\"Chris\",'Kyo'}\n",
    "\n",
    "print(name_set)\n",
    "print(name_set[0])"
   ]
  },
  {
   "cell_type": "markdown",
   "id": "occupied-illness",
   "metadata": {},
   "source": [
    "# 無法進行資料切片的動作"
   ]
  },
  {
   "cell_type": "code",
   "execution_count": 4,
   "id": "inappropriate-margin",
   "metadata": {},
   "outputs": [
    {
     "ename": "TypeError",
     "evalue": "'set' object is not subscriptable",
     "output_type": "error",
     "traceback": [
      "\u001b[1;31m---------------------------------------------------------------------------\u001b[0m",
      "\u001b[1;31mTypeError\u001b[0m                                 Traceback (most recent call last)",
      "\u001b[1;32m<ipython-input-4-3fb4be2582a4>\u001b[0m in \u001b[0;36m<module>\u001b[1;34m\u001b[0m\n\u001b[0;32m      1\u001b[0m \u001b[0mnames\u001b[0m \u001b[1;33m=\u001b[0m \u001b[1;33m{\u001b[0m\u001b[1;34m'Mary'\u001b[0m\u001b[1;33m,\u001b[0m \u001b[1;34m'Kyo'\u001b[0m\u001b[1;33m,\u001b[0m \u001b[1;34m'Iori'\u001b[0m\u001b[1;33m,\u001b[0m\u001b[1;34m'Kyo'\u001b[0m\u001b[1;33m,\u001b[0m\u001b[1;34m\"Chris\"\u001b[0m\u001b[1;33m,\u001b[0m\u001b[1;34m'Kyo'\u001b[0m\u001b[1;33m}\u001b[0m\u001b[1;33m\u001b[0m\u001b[1;33m\u001b[0m\u001b[0m\n\u001b[1;32m----> 2\u001b[1;33m \u001b[0mprint\u001b[0m\u001b[1;33m(\u001b[0m\u001b[0mnames\u001b[0m\u001b[1;33m[\u001b[0m\u001b[1;33m:\u001b[0m\u001b[1;36m2\u001b[0m\u001b[1;33m]\u001b[0m\u001b[1;33m)\u001b[0m\u001b[1;33m\u001b[0m\u001b[1;33m\u001b[0m\u001b[0m\n\u001b[0m",
      "\u001b[1;31mTypeError\u001b[0m: 'set' object is not subscriptable"
     ]
    }
   ],
   "source": [
    "names = {'Mary', 'Kyo', 'Iori','Kyo',\"Chris\",'Kyo'}\n",
    "print(names[:2])"
   ]
  },
  {
   "cell_type": "markdown",
   "id": "labeled-kitchen",
   "metadata": {},
   "source": [
    "# 型態轉換"
   ]
  },
  {
   "cell_type": "code",
   "execution_count": 11,
   "id": "sunset-handle",
   "metadata": {},
   "outputs": [
    {
     "name": "stdout",
     "output_type": "stream",
     "text": [
      "['Mary', 'Kyo', 'Iori', 'Kyo', 'Chris', 'Kyo']\n",
      "{'Mary', 'Iori', 'Chris', 'Kyo'}\n",
      "Mary\n",
      "Iori\n",
      "Chris\n",
      "Kyo\n"
     ]
    }
   ],
   "source": [
    "names = ['Mary', 'Kyo', 'Iori','Kyo',\"Chris\",'Kyo']\n",
    "\n",
    "print(names)\n",
    "\n",
    "names = set(names)\n",
    "print(names)\n",
    "\n",
    "names = list(names)\n",
    "\n",
    "print(names[0])\n",
    "print(names[1])\n",
    "print(names[2])\n",
    "print(names[3])"
   ]
  },
  {
   "cell_type": "code",
   "execution_count": 1,
   "id": "level-immunology",
   "metadata": {},
   "outputs": [
    {
     "name": "stdout",
     "output_type": "stream",
     "text": [
      "('Mary', 'Kyo', 'Iori', 'Kyo', 'Chris', 'Kyo')\n",
      "{'Chris', 'Kyo', 'Iori', 'Mary'}\n",
      "Chris\n",
      "Kyo\n",
      "Iori\n",
      "Mary\n"
     ]
    }
   ],
   "source": [
    "names = ('Mary', 'Kyo', 'Iori','Kyo',\"Chris\",'Kyo')\n",
    "\n",
    "print(names)\n",
    "\n",
    "names = set(names)\n",
    "print(names)\n",
    "\n",
    "names = tuple(names)\n",
    "\n",
    "print(names[0])\n",
    "print(names[1])\n",
    "print(names[2])\n",
    "print(names[3])"
   ]
  },
  {
   "cell_type": "code",
   "execution_count": 10,
   "id": "domestic-referral",
   "metadata": {},
   "outputs": [
    {
     "name": "stdout",
     "output_type": "stream",
     "text": [
      "store_a接受此付款方式: credit card\n"
     ]
    }
   ],
   "source": [
    "store_a = {'cash','Apple pay', 'credit card'}\n",
    "payment = 'credit card'\n",
    "\n",
    "if payment in store_a:\n",
    "    print(\"store_a接受此付款方式:\",payment)\n",
    "else:\n",
    "    print(\"store_a不接受此付款方式:\",payment)"
   ]
  },
  {
   "cell_type": "code",
   "execution_count": 11,
   "id": "serious-brooklyn",
   "metadata": {},
   "outputs": [
    {
     "name": "stdout",
     "output_type": "stream",
     "text": [
      "store_b不接受此付款方式: credit card\n"
     ]
    }
   ],
   "source": [
    "store_b = {'Google pay', 'Samsung pay','Line pay','cash'}\n",
    "\n",
    "if payment in store_b:\n",
    "    print(\"store_b接受此付款方式:\",payment)\n",
    "else:\n",
    "    print(\"store_b不接受此付款方式:\",payment)"
   ]
  },
  {
   "cell_type": "markdown",
   "id": "clear-upset",
   "metadata": {},
   "source": [
    "# 空集合的宣告"
   ]
  },
  {
   "cell_type": "code",
   "execution_count": 32,
   "id": "union-kentucky",
   "metadata": {},
   "outputs": [
    {
     "name": "stdout",
     "output_type": "stream",
     "text": [
      "set()\n",
      "<class 'set'>\n",
      "{}\n",
      "<class 'dict'>\n"
     ]
    }
   ],
   "source": [
    "a = set()\n",
    "b = {}\n",
    "\n",
    "print(a)\n",
    "print(type(a))\n",
    "\n",
    "print(b)\n",
    "print(type(b))"
   ]
  },
  {
   "cell_type": "markdown",
   "id": "external-blank",
   "metadata": {},
   "source": [
    "# add()方法:新增元素方法"
   ]
  },
  {
   "cell_type": "code",
   "execution_count": 47,
   "id": "outdoor-panama",
   "metadata": {},
   "outputs": [
    {
     "name": "stdout",
     "output_type": "stream",
     "text": [
      "{99, '我是字串'}\n",
      "{99, '我是字串', (4, 5, 6)}\n"
     ]
    },
    {
     "ename": "TypeError",
     "evalue": "unhashable type: 'list'",
     "output_type": "error",
     "traceback": [
      "\u001b[1;31m---------------------------------------------------------------------------\u001b[0m",
      "\u001b[1;31mTypeError\u001b[0m                                 Traceback (most recent call last)",
      "\u001b[1;32m<ipython-input-47-bafc0888f578>\u001b[0m in \u001b[0;36m<module>\u001b[1;34m\u001b[0m\n\u001b[0;32m      6\u001b[0m \u001b[0ma\u001b[0m\u001b[1;33m.\u001b[0m\u001b[0madd\u001b[0m\u001b[1;33m(\u001b[0m\u001b[1;33m(\u001b[0m\u001b[1;36m4\u001b[0m\u001b[1;33m,\u001b[0m\u001b[1;36m5\u001b[0m\u001b[1;33m,\u001b[0m\u001b[1;36m6\u001b[0m\u001b[1;33m)\u001b[0m\u001b[1;33m)\u001b[0m\u001b[1;33m\u001b[0m\u001b[1;33m\u001b[0m\u001b[0m\n\u001b[0;32m      7\u001b[0m \u001b[0mprint\u001b[0m\u001b[1;33m(\u001b[0m\u001b[0ma\u001b[0m\u001b[1;33m)\u001b[0m\u001b[1;33m\u001b[0m\u001b[1;33m\u001b[0m\u001b[0m\n\u001b[1;32m----> 8\u001b[1;33m \u001b[0ma\u001b[0m\u001b[1;33m.\u001b[0m\u001b[0madd\u001b[0m\u001b[1;33m(\u001b[0m\u001b[1;33m[\u001b[0m\u001b[1;36m1\u001b[0m\u001b[1;33m,\u001b[0m\u001b[1;36m2\u001b[0m\u001b[1;33m,\u001b[0m\u001b[1;36m3\u001b[0m\u001b[1;33m]\u001b[0m\u001b[1;33m)\u001b[0m\u001b[1;33m\u001b[0m\u001b[1;33m\u001b[0m\u001b[0m\n\u001b[0m\u001b[0;32m      9\u001b[0m \u001b[0ma\u001b[0m\u001b[1;33m.\u001b[0m\u001b[0madd\u001b[0m\u001b[1;33m(\u001b[0m\u001b[1;33m{\u001b[0m\u001b[1;36m7\u001b[0m\u001b[1;33m,\u001b[0m\u001b[1;36m8\u001b[0m\u001b[1;33m,\u001b[0m\u001b[1;36m9\u001b[0m\u001b[1;33m}\u001b[0m\u001b[1;33m)\u001b[0m\u001b[1;33m\u001b[0m\u001b[1;33m\u001b[0m\u001b[0m\n\u001b[0;32m     10\u001b[0m \u001b[0mprint\u001b[0m\u001b[1;33m(\u001b[0m\u001b[0ma\u001b[0m\u001b[1;33m)\u001b[0m\u001b[1;33m\u001b[0m\u001b[1;33m\u001b[0m\u001b[0m\n",
      "\u001b[1;31mTypeError\u001b[0m: unhashable type: 'list'"
     ]
    }
   ],
   "source": [
    "a = set()\n",
    "a.add('我是字串')\n",
    "a.add(99)\n",
    "print(a)\n",
    "\n",
    "a.add((4,5,6))\n",
    "print(a)\n",
    "a.add([1,2,3])\n",
    "a.add({7,8,9})\n",
    "print(a)\n"
   ]
  },
  {
   "cell_type": "markdown",
   "id": "lightweight-layer",
   "metadata": {},
   "source": [
    "# update()方法:新增集合方法"
   ]
  },
  {
   "cell_type": "code",
   "execution_count": 56,
   "id": "vulnerable-typing",
   "metadata": {},
   "outputs": [
    {
     "name": "stdout",
     "output_type": "stream",
     "text": [
      "{1, 2, 3, 4, 5, 6}\n",
      "{1, 2, 3, 4, 5, 6, 7, 8, 9}\n",
      "{1, 2, 3, 4, 5, 6, 7, 8, 9, 10, 11, 12}\n"
     ]
    }
   ],
   "source": [
    "a = {1,2,3}\n",
    "b = {4,5,6}\n",
    "c = [7,8,9]\n",
    "d = (10,11,12)\n",
    "\n",
    "a.update(b)\n",
    "print(a)\n",
    "\n",
    "a.update(c)\n",
    "print(a)\n",
    "\n",
    "a.update(d)\n",
    "print(a)\n",
    "\n"
   ]
  },
  {
   "cell_type": "code",
   "execution_count": 11,
   "id": "objective-amino",
   "metadata": {},
   "outputs": [
    {
     "name": "stdout",
     "output_type": "stream",
     "text": [
      "{1, 2, 3, 4, 5, 6}\n"
     ]
    }
   ],
   "source": [
    "#若不用update，可以使用for迴圈來新增集合元素\n",
    "a = {1,2,3}\n",
    "b = {4,5,6}\n",
    "\n",
    "for element in b:\n",
    "    a.add(element)\n",
    "print(a)    "
   ]
  },
  {
   "cell_type": "markdown",
   "id": "brief-validation",
   "metadata": {},
   "source": [
    "# remove()方法: 刪除元素方法 "
   ]
  },
  {
   "cell_type": "code",
   "execution_count": 48,
   "id": "continent-upset",
   "metadata": {},
   "outputs": [
    {
     "name": "stdout",
     "output_type": "stream",
     "text": [
      "{'Iori', 'Mary'}\n"
     ]
    }
   ],
   "source": [
    "name_set = {'Mary', 'Kyo', 'Iori'}\n",
    "name = \"Kyo\"\n",
    "\n",
    "if name in name_set:\n",
    "    name_set.remove(name)\n",
    "    \n",
    "print(name_set)"
   ]
  },
  {
   "cell_type": "markdown",
   "id": "descending-fountain",
   "metadata": {},
   "source": [
    "# clear()方法:刪除所有元素方法 "
   ]
  },
  {
   "cell_type": "code",
   "execution_count": 49,
   "id": "still-reach",
   "metadata": {},
   "outputs": [
    {
     "name": "stdout",
     "output_type": "stream",
     "text": [
      "刪除前: {'Kyo', 'Iori', 'Mary'}\n",
      "刪除後: set()\n"
     ]
    }
   ],
   "source": [
    "name_set = {'Mary', 'Kyo', 'Iori'}\n",
    "name = \"Kyo\"\n",
    "\n",
    "print(\"刪除前:\",name_set)\n",
    "\n",
    "name_set.clear()\n",
    "\n",
    "print(\"刪除後:\",name_set)"
   ]
  },
  {
   "cell_type": "markdown",
   "id": "invalid-zealand",
   "metadata": {},
   "source": [
    "# copy()方法:複製集合內容"
   ]
  },
  {
   "cell_type": "code",
   "execution_count": 8,
   "id": "direct-tracy",
   "metadata": {},
   "outputs": [
    {
     "name": "stdout",
     "output_type": "stream",
     "text": [
      "----未更動任何變數的內容前\n",
      "a的ID 1317119867808\n",
      "b的ID 1317119867808\n",
      "c的ID 1317119867808\n",
      "----新增a內容後\n",
      "a的ID 1317119867808\n",
      "b的ID 1317119867808\n",
      "c的ID 1317119867808\n",
      "a內容 =  {'Jay', 'Johnny'}\n",
      "b內容 =  {'Jay', 'Johnny'}\n",
      "c內容 =  {'Jay', 'Johnny'}\n",
      "----新增b內容後\n",
      "a的ID 1317119867808\n",
      "b的ID 1317119867808\n",
      "c的ID 1317119867808\n",
      "a內容 =  {'Jolin', 'Jay', 'Johnny'}\n",
      "b內容 =  {'Jolin', 'Jay', 'Johnny'}\n",
      "c內容 =  {'Jolin', 'Jay', 'Johnny'}\n"
     ]
    }
   ],
   "source": [
    "#不使用cpoy()時，使用集合進行多重給值會有內容連動的情形\n",
    "a = b = c = {'Johnny'}\n",
    "\n",
    "print(\"----未更動任何變數的內容前\")\n",
    "print(\"a的ID\",id(a))\n",
    "print(\"b的ID\",id(b))\n",
    "print(\"c的ID\",id(c))\n",
    "\n",
    "a.add('Jay')\n",
    "print(\"----新增a內容後\")\n",
    "print(\"a的ID\",id(a))\n",
    "print(\"b的ID\",id(b))\n",
    "print(\"c的ID\",id(c))\n",
    "print(\"a內容 = \",a)\n",
    "print(\"b內容 = \",b)\n",
    "print(\"c內容 = \",c)\n",
    "\n",
    "b.add('Jolin')\n",
    "print(\"----新增b內容後\")\n",
    "print(\"a的ID\",id(a))\n",
    "print(\"b的ID\",id(b))\n",
    "print(\"c的ID\",id(c))\n",
    "print(\"a內容 = \",a)\n",
    "print(\"b內容 = \",b)\n",
    "print(\"c內容 = \",c)"
   ]
  },
  {
   "cell_type": "code",
   "execution_count": 10,
   "id": "severe-cleanup",
   "metadata": {},
   "outputs": [
    {
     "name": "stdout",
     "output_type": "stream",
     "text": [
      "----未更動任何變數的內容前\n",
      "a的ID 1317119867808\n",
      "b的ID 1317118724800\n",
      "c的ID 1317119866912\n",
      "----僅新增a內容後\n",
      "a的ID 1317119867808\n",
      "b的ID 1317118724800\n",
      "c的ID 1317119866912\n",
      "a內容 =  {'Jay', 'Johnny'}\n",
      "b內容 =  {'Johnny'}\n",
      "c內容 =  {'Johnny'}\n",
      "----僅新增b內容後\n",
      "a的ID 1317119867808\n",
      "b的ID 1317118724800\n",
      "c的ID 1317119866912\n",
      "a內容 =  {'Jay', 'Johnny'}\n",
      "b內容 =  {'Jolin', 'Johnny'}\n",
      "c內容 =  {'Johnny'}\n"
     ]
    }
   ],
   "source": [
    "a = {'Johnny'}\n",
    "b = a.copy()\n",
    "c = a.copy()\n",
    "\n",
    "print(\"----未更動任何變數的內容前\")\n",
    "print(\"a的ID\",id(a))\n",
    "print(\"b的ID\",id(b))\n",
    "print(\"c的ID\",id(c))\n",
    "\n",
    "a.add('Jay')\n",
    "print(\"----僅新增a內容後\")\n",
    "print(\"a的ID\",id(a))\n",
    "print(\"b的ID\",id(b))\n",
    "print(\"c的ID\",id(c))\n",
    "print(\"a內容 = \",a)\n",
    "print(\"b內容 = \",b)\n",
    "print(\"c內容 = \",c)\n",
    "\n",
    "b.add('Jolin')\n",
    "print(\"----僅新增b內容後\")\n",
    "print(\"a的ID\",id(a))\n",
    "print(\"b的ID\",id(b))\n",
    "print(\"c的ID\",id(c))\n",
    "print(\"a內容 = \",a)\n",
    "print(\"b內容 = \",b)\n",
    "print(\"c內容 = \",c)"
   ]
  },
  {
   "cell_type": "markdown",
   "id": "cloudy-trouble",
   "metadata": {},
   "source": [
    "# intersection()方法:交集方法"
   ]
  },
  {
   "cell_type": "code",
   "execution_count": 14,
   "id": "dedicated-keyboard",
   "metadata": {},
   "outputs": [
    {
     "name": "stdout",
     "output_type": "stream",
     "text": [
      "兩人共同都曾經使用過的蘋果型號手機: {'i11'}\n"
     ]
    }
   ],
   "source": [
    "Johnny = {'i8','i11','i12'}\n",
    "Tommy = ['i7','i9','i11']\n",
    "\n",
    "print(\"兩人共同都曾經使用過的蘋果型號手機:\",Johnny.intersection(Tommy))"
   ]
  },
  {
   "cell_type": "code",
   "execution_count": 15,
   "id": "smart-democrat",
   "metadata": {},
   "outputs": [
    {
     "name": "stdout",
     "output_type": "stream",
     "text": [
      "兩人共同都曾經使用過的蘋果型號手機: {'i11'}\n"
     ]
    }
   ],
   "source": [
    "Johnny = {'i8','i11','i12'}\n",
    "Tommy = ['i7','i9','i11']\n",
    "\n",
    "print(\"兩人共同都曾經使用過的蘋果型號手機:\",Johnny.intersection(Tommy))"
   ]
  },
  {
   "cell_type": "code",
   "execution_count": 19,
   "id": "specified-beginning",
   "metadata": {},
   "outputs": [
    {
     "name": "stdout",
     "output_type": "stream",
     "text": [
      "兩人共同都曾經使用過的蘋果型號手機: {'i11'}\n"
     ]
    }
   ],
   "source": [
    "Johnny = {'i8','i11','i12'}\n",
    "Tommy = {'i7','i9','i11'}\n",
    "\n",
    "print(\"兩人共同都曾經使用過的蘋果型號手機:\",Johnny & Tommy)"
   ]
  },
  {
   "cell_type": "markdown",
   "id": "limited-delay",
   "metadata": {},
   "source": [
    "# union()方法:聯集方法"
   ]
  },
  {
   "cell_type": "code",
   "execution_count": 60,
   "id": "verified-gateway",
   "metadata": {},
   "outputs": [
    {
     "name": "stdout",
     "output_type": "stream",
     "text": [
      "兩人用過的所有蘋果型號手機: {'i12', 'i11', 'i7', 'i8', 'i9'}\n",
      "兩人用過的所有蘋果型號手機: {'i12', 'i11', 'i7', 'i8', 'i9'}\n",
      "兩人用過的所有蘋果型號手機: {'i12', 'i11', 'i7', 'i8', 'i9'}\n"
     ]
    }
   ],
   "source": [
    "Johnny = {'i8','i11','i12'}\n",
    "Tommy = {'i7','i9','i11'}\n",
    "\n",
    "print(\"兩人用過的所有蘋果型號手機:\",Johnny.union(Tommy))\n",
    "print(\"兩人用過的所有蘋果型號手機:\",Tommy.union(Johnny))\n",
    "print(\"兩人用過的所有蘋果型號手機:\",Johnny | Tommy)"
   ]
  },
  {
   "cell_type": "code",
   "execution_count": 61,
   "id": "about-norfolk",
   "metadata": {},
   "outputs": [
    {
     "name": "stdout",
     "output_type": "stream",
     "text": [
      "兩人用過的所有蘋果型號手機: {'i12', 'i11', 'i7', 'i8', 'i9'}\n"
     ]
    }
   ],
   "source": [
    "Johnny = {'i8','i11','i12'}\n",
    "Tommy = {'i7','i9','i11'}\n",
    "\n",
    "Johnny.update(Tommy)\n",
    "\n",
    "print(\"兩人用過的所有蘋果型號手機:\",Johnny)"
   ]
  },
  {
   "cell_type": "markdown",
   "id": "statewide-payment",
   "metadata": {},
   "source": [
    "# difference()方法:差集方法"
   ]
  },
  {
   "cell_type": "code",
   "execution_count": 26,
   "id": "nasty-limitation",
   "metadata": {},
   "outputs": [
    {
     "name": "stdout",
     "output_type": "stream",
     "text": [
      "Johnny用過但Tommy沒用過的蘋果型號手機: {'i12', 'i8'}\n",
      "Johnny用過但Tommy沒用過的蘋果型號手機: {'i12', 'i8'}\n"
     ]
    }
   ],
   "source": [
    "Johnny = {'i8','i11','i12'}\n",
    "Tommy = {'i7','i9','i11'}\n",
    "\n",
    "print(\"Johnny用過但Tommy沒用過的蘋果型號手機:\",Johnny.difference(Tommy))\n",
    "print(\"Johnny用過但Tommy沒用過的蘋果型號手機:\",Johnny - Tommy)"
   ]
  }
 ],
 "metadata": {
  "kernelspec": {
   "display_name": "Python 3",
   "language": "python",
   "name": "python3"
  },
  "language_info": {
   "codemirror_mode": {
    "name": "ipython",
    "version": 3
   },
   "file_extension": ".py",
   "mimetype": "text/x-python",
   "name": "python",
   "nbconvert_exporter": "python",
   "pygments_lexer": "ipython3",
   "version": "3.8.10"
  }
 },
 "nbformat": 4,
 "nbformat_minor": 5
}
