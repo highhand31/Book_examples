{
 "cells": [
  {
   "cell_type": "code",
   "execution_count": 3,
   "metadata": {},
   "outputs": [],
   "source": [
    "import os"
   ]
  },
  {
   "cell_type": "markdown",
   "metadata": {},
   "source": [
    "# os.scandir()瀏覽資料夾"
   ]
  },
  {
   "cell_type": "code",
   "execution_count": 9,
   "metadata": {},
   "outputs": [
    {
     "name": "stdout",
     "output_type": "stream",
     "text": [
      "<DirEntry '14_0.png'>\n",
      "<DirEntry 'books'>\n",
      "<DirEntry 'content.json'>\n",
      "<DirEntry 'dairy_notes.txt'>\n",
      "<DirEntry 'datasets'>\n",
      "<DirEntry 'games'>\n",
      "<DirEntry 'jobs'>\n",
      "<DirEntry 'Lecture_notes.pptx'>\n",
      "<DirEntry 'movies'>\n",
      "<DirEntry 'music'>\n",
      "<DirEntry 'reports'>\n",
      "<DirEntry 'Resume.docx'>\n",
      "<DirEntry 'statistics.xlsx'>\n"
     ]
    }
   ],
   "source": [
    "dir_path = r\"F:\\book_examples\"\n",
    "\n",
    "for obj in os.scandir(dir_path):\n",
    "    print(obj)"
   ]
  },
  {
   "cell_type": "code",
   "execution_count": 15,
   "metadata": {},
   "outputs": [
    {
     "name": "stdout",
     "output_type": "stream",
     "text": [
      "檔案名稱:14_0.png，絕對路徑:F:\\book_examples\\14_0.png\n",
      "資料夾名稱:books，絕對路徑:F:\\book_examples\\books\n",
      "檔案名稱:content.json，絕對路徑:F:\\book_examples\\content.json\n",
      "檔案名稱:dairy_notes.txt，絕對路徑:F:\\book_examples\\dairy_notes.txt\n",
      "資料夾名稱:datasets，絕對路徑:F:\\book_examples\\datasets\n",
      "資料夾名稱:games，絕對路徑:F:\\book_examples\\games\n",
      "資料夾名稱:jobs，絕對路徑:F:\\book_examples\\jobs\n",
      "檔案名稱:Lecture_notes.pptx，絕對路徑:F:\\book_examples\\Lecture_notes.pptx\n",
      "資料夾名稱:movies，絕對路徑:F:\\book_examples\\movies\n",
      "資料夾名稱:music，絕對路徑:F:\\book_examples\\music\n",
      "資料夾名稱:reports，絕對路徑:F:\\book_examples\\reports\n",
      "檔案名稱:Resume.docx，絕對路徑:F:\\book_examples\\Resume.docx\n",
      "檔案名稱:statistics.xlsx，絕對路徑:F:\\book_examples\\statistics.xlsx\n"
     ]
    }
   ],
   "source": [
    "dir_path = r\"F:\\book_examples\"\n",
    "\n",
    "\n",
    "for obj in os.scandir(dir_path):\n",
    "    if obj.is_dir() is True:\n",
    "        print(\"資料夾名稱:{}，絕對路徑:{}\".format(obj.name,obj.path))\n",
    "    elif obj.is_file() is True:\n",
    "        print(\"檔案名稱:{}，絕對路徑:{}\".format(obj.name,obj.path))"
   ]
  },
  {
   "cell_type": "code",
   "execution_count": 23,
   "metadata": {},
   "outputs": [
    {
     "name": "stdout",
     "output_type": "stream",
     "text": [
      "檔案名稱:14_0.png，絕對路徑:F:\\book_examples\\14_0.png\n"
     ]
    }
   ],
   "source": [
    "dir_path = r\"F:\\book_examples\"\n",
    "\n",
    "for obj in os.scandir(dir_path):\n",
    "    \n",
    "    if obj.is_file() is True:\n",
    "        \n",
    "        if obj.name.split(\".\")[-1] == 'png': \n",
    "            \n",
    "            print(\"檔案名稱:{}，絕對路徑:{}\".format(obj.name,obj.path))"
   ]
  },
  {
   "cell_type": "code",
   "execution_count": 24,
   "metadata": {},
   "outputs": [
    {
     "name": "stdout",
     "output_type": "stream",
     "text": [
      "檔案名稱:statistics.xlsx，絕對路徑:F:\\book_examples\\statistics.xlsx\n"
     ]
    }
   ],
   "source": [
    "dir_path = r\"F:\\book_examples\"\n",
    "\n",
    "for obj in os.scandir(dir_path):\n",
    "    \n",
    "    if obj.is_file() is True:\n",
    "        \n",
    "        if obj.name.split(\".\")[0] == 'statistics': \n",
    "            \n",
    "            print(\"檔案名稱:{}，絕對路徑:{}\".format(obj.name,obj.path))"
   ]
  },
  {
   "cell_type": "code",
   "execution_count": 30,
   "metadata": {},
   "outputs": [
    {
     "name": "stdout",
     "output_type": "stream",
     "text": [
      "第一層檔案名稱:14_0.png，絕對路徑:F:\\book_examples\\14_0.png\n",
      "第一層資料夾名稱:books，絕對路徑:F:\\book_examples\\books\n",
      "  ├-第二層檔案名稱:哈利波特.docx，絕對路徑:F:\\book_examples\\books\\哈利波特.docx\n",
      "  ├-第二層資料夾名稱:魔戒，絕對路徑:F:\\book_examples\\books\\魔戒\n",
      "第一層檔案名稱:content.json，絕對路徑:F:\\book_examples\\content.json\n",
      "第一層檔案名稱:dairy_notes.txt，絕對路徑:F:\\book_examples\\dairy_notes.txt\n",
      "第一層資料夾名稱:datasets，絕對路徑:F:\\book_examples\\datasets\n",
      "  ├-第二層資料夾名稱:human_faces，絕對路徑:F:\\book_examples\\datasets\\human_faces\n",
      "  ├-第二層資料夾名稱:imagenet，絕對路徑:F:\\book_examples\\datasets\\imagenet\n",
      "  ├-第二層資料夾名稱:mnist，絕對路徑:F:\\book_examples\\datasets\\mnist\n",
      "第一層資料夾名稱:games，絕對路徑:F:\\book_examples\\games\n",
      "第一層資料夾名稱:jobs，絕對路徑:F:\\book_examples\\jobs\n",
      "第一層檔案名稱:Lecture_notes.pptx，絕對路徑:F:\\book_examples\\Lecture_notes.pptx\n",
      "第一層資料夾名稱:movies，絕對路徑:F:\\book_examples\\movies\n",
      "第一層資料夾名稱:music，絕對路徑:F:\\book_examples\\music\n",
      "第一層資料夾名稱:reports，絕對路徑:F:\\book_examples\\reports\n",
      "第一層檔案名稱:Resume.docx，絕對路徑:F:\\book_examples\\Resume.docx\n",
      "第一層檔案名稱:statistics.xlsx，絕對路徑:F:\\book_examples\\statistics.xlsx\n"
     ]
    }
   ],
   "source": [
    "dir_path = r\"F:\\book_examples\"\n",
    "\n",
    "for obj in os.scandir(dir_path):\n",
    "    if obj.is_dir() is True:\n",
    "        print(\"第一層資料夾名稱:{}，絕對路徑:{}\".format(obj.name,obj.path))\n",
    "        \n",
    "        for obj_2 in os.scandir(obj.path):\n",
    "            if obj_2.is_dir() is True:\n",
    "                print(\"  ├-第二層資料夾名稱:{}，絕對路徑:{}\".format(obj_2.name,obj_2.path))\n",
    "            elif obj_2.is_file() is True:\n",
    "                print(\"  ├-第二層檔案名稱:{}，絕對路徑:{}\".format(obj_2.name,obj_2.path))\n",
    "        \n",
    "    elif obj.is_file() is True:\n",
    "        print(\"第一層檔案名稱:{}，絕對路徑:{}\".format(obj.name,obj.path))"
   ]
  },
  {
   "cell_type": "markdown",
   "metadata": {},
   "source": [
    "# os.walk()瀏覽資料夾"
   ]
  },
  {
   "cell_type": "code",
   "execution_count": 37,
   "metadata": {
    "scrolled": true
   },
   "outputs": [
    {
     "name": "stdout",
     "output_type": "stream",
     "text": [
      "現在瀏覽的資料夾路徑: F:\\book_examples\n",
      "-->其次資料夾有: ['books', 'datasets', 'games', 'jobs', 'movies', 'music', 'reports']\n",
      "-->其檔案有: ['14_0.png', 'content.json', 'dairy_notes.txt', 'Lecture_notes.pptx', 'Resume.docx', 'statistics.xlsx']\n",
      "現在瀏覽的資料夾路徑: F:\\book_examples\\books\n",
      "-->其次資料夾有: ['魔戒']\n",
      "-->其檔案有: ['哈利波特.docx']\n",
      "現在瀏覽的資料夾路徑: F:\\book_examples\\books\\魔戒\n",
      "-->其次資料夾有: []\n",
      "-->其檔案有: ['魔戒_1.docx', '魔戒_2.docx', '魔戒_3.docx']\n",
      "現在瀏覽的資料夾路徑: F:\\book_examples\\datasets\n",
      "-->其次資料夾有: ['human_faces', 'imagenet', 'mnist']\n",
      "-->其檔案有: []\n",
      "現在瀏覽的資料夾路徑: F:\\book_examples\\datasets\\human_faces\n",
      "-->其次資料夾有: []\n",
      "-->其檔案有: []\n",
      "現在瀏覽的資料夾路徑: F:\\book_examples\\datasets\\imagenet\n",
      "-->其次資料夾有: []\n",
      "-->其檔案有: []\n",
      "現在瀏覽的資料夾路徑: F:\\book_examples\\datasets\\mnist\n",
      "-->其次資料夾有: []\n",
      "-->其檔案有: []\n",
      "現在瀏覽的資料夾路徑: F:\\book_examples\\games\n",
      "-->其次資料夾有: []\n",
      "-->其檔案有: []\n",
      "現在瀏覽的資料夾路徑: F:\\book_examples\\jobs\n",
      "-->其次資料夾有: []\n",
      "-->其檔案有: []\n",
      "現在瀏覽的資料夾路徑: F:\\book_examples\\movies\n",
      "-->其次資料夾有: []\n",
      "-->其檔案有: []\n",
      "現在瀏覽的資料夾路徑: F:\\book_examples\\music\n",
      "-->其次資料夾有: []\n",
      "-->其檔案有: []\n",
      "現在瀏覽的資料夾路徑: F:\\book_examples\\reports\n",
      "-->其次資料夾有: []\n",
      "-->其檔案有: []\n"
     ]
    }
   ],
   "source": [
    "dir_path = r\"F:\\book_examples\"\n",
    "for dir_name,sub_dir_list,filename_list in os.walk(dir_path):\n",
    "    print(\"現在瀏覽的資料夾路徑:\",dir_name)\n",
    "    print(\"-->其次資料夾有:\",sub_dir_list)\n",
    "    print(\"-->其檔案有:\",filename_list)"
   ]
  },
  {
   "cell_type": "markdown",
   "metadata": {},
   "source": [
    "# 檔案的操作"
   ]
  },
  {
   "cell_type": "code",
   "execution_count": 28,
   "metadata": {},
   "outputs": [
    {
     "name": "stdout",
     "output_type": "stream",
     "text": [
      "路徑:F:\\book_examples\\Lecture_notes.pptx存在，是檔案\n",
      "<class 'int'>\n",
      "檔案大小: 1033880\n",
      "檔案所處資料夾: F:\\book_examples\n",
      "檔案名稱與副檔名: Lecture_notes.pptx\n"
     ]
    }
   ],
   "source": [
    "path = r\"F:\\book_examples\\Lecture_notes.pptx\"\n",
    "\n",
    "if os.path.exists(path) is True:\n",
    "    if os.path.isdir(path):\n",
    "        print(\"路徑:{}存在，是資料夾\".format(path))\n",
    "    elif os.path.isfile(path):\n",
    "        print(\"路徑:{}存在，是檔案\".format(path))\n",
    "        file_size = os.path.getsize(path)\n",
    "        print(type(file_size))\n",
    "        print(\"檔案大小:\",file_size)\n",
    "        \n",
    "        print('檔案所處資料夾:',os.path.dirname(path))\n",
    "        print('檔案名稱與副檔名:',os.path.basename(path))\n",
    "else:\n",
    "    print(\"路徑不存在\",path)"
   ]
  },
  {
   "cell_type": "code",
   "execution_count": 27,
   "metadata": {},
   "outputs": [
    {
     "name": "stdout",
     "output_type": "stream",
     "text": [
      "dirname: F:\\book_examples\n",
      "basename: Lecture_notes.pptx\n"
     ]
    }
   ],
   "source": [
    "path = r\"F:\\book_examples\\Lecture_notes.pptx\"\n",
    "print('dirname:',os.path.dirname(path))\n",
    "print('basename:',os.path.basename(path))"
   ]
  },
  {
   "cell_type": "markdown",
   "metadata": {},
   "source": [
    "# os.getcwd()目前工作的所屬資料夾路徑"
   ]
  },
  {
   "cell_type": "code",
   "execution_count": 15,
   "metadata": {},
   "outputs": [
    {
     "name": "stdout",
     "output_type": "stream",
     "text": [
      "G:\\我的雲端硬碟\\Python\\Code\\Jupyter\\Book\n"
     ]
    }
   ],
   "source": [
    "cwd = os.getcwd()\n",
    "print(cwd)"
   ]
  },
  {
   "cell_type": "markdown",
   "metadata": {},
   "source": [
    "# os.path.abspath取得輸入檔案的絕對路徑"
   ]
  },
  {
   "cell_type": "code",
   "execution_count": 16,
   "metadata": {},
   "outputs": [
    {
     "name": "stdout",
     "output_type": "stream",
     "text": [
      "G:\\我的雲端硬碟\\Python\\Code\\Jupyter\\Book\\abc.xxx\n"
     ]
    }
   ],
   "source": [
    "filename = 'abc.xxx'\n",
    "\n",
    "abspath = os.path.abspath(filename)\n",
    "\n",
    "print(abspath)"
   ]
  },
  {
   "cell_type": "code",
   "execution_count": 22,
   "metadata": {},
   "outputs": [
    {
     "name": "stdout",
     "output_type": "stream",
     "text": [
      "G:\\我的雲端硬碟\\Python\\Code\\Jupyter\\Book\n",
      "G:\\我的雲端硬碟\\Python\\Code\\Jupyter\n",
      "G:\\我的雲端硬碟\\Python\\Code\\Jupyter\\Book\n"
     ]
    }
   ],
   "source": [
    "print(os.path.abspath('.'))\n",
    "print(os.path.abspath('..'))\n",
    "print(os.path.abspath('...'))"
   ]
  },
  {
   "cell_type": "markdown",
   "metadata": {},
   "source": [
    "# os.path.join()連結輸入的路徑"
   ]
  },
  {
   "cell_type": "code",
   "execution_count": 5,
   "metadata": {},
   "outputs": [
    {
     "name": "stdout",
     "output_type": "stream",
     "text": [
      "123\\456\n"
     ]
    }
   ],
   "source": [
    "a = '123'\n",
    "b = \"456\"\n",
    "b\n",
    "c = os.path.join(a,b)\n",
    "print(c)"
   ]
  },
  {
   "cell_type": "code",
   "execution_count": 6,
   "metadata": {},
   "outputs": [
    {
     "name": "stdout",
     "output_type": "stream",
     "text": [
      "123\\456\\789\\abcd\n"
     ]
    }
   ],
   "source": [
    "a = '123'\n",
    "b = \"456\"\n",
    "c = '789'\n",
    "d = 'abcd'\n",
    "\n",
    "e = os.path.join(a,b,c,d)\n",
    "print(e)"
   ]
  },
  {
   "cell_type": "code",
   "execution_count": 11,
   "metadata": {},
   "outputs": [
    {
     "name": "stdout",
     "output_type": "stream",
     "text": [
      "檔案名稱:14_0.png，絕對路徑:F:\\book_examples\\14_0.png\n",
      "檔案名稱:content.json，絕對路徑:F:\\book_examples\\content.json\n",
      "檔案名稱:dairy_notes.txt，絕對路徑:F:\\book_examples\\dairy_notes.txt\n",
      "檔案名稱:Lecture_notes.pptx，絕對路徑:F:\\book_examples\\Lecture_notes.pptx\n",
      "檔案名稱:Resume.docx，絕對路徑:F:\\book_examples\\Resume.docx\n",
      "檔案名稱:statistics.xlsx，絕對路徑:F:\\book_examples\\statistics.xlsx\n",
      "檔案名稱:哈利波特.docx，絕對路徑:F:\\book_examples\\books\\哈利波特.docx\n",
      "檔案名稱:魔戒_1.docx，絕對路徑:F:\\book_examples\\books\\魔戒\\魔戒_1.docx\n",
      "檔案名稱:魔戒_2.docx，絕對路徑:F:\\book_examples\\books\\魔戒\\魔戒_2.docx\n",
      "檔案名稱:魔戒_3.docx，絕對路徑:F:\\book_examples\\books\\魔戒\\魔戒_3.docx\n"
     ]
    }
   ],
   "source": [
    "dir_path = r\"F:\\book_examples\"\n",
    "for dir_name,sub_dir_list,filename_list in os.walk(dir_path):\n",
    "    \n",
    "    if len(filename_list) > 0:\n",
    "        \n",
    "        for filename in filename_list:\n",
    "            \n",
    "            absolute_path = os.path.join(dir_name,filename)\n",
    "            \n",
    "            print(\"檔案名稱:{}，絕對路徑:{}\".format(filename,absolute_path))"
   ]
  },
  {
   "cell_type": "markdown",
   "metadata": {},
   "source": [
    "# os.makedirs()創建資料夾"
   ]
  },
  {
   "cell_type": "code",
   "execution_count": 42,
   "metadata": {},
   "outputs": [
    {
     "name": "stdout",
     "output_type": "stream",
     "text": [
      "new_dir_path: F:\\book_examples\\test\n",
      "欲建立資料夾已經存在\n"
     ]
    }
   ],
   "source": [
    "dir_path = r\"F:\\book_examples\"\n",
    "new_dir_name = \"test\"\n",
    "\n",
    "new_dir_path = os.path.join(dir_path,new_dir_name)\n",
    "print(\"new_dir_path:\",new_dir_path)\n",
    "\n",
    "if os.path.exists(new_dir_path):\n",
    "    print(\"欲建立資料夾已經存在\")\n",
    "else:\n",
    "    os.makedirs(new_dir_path)\n",
    "    print(\"資料夾建立完成\")"
   ]
  },
  {
   "cell_type": "markdown",
   "metadata": {},
   "source": [
    "# os.replace()更改存在檔案的檔名"
   ]
  },
  {
   "cell_type": "code",
   "execution_count": 24,
   "metadata": {},
   "outputs": [],
   "source": [
    "original_path = r\"F:\\book_examples\\books\\哈利波特.docx\"\n",
    "modified_path = r\"F:\\book_examples\\books\\哈利波特_修改.docx\"\n",
    "os.replace(original_path,modified_path)"
   ]
  },
  {
   "cell_type": "markdown",
   "metadata": {},
   "source": [
    "# os.remove()刪除檔案"
   ]
  },
  {
   "cell_type": "code",
   "execution_count": 25,
   "metadata": {},
   "outputs": [
    {
     "name": "stdout",
     "output_type": "stream",
     "text": [
      "檔案已不存在，刪除成功\n"
     ]
    }
   ],
   "source": [
    "file_path = r\"F:\\book_examples\\books\\哈利波特_修改.docx\"\n",
    "\n",
    "os.remove(file_path)\n",
    "\n",
    "if os.path.exists(file_path):\n",
    "    print(\"檔案存在，刪除不成功\")\n",
    "else:\n",
    "    print(\"檔案已不存在，刪除成功\")"
   ]
  },
  {
   "cell_type": "code",
   "execution_count": 1,
   "metadata": {},
   "outputs": [],
   "source": [
    "import shutil"
   ]
  },
  {
   "cell_type": "markdown",
   "metadata": {},
   "source": [
    "# shutil.copy()"
   ]
  },
  {
   "cell_type": "code",
   "execution_count": 7,
   "metadata": {},
   "outputs": [
    {
     "name": "stdout",
     "output_type": "stream",
     "text": [
      "new_file_path:  F:\\book_examples\\reports\\content.json\n"
     ]
    }
   ],
   "source": [
    "file_path = r\"F:\\book_examples\\content.json\"\n",
    "\n",
    "destination_dir = r\"F:\\book_examples\\reports\"\n",
    "\n",
    "new_file_path = shutil.copy(file_path,destination_dir)\n",
    "\n",
    "print(\"new_file_path: \",new_file_path)"
   ]
  },
  {
   "cell_type": "code",
   "execution_count": 10,
   "metadata": {},
   "outputs": [
    {
     "name": "stdout",
     "output_type": "stream",
     "text": [
      "filename: content.json\n",
      "new_file_path:  F:\\book_examples\\reports\\content.json\n",
      "檔案已存在，是否覆蓋? y/nn\n"
     ]
    }
   ],
   "source": [
    "file_path = r\"F:\\book_examples\\content.json\"\n",
    "\n",
    "destination_dir = r\"F:\\book_examples\\reports\"\n",
    "\n",
    "filename = file_path.split(\"\\\\\")[-1]\n",
    "print(\"filename:\",filename)\n",
    "\n",
    "new_file_path = os.path.join(destination_dir, filename)\n",
    "print(\"new_file_path: \",new_file_path)\n",
    "\n",
    "if os.path.exists(new_file_path):\n",
    "    re = input(\"檔案已存在，是否覆蓋? y/n\")\n",
    "    if re == 'y':\n",
    "        _ = shutil.copy(file_path,destination_dir)\n",
    "else:\n",
    "    _ = shutil.copy(file_path,destination_dir)"
   ]
  },
  {
   "cell_type": "code",
   "execution_count": 11,
   "metadata": {},
   "outputs": [],
   "source": [
    "file_path = r\"F:\\book_examples\\content.json\"\n",
    "\n",
    "new_file_path = r\"F:\\book_examples\\reports\\content_copy.json\"\n",
    "\n",
    "_ = shutil.copy(file_path,new_file_path)"
   ]
  },
  {
   "cell_type": "markdown",
   "metadata": {},
   "source": [
    "# shutil.move() "
   ]
  },
  {
   "cell_type": "code",
   "execution_count": 16,
   "metadata": {},
   "outputs": [
    {
     "name": "stdout",
     "output_type": "stream",
     "text": [
      "filename: Lecture_notes.pptx\n",
      "new file path: F:\\book_examples\\Lecture_notes.pptx\n"
     ]
    }
   ],
   "source": [
    "file_path = r\"F:\\book_examples\\Lecture_notes.pptx\"\n",
    "desination_dir = r\"F:\\book_examples\"\n",
    "\n",
    "filename = file_path.split(\"\\\\\")[-1]\n",
    "print(\"filename:\",filename)\n",
    "\n",
    "new_file_path = os.path.join(desination_dir,filename)\n",
    "print(\"new file path:\",new_file_path)\n",
    "\n",
    "dest = shutil.move(file_path,new_file_path)\n"
   ]
  },
  {
   "cell_type": "markdown",
   "metadata": {},
   "source": [
    "# 練習"
   ]
  },
  {
   "cell_type": "code",
   "execution_count": 26,
   "metadata": {},
   "outputs": [
    {
     "name": "stdout",
     "output_type": "stream",
     "text": [
      "splits: ['14_0', 'png']\n",
      "new_filename: 14_0_copy.png\n",
      "new_filename_2: 14_0_copy.png\n"
     ]
    }
   ],
   "source": [
    "filename = '14_0.png'\n",
    "\n",
    "splits = filename.split('.')\n",
    "print(\"splits:\",splits)\n",
    "\n",
    "if splits[-1] == 'png':\n",
    "    new_filename = \"{}_copy.{}\".format(splits[0],splits[-1])\n",
    "    print(\"new_filename:\",new_filename)\n",
    "    \n",
    "    new_filename_2 = splits[0] + \"_copy.\" + splits[-1]\n",
    "    print(\"new_filename_2:\",new_filename_2)"
   ]
  },
  {
   "cell_type": "code",
   "execution_count": 21,
   "metadata": {},
   "outputs": [
    {
     "name": "stdout",
     "output_type": "stream",
     "text": [
      "ori_file_path: F:\\book_examples\\14_0.png\n",
      "new_file_path: F:\\output_dir\\14_0_copy.png\n"
     ]
    }
   ],
   "source": [
    "dir_path = r\"F:\\book_examples\"\n",
    "destination_dir = r\"F:\\output_dir\"\n",
    "extension_name = 'png'\n",
    "\n",
    "for dir_name,sub_dir_list,filename_list in os.walk(dir_path):\n",
    "    \n",
    "    if len(filename_list) > 0:\n",
    "        for filename in filename_list:\n",
    "            splits = filename.split(\".\")\n",
    "            if splits[-1] == extension_name:\n",
    "                ori_file_path = os.path.join(dir_name,filename)\n",
    "                print(\"ori_file_path:\",ori_file_path)\n",
    "                new_filename = \"{}_copy.{}\".format(splits[0],splits[-1])\n",
    "                new_file_path = os.path.join(destination_dir,new_filename)\n",
    "                print(\"new_file_path:\",new_file_path)\n",
    "                _ = shutil.copy(ori_file_path,new_file_path)\n",
    "            "
   ]
  },
  {
   "cell_type": "code",
   "execution_count": 27,
   "metadata": {},
   "outputs": [],
   "source": [
    "def search_files(dir_path,destination_dir,extension_name,action='copy'):\n",
    "    \n",
    "    for dir_name,sub_dir_list,filename_list in os.walk(dir_path):\n",
    "    \n",
    "        if len(filename_list) > 0:\n",
    "\n",
    "            for filename in filename_list:\n",
    "                splits = filename.split(\".\")\n",
    "\n",
    "                if splits[-1] == extension_name:\n",
    "                    ori_file_path = os.path.join(dir_name,filename)\n",
    "                    print(\"ori_file_path:\",ori_file_path)\n",
    "\n",
    "                    new_filename = \"{}_copy.{}\".format(splits[0],splits[-1])\n",
    "                    new_file_path = os.path.join(destination_dir,new_filename)\n",
    "                    print(\"new_file_path:\",new_file_path)\n",
    "                    \n",
    "                    if action == 'copy':\n",
    "                        _ = shutil.copy(ori_file_path,new_file_path)\n",
    "                    elif action == 'move':\n",
    "                        _ = shutil.move(ori_file_path,new_file_path)\n",
    "                    else:\n",
    "                        print(\"你所輸入的動作不支援!\")\n",
    "    "
   ]
  },
  {
   "cell_type": "code",
   "execution_count": 28,
   "metadata": {},
   "outputs": [
    {
     "name": "stdout",
     "output_type": "stream",
     "text": [
      "ori_file_path: F:\\book_examples\\14_0.png\n",
      "new_file_path: F:\\output_dir\\14_0_copy.png\n"
     ]
    }
   ],
   "source": [
    "dir_path = r\"F:\\book_examples\"\n",
    "destination_dir = r\"F:\\output_dir\"\n",
    "extension_name = 'png'\n",
    "\n",
    "search_files(dir_path,destination_dir,extension_name,action='copy')\n"
   ]
  },
  {
   "cell_type": "code",
   "execution_count": 30,
   "metadata": {},
   "outputs": [
    {
     "name": "stdout",
     "output_type": "stream",
     "text": [
      "13233\n"
     ]
    }
   ],
   "source": [
    "dir_path = r\"E:\\dataset\\lfw_2\\ori\"\n",
    "count = 0\n",
    "img_format = {'png', 'jpg', 'bmp'}\n",
    "\n",
    "for dir_name,sub_dir_list,filename_list in os.walk(dir_path):\n",
    "    \n",
    "        if len(filename_list) > 0:\n",
    "            \n",
    "            for filename in filename_list:\n",
    "                if filename.split(\".\")[-1] in img_format:\n",
    "                    count += 1\n",
    "                    \n",
    "            \n",
    "print(count)"
   ]
  }
 ],
 "metadata": {
  "kernelspec": {
   "display_name": "Python 3",
   "language": "python",
   "name": "python3"
  },
  "language_info": {
   "codemirror_mode": {
    "name": "ipython",
    "version": 3
   },
   "file_extension": ".py",
   "mimetype": "text/x-python",
   "name": "python",
   "nbconvert_exporter": "python",
   "pygments_lexer": "ipython3",
   "version": "3.7.3"
  }
 },
 "nbformat": 4,
 "nbformat_minor": 2
}
