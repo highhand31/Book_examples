{
 "cells": [
  {
   "cell_type": "markdown",
   "id": "thick-spelling",
   "metadata": {},
   "source": [
    "# 整數與浮點數"
   ]
  },
  {
   "cell_type": "code",
   "execution_count": 1,
   "id": "meaningful-battle",
   "metadata": {},
   "outputs": [
    {
     "name": "stdout",
     "output_type": "stream",
     "text": [
      "<class 'int'>\n"
     ]
    }
   ],
   "source": [
    "a = 1\n",
    "print(type(a))"
   ]
  },
  {
   "cell_type": "code",
   "execution_count": 4,
   "id": "looking-linux",
   "metadata": {},
   "outputs": [
    {
     "name": "stdout",
     "output_type": "stream",
     "text": [
      "<class 'float'>\n"
     ]
    }
   ],
   "source": [
    "b = 1.12\n",
    "print(type(b))"
   ]
  },
  {
   "cell_type": "code",
   "execution_count": 17,
   "id": "productive-better",
   "metadata": {},
   "outputs": [
    {
     "data": {
      "text/plain": [
       "\"int([x]) -> integer\\nint(x, base=10) -> integer\\n\\nConvert a number or string to an integer, or return 0 if no arguments\\nare given.  If x is a number, return x.__int__().  For floating point\\nnumbers, this truncates towards zero.\\n\\nIf x is not a number or if base is given, then x must be a string,\\nbytes, or bytearray instance representing an integer literal in the\\ngiven base.  The literal can be preceded by '+' or '-' and be surrounded\\nby whitespace.  The base defaults to 10.  Valid bases are 0 and 2-36.\\nBase 0 means to interpret the base from the string as an integer literal.\\n>>> int('0b100', base=0)\\n4\""
      ]
     },
     "execution_count": 17,
     "metadata": {},
     "output_type": "execute_result"
    }
   ],
   "source": [
    "a.__doc__"
   ]
  },
  {
   "cell_type": "code",
   "execution_count": 21,
   "id": "comprehensive-change",
   "metadata": {},
   "outputs": [
    {
     "name": "stdout",
     "output_type": "stream",
     "text": [
      "1\n"
     ]
    },
    {
     "data": {
      "text/plain": [
       "'1'"
      ]
     },
     "execution_count": 21,
     "metadata": {},
     "output_type": "execute_result"
    }
   ],
   "source": [
    "print(a)\n",
    "a.__str__()"
   ]
  },
  {
   "cell_type": "code",
   "execution_count": 23,
   "id": "adequate-spectrum",
   "metadata": {},
   "outputs": [
    {
     "data": {
      "text/plain": [
       "1"
      ]
     },
     "execution_count": 23,
     "metadata": {},
     "output_type": "execute_result"
    }
   ],
   "source": [
    "a"
   ]
  },
  {
   "cell_type": "code",
   "execution_count": 24,
   "id": "secondary-crime",
   "metadata": {},
   "outputs": [
    {
     "data": {
      "text/plain": [
       "'1'"
      ]
     },
     "execution_count": 24,
     "metadata": {},
     "output_type": "execute_result"
    }
   ],
   "source": [
    "a.__repr__()"
   ]
  },
  {
   "cell_type": "code",
   "execution_count": 25,
   "id": "subtle-roller",
   "metadata": {},
   "outputs": [],
   "source": [
    "del a\n",
    "del b"
   ]
  },
  {
   "cell_type": "code",
   "execution_count": 26,
   "id": "descending-publication",
   "metadata": {},
   "outputs": [
    {
     "ename": "NameError",
     "evalue": "name 'a' is not defined",
     "output_type": "error",
     "traceback": [
      "\u001b[1;31m---------------------------------------------------------------------------\u001b[0m",
      "\u001b[1;31mNameError\u001b[0m                                 Traceback (most recent call last)",
      "\u001b[1;32m<ipython-input-26-bca0e2660b9f>\u001b[0m in \u001b[0;36m<module>\u001b[1;34m\u001b[0m\n\u001b[1;32m----> 1\u001b[1;33m \u001b[0mprint\u001b[0m\u001b[1;33m(\u001b[0m\u001b[0ma\u001b[0m\u001b[1;33m)\u001b[0m\u001b[1;33m\u001b[0m\u001b[1;33m\u001b[0m\u001b[0m\n\u001b[0m",
      "\u001b[1;31mNameError\u001b[0m: name 'a' is not defined"
     ]
    }
   ],
   "source": [
    "print(a)"
   ]
  },
  {
   "cell_type": "markdown",
   "id": "laughing-soundtrack",
   "metadata": {},
   "source": [
    "# 字串物件的方法"
   ]
  },
  {
   "cell_type": "code",
   "execution_count": 1,
   "id": "absolute-civilization",
   "metadata": {},
   "outputs": [
    {
     "name": "stdout",
     "output_type": "stream",
     "text": [
      "<class 'str'>\n"
     ]
    }
   ],
   "source": [
    "a = \"this is a string\"\n",
    "print(type(a))"
   ]
  },
  {
   "cell_type": "code",
   "execution_count": 3,
   "id": "shared-duration",
   "metadata": {},
   "outputs": [
    {
     "name": "stdout",
     "output_type": "stream",
     "text": [
      "整數36 / 浮點數1.0 =  36.0 ，數值型態: <class 'float'>\n",
      "整數36 / 浮點數1.0 = 36.0,數值型態:<class 'float'>\n"
     ]
    }
   ],
   "source": [
    "a = 36\n",
    "float_1 = 1.0\n",
    "result = a / float_1\n",
    "print(\"整數36 / 浮點數1.0 = \",result,\"，數值型態:\",type(result))\n",
    "\n",
    "print(\"整數{} / 浮點數{} = {},數值型態:{}\".format(a,float_1,result,type(result)))"
   ]
  },
  {
   "cell_type": "code",
   "execution_count": 6,
   "id": "headed-abuse",
   "metadata": {},
   "outputs": [
    {
     "ename": "IndexError",
     "evalue": "tuple index out of range",
     "output_type": "error",
     "traceback": [
      "\u001b[1;31m---------------------------------------------------------------------------\u001b[0m",
      "\u001b[1;31mIndexError\u001b[0m                                Traceback (most recent call last)",
      "\u001b[1;32m<ipython-input-6-224cfd46ed98>\u001b[0m in \u001b[0;36m<module>\u001b[1;34m()\u001b[0m\n\u001b[1;32m----> 1\u001b[1;33m \u001b[0mprint\u001b[0m\u001b[1;33m(\u001b[0m\u001b[1;34m\"整數{} / 浮點數{} = {},數值型態:{}\"\u001b[0m\u001b[1;33m.\u001b[0m\u001b[0mformat\u001b[0m\u001b[1;33m(\u001b[0m\u001b[0ma\u001b[0m\u001b[1;33m,\u001b[0m\u001b[0mfloat_1\u001b[0m\u001b[1;33m,\u001b[0m\u001b[0mresult\u001b[0m\u001b[1;33m)\u001b[0m\u001b[1;33m)\u001b[0m\u001b[1;33m\u001b[0m\u001b[1;33m\u001b[0m\u001b[0m\n\u001b[0m",
      "\u001b[1;31mIndexError\u001b[0m: tuple index out of range"
     ]
    }
   ],
   "source": [
    "print(\"整數{} / 浮點數{} = {},數值型態:{}\".format(a,float_1,result))"
   ]
  },
  {
   "cell_type": "code",
   "execution_count": 11,
   "id": "cutting-mercury",
   "metadata": {},
   "outputs": [
    {
     "name": "stdout",
     "output_type": "stream",
     "text": [
      "['D:', 'dataset', 'optotech\\\\test_img']\n"
     ]
    }
   ],
   "source": [
    "path = r\"D:\\dataset\\optotech\\test_img\"\n",
    "\n",
    "print(path.split('\\\\',2))"
   ]
  },
  {
   "cell_type": "code",
   "execution_count": 14,
   "id": "narrative-position",
   "metadata": {},
   "outputs": [
    {
     "name": "stdout",
     "output_type": "stream",
     "text": [
      "['內容1', '內容2,內容3']\n"
     ]
    }
   ],
   "source": [
    "msg = \"內容1,內容2,內容3\"\n",
    "a = msg.split(',',maxsplit=1)\n",
    "print(a)"
   ]
  },
  {
   "cell_type": "code",
   "execution_count": 17,
   "id": "political-scanner",
   "metadata": {},
   "outputs": [
    {
     "name": "stdout",
     "output_type": "stream",
     "text": [
      "['D:', 'dataset', 'optotech', 'test_img', 'OK', 'image.bmp']\n",
      "['image', 'bmp']\n"
     ]
    }
   ],
   "source": [
    "path = r\"D:\\dataset\\optotech\\test_img\\OK\\image.bmp\"\n",
    "splits = path.split(\"\\\\\")\n",
    "print(splits)\n",
    "\n",
    "splits_2 = splits[-1].split('.')\n",
    "print(splits_2)"
   ]
  },
  {
   "cell_type": "code",
   "execution_count": 1,
   "id": "rolled-capacity",
   "metadata": {},
   "outputs": [],
   "source": [
    "def image_check(path):\n",
    "    img_format = {'jpg','png','bmp'}\n",
    "\n",
    "    splits = path.split(\"\\\\\")\n",
    "    splits_2 = splits[-1].split('.')\n",
    "\n",
    "    if splits_2[-1] in img_format:\n",
    "        print(\"{}是支援的圖片格式\".format(path))\n",
    "    else:\n",
    "        print(\"{}不是支援的圖片格式\".format(path))"
   ]
  },
  {
   "cell_type": "code",
   "execution_count": 2,
   "id": "beginning-thirty",
   "metadata": {},
   "outputs": [
    {
     "name": "stdout",
     "output_type": "stream",
     "text": [
      "D:\\dataset\\optotech\\test_img\\OK\\image.bmp是支援的圖片格式\n"
     ]
    }
   ],
   "source": [
    "path = r\"D:\\dataset\\optotech\\test_img\\OK\\image.bmp\"\n",
    "image_check(path)"
   ]
  },
  {
   "cell_type": "code",
   "execution_count": 125,
   "id": "studied-interstate",
   "metadata": {},
   "outputs": [],
   "source": [
    "def file_extension_check(path,extension_set):\n",
    "#     img_format = {'jpg','png','bmp'}\n",
    "\n",
    "    splits = path.split(\"\\\\\")\n",
    "    splits_2 = splits[-1].split('.')\n",
    "\n",
    "    if splits_2[-1] in extension_set:\n",
    "        print(\"{}是支援的格式\".format(path))\n",
    "    else:\n",
    "        print(\"{}不是支援的格式\".format(path))"
   ]
  },
  {
   "cell_type": "code",
   "execution_count": 73,
   "id": "senior-tooth",
   "metadata": {},
   "outputs": [
    {
     "name": "stdout",
     "output_type": "stream",
     "text": [
      "D:\\dataset\\optotech\\test_img\\OK\\image.bmp是支援的格式\n"
     ]
    }
   ],
   "source": [
    "path = r\"D:\\dataset\\optotech\\test_img\\OK\\image.bmp\"\n",
    "extension_set = {'jpg','png','bmp'}\n",
    "file_extension_check(path,extension_set)"
   ]
  },
  {
   "cell_type": "code",
   "execution_count": 71,
   "id": "parental-brazil",
   "metadata": {},
   "outputs": [
    {
     "name": "stdout",
     "output_type": "stream",
     "text": [
      "D:\\reports\\customers\\TSMC\\ASML.docx是支援的格式\n"
     ]
    }
   ],
   "source": [
    "path = r\"D:\\reports\\customers\\TSMC\\ASML.docx\"\n",
    "extension_set = {'docx','doc','xls'}\n",
    "image_check(path,extension_set)"
   ]
  },
  {
   "cell_type": "code",
   "execution_count": 78,
   "id": "aggregate-field",
   "metadata": {},
   "outputs": [
    {
     "name": "stdout",
     "output_type": "stream",
     "text": [
      "True\n"
     ]
    }
   ],
   "source": [
    "path = r\"D:\\dataset\\optotech\\test_img\\OK\\image.bmp\"\n",
    "\n",
    "re = path.endswith('.bmp')\n",
    "print(re)"
   ]
  },
  {
   "cell_type": "code",
   "execution_count": 80,
   "id": "equal-gender",
   "metadata": {},
   "outputs": [
    {
     "name": "stdout",
     "output_type": "stream",
     "text": [
      "True\n"
     ]
    }
   ],
   "source": [
    "path = r\"D:\\dataset\\optotech\\test_img\\OK\\image.bmp\"\n",
    "\n",
    "re = path.startswith('D:')\n",
    "print(re)"
   ]
  },
  {
   "cell_type": "code",
   "execution_count": 85,
   "id": "identified-happiness",
   "metadata": {},
   "outputs": [
    {
     "name": "stdout",
     "output_type": "stream",
     "text": [
      "38\n"
     ]
    }
   ],
   "source": [
    "path = r\"D:\\dataset\\optotech\\test_img\\OK\\image.bmp\"\n",
    "\n",
    "re = path.find('bmp')\n",
    "print(re)"
   ]
  },
  {
   "cell_type": "code",
   "execution_count": 86,
   "id": "functioning-addition",
   "metadata": {},
   "outputs": [
    {
     "name": "stdout",
     "output_type": "stream",
     "text": [
      "-1\n"
     ]
    }
   ],
   "source": [
    "re = path.find('bmpp')\n",
    "print(re)"
   ]
  },
  {
   "cell_type": "code",
   "execution_count": 88,
   "id": "parliamentary-divorce",
   "metadata": {},
   "outputs": [
    {
     "name": "stdout",
     "output_type": "stream",
     "text": [
      "3\n"
     ]
    }
   ],
   "source": [
    "path = \"012bmp_789bmp_012bmp\"\n",
    "re = path.find('bmp')\n",
    "print(re)"
   ]
  },
  {
   "cell_type": "code",
   "execution_count": 90,
   "id": "adequate-weather",
   "metadata": {},
   "outputs": [
    {
     "name": "stdout",
     "output_type": "stream",
     "text": [
      "我\n",
      "是\n",
      "字\n",
      "串\n"
     ]
    },
    {
     "ename": "TypeError",
     "evalue": "'str' object does not support item assignment",
     "output_type": "error",
     "traceback": [
      "\u001b[1;31m---------------------------------------------------------------------------\u001b[0m",
      "\u001b[1;31mTypeError\u001b[0m                                 Traceback (most recent call last)",
      "\u001b[1;32m<ipython-input-90-3548887716d2>\u001b[0m in \u001b[0;36m<module>\u001b[1;34m\u001b[0m\n\u001b[0;32m      5\u001b[0m \u001b[0mprint\u001b[0m\u001b[1;33m(\u001b[0m\u001b[0mstring\u001b[0m\u001b[1;33m[\u001b[0m\u001b[1;36m3\u001b[0m\u001b[1;33m]\u001b[0m\u001b[1;33m)\u001b[0m\u001b[1;33m\u001b[0m\u001b[1;33m\u001b[0m\u001b[0m\n\u001b[0;32m      6\u001b[0m \u001b[1;33m\u001b[0m\u001b[0m\n\u001b[1;32m----> 7\u001b[1;33m \u001b[0mstring\u001b[0m\u001b[1;33m[\u001b[0m\u001b[1;36m3\u001b[0m\u001b[1;33m]\u001b[0m \u001b[1;33m=\u001b[0m \u001b[1;34m\"元\"\u001b[0m\u001b[1;33m\u001b[0m\u001b[1;33m\u001b[0m\u001b[0m\n\u001b[0m",
      "\u001b[1;31mTypeError\u001b[0m: 'str' object does not support item assignment"
     ]
    }
   ],
   "source": [
    "string = \"我是字串\"\n",
    "print(string[0])\n",
    "print(string[1])\n",
    "print(string[2])\n",
    "print(string[3])\n",
    "\n",
    "string[3] = \"元\""
   ]
  },
  {
   "cell_type": "markdown",
   "id": "contrary-kinase",
   "metadata": {},
   "source": [
    "# strip()"
   ]
  },
  {
   "cell_type": "code",
   "execution_count": 96,
   "id": "twenty-radio",
   "metadata": {},
   "outputs": [
    {
     "name": "stdout",
     "output_type": "stream",
     "text": [
      "content_2: 我是字\n",
      "content_3: 我是字串\n",
      "content: 我是字串\n"
     ]
    }
   ],
   "source": [
    "content = \"我是字串\"\n",
    "\n",
    "content_2 = content.strip('串')\n",
    "print(\"content_2:\",content_2)\n",
    "\n",
    "content_3 = content.strip('沒')\n",
    "print(\"content_3:\",content_3)\n",
    "\n",
    "print(\"content:\",content)"
   ]
  },
  {
   "cell_type": "code",
   "execution_count": 98,
   "id": "approximate-attribute",
   "metadata": {},
   "outputs": [
    {
     "name": "stdout",
     "output_type": "stream",
     "text": [
      "content_2: 好用，我喜歡使用Python，希望很多人使用\n"
     ]
    }
   ],
   "source": [
    "content = \"Python好用，我喜歡使用Python，希望很多人使用Python\"\n",
    "content_2 = content.strip('Python')\n",
    "print(\"content_2:\",content_2)"
   ]
  },
  {
   "cell_type": "code",
   "execution_count": 101,
   "id": "unlike-customs",
   "metadata": {},
   "outputs": [
    {
     "name": "stdout",
     "output_type": "stream",
     "text": [
      "content_2: 字串的內容\n"
     ]
    }
   ],
   "source": [
    "content = \"  字串的內容  \"\n",
    "content_2 = content.strip(' ')\n",
    "print(\"content_2:\",content_2)"
   ]
  },
  {
   "cell_type": "markdown",
   "id": "advisory-quarterly",
   "metadata": {},
   "source": [
    "# replace()"
   ]
  },
  {
   "cell_type": "code",
   "execution_count": 103,
   "id": "focused-canadian",
   "metadata": {},
   "outputs": [
    {
     "name": "stdout",
     "output_type": "stream",
     "text": [
      "content_2: 或許後天的氣溫為39度\n",
      "content: 今天的氣溫為39度\n"
     ]
    }
   ],
   "source": [
    "content = \"今天的氣溫為39度\"\n",
    "content_2 = content.replace('今天','或許後天')\n",
    "\n",
    "print(\"content_2:\",content_2)\n",
    "\n",
    "print(\"content:\",content)"
   ]
  },
  {
   "cell_type": "code",
   "execution_count": 106,
   "id": "bearing-register",
   "metadata": {},
   "outputs": [
    {
     "name": "stdout",
     "output_type": "stream",
     "text": [
      "D:\\dataset\\optotech\\test_img\\OK\\image.bmp\n",
      "D:/dataset/optotech/test_img/OK/image.bmp\n"
     ]
    }
   ],
   "source": [
    "path = r\"D:\\dataset\\optotech\\test_img\\OK\\image.bmp\"\n",
    "path_2 = path.replace('\\\\','/')\n",
    "\n",
    "print(path)\n",
    "print(path_2)"
   ]
  },
  {
   "cell_type": "code",
   "execution_count": 111,
   "id": "acting-madrid",
   "metadata": {},
   "outputs": [
    {
     "name": "stdout",
     "output_type": "stream",
     "text": [
      "content_2: 好用，我喜歡使用，希望很多人使用\n"
     ]
    }
   ],
   "source": [
    "content = \"Python好用，我喜歡使用Python，希望很多人使用Python\"\n",
    "content_2 = content.replace('Python','')\n",
    "print(\"content_2:\",content_2)"
   ]
  },
  {
   "cell_type": "code",
   "execution_count": 112,
   "id": "manufactured-methodology",
   "metadata": {},
   "outputs": [
    {
     "name": "stdout",
     "output_type": "stream",
     "text": [
      "content_2: 好用，我喜歡使用，希望很多人使用Python\n"
     ]
    }
   ],
   "source": [
    "content = \"Python好用，我喜歡使用Python，希望很多人使用Python\"\n",
    "content_2 = content.replace('Python','',2)\n",
    "print(\"content_2:\",content_2)"
   ]
  },
  {
   "cell_type": "markdown",
   "id": "verbal-interface",
   "metadata": {},
   "source": [
    "# isdigit()"
   ]
  },
  {
   "cell_type": "code",
   "execution_count": 118,
   "id": "early-joining",
   "metadata": {},
   "outputs": [
    {
     "name": "stdout",
     "output_type": "stream",
     "text": [
      "True\n"
     ]
    }
   ],
   "source": [
    "a = '36'\n",
    "\n",
    "re = a.isdigit()\n",
    "\n",
    "print(re)"
   ]
  },
  {
   "cell_type": "markdown",
   "id": "quality-debut",
   "metadata": {},
   "source": [
    "# upper()"
   ]
  },
  {
   "cell_type": "code",
   "execution_count": 119,
   "id": "finished-willow",
   "metadata": {},
   "outputs": [
    {
     "name": "stdout",
     "output_type": "stream",
     "text": [
      "I AM A STUDENT\n"
     ]
    }
   ],
   "source": [
    "string = 'i am a student'\n",
    "\n",
    "upper_word = string.upper()\n",
    "print(upper_word)"
   ]
  },
  {
   "cell_type": "code",
   "execution_count": 120,
   "id": "swiss-mississippi",
   "metadata": {},
   "outputs": [
    {
     "name": "stdout",
     "output_type": "stream",
     "text": [
      "i am a student\n"
     ]
    }
   ],
   "source": [
    "lower_word = upper_word.lower()\n",
    "print(lower_word)"
   ]
  },
  {
   "cell_type": "markdown",
   "id": "normal-schedule",
   "metadata": {},
   "source": [
    "# capitalize()"
   ]
  },
  {
   "cell_type": "code",
   "execution_count": 7,
   "id": "likely-flush",
   "metadata": {},
   "outputs": [
    {
     "name": "stdout",
     "output_type": "stream",
     "text": [
      "This is the start of python...\n"
     ]
    }
   ],
   "source": [
    "sentence = \"this IS The Start OF Python...\"\n",
    "\n",
    "re = sentence.capitalize()\n",
    "print(re)"
   ]
  },
  {
   "cell_type": "markdown",
   "id": "dated-screen",
   "metadata": {},
   "source": [
    "# swapcase()"
   ]
  },
  {
   "cell_type": "code",
   "execution_count": 124,
   "id": "parallel-supplier",
   "metadata": {},
   "outputs": [
    {
     "name": "stdout",
     "output_type": "stream",
     "text": [
      "AbCdEfGh\n"
     ]
    }
   ],
   "source": [
    "a = 'aBcDeFgH'\n",
    "\n",
    "re = a.swapcase()\n",
    "print(re)"
   ]
  }
 ],
 "metadata": {
  "kernelspec": {
   "display_name": "Python 3",
   "language": "python",
   "name": "python3"
  },
  "language_info": {
   "codemirror_mode": {
    "name": "ipython",
    "version": 3
   },
   "file_extension": ".py",
   "mimetype": "text/x-python",
   "name": "python",
   "nbconvert_exporter": "python",
   "pygments_lexer": "ipython3",
   "version": "3.8.10"
  }
 },
 "nbformat": 4,
 "nbformat_minor": 5
}
