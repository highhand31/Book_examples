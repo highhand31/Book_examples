{
 "cells": [
  {
   "cell_type": "markdown",
   "metadata": {},
   "source": [
    "# 匯入套件"
   ]
  },
  {
   "cell_type": "code",
   "execution_count": 1,
   "metadata": {},
   "outputs": [
    {
     "name": "stdout",
     "output_type": "stream",
     "text": [
      "WARNING:tensorflow:From C:\\Users\\User\\Anaconda3\\envs\\tf_2.5\\lib\\site-packages\\tensorflow\\python\\compat\\v2_compat.py:96: disable_resource_variables (from tensorflow.python.ops.variable_scope) is deprecated and will be removed in a future version.\n",
      "Instructions for updating:\n",
      "non-resource variables are not supported in the long term\n",
      "Tensorflow version:2.5.0\n"
     ]
    }
   ],
   "source": [
    "import tensorflow\n",
    "if tensorflow.__version__.startswith('1.'):\n",
    "    import tensorflow as tf\n",
    "    from tensorflow.python.platform import gfile\n",
    "else:\n",
    "    import tensorflow as v2\n",
    "    import tensorflow.compat.v1 as tf\n",
    "    tf.disable_v2_behavior()\n",
    "    import tensorflow.compat.v1.gfile as gfile\n",
    "print(\"Tensorflow version:{}\".format(tf.__version__))"
   ]
  },
  {
   "cell_type": "code",
   "execution_count": 3,
   "metadata": {},
   "outputs": [],
   "source": [
    "import matplotlib.pyplot as plt\n",
    "import os,cv2,shutil\n",
    "import math,time\n",
    "import numpy as np\n",
    "import json"
   ]
  },
  {
   "cell_type": "markdown",
   "metadata": {},
   "source": [
    "# DLIB初始化"
   ]
  },
  {
   "cell_type": "code",
   "execution_count": 4,
   "metadata": {},
   "outputs": [],
   "source": [
    "import dlib\n",
    "# ----Dlib init\n",
    "detector = dlib.get_frontal_face_detector()\n",
    "predictor = dlib.shape_predictor('shape_predictor_68_face_landmarks.dat')"
   ]
  },
  {
   "cell_type": "markdown",
   "metadata": {},
   "source": [
    "# 建立label轉換成類別名稱的字典集"
   ]
  },
  {
   "cell_type": "code",
   "execution_count": 5,
   "metadata": {},
   "outputs": [],
   "source": [
    "label2classname_dict = {0:'no_mask',\n",
    "                        1:\"with_mask\",\n",
    "                        }"
   ]
  },
  {
   "cell_type": "markdown",
   "metadata": {},
   "source": [
    "# 建立類別名稱轉換成label的字典集"
   ]
  },
  {
   "cell_type": "code",
   "execution_count": 6,
   "metadata": {},
   "outputs": [],
   "source": [
    "classname2label_dict = {'no_mask':0,\n",
    "                        \"with_mask\":1,\n",
    "                        }"
   ]
  },
  {
   "cell_type": "markdown",
   "metadata": {},
   "source": [
    "# 讀取訓練集路徑"
   ]
  },
  {
   "cell_type": "code",
   "execution_count": 17,
   "metadata": {},
   "outputs": [
    {
     "name": "stdout",
     "output_type": "stream",
     "text": [
      "訓練集張數: 8903\n"
     ]
    }
   ],
   "source": [
    "train_img_dir = r\"D:\\dataset\\face_mask\\train_set\"\n",
    "\n",
    "train_paths = [file.path for file in os.scandir(train_img_dir) \n",
    "               if file.name.split(\".\")[-1] == 'png']\n",
    "\n",
    "qty_train_path = len(train_paths)\n",
    "\n",
    "train_paths = np.array(train_paths)\n",
    "\n",
    "print(\"訓練集張數:\",qty_train_path)"
   ]
  },
  {
   "cell_type": "markdown",
   "metadata": {},
   "source": [
    "# 讀取驗證集路徑 "
   ]
  },
  {
   "cell_type": "code",
   "execution_count": 11,
   "metadata": {},
   "outputs": [
    {
     "name": "stdout",
     "output_type": "stream",
     "text": [
      "test_paths shape: (25922,)\n",
      "label_test shape: (25922,)\n",
      "驗證集張數: 25922\n"
     ]
    }
   ],
   "source": [
    "test_img_dir = r\"D:\\dataset\\face_mask\\test_set\"\n",
    "\n",
    "test_paths = list()\n",
    "label_test = list()\n",
    "\n",
    "for dir_name,sub_dir_list,filename_list in os.walk(test_img_dir):\n",
    "    if len(filename_list) > 0:\n",
    "        classname = dir_name.split(\"\\\\\")[-1]\n",
    "        label = classname2label_dict[classname]\n",
    "        \n",
    "        for filename in filename_list:\n",
    "            path = os.path.join(dir_name,filename)\n",
    "            \n",
    "            test_paths.append(path)\n",
    "            label_test.append(label)\n",
    "            \n",
    "qty_test_path = len(test_paths)\n",
    "#----串列轉換成 ndarray\n",
    "test_paths = np.array(test_paths)\n",
    "label_test = np.array(label_test)\n",
    "\n",
    "print(\"test_paths shape:\",test_paths.shape)\n",
    "print(\"label_test shape:\",label_test.shape)\n",
    "\n",
    "print(\"驗證集張數:\",qty_test_path)"
   ]
  },
  {
   "cell_type": "markdown",
   "metadata": {},
   "source": [
    "# 讀取口罩PNG圖片集路徑"
   ]
  },
  {
   "cell_type": "code",
   "execution_count": 9,
   "metadata": {},
   "outputs": [
    {
     "name": "stdout",
     "output_type": "stream",
     "text": [
      "口罩圖片張數: 34\n"
     ]
    }
   ],
   "source": [
    "mask_img_dir = r\"..\\RGBA_PNG_masks\"\n",
    "\n",
    "mask_paths = [file.path for file in os.scandir(mask_img_dir) \n",
    "              if file.name.split(\".\")[-1] == 'png']\n",
    "qty_mask_img = len(mask_paths)\n",
    "print(\"口罩圖片張數:\",qty_mask_img)"
   ]
  },
  {
   "cell_type": "markdown",
   "metadata": {},
   "source": [
    "# 將戴口罩的程式寫成函數"
   ]
  },
  {
   "cell_type": "code",
   "execution_count": 12,
   "metadata": {},
   "outputs": [],
   "source": [
    "def mouth_detection(img,predictor,d):\n",
    "    #----算出臉部區域的高度與寬度\n",
    "    face_height = d.bottom() - d.top()\n",
    "    face_width = d.right() - d.left()\n",
    "    \n",
    "    #----得到68個標註點\n",
    "    shape = predictor(img, d)\n",
    "\n",
    "    #----get the mouth part\n",
    "    x = list()#用來蒐集所有的X座標\n",
    "    y = list()#用來蒐集所有的Y座標\n",
    "\n",
    "    for i in range(48, 68):#48~68是嘴部區域的標註點\n",
    "        x.append(shape.part(i).x)#蒐集所有的X座標\n",
    "        y.append(shape.part(i).y)#蒐集所有的Y座標\n",
    "    \n",
    "    #----增加嘴部區域\n",
    "    height_margin = face_height // 3\n",
    "    width_margin = face_width // 3\n",
    "\n",
    "    y_max = min((max(y) + height_margin),img.shape[0])\n",
    "    y_min = max((min(y) - height_margin),0)\n",
    "    x_max = min((max(x) + width_margin),img.shape[1])\n",
    "    x_min = max((min(x) - width_margin),0)\n",
    "    \n",
    "    return (x_min,y_min), (x_max,y_max) "
   ]
  },
  {
   "cell_type": "code",
   "execution_count": 13,
   "metadata": {},
   "outputs": [],
   "source": [
    "def img_wear_mask(img,mask_paths,detector,predictor):\n",
    "    return_img = None\n",
    "    \n",
    "    faces, scores, idx = detector.run(img, 0)\n",
    "    \n",
    "    if len(faces):#如果沒有找到臉部區域，直接回傳None\n",
    "        for i,d in enumerate(faces):\n",
    "            #----找到嘴巴部分\n",
    "            (x_min,y_min), (x_max,y_max) = mouth_detection(img,predictor,d)\n",
    "            \n",
    "            #----亂數取一張口罩圖片\n",
    "            mask_path = np.random.choice(mask_paths)\n",
    "            img_mask_ori = cv2.imread(mask_path,cv2.IMREAD_UNCHANGED)\n",
    "\n",
    "            #----口罩PNG圖片的處理\n",
    "            size = ((x_max-x_min),(y_max-y_min))#嘴部區域的高度與寬度\n",
    "            img_mask = cv2.resize(img_mask_ori, size)#口罩大小調整與嘴部區域相同\n",
    "            img_mask_bgr = img_mask[:, :, :3]#取出口罩BGR資料\n",
    "            img_alpha_ch = img_mask[:, :, 3]#取出口罩Alpha資料\n",
    "            \n",
    "            #----口罩圖片的遮罩(讓口罩部分數值皆為255，其餘為0)\n",
    "            _, item_mask = cv2.threshold(img_alpha_ch, 220, 255, cv2.THRESH_BINARY)\n",
    "            \n",
    "            #----嘴部圖片的遮罩(讓嘴部數值皆為0，其餘為255)\n",
    "            human_mask = cv2.bitwise_not(item_mask)#與口罩遮罩內容相反\n",
    "\n",
    "            img_with_mask = img.copy()#不能只有 =img，否則img也會一起戴上口罩\n",
    "            mouth_part = img_with_mask[y_min:y_max, x_min:x_max]#取出嘴部區域\n",
    "            \n",
    "            #----進行遮罩比對\n",
    "            img_item_part = cv2.bitwise_and(img_mask_bgr, img_mask_bgr, mask=item_mask)\n",
    "            img_human_part = cv2.bitwise_and(mouth_part, mouth_part, mask=human_mask)\n",
    "            \n",
    "            #----嘴部與口罩相加\n",
    "            dst = cv2.add(img_human_part, img_item_part)\n",
    "            img_with_mask[y_min: y_max, x_min:x_max] = dst\n",
    "            return_img = img_with_mask#回傳戴上口罩的三維資料\n",
    "        \n",
    "    return return_img"
   ]
  },
  {
   "cell_type": "markdown",
   "metadata": {},
   "source": [
    "# 驗證函數"
   ]
  },
  {
   "cell_type": "code",
   "execution_count": 20,
   "metadata": {},
   "outputs": [],
   "source": [
    "#----亂數取一張訓練集圖片\n",
    "rdm_num = np.random.randint(qty_train_path)\n",
    "path = train_paths[rdm_num]\n",
    "# path = r\"C:\\Users\\User\\Desktop\\img_test\\face_sample.png\"\n",
    "\n",
    "img = cv2.imread(path)\n",
    "if img is None:\n",
    "    print(\"Read failed:{}\".format(path))\n",
    "else:\n",
    "    img_with_mask = img_wear_mask(img,mask_paths,detector,predictor)\n",
    "    if img_with_mask is None:\n",
    "        print(\"沒有找到人臉\")"
   ]
  },
  {
   "cell_type": "code",
   "execution_count": 21,
   "metadata": {},
   "outputs": [
    {
     "data": {
      "image/png": "[encoded data removed]",
      "text/plain": [
       "<Figure size 432x288 with 2 Axes>"
      ]
     },
     "metadata": {
      "needs_background": "light"
     },
     "output_type": "display_data"
    }
   ],
   "source": [
    "plt.subplot(1,2,1)\n",
    "\n",
    "plt.imshow(img[:,:,::-1])\n",
    "plt.title(\"no_mask, label 0\")\n",
    "\n",
    "if img_with_mask is not None:\n",
    "    plt.subplot(1,2,2)\n",
    "    plt.imshow(img_with_mask[:,:,::-1])\n",
    "    plt.title(\"with_mask, label 1\")\n",
    "plt.show()"
   ]
  },
  {
   "cell_type": "markdown",
   "metadata": {},
   "source": [
    "# 訓練集迭代資料函數"
   ]
  },
  {
   "cell_type": "code",
   "execution_count": 14,
   "metadata": {},
   "outputs": [],
   "source": [
    "def get_ite_mask_data(paths,ite_num,batch_size):\n",
    "    #----變數宣告\n",
    "    ite_data = list()\n",
    "    ite_label = list()\n",
    "    qty = len(paths)\n",
    "    \n",
    "    num_start = batch_size * ite_num\n",
    "    num_end = num_start + batch_size\n",
    "    if num_end > qty:\n",
    "        num_end = qty\n",
    "    \n",
    "    ite_paths = paths[num_start:num_end]\n",
    "    \n",
    "    for path in ite_paths:\n",
    "        img = cv2.imread(path)\n",
    "        if img is None:\n",
    "            print(\"Read failed:{}\".format(path))\n",
    "        else:\n",
    "            ite_data.append(img)\n",
    "            ite_label.append(0)#沒戴口罩的label = 0\n",
    "\n",
    "            img_with_mask = img_wear_mask(img,mask_paths,detector,predictor)\n",
    "            if img_with_mask is not None:\n",
    "                ite_data.append(img_with_mask)\n",
    "                ite_label.append(1)#有戴口罩的label = 1\n",
    "    #----串列轉換成ndarray\n",
    "    ite_data = np.array(ite_data)\n",
    "    ite_label = np.array(ite_label)\n",
    "    \n",
    "    #----資料標準化 normalization\n",
    "    ite_data = ite_data.astype(np.float32)\n",
    "    ite_data /= 255\n",
    "    \n",
    "    return ite_data,ite_label"
   ]
  },
  {
   "cell_type": "code",
   "execution_count": 15,
   "metadata": {},
   "outputs": [
    {
     "name": "stdout",
     "output_type": "stream",
     "text": [
      "(12, 80, 80, 3)\n",
      "(12,)\n"
     ]
    },
    {
     "data": {
      "image/png": "[encoded data removed]",
      "text/plain": [
       "<Figure size 432x288 with 6 Axes>"
      ]
     },
     "metadata": {
      "needs_background": "light"
     },
     "output_type": "display_data"
    },
    {
     "name": "stdout",
     "output_type": "stream",
     "text": [
      "[0 1 0 1 0 1 0 1 0 1 0 1]\n"
     ]
    }
   ],
   "source": [
    "num= 6\n",
    "ite_data,ite_label = get_ite_mask_data(train_paths,7,num)\n",
    "print(ite_data.shape)\n",
    "print(ite_label.shape)\n",
    "\n",
    "for i in range(num):\n",
    "    plt.subplot(1,num,i+1)\n",
    "    plt.imshow(ite_data[i][:,:,::-1])\n",
    "    plt.title(ite_label[i])\n",
    "plt.show()\n",
    "    \n",
    "\n",
    "print(ite_label)"
   ]
  },
  {
   "cell_type": "markdown",
   "metadata": {},
   "source": [
    "# 驗證集迭代資料函數"
   ]
  },
  {
   "cell_type": "code",
   "execution_count": 16,
   "metadata": {},
   "outputs": [],
   "source": [
    "def get_ite_data(paths,ite_num,batch_size):\n",
    "    #----變數宣告\n",
    "    ite_data = list()\n",
    "    ite_label = list()\n",
    "    qty = len(paths)\n",
    "    \n",
    "    num_start = batch_size * ite_num\n",
    "    num_end = num_start + batch_size\n",
    "    if num_end > qty:\n",
    "        num_end = qty\n",
    "    ite_paths = paths[num_start:num_end]\n",
    "    \n",
    "    for path in ite_paths:\n",
    "        img = cv2.imread(path)\n",
    "        if img is None:\n",
    "            print(\"Read failed:{}\".format(path))\n",
    "        else:\n",
    "            ite_data.append(img)\n",
    "            #----從資料夾名稱取得label\n",
    "            classname = path.split(\"\\\\\")[-2]\n",
    "            label = classname2label_dict[classname]\n",
    "            ite_label.append(label)\n",
    "    #----串列轉換成ndarray\n",
    "    ite_data = np.array(ite_data)\n",
    "    ite_label = np.array(ite_label)\n",
    "    \n",
    "    #----資料標準化 normalization\n",
    "    ite_data = ite_data.astype(np.float32)\n",
    "    ite_data /= 255\n",
    "    \n",
    "    return ite_data,ite_label"
   ]
  },
  {
   "cell_type": "markdown",
   "metadata": {},
   "source": [
    "# 建立計算圖 "
   ]
  },
  {
   "cell_type": "code",
   "execution_count": 17,
   "metadata": {},
   "outputs": [],
   "source": [
    "graph_1 = tf.Graph()\n",
    "activation = tf.nn.relu\n",
    "save_dir = r\"D:\\code\\model_saver\\mask_classification_3\""
   ]
  },
  {
   "cell_type": "code",
   "execution_count": 18,
   "metadata": {},
   "outputs": [
    {
     "name": "stdout",
     "output_type": "stream",
     "text": [
      "WARNING:tensorflow:From <ipython-input-18-6871c1ceec04>:14: conv2d (from tensorflow.python.layers.convolutional) is deprecated and will be removed in a future version.\n",
      "Instructions for updating:\n",
      "Use keras.layers.conv2d instead.\n",
      "WARNING:tensorflow:From C:\\Users\\JohnnyKavnie\\Anaconda3\\envs\\tf_1.13\\lib\\site-packages\\tensorflow\\python\\framework\\op_def_library.py:263: colocate_with (from tensorflow.python.framework.ops) is deprecated and will be removed in a future version.\n",
      "Instructions for updating:\n",
      "Colocations handled automatically by placer.\n",
      "卷積層 1 shape: (?, 80, 80, 8)\n",
      "WARNING:tensorflow:From <ipython-input-18-6871c1ceec04>:18: max_pooling2d (from tensorflow.python.layers.pooling) is deprecated and will be removed in a future version.\n",
      "Instructions for updating:\n",
      "Use keras.layers.max_pooling2d instead.\n",
      "池化層 1 shape: (?, 40, 40, 8)\n",
      "卷積層 2 shape: (?, 40, 40, 16)\n",
      "池化層 2 shape: (?, 20, 20, 16)\n",
      "卷積層 3 shape: (?, 20, 20, 32)\n",
      "池化層 3 shape: (?, 10, 10, 32)\n",
      "WARNING:tensorflow:From <ipython-input-18-6871c1ceec04>:47: flatten (from tensorflow.python.layers.core) is deprecated and will be removed in a future version.\n",
      "Instructions for updating:\n",
      "Use keras.layers.flatten instead.\n",
      "陣列拉直後 shape: (?, 3200)\n",
      "WARNING:tensorflow:From <ipython-input-18-6871c1ceec04>:50: dense (from tensorflow.python.layers.core) is deprecated and will be removed in a future version.\n",
      "Instructions for updating:\n",
      "Use keras.layers.dense instead.\n",
      "全連接層 shape: (?, 64)\n",
      "WARNING:tensorflow:From <ipython-input-18-6871c1ceec04>:53: calling dropout (from tensorflow.python.ops.nn_ops) with keep_prob is deprecated and will be removed in a future version.\n",
      "Instructions for updating:\n",
      "Please use `rate` instead of `keep_prob`. Rate should be set to `rate = 1 - keep_prob`.\n",
      "輸出層 shape: (?, 2)\n"
     ]
    }
   ],
   "source": [
    "with graph_1.as_default():\n",
    "    #----建立tf.placeholder()，接收非張量型態的資料\n",
    "    tf_input = tf.placeholder(tf.float32,shape=[None,80,80,3],name='input')\n",
    "    tf_label = tf.placeholder(tf.int32,shape=[None],name=\"label\")\n",
    "    tf_keep_prob = tf.placeholder(tf.float32,name='keep_prob')\n",
    "\n",
    "    #----建立類神經網路\n",
    "    net = tf.layers.conv2d(\n",
    "        inputs=tf_input,\n",
    "        filters=8,\n",
    "        kernel_size=[3, 3],\n",
    "        padding=\"same\",\n",
    "        strides=1,\n",
    "        activation=activation\n",
    "    )\n",
    "    print(\"卷積層 1 shape:\",net.shape)\n",
    "\n",
    "    net = tf.layers.max_pooling2d(net, pool_size=[2, 2], strides=2,padding='same')\n",
    "    print(\"池化層 1 shape:\",net.shape)\n",
    "\n",
    "    net = tf.layers.conv2d(\n",
    "        inputs=net,\n",
    "        filters=16,\n",
    "        kernel_size=[3, 3],\n",
    "        padding=\"same\",\n",
    "        strides=1,\n",
    "        activation=activation\n",
    "    )\n",
    "    print(\"卷積層 2 shape:\",net.shape)\n",
    "\n",
    "    net = tf.layers.max_pooling2d(net, pool_size=[2, 2], strides=2,padding='same')\n",
    "    print(\"池化層 2 shape:\",net.shape)\n",
    "\n",
    "    net = tf.layers.conv2d(\n",
    "        inputs=net,\n",
    "        filters=32,\n",
    "        kernel_size=[3, 3],\n",
    "        padding=\"same\",\n",
    "        strides=1,\n",
    "        activation=activation\n",
    "    )\n",
    "    print(\"卷積層 3 shape:\",net.shape)\n",
    "\n",
    "    net = tf.layers.max_pooling2d(net, pool_size=[2, 2], strides=2,padding='same')\n",
    "    print(\"池化層 3 shape:\",net.shape)\n",
    "\n",
    "    net = tf.layers.flatten(net)\n",
    "    print(\"陣列拉直後 shape:\",net.shape)\n",
    "\n",
    "    net = tf.layers.dense(inputs=net, units=64, activation=activation)\n",
    "    print(\"全連接層 shape:\",net.shape)\n",
    "\n",
    "    net = tf.nn.dropout(net, keep_prob=tf_keep_prob)#加入dropout\n",
    "\n",
    "    output = tf.layers.dense(inputs=net, units=2, activation=None)\n",
    "    print(\"輸出層 shape:\",output.shape)\n",
    "\n",
    "    #----softmax函數輸出各類別的機率\n",
    "    tf_prediction = tf.nn.softmax(output,name=\"prediction\")\n",
    "\n",
    "     #----設定損失函數\n",
    "    tf_loss = tf.reduce_mean(tf.nn.sparse_softmax_cross_entropy_with_logits(labels=tf_label,logits=output),\n",
    "                      name=\"loss\")\n",
    "\n",
    "    #----設定最佳化函數\n",
    "    learning_rate = 3e-4\n",
    "    tf_optimizer = tf.train.AdamOptimizer(learning_rate=learning_rate).minimize(tf_loss)\n",
    "\n",
    "    #----設定儲存權重的資料夾\n",
    "    if not os.path.exists(save_dir):\n",
    "        os.makedirs(save_dir)\n",
    "    saver = tf.train.Saver(max_to_keep=5)\n",
    "\n",
    "    #----GPU 資源設定\n",
    "    config = tf.ConfigProto(log_device_placement=False,\n",
    "                            allow_soft_placement=True)\n",
    "    config.gpu_options.allow_growth = True\n",
    "\n",
    "    sess = tf.Session(config=config)\n",
    "    sess.run(tf.global_variables_initializer())"
   ]
  },
  {
   "cell_type": "markdown",
   "metadata": {},
   "source": [
    "# 計算損失值"
   ]
  },
  {
   "cell_type": "code",
   "execution_count": 19,
   "metadata": {},
   "outputs": [],
   "source": [
    "def get_loss(paths,label_data,batch_size,sess):\n",
    "    iterations =math.ceil(len(paths) / batch_size)\n",
    "    loss = 0\n",
    "    \n",
    "    for iteration in range(iterations):\n",
    "        ite_data,ite_label = get_ite_data(paths,iteration,batch_size)\n",
    "        \n",
    "        loss += sess.run(tf_loss,feed_dict={tf_input:ite_data,\n",
    "                                            tf_label:ite_label,\n",
    "                                            tf_keep_prob:1})\n",
    "    \n",
    "    loss /= iterations\n",
    "    \n",
    "    return loss"
   ]
  },
  {
   "cell_type": "markdown",
   "metadata": {},
   "source": [
    "# 計算準確率函數"
   ]
  },
  {
   "cell_type": "code",
   "execution_count": 20,
   "metadata": {},
   "outputs": [],
   "source": [
    "def get_accuracy(paths,batch_size,sess,use_dropout=False):\n",
    "    iterations = math.ceil(len(paths)/ batch_size)\n",
    "    correct_count = 0\n",
    "    prediction_count = 0\n",
    "    \n",
    "    for iteration in range(iterations):\n",
    "        ite_data,ite_label = get_ite_data(paths,iteration,batch_size)\n",
    "        \n",
    "        predictions = sess.run(tf_prediction,feed_dict={tf_input:ite_data,\n",
    "                                                tf_keep_prob:1})\n",
    "        \n",
    "        arg_predictions = np.argmax(predictions,axis=1)\n",
    "        for arg_prediction, label in zip(arg_predictions,ite_label):\n",
    "            prediction_count += 1\n",
    "            if arg_prediction == label:\n",
    "                correct_count += 1\n",
    "    acc = correct_count / prediction_count\n",
    "    \n",
    "    return acc"
   ]
  },
  {
   "cell_type": "markdown",
   "metadata": {},
   "source": [
    "# 儲存PB檔案"
   ]
  },
  {
   "cell_type": "code",
   "execution_count": 21,
   "metadata": {},
   "outputs": [],
   "source": [
    "def save_pb_file(graph,sess,tf_node_list,pb_save_path):\n",
    "    graph = graph.as_graph_def()\n",
    "#     graph = tf.get_default_graph().as_graph_def()\n",
    "    output_graph_def = tf.graph_util.convert_variables_to_constants(sess, graph, tf_node_list)\n",
    "    with gfile.GFile(pb_save_path, 'wb')as f:\n",
    "        f.write(output_graph_def.SerializeToString())\n",
    "    msg = \"儲存pb檔至 {}\".format(pb_save_path)\n",
    "    print(msg)"
   ]
  },
  {
   "cell_type": "markdown",
   "metadata": {},
   "source": [
    "# 訓練程式碼"
   ]
  },
  {
   "cell_type": "code",
   "execution_count": 22,
   "metadata": {},
   "outputs": [],
   "source": [
    "batch_size=128\n",
    "epochs=10\n",
    "dropout_ratio=0.5  "
   ]
  },
  {
   "cell_type": "code",
   "execution_count": 23,
   "metadata": {
    "scrolled": true
   },
   "outputs": [
    {
     "name": "stdout",
     "output_type": "stream",
     "text": [
      "沒有之前的權重檔，重新訓練\n",
      "Epoch  0\n",
      "驗證集 損失值 =  0.10100963546577933\n",
      "驗證集 準確率 =  0.9793619565636693\n",
      "訓練週期使用時間: 129.51562404632568\n",
      "儲存權重檔至 D:\\code\\model_saver\\mask_classification_3\\model-0\n",
      "WARNING:tensorflow:From <ipython-input-21-1c58e9725700>:4: convert_variables_to_constants (from tensorflow.python.framework.graph_util_impl) is deprecated and will be removed in a future version.\n",
      "Instructions for updating:\n",
      "Use tf.compat.v1.graph_util.convert_variables_to_constants\n",
      "WARNING:tensorflow:From C:\\Users\\JohnnyKavnie\\Anaconda3\\envs\\tf_1.13\\lib\\site-packages\\tensorflow\\python\\framework\\graph_util_impl.py:245: extract_sub_graph (from tensorflow.python.framework.graph_util_impl) is deprecated and will be removed in a future version.\n",
      "Instructions for updating:\n",
      "Use tf.compat.v1.graph_util.extract_sub_graph\n",
      "INFO:tensorflow:Froze 10 variables.\n",
      "INFO:tensorflow:Converted 10 variables to const ops.\n",
      "儲存pb檔至 D:\\code\\model_saver\\mask_classification_3\\infer_acc_0.9793619565636693.pb\n",
      "Epoch  1\n",
      "驗證集 損失值 =  0.04423102077321503\n",
      "驗證集 準確率 =  0.986884234077846\n",
      "訓練週期使用時間: 67.64386248588562\n",
      "儲存權重檔至 D:\\code\\model_saver\\mask_classification_3\\model-1\n",
      "INFO:tensorflow:Froze 10 variables.\n",
      "INFO:tensorflow:Converted 10 variables to const ops.\n",
      "儲存pb檔至 D:\\code\\model_saver\\mask_classification_3\\infer_acc_0.986884234077846.pb\n",
      "Epoch  2\n",
      "驗證集 損失值 =  0.01686625941564774\n",
      "驗證集 準確率 =  0.995486633491494\n",
      "訓練週期使用時間: 67.57507491111755\n",
      "儲存權重檔至 D:\\code\\model_saver\\mask_classification_3\\model-2\n",
      "INFO:tensorflow:Froze 10 variables.\n",
      "INFO:tensorflow:Converted 10 variables to const ops.\n",
      "儲存pb檔至 D:\\code\\model_saver\\mask_classification_3\\infer_acc_0.995486633491494.pb\n",
      "Epoch  3\n",
      "驗證集 損失值 =  0.009834380103550448\n",
      "驗證集 準確率 =  0.9972611194691973\n",
      "訓練週期使用時間: 67.2065110206604\n",
      "儲存權重檔至 D:\\code\\model_saver\\mask_classification_3\\model-3\n",
      "INFO:tensorflow:Froze 10 variables.\n",
      "INFO:tensorflow:Converted 10 variables to const ops.\n",
      "儲存pb檔至 D:\\code\\model_saver\\mask_classification_3\\infer_acc_0.9972611194691973.pb\n",
      "Epoch  4\n",
      "驗證集 損失值 =  0.0072678821166407255\n",
      "驗證集 準確率 =  0.997878331983181\n",
      "訓練週期使用時間: 68.12098360061646\n",
      "儲存權重檔至 D:\\code\\model_saver\\mask_classification_3\\model-4\n",
      "INFO:tensorflow:Froze 10 variables.\n",
      "INFO:tensorflow:Converted 10 variables to const ops.\n",
      "儲存pb檔至 D:\\code\\model_saver\\mask_classification_3\\infer_acc_0.997878331983181.pb\n",
      "Epoch  5\n",
      "驗證集 損失值 =  0.007217557802003535\n",
      "驗證集 準確率 =  0.9979554835474289\n",
      "訓練週期使用時間: 68.61004376411438\n",
      "WARNING:tensorflow:From C:\\Users\\JohnnyKavnie\\Anaconda3\\envs\\tf_1.13\\lib\\site-packages\\tensorflow\\python\\training\\saver.py:966: remove_checkpoint (from tensorflow.python.training.checkpoint_management) is deprecated and will be removed in a future version.\n",
      "Instructions for updating:\n",
      "Use standard file APIs to delete files with this prefix.\n",
      "儲存權重檔至 D:\\code\\model_saver\\mask_classification_3\\model-5\n",
      "INFO:tensorflow:Froze 10 variables.\n",
      "INFO:tensorflow:Converted 10 variables to const ops.\n",
      "儲存pb檔至 D:\\code\\model_saver\\mask_classification_3\\infer_acc_0.9979554835474289.pb\n",
      "Epoch  6\n",
      "驗證集 損失值 =  0.005807969535139975\n",
      "驗證集 準確率 =  0.9987655749720326\n",
      "訓練週期使用時間: 71.6382110118866\n",
      "儲存權重檔至 D:\\code\\model_saver\\mask_classification_3\\model-6\n",
      "INFO:tensorflow:Froze 10 variables.\n",
      "INFO:tensorflow:Converted 10 variables to const ops.\n",
      "儲存pb檔至 D:\\code\\model_saver\\mask_classification_3\\infer_acc_0.9987655749720326.pb\n",
      "Epoch  7\n",
      "驗證集 損失值 =  0.0032035826544895003\n",
      "驗證集 準確率 =  0.9989970296647764\n",
      "訓練週期使用時間: 70.41273093223572\n",
      "儲存權重檔至 D:\\code\\model_saver\\mask_classification_3\\model-7\n",
      "INFO:tensorflow:Froze 10 variables.\n",
      "INFO:tensorflow:Converted 10 variables to const ops.\n",
      "儲存pb檔至 D:\\code\\model_saver\\mask_classification_3\\infer_acc_0.9989970296647764.pb\n",
      "Epoch  8\n",
      "驗證集 損失值 =  0.003409037544519504\n",
      "驗證集 準確率 =  0.9988041507541565\n",
      "訓練週期使用時間: 68.48971819877625\n",
      "儲存權重檔至 D:\\code\\model_saver\\mask_classification_3\\model-8\n",
      "Epoch  9\n",
      "驗證集 損失值 =  0.002937736530978063\n",
      "驗證集 準確率 =  0.9990356054469004\n",
      "訓練週期使用時間: 67.55869436264038\n",
      "儲存權重檔至 D:\\code\\model_saver\\mask_classification_3\\model-9\n",
      "INFO:tensorflow:Froze 10 variables.\n",
      "INFO:tensorflow:Converted 10 variables to const ops.\n",
      "儲存pb檔至 D:\\code\\model_saver\\mask_classification_3\\infer_acc_0.9990356054469004.pb\n"
     ]
    }
   ],
   "source": [
    "acc_record = 0.97\n",
    "\n",
    "#----計算迭代次數\n",
    "iterations_train =math.ceil(qty_train_path / batch_size)\n",
    "iterations_test = math.ceil(qty_test_path / batch_size)\n",
    "\n",
    "#----宣告收集驗證集準確率的串列\n",
    "loss_test_list = list()\n",
    "acc_test_list = list()\n",
    "\n",
    "#----載入上次的訓練權重檔案\n",
    "weights_path = tf.train.latest_checkpoint(save_dir)\n",
    "if weights_path is None:\n",
    "    print(\"沒有之前的權重檔，重新訓練\")\n",
    "else:\n",
    "    print(\"weights_path:\",weights_path)\n",
    "    try:\n",
    "        saver.restore(sess, weights_path)\n",
    "        print(\"使用之前的權重檔:{}\".format(weights_path))   \n",
    "    except:\n",
    "        print(\"套用權重檔產生錯誤，重新訓練\")\n",
    "\n",
    "for epoch in range(epochs):\n",
    "    #----record the time\n",
    "    d_t = time.time()\n",
    "    \n",
    "    #----shuffle 只需將訓練集的順序打亂\n",
    "    indice = np.random.permutation(qty_train_path)\n",
    "    train_paths = train_paths[indice]\n",
    "\n",
    "    for iteration in range(iterations_train):\n",
    "        ite_data,ite_label = get_ite_mask_data(train_paths,iteration,batch_size)\n",
    "        sess.run(tf_optimizer,feed_dict={tf_input:ite_data,\n",
    "                                         tf_label:ite_label,\n",
    "                                         tf_keep_prob:1-dropout_ratio})\n",
    "            \n",
    "\n",
    "    #----計算驗證集的準確率\n",
    "    acc_test = get_accuracy(test_paths,batch_size,sess,use_dropout=True)\n",
    "    loss_test = get_loss(test_paths, label_test,batch_size,sess)\n",
    "                             \n",
    "    #----record the time\n",
    "    d_t = time.time() - d_t\n",
    "    \n",
    "    #----顯示驗證集準確率\n",
    "    print(\"Epoch \",epoch)\n",
    "    print(\"驗證集 損失值 = \",loss_test)\n",
    "    print(\"驗證集 準確率 = \",acc_test)\n",
    "    print(\"訓練週期使用時間:\",d_t)\n",
    "\n",
    "    #----收集驗證集數值至串列\n",
    "    loss_test_list.append(float(loss_test))\n",
    "    acc_test_list.append(float(acc_test))\n",
    "\n",
    "    #----儲存權重檔案\n",
    "    save_filename = os.path.join(save_dir,'model')\n",
    "    model_save_path = saver.save(sess, save_filename, global_step=epoch)\n",
    "    print(\"儲存權重檔至 {}\".format(model_save_path))\n",
    "    \n",
    "    #----儲存準確率最高的PB檔案\n",
    "    if acc_test > acc_record:\n",
    "        pb_save_path = \"infer_acc_{}.pb\".format(acc_test)\n",
    "        pb_save_path = os.path.join(save_dir,pb_save_path)\n",
    "        save_pb_file(graph_1,sess,['prediction'],pb_save_path)\n",
    "        acc_record = acc_test\n",
    "        \n",
    "    #----儲存訓練集與驗證集的損失值與準確率\n",
    "    json_path = os.path.join(save_dir,'train_result.json')\n",
    "    data_dict = {'acc_test_list':acc_test_list}\n",
    "    with open(json_path,'w') as file_obj:\n",
    "        json.dump(data_dict,file_obj)\n"
   ]
  },
  {
   "cell_type": "markdown",
   "metadata": {},
   "source": [
    "# 結果圖形化"
   ]
  },
  {
   "cell_type": "code",
   "execution_count": 29,
   "metadata": {},
   "outputs": [
    {
     "data": {
      "image/png": "[encoded data removed]",
      "text/plain": [
       "<Figure size 864x288 with 2 Axes>"
      ]
     },
     "metadata": {
      "needs_background": "light"
     },
     "output_type": "display_data"
    }
   ],
   "source": [
    "plt.figure(figsize=(12,4))#圖形的大小可以自行設定\n",
    "x_num = [i for i in range(0,len(acc_test_list))]\n",
    "\n",
    "plt.subplot(1,2,1)#設定第1張圖\n",
    "# plt.plot(x_num,loss_train_list,label='train data')\n",
    "plt.plot(x_num,loss_test_list,label='test data')\n",
    "plt.xlabel(\"epoch\")\n",
    "plt.ylabel(\"loss \")\n",
    "plt.legend()\n",
    "\n",
    "plt.subplot(1,2,2)#設定第2張圖\n",
    "# plt.plot(x_num,acc_train_list,label='train data')\n",
    "plt.plot(x_num,acc_test_list,label='test data')\n",
    "plt.xlabel(\"epoch\")\n",
    "plt.ylabel(\"accuracy\")\n",
    "plt.legend()\n",
    "\n",
    "plt.show()#所有圖都設定完再執行show()"
   ]
  }
 ],
 "metadata": {
  "kernelspec": {
   "display_name": "Python 3",
   "language": "python",
   "name": "python3"
  },
  "language_info": {
   "codemirror_mode": {
    "name": "ipython",
    "version": 3
   },
   "file_extension": ".py",
   "mimetype": "text/x-python",
   "name": "python",
   "nbconvert_exporter": "python",
   "pygments_lexer": "ipython3",
   "version": "3.8.10"
  }
 },
 "nbformat": 4,
 "nbformat_minor": 2
}
