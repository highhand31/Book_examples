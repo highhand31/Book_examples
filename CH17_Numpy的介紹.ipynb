{
 "cells": [
  {
   "cell_type": "code",
   "execution_count": 1,
   "metadata": {},
   "outputs": [],
   "source": [
    "import numpy as np"
   ]
  },
  {
   "cell_type": "markdown",
   "metadata": {},
   "source": [
    "# 串列與Numpy array的差異"
   ]
  },
  {
   "cell_type": "code",
   "execution_count": 2,
   "metadata": {},
   "outputs": [
    {
     "name": "stdout",
     "output_type": "stream",
     "text": [
      "串列的相乘: [10, 15, 20, 10, 15, 20, 10, 15, 20]\n",
      "Numpy的相乘: [30 45 60]\n"
     ]
    }
   ],
   "source": [
    "a = [10,15,20]\n",
    "\n",
    "b = np.array([10,15,20])\n",
    "\n",
    "print(\"串列的相乘:\",a * 3)\n",
    "print(\"Numpy的相乘:\",b * 3)"
   ]
  },
  {
   "cell_type": "markdown",
   "metadata": {},
   "source": [
    "# 建立ndarray"
   ]
  },
  {
   "cell_type": "code",
   "execution_count": 3,
   "metadata": {},
   "outputs": [
    {
     "name": "stdout",
     "output_type": "stream",
     "text": [
      "[10 15 20]\n",
      "<class 'numpy.ndarray'>\n",
      "int32\n"
     ]
    }
   ],
   "source": [
    "a = np.array([10,15,20])\n",
    "print(a)\n",
    "print(type(a))\n",
    "print(a.dtype)"
   ]
  },
  {
   "cell_type": "code",
   "execution_count": 13,
   "metadata": {},
   "outputs": [
    {
     "name": "stdout",
     "output_type": "stream",
     "text": [
      "[10. 15. 20.]\n",
      "<class 'numpy.ndarray'>\n",
      "float64\n"
     ]
    }
   ],
   "source": [
    "b = [10.,15,20]\n",
    "b = np.array(b)\n",
    "print(b)\n",
    "print(type(b))\n",
    "print(b.dtype)"
   ]
  },
  {
   "cell_type": "code",
   "execution_count": 19,
   "metadata": {},
   "outputs": [
    {
     "name": "stdout",
     "output_type": "stream",
     "text": [
      "[10 15 20]\n",
      "[12 17 22]\n",
      "[-1  4  9]\n",
      "[30 45 60]\n",
      "[3.33333333 5.         6.66666667]\n"
     ]
    }
   ],
   "source": [
    "print(a)\n",
    "print(a + 2)\n",
    "print(a - 11)\n",
    "print(a * 3)\n",
    "print(a / 3)"
   ]
  },
  {
   "cell_type": "code",
   "execution_count": 21,
   "metadata": {},
   "outputs": [
    {
     "name": "stdout",
     "output_type": "stream",
     "text": [
      "[12 26 23]\n",
      "[ 8  4 17]\n",
      "[ 20 165  60]\n",
      "[5.         1.36363636 6.66666667]\n"
     ]
    }
   ],
   "source": [
    "a = np.array([10,15,20])\n",
    "b = np.array([2,11,3])\n",
    "\n",
    "print(a + b)\n",
    "print(a - b)\n",
    "print(a * b)\n",
    "print(a / b)"
   ]
  },
  {
   "cell_type": "code",
   "execution_count": 26,
   "metadata": {},
   "outputs": [
    {
     "name": "stdout",
     "output_type": "stream",
     "text": [
      "[12 17 22]\n",
      "[ 8 13 18]\n",
      "[20 30 40]\n",
      "[ 5.   7.5 10. ]\n"
     ]
    }
   ],
   "source": [
    "a = np.array([10,15,20])\n",
    "b = np.array([2])\n",
    "\n",
    "print(a + b)\n",
    "print(a - b)\n",
    "print(a * b)\n",
    "print(a / b)"
   ]
  },
  {
   "cell_type": "markdown",
   "metadata": {},
   "source": [
    "# 建立一維陣列"
   ]
  },
  {
   "cell_type": "code",
   "execution_count": 30,
   "metadata": {},
   "outputs": [
    {
     "name": "stdout",
     "output_type": "stream",
     "text": [
      "[1 2 3 4 5 6 7 8 9 0]\n",
      "(10,)\n"
     ]
    },
    {
     "data": {
      "text/plain": [
       "10"
      ]
     },
     "execution_count": 30,
     "metadata": {},
     "output_type": "execute_result"
    }
   ],
   "source": [
    "a = np.array([1,2,3,4,5,6,7,8,9,0])\n",
    "\n",
    "print(a)\n",
    "print(a.shape)\n"
   ]
  },
  {
   "cell_type": "markdown",
   "metadata": {},
   "source": [
    "# 建立二維陣列"
   ]
  },
  {
   "cell_type": "code",
   "execution_count": 51,
   "metadata": {},
   "outputs": [
    {
     "name": "stdout",
     "output_type": "stream",
     "text": [
      "串列的資料長度: 5\n",
      "資料顯示:\n",
      " [[1 2 3 4 5 6]\n",
      " [2 3 4 5 6 7]\n",
      " [3 4 5 6 7 8]\n",
      " [4 5 6 7 8 9]\n",
      " [5 6 7 8 9 0]]\n",
      "二維陣列的維度與資料長度: (5, 6)\n"
     ]
    }
   ],
   "source": [
    "a = [\n",
    "        [1,2,3,4,5,6],\n",
    "        [2,3,4,5,6,7],\n",
    "        [3,4,5,6,7,8],\n",
    "        [4,5,6,7,8,9],\n",
    "        [5,6,7,8,9,0],\n",
    "    ]\n",
    "\n",
    "print(\"串列的資料長度:\",len(a))\n",
    "\n",
    "a = np.array(a)\n",
    "print(\"資料顯示:\\n\",a)\n",
    "print(\"二維陣列的維度與資料長度:\",a.shape)"
   ]
  },
  {
   "cell_type": "code",
   "execution_count": 72,
   "metadata": {},
   "outputs": [
    {
     "name": "stdout",
     "output_type": "stream",
     "text": [
      "[list([1, 2, 3, 1, 2, 3, 1, 2, 3])\n",
      " list([2, 3, 4, 5, 6, 7, 2, 3, 4, 5, 6, 7, 2, 3, 4, 5, 6, 7])\n",
      " list([3, 4, 5, 6, 7, 3, 4, 5, 6, 7, 3, 4, 5, 6, 7])\n",
      " list([4, 5, 6, 9, 4, 5, 6, 9, 4, 5, 6, 9])\n",
      " list([5, 6, 7, 8, 9, 0, 5, 6, 7, 8, 9, 0, 5, 6, 7, 8, 9, 0])]\n"
     ]
    }
   ],
   "source": [
    "a = [\n",
    "        [1,2,3],\n",
    "        [2,3,4,5,6,7],\n",
    "        [3,4,5,6,7],\n",
    "        [4,5,6,9],\n",
    "        [5,6,7,8,9,0],\n",
    "    ]\n",
    "\n",
    "a = np.array(a)\n",
    "\n",
    "print(a * 3)"
   ]
  },
  {
   "cell_type": "markdown",
   "metadata": {},
   "source": [
    "# 建立三維陣列"
   ]
  },
  {
   "cell_type": "code",
   "execution_count": 73,
   "metadata": {},
   "outputs": [
    {
     "name": "stdout",
     "output_type": "stream",
     "text": [
      "資料顯示:\n",
      " [[[1 2 3 4 5 6]\n",
      "  [2 3 4 5 6 7]\n",
      "  [3 4 5 6 7 8]\n",
      "  [4 5 6 7 8 9]\n",
      "  [5 6 7 8 9 0]]\n",
      "\n",
      " [[1 2 3 4 5 6]\n",
      "  [2 3 4 5 6 7]\n",
      "  [3 4 5 6 7 8]\n",
      "  [4 5 6 7 8 9]\n",
      "  [5 6 7 8 9 0]]\n",
      "\n",
      " [[1 2 3 4 5 6]\n",
      "  [2 3 4 5 6 7]\n",
      "  [3 4 5 6 7 8]\n",
      "  [4 5 6 7 8 9]\n",
      "  [5 6 7 8 9 0]]]\n",
      "三維陣列的維度與資料長度: (3, 5, 6)\n"
     ]
    }
   ],
   "source": [
    "a = [\n",
    "        [1,2,3,4,5,6],\n",
    "        [2,3,4,5,6,7],\n",
    "        [3,4,5,6,7,8],\n",
    "        [4,5,6,7,8,9],\n",
    "        [5,6,7,8,9,0],\n",
    "    ]\n",
    "b = [a,a,a]\n",
    "b = np.array(b)\n",
    "\n",
    "print(\"資料顯示:\\n\",b)\n",
    "print(\"三維陣列的維度與資料長度:\",b.shape)"
   ]
  },
  {
   "cell_type": "markdown",
   "metadata": {},
   "source": [
    "# ndim, shape屬性"
   ]
  },
  {
   "cell_type": "code",
   "execution_count": 5,
   "metadata": {},
   "outputs": [
    {
     "name": "stdout",
     "output_type": "stream",
     "text": [
      "ndim: 2\n"
     ]
    }
   ],
   "source": [
    "a = [\n",
    "        [1,2,3,4,5,6],\n",
    "        [2,3,4,5,6,7],\n",
    "        [3,4,5,6,7,8],\n",
    "        [4,5,6,7,8,9],\n",
    "        [5,6,7,8,9,0],\n",
    "    ]\n",
    "a = np.array(a)\n",
    "\n",
    "print(\"ndim:\",a.ndim)"
   ]
  },
  {
   "cell_type": "code",
   "execution_count": 93,
   "metadata": {},
   "outputs": [
    {
     "name": "stdout",
     "output_type": "stream",
     "text": [
      "shape: (5, 6)\n"
     ]
    }
   ],
   "source": [
    "print(\"shape:\",a.shape)"
   ]
  },
  {
   "cell_type": "code",
   "execution_count": 94,
   "metadata": {},
   "outputs": [
    {
     "name": "stdout",
     "output_type": "stream",
     "text": [
      "ndim: 2\n"
     ]
    }
   ],
   "source": [
    "ndim = len(a.shape)\n",
    "print(\"ndim:\",ndim)"
   ]
  },
  {
   "cell_type": "markdown",
   "metadata": {},
   "source": [
    "# 串列(list)常與ndarray的屬性混淆"
   ]
  },
  {
   "cell_type": "code",
   "execution_count": 7,
   "metadata": {},
   "outputs": [
    {
     "ename": "AttributeError",
     "evalue": "'list' object has no attribute 'shape'",
     "output_type": "error",
     "traceback": [
      "\u001b[1;31m---------------------------------------------------------------------------\u001b[0m",
      "\u001b[1;31mAttributeError\u001b[0m                            Traceback (most recent call last)",
      "\u001b[1;32m<ipython-input-7-6e8129aacbb2>\u001b[0m in \u001b[0;36m<module>\u001b[1;34m\u001b[0m\n\u001b[0;32m      6\u001b[0m         \u001b[1;33m[\u001b[0m\u001b[1;36m5\u001b[0m\u001b[1;33m,\u001b[0m\u001b[1;36m6\u001b[0m\u001b[1;33m,\u001b[0m\u001b[1;36m7\u001b[0m\u001b[1;33m,\u001b[0m\u001b[1;36m8\u001b[0m\u001b[1;33m,\u001b[0m\u001b[1;36m9\u001b[0m\u001b[1;33m,\u001b[0m\u001b[1;36m0\u001b[0m\u001b[1;33m]\u001b[0m\u001b[1;33m,\u001b[0m\u001b[1;33m\u001b[0m\u001b[1;33m\u001b[0m\u001b[0m\n\u001b[0;32m      7\u001b[0m     ]\n\u001b[1;32m----> 8\u001b[1;33m \u001b[0mprint\u001b[0m\u001b[1;33m(\u001b[0m\u001b[0ma\u001b[0m\u001b[1;33m.\u001b[0m\u001b[0mshape\u001b[0m\u001b[1;33m)\u001b[0m\u001b[1;33m\u001b[0m\u001b[1;33m\u001b[0m\u001b[0m\n\u001b[0m",
      "\u001b[1;31mAttributeError\u001b[0m: 'list' object has no attribute 'shape'"
     ]
    }
   ],
   "source": [
    "a = [\n",
    "        [1,2,3,4,5,6],\n",
    "        [2,3,4,5,6,7],\n",
    "        [3,4,5,6,7,8],\n",
    "        [4,5,6,7,8,9],\n",
    "        [5,6,7,8,9,0],\n",
    "    ]\n",
    "print(a.shape)"
   ]
  },
  {
   "cell_type": "code",
   "execution_count": 12,
   "metadata": {},
   "outputs": [
    {
     "name": "stdout",
     "output_type": "stream",
     "text": [
      "串列a的長度: 2\n",
      "ndarray b的長度: 2\n",
      "ndarray b的shape: (2, 6)\n"
     ]
    }
   ],
   "source": [
    "a = [\n",
    "        [1,2,3,4,5,6],\n",
    "        [2,3,4,5,6,7],\n",
    "    ]\n",
    "print(\"串列a的長度:\",len(a))\n",
    "\n",
    "b = np.array(a)\n",
    "print(\"ndarray b的長度:\",len(b))\n",
    "print(\"ndarray b的shape:\",b.shape)"
   ]
  },
  {
   "cell_type": "markdown",
   "metadata": {},
   "source": [
    "# 轉置陣列"
   ]
  },
  {
   "cell_type": "code",
   "execution_count": 97,
   "metadata": {},
   "outputs": [
    {
     "name": "stdout",
     "output_type": "stream",
     "text": [
      "原始陣列shape: (2, 6)\n",
      "轉置陣列shape: (6, 2)\n"
     ]
    }
   ],
   "source": [
    "a = [\n",
    "        [1,2,3,4,5,6],\n",
    "        [22,33,44,55,66,77]\n",
    "    ]\n",
    "a = np.array(a)\n",
    "\n",
    "b = a.T\n",
    "\n",
    "print(\"原始陣列shape:\",a.shape)\n",
    "print(\"轉置陣列shape:\",b.shape )"
   ]
  },
  {
   "cell_type": "code",
   "execution_count": 99,
   "metadata": {},
   "outputs": [
    {
     "name": "stdout",
     "output_type": "stream",
     "text": [
      "[[ 1  2  3  4  5  6]\n",
      " [22 33 44 55 66 77]]\n",
      "[[ 1 22]\n",
      " [ 2 33]\n",
      " [ 3 44]\n",
      " [ 4 55]\n",
      " [ 5 66]\n",
      " [ 6 77]]\n"
     ]
    }
   ],
   "source": [
    "print(a)\n",
    "print(b)"
   ]
  },
  {
   "cell_type": "code",
   "execution_count": 111,
   "metadata": {},
   "outputs": [
    {
     "name": "stdout",
     "output_type": "stream",
     "text": [
      "(2, 3, 4, 5)\n",
      "(5, 4, 3, 2)\n"
     ]
    }
   ],
   "source": [
    "a = [\n",
    "        [1,2,3,4,5],\n",
    "        [12,13,14,15,16],\n",
    "        [23,24,25,26,27],\n",
    "        [34,35,36,37,38]\n",
    "    ]\n",
    "\n",
    "a = [a,a,a]\n",
    "a = [a,a]\n",
    "a = np.array(a)\n",
    "\n",
    "print(a.shape)\n",
    "print(a.T.shape)"
   ]
  },
  {
   "cell_type": "code",
   "execution_count": 109,
   "metadata": {},
   "outputs": [
    {
     "name": "stdout",
     "output_type": "stream",
     "text": [
      "[[[ 1  1  1]\n",
      "  [12 12 12]\n",
      "  [23 23 23]\n",
      "  [34 34 34]]\n",
      "\n",
      " [[ 2  2  2]\n",
      "  [13 13 13]\n",
      "  [24 24 24]\n",
      "  [35 35 35]]\n",
      "\n",
      " [[ 3  3  3]\n",
      "  [14 14 14]\n",
      "  [25 25 25]\n",
      "  [36 36 36]]\n",
      "\n",
      " [[ 4  4  4]\n",
      "  [15 15 15]\n",
      "  [26 26 26]\n",
      "  [37 37 37]]\n",
      "\n",
      " [[ 5  5  5]\n",
      "  [16 16 16]\n",
      "  [27 27 27]\n",
      "  [38 38 38]]]\n"
     ]
    }
   ],
   "source": [
    "print(a.T)"
   ]
  },
  {
   "cell_type": "markdown",
   "metadata": {},
   "source": [
    "# dtype屬性"
   ]
  },
  {
   "cell_type": "code",
   "execution_count": 112,
   "metadata": {},
   "outputs": [
    {
     "name": "stdout",
     "output_type": "stream",
     "text": [
      "int32\n"
     ]
    }
   ],
   "source": [
    "a = np.array([10,15,20])\n",
    "print(a.dtype)"
   ]
  },
  {
   "cell_type": "code",
   "execution_count": 113,
   "metadata": {},
   "outputs": [
    {
     "name": "stdout",
     "output_type": "stream",
     "text": [
      "float64\n"
     ]
    }
   ],
   "source": [
    "b = np.array([10.,15,20])\n",
    "print(b.dtype)"
   ]
  },
  {
   "cell_type": "code",
   "execution_count": 123,
   "metadata": {},
   "outputs": [
    {
     "name": "stdout",
     "output_type": "stream",
     "text": [
      "int16\n"
     ]
    }
   ],
   "source": [
    "a = np.array([10,15,20],dtype='int16')\n",
    "\n",
    "print(a.dtype)"
   ]
  },
  {
   "cell_type": "code",
   "execution_count": 4,
   "metadata": {},
   "outputs": [
    {
     "name": "stdout",
     "output_type": "stream",
     "text": [
      "int16\n"
     ]
    }
   ],
   "source": [
    "a = np.array([10,15,20],dtype=np.int16)\n",
    "\n",
    "print(a.dtype)"
   ]
  },
  {
   "cell_type": "code",
   "execution_count": 9,
   "metadata": {},
   "outputs": [
    {
     "name": "stdout",
     "output_type": "stream",
     "text": [
      "int32\n"
     ]
    }
   ],
   "source": [
    "a = np.array([10.,15,20],dtype=int)\n",
    "\n",
    "print(a.dtype)"
   ]
  },
  {
   "cell_type": "code",
   "execution_count": 6,
   "metadata": {},
   "outputs": [
    {
     "name": "stdout",
     "output_type": "stream",
     "text": [
      "float64\n"
     ]
    }
   ],
   "source": [
    "a = np.array([10,15,20],dtype=float)\n",
    "\n",
    "print(a.dtype)"
   ]
  },
  {
   "cell_type": "code",
   "execution_count": 133,
   "metadata": {},
   "outputs": [
    {
     "name": "stdout",
     "output_type": "stream",
     "text": [
      "[-128   15   20]\n"
     ]
    }
   ],
   "source": [
    "a = np.array([128,15,20],dtype='int8')\n",
    "print(a)"
   ]
  },
  {
   "cell_type": "code",
   "execution_count": 134,
   "metadata": {},
   "outputs": [
    {
     "name": "stdout",
     "output_type": "stream",
     "text": [
      "[128  15  20]\n"
     ]
    }
   ],
   "source": [
    "b = np.array([128,15,20],dtype='uint8')\n",
    "print(b)"
   ]
  },
  {
   "cell_type": "code",
   "execution_count": 23,
   "metadata": {},
   "outputs": [
    {
     "name": "stdout",
     "output_type": "stream",
     "text": [
      "[ True  True False  True  True]\n"
     ]
    }
   ],
   "source": [
    "a = np.array([-2.1,-1,0,1,1983],dtype=np.bool)\n",
    "\n",
    "print(a)"
   ]
  },
  {
   "cell_type": "markdown",
   "metadata": {},
   "source": [
    "# size屬性 "
   ]
  },
  {
   "cell_type": "code",
   "execution_count": 14,
   "metadata": {},
   "outputs": [
    {
     "name": "stdout",
     "output_type": "stream",
     "text": [
      "size: 30\n"
     ]
    }
   ],
   "source": [
    "a = [\n",
    "        [1,2,3,4,5,6],\n",
    "        [2,3,4,5,6,7],\n",
    "        [3,4,5,6,7,8],\n",
    "        [4,5,6,7,8,9],\n",
    "        [5,6,7,8,9,0],\n",
    "    ]\n",
    "a = np.array(a)\n",
    "\n",
    "print(\"size:\",a.size)"
   ]
  },
  {
   "cell_type": "code",
   "execution_count": 13,
   "metadata": {},
   "outputs": [
    {
     "name": "stdout",
     "output_type": "stream",
     "text": [
      "shape: (5, 6)\n",
      "size: 30\n"
     ]
    }
   ],
   "source": [
    "shape = a.shape\n",
    "print(\"shape:\",shape)\n",
    "size = shape[0] * shape[1]\n",
    "print(\"size:\",size)"
   ]
  },
  {
   "cell_type": "markdown",
   "metadata": {},
   "source": [
    "# 屬性itemsize"
   ]
  },
  {
   "cell_type": "code",
   "execution_count": 16,
   "metadata": {},
   "outputs": [
    {
     "name": "stdout",
     "output_type": "stream",
     "text": [
      "itemsize: 2\n",
      "dtype: int16\n"
     ]
    }
   ],
   "source": [
    "a = np.array([10,15,20],dtype=np.int16)\n",
    "\n",
    "print(\"itemsize:\",a.itemsize)\n",
    "print(\"dtype:\",a.dtype)\n"
   ]
  },
  {
   "cell_type": "markdown",
   "metadata": {},
   "source": [
    "# 屬性nbytes"
   ]
  },
  {
   "cell_type": "code",
   "execution_count": 19,
   "metadata": {},
   "outputs": [
    {
     "name": "stdout",
     "output_type": "stream",
     "text": [
      "nbytes: 120\n"
     ]
    }
   ],
   "source": [
    "a = [\n",
    "        [1,2,3,4,5,6],\n",
    "        [2,3,4,5,6,7],\n",
    "        [3,4,5,6,7,8],\n",
    "        [4,5,6,7,8,9],\n",
    "        [5,6,7,8,9,0],\n",
    "    ]\n",
    "a = np.array(a)\n",
    "\n",
    "print(\"nbytes:\",a.nbytes)"
   ]
  },
  {
   "cell_type": "code",
   "execution_count": 20,
   "metadata": {},
   "outputs": [
    {
     "name": "stdout",
     "output_type": "stream",
     "text": [
      "size: 30\n",
      "itemsize: 4\n",
      "nbytes: 120\n"
     ]
    }
   ],
   "source": [
    "print(\"size:\",a.size)\n",
    "print(\"itemsize:\",a.itemsize)\n",
    "print(\"nbytes:\",a.size * a.itemsize)"
   ]
  },
  {
   "cell_type": "markdown",
   "metadata": {},
   "source": [
    "# 方法flatten()"
   ]
  },
  {
   "cell_type": "code",
   "execution_count": 31,
   "metadata": {},
   "outputs": [
    {
     "name": "stdout",
     "output_type": "stream",
     "text": [
      "原始陣列shape: (3, 3)\n",
      "陣列內容:\n",
      " [[1 2 3]\n",
      " [4 5 6]\n",
      " [7 8 9]]\n"
     ]
    }
   ],
   "source": [
    "a = [\n",
    "        [1,2,3],\n",
    "        [4,5,6],\n",
    "        [7,8,9],\n",
    "    ]\n",
    "a = np.array(a)\n",
    "\n",
    "print(\"原始陣列shape:\",a.shape)\n",
    "print(\"陣列內容:\\n\",a)"
   ]
  },
  {
   "cell_type": "code",
   "execution_count": 33,
   "metadata": {},
   "outputs": [
    {
     "name": "stdout",
     "output_type": "stream",
     "text": [
      "轉換至一維陣列shape: (9,)\n",
      "陣列內容:\n",
      " [1 2 3 4 5 6 7 8 9]\n"
     ]
    }
   ],
   "source": [
    "b = a.flatten()\n",
    "print(\"轉換至一維陣列shape:\",b.shape)\n",
    "print(\"陣列內容:\\n\",b)"
   ]
  },
  {
   "cell_type": "code",
   "execution_count": 31,
   "metadata": {},
   "outputs": [
    {
     "name": "stdout",
     "output_type": "stream",
     "text": [
      "原始陣列shape: (2, 3, 3)\n",
      "陣列內容:\n",
      " [[[ 1  2  3]\n",
      "  [ 4  5  6]\n",
      "  [ 7  8  9]]\n",
      "\n",
      " [[11 12 13]\n",
      "  [14 15 16]\n",
      "  [17 18 19]]]\n"
     ]
    }
   ],
   "source": [
    "a = [\n",
    "        [1,2,3],\n",
    "        [4,5,6],\n",
    "        [7,8,9],\n",
    "    ]\n",
    "b = [\n",
    "        [11,12,13],\n",
    "        [14,15,16],\n",
    "        [17,18,19],\n",
    "    ]\n",
    "a = np.array([a,b])\n",
    "\n",
    "print(\"原始陣列shape:\",a.shape)\n",
    "print(\"陣列內容:\\n\",a)"
   ]
  },
  {
   "cell_type": "code",
   "execution_count": 32,
   "metadata": {},
   "outputs": [
    {
     "name": "stdout",
     "output_type": "stream",
     "text": [
      "轉換至一維陣列shape: (18,)\n",
      "陣列內容:\n",
      " [ 1  2  3  4  5  6  7  8  9 11 12 13 14 15 16 17 18 19]\n"
     ]
    }
   ],
   "source": [
    "b = a.flatten()\n",
    "print(\"轉換至一維陣列shape:\",b.shape)\n",
    "print(\"陣列內容:\\n\",b)"
   ]
  },
  {
   "cell_type": "markdown",
   "metadata": {},
   "source": [
    "# 方法reshape()"
   ]
  },
  {
   "cell_type": "code",
   "execution_count": 38,
   "metadata": {},
   "outputs": [
    {
     "name": "stdout",
     "output_type": "stream",
     "text": [
      "[1 2 3 4 5 6 7 8 9 0]\n"
     ]
    }
   ],
   "source": [
    "a = np.array([1,2,3,4,5,6,7,8,9,0])\n",
    "print(a)"
   ]
  },
  {
   "cell_type": "code",
   "execution_count": 39,
   "metadata": {},
   "outputs": [
    {
     "name": "stdout",
     "output_type": "stream",
     "text": [
      "[[1 2 3 4 5]\n",
      " [6 7 8 9 0]]\n"
     ]
    }
   ],
   "source": [
    "reshape = a.reshape((2,5))\n",
    "print(reshape)"
   ]
  },
  {
   "cell_type": "code",
   "execution_count": 43,
   "metadata": {},
   "outputs": [
    {
     "name": "stdout",
     "output_type": "stream",
     "text": [
      "[[[1 2]\n",
      "  [3 4]\n",
      "  [5 6]\n",
      "  [7 8]\n",
      "  [9 0]]]\n"
     ]
    }
   ],
   "source": [
    "reshape = a.reshape((1,5,2))\n",
    "print(reshape)"
   ]
  },
  {
   "cell_type": "code",
   "execution_count": 40,
   "metadata": {},
   "outputs": [
    {
     "ename": "ValueError",
     "evalue": "cannot reshape array of size 10 into shape (2,6)",
     "output_type": "error",
     "traceback": [
      "\u001b[1;31m---------------------------------------------------------------------------\u001b[0m",
      "\u001b[1;31mValueError\u001b[0m                                Traceback (most recent call last)",
      "\u001b[1;32m<ipython-input-40-386e50a03c1b>\u001b[0m in \u001b[0;36m<module>\u001b[1;34m\u001b[0m\n\u001b[1;32m----> 1\u001b[1;33m \u001b[0mreshape\u001b[0m \u001b[1;33m=\u001b[0m \u001b[0ma\u001b[0m\u001b[1;33m.\u001b[0m\u001b[0mreshape\u001b[0m\u001b[1;33m(\u001b[0m\u001b[1;33m(\u001b[0m\u001b[1;36m2\u001b[0m\u001b[1;33m,\u001b[0m\u001b[1;36m6\u001b[0m\u001b[1;33m)\u001b[0m\u001b[1;33m)\u001b[0m\u001b[1;33m\u001b[0m\u001b[1;33m\u001b[0m\u001b[0m\n\u001b[0m\u001b[0;32m      2\u001b[0m \u001b[0mprint\u001b[0m\u001b[1;33m(\u001b[0m\u001b[0mreshape\u001b[0m\u001b[1;33m)\u001b[0m\u001b[1;33m\u001b[0m\u001b[1;33m\u001b[0m\u001b[0m\n",
      "\u001b[1;31mValueError\u001b[0m: cannot reshape array of size 10 into shape (2,6)"
     ]
    }
   ],
   "source": [
    "reshape = a.reshape((2,6))\n",
    "print(reshape)"
   ]
  },
  {
   "cell_type": "code",
   "execution_count": 47,
   "metadata": {},
   "outputs": [
    {
     "name": "stdout",
     "output_type": "stream",
     "text": [
      "原始陣列shape: (2, 3, 3)\n",
      "陣列內容:\n",
      " [[[ 1  2  3]\n",
      "  [ 4  5  6]\n",
      "  [ 7  8  9]]\n",
      "\n",
      " [[11 12 13]\n",
      "  [14 15 16]\n",
      "  [17 18 19]]]\n"
     ]
    }
   ],
   "source": [
    "a = [\n",
    "        [1,2,3],\n",
    "        [4,5,6],\n",
    "        [7,8,9],\n",
    "    ]\n",
    "b = [\n",
    "        [11,12,13],\n",
    "        [14,15,16],\n",
    "        [17,18,19],\n",
    "    ]\n",
    "a = np.array([a,b])\n",
    "\n",
    "print(\"原始陣列shape:\",a.shape)\n",
    "print(\"陣列內容:\\n\",a)"
   ]
  },
  {
   "cell_type": "code",
   "execution_count": 52,
   "metadata": {},
   "outputs": [
    {
     "name": "stdout",
     "output_type": "stream",
     "text": [
      "使用方法flatten: [ 1  2  3  4  5  6  7  8  9 11 12 13 14 15 16 17 18 19]\n",
      "使用方法reshape((-1)): [ 1  2  3  4  5  6  7  8  9 11 12 13 14 15 16 17 18 19]\n"
     ]
    }
   ],
   "source": [
    "b = a.flatten()\n",
    "print(\"使用方法flatten:\",b)\n",
    "\n",
    "c = a.reshape((-1))\n",
    "print(\"使用方法reshape((-1)):\",c)"
   ]
  },
  {
   "cell_type": "markdown",
   "metadata": {},
   "source": [
    "# 方法astype()"
   ]
  },
  {
   "cell_type": "code",
   "execution_count": 5,
   "metadata": {},
   "outputs": [
    {
     "name": "stdout",
     "output_type": "stream",
     "text": [
      "宣告時的數值型態: int16\n",
      "更改後的數值型態: float32\n"
     ]
    }
   ],
   "source": [
    "a = np.array([10,15,20],dtype='int16')\n",
    "\n",
    "print(\"宣告時的數值型態:\",a.dtype)\n",
    "\n",
    "a = a.astype(np.float32)\n",
    "\n",
    "print(\"更改後的數值型態:\",a.dtype)"
   ]
  },
  {
   "cell_type": "markdown",
   "metadata": {},
   "source": [
    "# np.expand_dim()"
   ]
  },
  {
   "cell_type": "markdown",
   "metadata": {},
   "source": [
    "# np.sum()函數"
   ]
  },
  {
   "cell_type": "markdown",
   "metadata": {},
   "source": [
    "### 一維的計算"
   ]
  },
  {
   "cell_type": "code",
   "execution_count": 77,
   "metadata": {},
   "outputs": [
    {
     "name": "stdout",
     "output_type": "stream",
     "text": [
      "sum_no_axis: 15\n"
     ]
    }
   ],
   "source": [
    "a = np.array([1,2,3,4,5])\n",
    "\n",
    "sum_no_axis = np.sum(a)#不考慮維度的計算\n",
    "print(\"sum_no_axis:\",sum_no_axis)"
   ]
  },
  {
   "cell_type": "code",
   "execution_count": 78,
   "metadata": {},
   "outputs": [
    {
     "name": "stdout",
     "output_type": "stream",
     "text": [
      "shape: (5,)\n",
      "sum_axis_0: 15\n"
     ]
    }
   ],
   "source": [
    "print(\"shape:\",a.shape)\n",
    "sum_axis_0 = np.sum(a,axis=0)\n",
    "print(\"sum_axis_0:\",sum_axis_0)"
   ]
  },
  {
   "cell_type": "markdown",
   "metadata": {},
   "source": [
    "### 二維的計算"
   ]
  },
  {
   "cell_type": "code",
   "execution_count": 82,
   "metadata": {},
   "outputs": [
    {
     "name": "stdout",
     "output_type": "stream",
     "text": [
      "sum_no_axis: 60\n"
     ]
    },
    {
     "data": {
      "text/plain": [
       "array([[1, 2, 3, 4, 5],\n",
       "       [2, 3, 4, 5, 6],\n",
       "       [3, 4, 5, 6, 7]])"
      ]
     },
     "execution_count": 82,
     "metadata": {},
     "output_type": "execute_result"
    }
   ],
   "source": [
    "a = np.array([[1,2,3,4,5],\n",
    "             [2,3,4,5,6],\n",
    "             [3,4,5,6,7]])\n",
    "\n",
    "sum_no_axis = np.sum(a)\n",
    "print(\"sum_no_axis:\",sum_no_axis)\n",
    "a"
   ]
  },
  {
   "cell_type": "code",
   "execution_count": 80,
   "metadata": {},
   "outputs": [
    {
     "name": "stdout",
     "output_type": "stream",
     "text": [
      "shape: (3, 5)\n",
      "sum_axis_0: [ 6  9 12 15 18]\n"
     ]
    }
   ],
   "source": [
    "print(\"shape:\",a.shape)\n",
    "sum_axis_0 = np.sum(a,axis=0)\n",
    "print(\"sum_axis_0:\",sum_axis_0)"
   ]
  },
  {
   "cell_type": "code",
   "execution_count": 81,
   "metadata": {},
   "outputs": [
    {
     "name": "stdout",
     "output_type": "stream",
     "text": [
      "sum_axis_1: [15 20 25]\n"
     ]
    }
   ],
   "source": [
    "sum_axis_1 = np.sum(a,axis=1)\n",
    "print(\"sum_axis_1:\",sum_axis_1)"
   ]
  },
  {
   "cell_type": "markdown",
   "metadata": {},
   "source": [
    "### 三維的計算"
   ]
  },
  {
   "cell_type": "code",
   "execution_count": 88,
   "metadata": {},
   "outputs": [
    {
     "name": "stdout",
     "output_type": "stream",
     "text": [
      "sum_no_axis: 242\n"
     ]
    }
   ],
   "source": [
    "a = [\n",
    "        [1,2,3,4],\n",
    "        [4,5,6,7],\n",
    "        [7,8,9,0],\n",
    "    ]\n",
    "b = [\n",
    "        [11,12,13,14],\n",
    "        [14,15,16,17],\n",
    "        [17,18,19,20],\n",
    "    ]\n",
    "a = np.array([a,b])\n",
    "\n",
    "sum_no_axis = np.sum(a)\n",
    "print(\"sum_no_axis:\",sum_no_axis)"
   ]
  },
  {
   "cell_type": "code",
   "execution_count": 87,
   "metadata": {},
   "outputs": [
    {
     "name": "stdout",
     "output_type": "stream",
     "text": [
      "原始陣列shape: (2, 3, 4)\n",
      "陣列內容:\n",
      " [[[ 1  2  3  4]\n",
      "  [ 4  5  6  7]\n",
      "  [ 7  8  9  0]]\n",
      "\n",
      " [[11 12 13 14]\n",
      "  [14 15 16 17]\n",
      "  [17 18 19 20]]]\n"
     ]
    }
   ],
   "source": [
    "print(\"原始陣列shape:\",a.shape)\n",
    "print(\"陣列內容:\\n\",a)"
   ]
  },
  {
   "cell_type": "code",
   "execution_count": 91,
   "metadata": {},
   "outputs": [
    {
     "name": "stdout",
     "output_type": "stream",
     "text": [
      "shape: (2, 3, 4)\n",
      "sum_axis_0:\n",
      " [[12 14 16 18]\n",
      " [18 20 22 24]\n",
      " [24 26 28 20]]\n"
     ]
    }
   ],
   "source": [
    "print(\"shape:\",a.shape)\n",
    "sum_axis_0 = np.sum(a,axis=0)\n",
    "print(\"sum_axis_0:\\n\",sum_axis_0)"
   ]
  },
  {
   "cell_type": "code",
   "execution_count": 92,
   "metadata": {},
   "outputs": [
    {
     "name": "stdout",
     "output_type": "stream",
     "text": [
      "sum_axis_1:\n",
      " [[12 15 18 11]\n",
      " [42 45 48 51]]\n"
     ]
    }
   ],
   "source": [
    "sum_axis_1 = np.sum(a,axis=1)\n",
    "print(\"sum_axis_1:\\n\",sum_axis_1)"
   ]
  },
  {
   "cell_type": "code",
   "execution_count": 94,
   "metadata": {},
   "outputs": [
    {
     "name": "stdout",
     "output_type": "stream",
     "text": [
      "sum_axis_2:\n",
      " [[10 22 24]\n",
      " [50 62 74]]\n"
     ]
    }
   ],
   "source": [
    "sum_axis_2 = np.sum(a,axis=2)\n",
    "print(\"sum_axis_2:\\n\",sum_axis_2)"
   ]
  },
  {
   "cell_type": "code",
   "execution_count": 66,
   "metadata": {},
   "outputs": [
    {
     "name": "stdout",
     "output_type": "stream",
     "text": [
      "[[[ 1  2  3  4]\n",
      "  [ 4  5  6  7]\n",
      "  [ 7  8  9  0]]\n",
      "\n",
      " [[11 12 13 14]\n",
      "  [14 15 16 17]\n",
      "  [17 18 19 20]]]\n",
      "(2, 3, 4)\n",
      "(3, 4)\n",
      "(2, 4)\n",
      "(2, 3)\n",
      "[[12 15 18 11]\n",
      " [42 45 48 51]]\n",
      "[[10 22 24]\n",
      " [50 62 74]]\n"
     ]
    }
   ],
   "source": [
    "sum_axis_0 = np.sum(a,axis=0)\n",
    "sum_axis_1 = np.sum(a,axis=1)\n",
    "sum_axis_2 = np.sum(a,axis=2)\n",
    "print(a)\n",
    "print(a.shape)\n",
    "print(sum_axis_0.shape)\n",
    "print(sum_axis_1.shape)\n",
    "print(sum_axis_2.shape)\n",
    "print(sum_axis_1)\n",
    "print(sum_axis_2)"
   ]
  },
  {
   "cell_type": "markdown",
   "metadata": {},
   "source": [
    "# np.mean()函數"
   ]
  },
  {
   "cell_type": "markdown",
   "metadata": {},
   "source": [
    "# 一維的計算"
   ]
  },
  {
   "cell_type": "code",
   "execution_count": 7,
   "metadata": {},
   "outputs": [
    {
     "name": "stdout",
     "output_type": "stream",
     "text": [
      "mean_no_axis: 3.0\n"
     ]
    }
   ],
   "source": [
    "a = [1,2,3,4,5]\n",
    "\n",
    "mean_no_axis = np.mean(a)#不考慮維度的計算\n",
    "print(\"mean_no_axis:\",mean_no_axis)"
   ]
  },
  {
   "cell_type": "markdown",
   "metadata": {},
   "source": [
    "# 二維的計算"
   ]
  },
  {
   "cell_type": "code",
   "execution_count": 11,
   "metadata": {},
   "outputs": [
    {
     "name": "stdout",
     "output_type": "stream",
     "text": [
      "mean_no_axis: 4.0\n",
      "mean_axis_0: [2. 3. 4. 5. 6.]\n",
      "mean_axis_1: [3. 4. 5.]\n"
     ]
    }
   ],
   "source": [
    "a =[[1,2,3,4,5],\n",
    "     [2,3,4,5,6],\n",
    "     [3,4,5,6,7]]\n",
    "\n",
    "mean_no_axis = np.mean(a)\n",
    "print(\"mean_no_axis:\",mean_no_axis)\n",
    "\n",
    "mean_axis_0 = np.mean(a,axis=0)\n",
    "print(\"mean_axis_0:\",mean_axis_0)\n",
    "\n",
    "mean_axis_1 = np.mean(a,axis=1)\n",
    "print(\"mean_axis_1:\",mean_axis_1)"
   ]
  },
  {
   "cell_type": "markdown",
   "metadata": {},
   "source": [
    "# 範例:多位學生成績的計算"
   ]
  },
  {
   "cell_type": "code",
   "execution_count": 18,
   "metadata": {},
   "outputs": [
    {
     "name": "stdout",
     "output_type": "stream",
     "text": [
      "score_list: [[92.5, 62, 77], [88, 93, 81], [82, 83, 84]]\n",
      "分數: [92.5, 62, 77]\n",
      "總和: 231.5\n",
      "平均: 77.16666666666667\n",
      "分數: [88, 93, 81]\n",
      "總和: 262.0\n",
      "平均: 87.33333333333333\n",
      "分數: [82, 83, 84]\n",
      "總和: 249.0\n",
      "平均: 83.0\n"
     ]
    }
   ],
   "source": [
    "Jay = [92.5,62,77]\n",
    "Rebecca = [88,93,81]\n",
    "Yuna = [82,83,84]\n",
    "score_list = [Jay,Rebecca,Yuna]\n",
    "print(\"score_list:\",score_list)\n",
    "\n",
    "sum_axis_1 = np.sum(score_list,axis=1)\n",
    "mean_axis_1 = np.mean(score_list,axis=1)\n",
    "\n",
    "for i,score in enumerate(score_list):\n",
    "    print(\"分數:\",score)\n",
    "    print(\"總和:\",sum_axis_1[i])\n",
    "    print(\"平均:\",mean_axis_1[i])"
   ]
  },
  {
   "cell_type": "markdown",
   "metadata": {},
   "source": [
    "# 三維的計算"
   ]
  },
  {
   "cell_type": "code",
   "execution_count": 26,
   "metadata": {},
   "outputs": [
    {
     "name": "stdout",
     "output_type": "stream",
     "text": [
      "mean_no_axis: 10.083333333333334\n"
     ]
    }
   ],
   "source": [
    "a = [\n",
    "        [1,2,3,4],\n",
    "        [4,5,6,7],\n",
    "        [7,8,9,0],\n",
    "    ]\n",
    "b = [\n",
    "        [11,12,13,14],\n",
    "        [14,15,16,17],\n",
    "        [17,18,19,20],\n",
    "    ]\n",
    "a = np.array([a,b])\n",
    "\n",
    "mean_no_axis = np.mean(a)\n",
    "print(\"mean_no_axis:\",mean_no_axis)"
   ]
  },
  {
   "cell_type": "code",
   "execution_count": 23,
   "metadata": {},
   "outputs": [
    {
     "name": "stdout",
     "output_type": "stream",
     "text": [
      "mean_axis_0:\n",
      " [[ 6.  7.  8.  9.]\n",
      " [ 9. 10. 11. 12.]\n",
      " [12. 13. 14. 10.]]\n"
     ]
    }
   ],
   "source": [
    "mean_axis_0 = np.mean(a,axis=0)\n",
    "print(\"mean_axis_0:\\n\",mean_axis_0)"
   ]
  },
  {
   "cell_type": "code",
   "execution_count": 24,
   "metadata": {},
   "outputs": [
    {
     "name": "stdout",
     "output_type": "stream",
     "text": [
      "mean_axis_1:\n",
      " [[ 4.          5.          6.          3.66666667]\n",
      " [14.         15.         16.         17.        ]]\n"
     ]
    }
   ],
   "source": [
    "mean_axis_1 = np.mean(a,axis=1)\n",
    "print(\"mean_axis_1:\\n\",mean_axis_1)"
   ]
  },
  {
   "cell_type": "code",
   "execution_count": 22,
   "metadata": {},
   "outputs": [
    {
     "name": "stdout",
     "output_type": "stream",
     "text": [
      "mean_axis_2:\n",
      " [[ 2.5  5.5  6. ]\n",
      " [12.5 15.5 18.5]]\n"
     ]
    }
   ],
   "source": [
    "mean_axis_2 = np.mean(a,axis=2)\n",
    "print(\"mean_axis_2:\\n\",mean_axis_2)"
   ]
  },
  {
   "cell_type": "markdown",
   "metadata": {},
   "source": [
    "# np.average()函數"
   ]
  },
  {
   "cell_type": "code",
   "execution_count": 2,
   "metadata": {},
   "outputs": [
    {
     "name": "stdout",
     "output_type": "stream",
     "text": [
      "[77.16666667 87.33333333 83.        ]\n",
      "[77.16666667 87.33333333 83.        ]\n"
     ]
    }
   ],
   "source": [
    "Jay = [92.5,62,77]\n",
    "Rebecca = [88,93,81]\n",
    "Yuna = [82,83,84]\n",
    "score_list = [Jay,Rebecca,Yuna]\n",
    "\n",
    "#----使用np.mean()函數\n",
    "print(np.mean(score_list,axis=1))\n",
    "\n",
    "#----使用np.average()函數\n",
    "print(np.average(score_list,axis=1))"
   ]
  },
  {
   "cell_type": "markdown",
   "metadata": {},
   "source": [
    "# np.max()函數與np.min()函數"
   ]
  },
  {
   "cell_type": "markdown",
   "metadata": {},
   "source": [
    "# 一維的計算"
   ]
  },
  {
   "cell_type": "code",
   "execution_count": 13,
   "metadata": {},
   "outputs": [
    {
     "name": "stdout",
     "output_type": "stream",
     "text": [
      "max_no_axis: 5\n",
      "min_no_axis: 1\n"
     ]
    }
   ],
   "source": [
    "a = [1,2,3,4,5]\n",
    "\n",
    "max_no_axis = np.max(a)#不考慮維度的計算\n",
    "print(\"max_no_axis:\",max_no_axis)\n",
    "\n",
    "min_no_axis = np.min(a)#不考慮維度的計算\n",
    "print(\"min_no_axis:\",min_no_axis)"
   ]
  },
  {
   "cell_type": "markdown",
   "metadata": {},
   "source": [
    "# 二維的計算"
   ]
  },
  {
   "cell_type": "code",
   "execution_count": 18,
   "metadata": {},
   "outputs": [
    {
     "name": "stdout",
     "output_type": "stream",
     "text": [
      "max_no_axis: 7\n",
      "min_no_axis: 1\n",
      "max_axis_0: [3 4 5 6 7]\n",
      "min_axis_0: [1 2 3 4 5]\n",
      "max_axis_1: [5 6 7]\n",
      "min_axis_1: [1 2 3]\n"
     ]
    }
   ],
   "source": [
    "a =[[1,2,3,4,5],\n",
    "     [2,3,4,5,6],\n",
    "     [3,4,5,6,7]]\n",
    "\n",
    "max_no_axis = np.max(a)\n",
    "print(\"max_no_axis:\",max_no_axis)\n",
    "min_no_axis = np.min(a)\n",
    "print(\"min_no_axis:\",min_no_axis)\n",
    "\n",
    "max_axis_0 = np.max(a,axis=0)\n",
    "print(\"max_axis_0:\",max_axis_0)\n",
    "min_axis_0 = np.min(a,axis=0)\n",
    "print(\"min_axis_0:\",min_axis_0)\n",
    "\n",
    "max_axis_1 = np.max(a,axis=1)\n",
    "print(\"max_axis_1:\",max_axis_1)\n",
    "min_axis_1 = np.min(a,axis=1)\n",
    "print(\"min_axis_1:\",min_axis_1)"
   ]
  },
  {
   "cell_type": "markdown",
   "metadata": {},
   "source": [
    "# 範例:多位學生成績的計算(加入最大最小值)"
   ]
  },
  {
   "cell_type": "code",
   "execution_count": 19,
   "metadata": {},
   "outputs": [
    {
     "name": "stdout",
     "output_type": "stream",
     "text": [
      "score_list: [[92.5, 62, 77], [88, 93, 81], [82, 83, 84]]\n",
      "分數: [92.5, 62, 77]\n",
      "總和: 231.5\n",
      "平均: 77.16666666666667\n",
      "最高分: 92.5\n",
      "最低分: 62.0\n",
      "分數: [88, 93, 81]\n",
      "總和: 262.0\n",
      "平均: 87.33333333333333\n",
      "最高分: 93.0\n",
      "最低分: 81.0\n",
      "分數: [82, 83, 84]\n",
      "總和: 249.0\n",
      "平均: 83.0\n",
      "最高分: 84.0\n",
      "最低分: 82.0\n"
     ]
    }
   ],
   "source": [
    "Jay = [92.5,62,77]\n",
    "Rebecca = [88,93,81]\n",
    "Yuna = [82,83,84]\n",
    "score_list = [Jay,Rebecca,Yuna]\n",
    "print(\"score_list:\",score_list)\n",
    "\n",
    "sum_axis_1 = np.sum(score_list,axis=1)\n",
    "mean_axis_1 = np.mean(score_list,axis=1)\n",
    "max_axis_1 = np.max(score_list,axis=1)\n",
    "min_axis_1 = np.min(score_list,axis=1)\n",
    "\n",
    "for i,score in enumerate(score_list):\n",
    "    print(\"分數:\",score)\n",
    "    print(\"總和:\",sum_axis_1[i])\n",
    "    print(\"平均:\",mean_axis_1[i])\n",
    "    print(\"最高分:\",max_axis_1[i])\n",
    "    print(\"最低分:\",min_axis_1[i])"
   ]
  },
  {
   "cell_type": "markdown",
   "metadata": {},
   "source": [
    "# 三維的計算"
   ]
  },
  {
   "cell_type": "code",
   "execution_count": 21,
   "metadata": {},
   "outputs": [
    {
     "name": "stdout",
     "output_type": "stream",
     "text": [
      "max_no_axis: 20\n",
      "min_no_axis: 0\n"
     ]
    }
   ],
   "source": [
    "a = [\n",
    "        [1,2,3,4],\n",
    "        [4,5,6,7],\n",
    "        [7,8,9,0],\n",
    "    ]\n",
    "b = [\n",
    "        [11,12,13,14],\n",
    "        [14,15,16,17],\n",
    "        [17,18,19,20],\n",
    "    ]\n",
    "a = np.array([a,b])\n",
    "\n",
    "max_no_axis = np.max(a)\n",
    "print(\"max_no_axis:\",max_no_axis)\n",
    "min_no_axis = np.min(a)\n",
    "print(\"min_no_axis:\",min_no_axis)"
   ]
  },
  {
   "cell_type": "code",
   "execution_count": 23,
   "metadata": {},
   "outputs": [
    {
     "name": "stdout",
     "output_type": "stream",
     "text": [
      "max_axis_0:\n",
      " [[11 12 13 14]\n",
      " [14 15 16 17]\n",
      " [17 18 19 20]]\n",
      "min_axis_0:\n",
      " [[1 2 3 4]\n",
      " [4 5 6 7]\n",
      " [7 8 9 0]]\n"
     ]
    }
   ],
   "source": [
    "max_axis_0 = np.max(a,axis=0)\n",
    "print(\"max_axis_0:\\n\",max_axis_0)\n",
    "min_axis_0 = np.min(a,axis=0)\n",
    "print(\"min_axis_0:\\n\",min_axis_0)"
   ]
  },
  {
   "cell_type": "code",
   "execution_count": 25,
   "metadata": {},
   "outputs": [
    {
     "name": "stdout",
     "output_type": "stream",
     "text": [
      "max_axis_1:\n",
      " [[ 7  8  9  7]\n",
      " [17 18 19 20]]\n",
      "min_axis_1:\n",
      " [[ 1  2  3  0]\n",
      " [11 12 13 14]]\n"
     ]
    }
   ],
   "source": [
    "max_axis_1 = np.max(a,axis=1)\n",
    "print(\"max_axis_1:\\n\",max_axis_1)\n",
    "min_axis_1 = np.min(a,axis=1)\n",
    "print(\"min_axis_1:\\n\",min_axis_1)"
   ]
  },
  {
   "cell_type": "code",
   "execution_count": 27,
   "metadata": {},
   "outputs": [
    {
     "name": "stdout",
     "output_type": "stream",
     "text": [
      "max_axis_2:\n",
      " [[ 4  7  9]\n",
      " [14 17 20]]\n",
      "min_axis_2:\n",
      " [[ 1  4  0]\n",
      " [11 14 17]]\n",
      "23\n"
     ]
    }
   ],
   "source": [
    "max_axis_2 = np.max(a,axis=2)\n",
    "print(\"max_axis_2:\\n\",max_axis_2)\n",
    "min_axis_2 = np.min(a,axis=2)\n",
    "print(\"min_axis_2:\\n\",min_axis_2)\n",
    "print(np.argmax(a))"
   ]
  },
  {
   "cell_type": "markdown",
   "metadata": {},
   "source": [
    "# np.argmax()函數與np.argmin()函數"
   ]
  },
  {
   "cell_type": "markdown",
   "metadata": {},
   "source": [
    "# 一維陣列的計算"
   ]
  },
  {
   "cell_type": "code",
   "execution_count": 32,
   "metadata": {},
   "outputs": [
    {
     "name": "stdout",
     "output_type": "stream",
     "text": [
      "陣列a最大值的索引值 =  4\n",
      "陣列a最大值 =  5\n",
      "陣列a最小值的索引值 = : 0\n",
      "陣列a最大值 =  1\n"
     ]
    }
   ],
   "source": [
    "a = [1,2,3,4,5]\n",
    "\n",
    "argmax_no_axis = np.argmax(a)\n",
    "print(\"陣列a最大值的索引值 = \",argmax_no_axis)\n",
    "print(\"陣列a最大值 = \",a[argmax_no_axis])\n",
    "\n",
    "argmin_no_axis = np.argmin(a)\n",
    "print(\"陣列a最小值的索引值 = :\",argmin_no_axis)\n",
    "print(\"陣列a最大值 = \",a[min_no_axis])"
   ]
  },
  {
   "cell_type": "markdown",
   "metadata": {},
   "source": [
    "# 二維陣列的計算"
   ]
  },
  {
   "cell_type": "code",
   "execution_count": 7,
   "metadata": {},
   "outputs": [
    {
     "name": "stdout",
     "output_type": "stream",
     "text": [
      "陣列a最大值的索引值 =  6\n",
      "陣列拉直(flatten): [ 3  2  5  4  1  2 33  4  5  6  3  4  5  6  7]\n",
      "陣列a最大值 =  33\n"
     ]
    }
   ],
   "source": [
    "a =[[3,2, 5,4,1],\n",
    "    [2,33,4,5,6],\n",
    "    [3,4, 5,6,7]]\n",
    "\n",
    "argmax_no_axis = np.argmax(a)\n",
    "print(\"陣列a最大值的索引值 = \",argmax_no_axis)\n",
    "\n",
    "a = np.array(a)\n",
    "print(\"陣列拉直(flatten):\",a.flatten())\n",
    "print(\"陣列a最大值 = \",a.flatten()[argmax_no_axis])"
   ]
  },
  {
   "cell_type": "code",
   "execution_count": 41,
   "metadata": {},
   "outputs": [
    {
     "name": "stdout",
     "output_type": "stream",
     "text": [
      "陣列a最小值的索引值 =  4\n",
      "陣列a最大值 =  1\n"
     ]
    }
   ],
   "source": [
    "argmin_no_axis = np.argmin(a)\n",
    "print(\"陣列a最小值的索引值 = \",argmin_no_axis)\n",
    "print(\"陣列a最大值 = \",a.flatten()[argmin_no_axis])"
   ]
  },
  {
   "cell_type": "code",
   "execution_count": 8,
   "metadata": {},
   "outputs": [
    {
     "name": "stdout",
     "output_type": "stream",
     "text": [
      "argmax_axis_0:\n",
      " [0 1 0 2 2]\n"
     ]
    }
   ],
   "source": [
    "argmax_axis_0 = np.argmax(a,axis=0)\n",
    "print(\"argmax_axis_0:\\n\",argmax_axis_0)"
   ]
  },
  {
   "cell_type": "code",
   "execution_count": 9,
   "metadata": {},
   "outputs": [
    {
     "name": "stdout",
     "output_type": "stream",
     "text": [
      "argmin_axis_0:\n",
      " [1 0 1 0 0]\n"
     ]
    }
   ],
   "source": [
    "argmin_axis_0 = np.argmin(a,axis=0)\n",
    "print(\"argmin_axis_0:\\n\",argmin_axis_0)"
   ]
  },
  {
   "cell_type": "code",
   "execution_count": 10,
   "metadata": {},
   "outputs": [
    {
     "name": "stdout",
     "output_type": "stream",
     "text": [
      "argmax_axis_1:\n",
      " [2 1 4]\n"
     ]
    }
   ],
   "source": [
    "argmax_axis_1 = np.argmax(a,axis=1)\n",
    "print(\"argmax_axis_1:\\n\",argmax_axis_1)"
   ]
  },
  {
   "cell_type": "code",
   "execution_count": 11,
   "metadata": {},
   "outputs": [
    {
     "name": "stdout",
     "output_type": "stream",
     "text": [
      "argmin_axis_1:\n",
      " [4 0 0]\n"
     ]
    }
   ],
   "source": [
    "argmin_axis_1 = np.argmin(a,axis=1)\n",
    "print(\"argmin_axis_1:\\n\",argmin_axis_1)"
   ]
  },
  {
   "cell_type": "code",
   "execution_count": 15,
   "metadata": {},
   "outputs": [
    {
     "name": "stdout",
     "output_type": "stream",
     "text": [
      "score_list: [[92.5, 62, 77], [88, 93, 81], [82, 83, 84]]\n",
      "分數: [92.5, 62, 77]\n",
      "總和: 231.5\n",
      "平均: 77.16666666666667\n",
      "最高分: 92.5\n",
      "最低分: 62\n",
      "分數: [88, 93, 81]\n",
      "總和: 262.0\n",
      "平均: 87.33333333333333\n",
      "最高分: 93\n",
      "最低分: 81\n",
      "分數: [82, 83, 84]\n",
      "總和: 249.0\n",
      "平均: 83.0\n",
      "最高分: 84\n",
      "最低分: 82\n"
     ]
    }
   ],
   "source": [
    "Jay = [92.5,62,77]\n",
    "Rebecca = [88,93,81]\n",
    "Yuna = [82,83,84]\n",
    "score_list = [Jay,Rebecca,Yuna]\n",
    "print(\"score_list:\",score_list)\n",
    "\n",
    "sum_axis_1 = np.sum(score_list,axis=1)\n",
    "mean_axis_1 = np.mean(score_list,axis=1)\n",
    "argmax_axis_1 = np.argmax(score_list,axis=1)\n",
    "argmin_axis_1 = np.argmin(score_list,axis=1)\n",
    "\n",
    "for i,score in enumerate(score_list):\n",
    "    print(\"分數:\",score)\n",
    "    print(\"總和:\",sum_axis_1[i])\n",
    "    print(\"平均:\",mean_axis_1[i])\n",
    "    print(\"最高分:\",score[argmax_axis_1[i]])\n",
    "    print(\"最低分:\",score[argmin_axis_1[i]])"
   ]
  },
  {
   "cell_type": "code",
   "execution_count": 18,
   "metadata": {},
   "outputs": [
    {
     "name": "stdout",
     "output_type": "stream",
     "text": [
      "2020-2021平均得分最高的是: Stephen Curry\n",
      "身高: 190\n",
      "體重: 83\n",
      "得分: 32\n"
     ]
    }
   ],
   "source": [
    "names = ['Stephen Curry','LeBron James','Kevin Durant']\n",
    "height = [190,206,208]\n",
    "weight = [83,113,108]\n",
    "points = [32,25,26.9]\n",
    "argmax = np.argmax(points)\n",
    "\n",
    "print(\"2020-2021平均得分最高的是:\",names[argmax])\n",
    "print(\"身高:\",height[argmax])\n",
    "print(\"體重:\",weight[argmax])\n",
    "print(\"得分:\",points[argmax])"
   ]
  },
  {
   "cell_type": "code",
   "execution_count": 19,
   "metadata": {},
   "outputs": [
    {
     "name": "stdout",
     "output_type": "stream",
     "text": [
      "身高最高的是: Kevin Durant\n",
      "身高: 208\n",
      "體重: 108\n",
      "得分: 26.9\n"
     ]
    }
   ],
   "source": [
    "names = ['Stephen Curry','LeBron James','Kevin Durant']\n",
    "height = [190,206,208]\n",
    "weight = [83,113,108]\n",
    "points = [32,25,26.9]\n",
    "argmax = np.argmax(height)\n",
    "\n",
    "print(\"身高最高的是:\",names[argmax])\n",
    "print(\"身高:\",height[argmax])\n",
    "print(\"體重:\",weight[argmax])\n",
    "print(\"得分:\",points[argmax])"
   ]
  },
  {
   "cell_type": "markdown",
   "metadata": {},
   "source": [
    "# np.zeros()函數"
   ]
  },
  {
   "cell_type": "code",
   "execution_count": 2,
   "metadata": {},
   "outputs": [
    {
     "name": "stdout",
     "output_type": "stream",
     "text": [
      "[0. 0. 0. 0. 0. 0. 0. 0. 0. 0.]\n",
      "(10,)\n",
      "float64\n"
     ]
    }
   ],
   "source": [
    "a = np.zeros(10)#建立一維，資料長度=10的陣列\n",
    "print(a)\n",
    "print(a.shape)\n",
    "print(a.dtype)"
   ]
  },
  {
   "cell_type": "code",
   "execution_count": 3,
   "metadata": {},
   "outputs": [
    {
     "name": "stdout",
     "output_type": "stream",
     "text": [
      "[[0 0 0 0 0]\n",
      " [0 0 0 0 0]\n",
      " [0 0 0 0 0]]\n",
      "(3, 5)\n",
      "uint8\n"
     ]
    }
   ],
   "source": [
    "#建立二維，資料長度(3,5)的陣列\n",
    "a = np.zeros((3,5),dtype=np.uint8)#自行設定數值形態\n",
    "print(a)\n",
    "print(a.shape)\n",
    "print(a.dtype)"
   ]
  },
  {
   "cell_type": "markdown",
   "metadata": {},
   "source": [
    "# np.zeros_like()函數"
   ]
  },
  {
   "cell_type": "code",
   "execution_count": 5,
   "metadata": {},
   "outputs": [
    {
     "name": "stdout",
     "output_type": "stream",
     "text": [
      "[[0 0 0]\n",
      " [0 0 0]]\n",
      "(2, 3)\n",
      "int32\n"
     ]
    }
   ],
   "source": [
    "a = [[1,2,3],[4,5,6]]\n",
    "b = np.zeros_like(a)\n",
    "\n",
    "print(b)\n",
    "print(b.shape)\n",
    "print(b.dtype)"
   ]
  },
  {
   "cell_type": "markdown",
   "metadata": {},
   "source": [
    "# np.ones()函數"
   ]
  },
  {
   "cell_type": "code",
   "execution_count": 7,
   "metadata": {},
   "outputs": [
    {
     "name": "stdout",
     "output_type": "stream",
     "text": [
      "[1. 1. 1. 1. 1. 1. 1. 1. 1. 1.]\n",
      "(10,)\n",
      "float64\n"
     ]
    }
   ],
   "source": [
    "a = np.ones(10)#建立一維，資料長度=10的陣列\n",
    "print(a)\n",
    "print(a.shape)\n",
    "print(a.dtype)"
   ]
  },
  {
   "cell_type": "code",
   "execution_count": 8,
   "metadata": {},
   "outputs": [
    {
     "name": "stdout",
     "output_type": "stream",
     "text": [
      "[[1 1 1 1 1]\n",
      " [1 1 1 1 1]\n",
      " [1 1 1 1 1]]\n",
      "(3, 5)\n",
      "int8\n"
     ]
    }
   ],
   "source": [
    "#建立二維，資料長度(3,5)的陣列\n",
    "a = np.ones((3,5),dtype=np.int8)#自行設定數值形態\n",
    "print(a)\n",
    "print(a.shape)\n",
    "print(a.dtype)"
   ]
  },
  {
   "cell_type": "code",
   "execution_count": 9,
   "metadata": {},
   "outputs": [
    {
     "name": "stdout",
     "output_type": "stream",
     "text": [
      "[[255 255 255 255 255]\n",
      " [255 255 255 255 255]]\n",
      "(2, 5)\n",
      "uint8\n"
     ]
    }
   ],
   "source": [
    "a = np.ones((2,5),dtype=np.uint8)\n",
    "a *= 255\n",
    "print(a)\n",
    "print(a.shape)\n",
    "print(a.dtype)"
   ]
  },
  {
   "cell_type": "markdown",
   "metadata": {},
   "source": [
    "# np.ones_like()函數"
   ]
  },
  {
   "cell_type": "code",
   "execution_count": 10,
   "metadata": {},
   "outputs": [
    {
     "name": "stdout",
     "output_type": "stream",
     "text": [
      "[[1 1 1]\n",
      " [1 1 1]]\n",
      "(2, 3)\n",
      "int32\n"
     ]
    }
   ],
   "source": [
    "a = [[1,2,3],[4,5,6]]\n",
    "b = np.ones_like(a)\n",
    "\n",
    "print(b)\n",
    "print(b.shape)\n",
    "print(b.dtype)"
   ]
  },
  {
   "cell_type": "markdown",
   "metadata": {},
   "source": [
    "# np.add()函數"
   ]
  },
  {
   "cell_type": "code",
   "execution_count": 26,
   "metadata": {},
   "outputs": [
    {
     "name": "stdout",
     "output_type": "stream",
     "text": [
      "add =  [ 3  5  7  9 11]\n",
      "add dtype =  int32\n"
     ]
    }
   ],
   "source": [
    "a = [1,2,3,4,5]\n",
    "b = [2,3,4,5,6]\n",
    "\n",
    "#----方式1:轉換成ndarray\n",
    "a = np.array(a)\n",
    "b = np.array(b)\n",
    "\n",
    "add = a + b\n",
    "print(\"add = \",add)\n",
    "print('add dtype = ',add.dtype)"
   ]
  },
  {
   "cell_type": "code",
   "execution_count": 25,
   "metadata": {},
   "outputs": [
    {
     "name": "stdout",
     "output_type": "stream",
     "text": [
      "add =  [ 3  5  7  9 11]\n",
      "add dtype =  int32\n"
     ]
    }
   ],
   "source": [
    "a = [1,2,3,4,5]\n",
    "b = [2,3,4,5,6]\n",
    "\n",
    "#----方式2:使用np.add()函數\n",
    "add = np.add(a,b)\n",
    "print(\"add = \",add)\n",
    "print('add dtype = ',add.dtype)"
   ]
  },
  {
   "cell_type": "code",
   "execution_count": 27,
   "metadata": {},
   "outputs": [
    {
     "name": "stdout",
     "output_type": "stream",
     "text": [
      "add =  [ 3.  5.  7.  9. 11.]\n",
      "add dtype =  float64\n"
     ]
    }
   ],
   "source": [
    "a = [1,2,3,4,5]\n",
    "b = [2,3.,4,5,6]\n",
    "\n",
    "add = np.add(a,b)\n",
    "print(\"add = \",add)\n",
    "print('add dtype = ',add.dtype)"
   ]
  },
  {
   "cell_type": "code",
   "execution_count": 22,
   "metadata": {},
   "outputs": [
    {
     "name": "stdout",
     "output_type": "stream",
     "text": [
      "add =  [[2 3 4 5 6]\n",
      " [3 4 5 6 7]\n",
      " [4 5 6 7 8]]\n",
      "add dtype =  int32\n"
     ]
    }
   ],
   "source": [
    "a = np.array([[1,2,3,4,5],\n",
    "             [2,3,4,5,6],\n",
    "             [3,4,5,6,7]])\n",
    "b = 1#純量\n",
    "add = np.add(a,b)\n",
    "print(\"add = \",add)\n",
    "print('add dtype = ',add.dtype)"
   ]
  },
  {
   "cell_type": "code",
   "execution_count": 23,
   "metadata": {},
   "outputs": [
    {
     "name": "stdout",
     "output_type": "stream",
     "text": [
      "add =  [[2 3 4 5 6]\n",
      " [3 4 5 6 7]\n",
      " [4 5 6 7 8]]\n",
      "add dtype =  int32\n"
     ]
    }
   ],
   "source": [
    "a = np.array([[1,2,3,4,5],\n",
    "             [2,3,4,5,6],\n",
    "             [3,4,5,6,7]])\n",
    "\n",
    "b = [1]#一維且資料長度=1的陣列\n",
    "add = np.add(a,b)\n",
    "print(\"add = \",add)\n",
    "print('add dtype = ',add.dtype)"
   ]
  },
  {
   "cell_type": "code",
   "execution_count": 30,
   "metadata": {},
   "outputs": [
    {
     "name": "stdout",
     "output_type": "stream",
     "text": [
      "add =  [ 2  6 12 20 30]\n",
      "add dtype =  int32\n"
     ]
    }
   ],
   "source": [
    "a = [1,2,3,4,5]\n",
    "b = [2,3,4,5,6]\n",
    "\n",
    "#----方式2:使用np.add()函數\n",
    "add = np.multiply(a,b)\n",
    "print(\"add = \",add)\n",
    "print('add dtype = ',add.dtype)"
   ]
  },
  {
   "cell_type": "code",
   "execution_count": 4,
   "metadata": {},
   "outputs": [
    {
     "data": {
      "text/plain": [
       "3"
      ]
     },
     "execution_count": 4,
     "metadata": {},
     "output_type": "execute_result"
    }
   ],
   "source": [
    "np.max([1,2,3,99,5])\n",
    "np.argmax([1,2,3,99,5])"
   ]
  },
  {
   "cell_type": "markdown",
   "metadata": {},
   "source": [
    "# np.random.randint()"
   ]
  },
  {
   "cell_type": "code",
   "execution_count": 54,
   "metadata": {},
   "outputs": [
    {
     "name": "stdout",
     "output_type": "stream",
     "text": [
      "76\n"
     ]
    }
   ],
   "source": [
    "print(np.random.randint(0,100))"
   ]
  },
  {
   "cell_type": "code",
   "execution_count": 58,
   "metadata": {},
   "outputs": [
    {
     "name": "stdout",
     "output_type": "stream",
     "text": [
      "[ 6 25 64  6 39 37  8 60 31 98 65 54 22 41 21 85]\n",
      "int32\n",
      "<class 'numpy.ndarray'>\n"
     ]
    }
   ],
   "source": [
    "num_list = np.random.randint(0,100,16)\n",
    "print(num_list)\n",
    "print(num_list.dtype)\n",
    "print(type(num_list))"
   ]
  },
  {
   "cell_type": "code",
   "execution_count": 59,
   "metadata": {},
   "outputs": [
    {
     "name": "stdout",
     "output_type": "stream",
     "text": [
      "95\n",
      "[73 72 27 45 97 88 63 97 46 98 59 88 35  6 70 41]\n"
     ]
    }
   ],
   "source": [
    "from numpy import random as np_rdm\n",
    "import random as rdm\n",
    "\n",
    "num = rdm.randint(0,100)\n",
    "print(num)\n",
    "\n",
    "num_list = np_rdm.randint(0.56,100.2,16)\n",
    "print(num_list)"
   ]
  },
  {
   "cell_type": "markdown",
   "metadata": {},
   "source": [
    "# np.random.permutation"
   ]
  },
  {
   "cell_type": "code",
   "execution_count": 65,
   "metadata": {},
   "outputs": [
    {
     "name": "stdout",
     "output_type": "stream",
     "text": [
      "排列順序: [2 1 0]\n",
      "['Kevin Durant' 'LeBron James' 'Stephen Curry']\n",
      "[208 206 190]\n",
      "[108 113  83]\n",
      "[26.9 25.  32. ]\n"
     ]
    }
   ],
   "source": [
    "names = ['Stephen Curry','LeBron James','Kevin Durant']\n",
    "height = [190,206,208]\n",
    "weight = [83,113,108]\n",
    "points = [32,25,26.9]\n",
    "\n",
    "indice = np.random.permutation(len(names))\n",
    "print(\"排列順序:\",indice)\n",
    "#----串列轉換成ndarray\n",
    "names = np.array(names)\n",
    "height = np.array(height)\n",
    "weight = np.array(weight)\n",
    "points = np.array(points)\n",
    "#----使用索引值列表重新排列\n",
    "names = names[indice]\n",
    "height = height[indice]\n",
    "weight = weight[indice]\n",
    "points = points[indice]\n",
    "print(names)\n",
    "print(height)\n",
    "print(weight)\n",
    "print(points)"
   ]
  }
 ],
 "metadata": {
  "kernelspec": {
   "display_name": "Python 3",
   "language": "python",
   "name": "python3"
  },
  "language_info": {
   "codemirror_mode": {
    "name": "ipython",
    "version": 3
   },
   "file_extension": ".py",
   "mimetype": "text/x-python",
   "name": "python",
   "nbconvert_exporter": "python",
   "pygments_lexer": "ipython3",
   "version": "3.8.10"
  }
 },
 "nbformat": 4,
 "nbformat_minor": 2
}
