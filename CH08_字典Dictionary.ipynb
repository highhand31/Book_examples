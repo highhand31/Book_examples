{
 "cells": [
  {
   "cell_type": "markdown",
   "id": "given-gasoline",
   "metadata": {},
   "source": [
    "# 定義空字典"
   ]
  },
  {
   "cell_type": "code",
   "execution_count": 23,
   "id": "public-feeling",
   "metadata": {},
   "outputs": [
    {
     "name": "stdout",
     "output_type": "stream",
     "text": [
      "<class 'dict'>\n",
      "<class 'dict'>\n"
     ]
    }
   ],
   "source": [
    "a = {}\n",
    "b = dict()\n",
    "\n",
    "print(type(a))\n",
    "print(type(b))"
   ]
  },
  {
   "cell_type": "markdown",
   "id": "eleven-slovak",
   "metadata": {},
   "source": [
    "# 字典的基本使用"
   ]
  },
  {
   "cell_type": "code",
   "execution_count": 6,
   "id": "israeli-offer",
   "metadata": {},
   "outputs": [
    {
     "name": "stdout",
     "output_type": "stream",
     "text": [
      "{'名字': 'Jay', '主修': '鋼琴', '副修': '寫曲'}\n",
      "student_a的型態:  <class 'dict'>\n"
     ]
    }
   ],
   "source": [
    "student_a = {'名字':'Jay','主修':\"鋼琴\",\"副修\":\"寫曲\"}\n",
    "\n",
    "print(student_a)\n",
    "print(\"student_a的型態: \",type(student_a))"
   ]
  },
  {
   "cell_type": "markdown",
   "id": "valued-lancaster",
   "metadata": {},
   "source": [
    "# 使用標籤來讀取內容"
   ]
  },
  {
   "cell_type": "code",
   "execution_count": 13,
   "id": "promising-compatibility",
   "metadata": {},
   "outputs": [
    {
     "name": "stdout",
     "output_type": "stream",
     "text": [
      "學生名稱: Jay\n",
      "學生主修: 鋼琴\n",
      "學生副修: 寫曲\n"
     ]
    }
   ],
   "source": [
    "student_a = {'名字':'Jay','主修':\"鋼琴\",\"副修\":\"寫曲\"}\n",
    "\n",
    "print(\"學生名稱:\",student_a['名字'])\n",
    "print(\"學生主修:\",student_a['主修'])\n",
    "print(\"學生副修:\",student_a['副修'])"
   ]
  },
  {
   "cell_type": "markdown",
   "id": "personal-happiness",
   "metadata": {},
   "source": [
    "# 使用標籤來得到內容並更改內容"
   ]
  },
  {
   "cell_type": "code",
   "execution_count": 12,
   "id": "uniform-boulder",
   "metadata": {},
   "outputs": [
    {
     "name": "stdout",
     "output_type": "stream",
     "text": [
      "學生名稱: Jay\n",
      "學生主修: 鋼琴\n",
      "學生副修: 寫曲\n",
      "學生副修更改為: 長笛\n"
     ]
    }
   ],
   "source": [
    "student_a = {'名字':'Jay','主修':\"鋼琴\",\"副修\":\"寫曲\"}\n",
    "\n",
    "print(\"學生名稱:\",student_a['名字'])\n",
    "print(\"學生主修:\",student_a['主修'])\n",
    "print(\"學生副修:\",student_a['副修'])\n",
    "\n",
    "student_a['副修'] = \"長笛\"#更改標籤 \"副修\"的內容\n",
    "\n",
    "print(\"學生副修更改為:\",student_a['副修'])"
   ]
  },
  {
   "cell_type": "markdown",
   "id": "engaged-termination",
   "metadata": {},
   "source": [
    "# 增加內容"
   ]
  },
  {
   "cell_type": "code",
   "execution_count": 15,
   "id": "herbal-keyboard",
   "metadata": {},
   "outputs": [
    {
     "name": "stdout",
     "output_type": "stream",
     "text": [
      "學生名稱: Jay\n",
      "學生主修: 鋼琴\n",
      "學生副修: 寫曲\n",
      "學生嗜好為: 打籃球\n"
     ]
    }
   ],
   "source": [
    "student_a = {'名字':'Jay','主修':\"鋼琴\",\"副修\":\"寫曲\"}\n",
    "\n",
    "print(\"學生名稱:\",student_a['名字'])\n",
    "print(\"學生主修:\",student_a['主修'])\n",
    "print(\"學生副修:\",student_a['副修'])\n",
    "\n",
    "student_a['嗜好'] = '打籃球'#新增不重複的標籤 與 內容\n",
    "\n",
    "print(\"學生嗜好為:\",student_a['嗜好'])"
   ]
  },
  {
   "cell_type": "markdown",
   "id": "dramatic-fairy",
   "metadata": {},
   "source": [
    "# 標籤可以是數值"
   ]
  },
  {
   "cell_type": "code",
   "execution_count": 29,
   "id": "surprised-playback",
   "metadata": {},
   "outputs": [
    {
     "name": "stdout",
     "output_type": "stream",
     "text": [
      "{1: '1', 2: '2', '1': 1, '2': 2, '3': '3', 3: 3}\n"
     ]
    }
   ],
   "source": [
    "a = {1:\"1\",2:'2',\"1\":1,\"2\":2,\"3\":\"3\",3:3}\n",
    "\n",
    "print(a)"
   ]
  },
  {
   "cell_type": "markdown",
   "id": "matched-student",
   "metadata": {},
   "source": [
    "# 使用in來確認標籤是否存在"
   ]
  },
  {
   "cell_type": "code",
   "execution_count": 22,
   "id": "electronic-delhi",
   "metadata": {},
   "outputs": [
    {
     "name": "stdout",
     "output_type": "stream",
     "text": [
      "輸入想查詢的標籤嗜好\n",
      "你所查詢的 嗜好 不存在\n"
     ]
    }
   ],
   "source": [
    "student_a = {'名字':'Jay','主修':\"鋼琴\",\"副修\":\"寫曲\"}\n",
    "\n",
    "key = input(\"輸入想查詢的標籤\")\n",
    "if key in student_a:\n",
    "    print(\"你所查詢的\",key,\"為\",student_a[key])\n",
    "else:\n",
    "    print(\"你所查詢的\",key,\"不存在\")"
   ]
  },
  {
   "cell_type": "markdown",
   "id": "damaged-algebra",
   "metadata": {},
   "source": [
    "# 字典內放置其他容器"
   ]
  },
  {
   "cell_type": "code",
   "execution_count": 25,
   "id": "complicated-pennsylvania",
   "metadata": {},
   "outputs": [
    {
     "name": "stdout",
     "output_type": "stream",
     "text": [
      "學生名稱: Jay\n",
      "學生主修: 鋼琴\n",
      "學生副修: 寫曲\n",
      "學生國文成績: [88, 88, 90]\n",
      "學生英文成績: [66, 55, 44]\n",
      "學生數學成績: [77, 66, 55]\n"
     ]
    }
   ],
   "source": [
    "student_a = {'名字':'Jay','主修':\"鋼琴\",\"副修\":\"寫曲\"}\n",
    "\n",
    "Chinese_scores = [88,88,90]\n",
    "math_scores = [77,66,55]\n",
    "English_scores = [66,55,44]\n",
    "\n",
    "student_a[\"國文成績\"] = Chinese_scores\n",
    "student_a[\"英文成績\"] = English_scores\n",
    "student_a[\"數學成績\"] = math_scores\n",
    "\n",
    "print(\"學生名稱:\",student_a['名字'])\n",
    "print(\"學生主修:\",student_a['主修'])\n",
    "print(\"學生副修:\",student_a['副修'])\n",
    "print(\"學生國文成績:\",student_a['國文成績'])\n",
    "print(\"學生英文成績:\",student_a['英文成績'])\n",
    "print(\"學生數學成績:\",student_a['數學成績'])"
   ]
  },
  {
   "cell_type": "code",
   "execution_count": 39,
   "id": "convinced-tribune",
   "metadata": {},
   "outputs": [
    {
     "name": "stdout",
     "output_type": "stream",
     "text": [
      "{'名字': 'Jay', '主修': '鋼琴', '副修': '寫曲'}\n",
      "{'名字': 'Yuna', '主修': '小提琴', '副修': '鋼琴'}\n",
      "{'名字': 'Rebecca', '主修': '打擊', '副修': '鋼琴'}\n"
     ]
    }
   ],
   "source": [
    "Jay = {'名字':'Jay','主修':\"鋼琴\",\"副修\":\"寫曲\"}\n",
    "Yuna = {'名字':'Yuna','主修':\"小提琴\",\"副修\":\"鋼琴\"}\n",
    "Rebecca = {'名字':'Rebecca','主修':\"打擊\",\"副修\":\"鋼琴\"}\n",
    "\n",
    "students = {'Jay':Jay,'Yuna':Yuna,'Rebecca':Rebecca}\n",
    "\n",
    "print(students['Jay'])\n",
    "print(students['Yuna'])\n",
    "print(students['Rebecca'])"
   ]
  },
  {
   "cell_type": "markdown",
   "id": "quick-singapore",
   "metadata": {},
   "source": [
    "# items()方法"
   ]
  },
  {
   "cell_type": "code",
   "execution_count": 6,
   "id": "global-congress",
   "metadata": {},
   "outputs": [
    {
     "name": "stdout",
     "output_type": "stream",
     "text": [
      "字典標籤:  Jay\n",
      "字典內容:  {'名字': 'Jay', '主修': '鋼琴', '副修': '寫曲'}\n",
      "字典標籤:  Yuna\n",
      "字典內容:  {'名字': 'Yuna', '主修': '小提琴', '副修': '鋼琴'}\n",
      "字典標籤:  Rebecca\n",
      "字典內容:  {'名字': 'Rebecca', '主修': '打擊', '副修': '鋼琴'}\n"
     ]
    }
   ],
   "source": [
    "for key, value in students.items():\n",
    "    print(\"字典標籤: \",key)\n",
    "    print(\"字典內容: \",value)"
   ]
  },
  {
   "cell_type": "code",
   "execution_count": 12,
   "id": "widespread-uncertainty",
   "metadata": {},
   "outputs": [
    {
     "name": "stdout",
     "output_type": "stream",
     "text": [
      "Rebecca\n",
      "打擊\n",
      "鋼琴\n"
     ]
    }
   ],
   "source": [
    "values = ['Rebecca',\"打擊\",\"鋼琴\"]\n",
    "\n",
    "for value in values:\n",
    "    print(value)"
   ]
  },
  {
   "cell_type": "code",
   "execution_count": 14,
   "id": "vertical-montana",
   "metadata": {},
   "outputs": [
    {
     "name": "stdout",
     "output_type": "stream",
     "text": [
      "{'名字': 'Yuna', '主修': '小提琴', '副修': '鋼琴'}\n"
     ]
    }
   ],
   "source": [
    "for key, value in students.items():\n",
    "    if key == 'Yuna':\n",
    "        print(value)"
   ]
  },
  {
   "cell_type": "code",
   "execution_count": 16,
   "id": "entitled-foster",
   "metadata": {},
   "outputs": [
    {
     "name": "stdout",
     "output_type": "stream",
     "text": [
      "名字 :  Yuna\n",
      "主修 :  小提琴\n",
      "副修 :  鋼琴\n"
     ]
    }
   ],
   "source": [
    "for key, value in students.items():\n",
    "    if key == 'Yuna':\n",
    "        for key_2, value_2 in value.items():\n",
    "            print(key_2,\": \",value_2)"
   ]
  },
  {
   "cell_type": "markdown",
   "id": "integrated-burke",
   "metadata": {},
   "source": [
    "# keys()方法"
   ]
  },
  {
   "cell_type": "code",
   "execution_count": 17,
   "id": "amended-oxide",
   "metadata": {},
   "outputs": [
    {
     "name": "stdout",
     "output_type": "stream",
     "text": [
      "Jay\n",
      "Yuna\n",
      "Rebecca\n"
     ]
    }
   ],
   "source": [
    "for key in students.keys():\n",
    "    print(key)"
   ]
  },
  {
   "cell_type": "code",
   "execution_count": 27,
   "id": "respective-perry",
   "metadata": {},
   "outputs": [
    {
     "name": "stdout",
     "output_type": "stream",
     "text": [
      "<class 'dict_keys'>\n",
      "<class 'list'>\n",
      "['Jay', 'Yuna', 'Rebecca']\n",
      "['Jay', 'Rebecca', 'Yuna']\n"
     ]
    }
   ],
   "source": [
    "names = students.keys()\n",
    "print(type(names))\n",
    "\n",
    "names = list(names)\n",
    "print(type(names))\n",
    "\n",
    "print(names)\n",
    "names.sort()\n",
    "print(names)"
   ]
  },
  {
   "cell_type": "code",
   "execution_count": 29,
   "id": "great-processing",
   "metadata": {},
   "outputs": [
    {
     "name": "stdout",
     "output_type": "stream",
     "text": [
      "<class 'dict_keys'>\n",
      "<class 'tuple'>\n",
      "<class 'set'>\n"
     ]
    }
   ],
   "source": [
    "names = students.keys()\n",
    "print(type(names))\n",
    "\n",
    "names_2 = tuple(names)\n",
    "print(type(names_2))\n",
    "\n",
    "names_3 = set(names)\n",
    "print(type(names_3))"
   ]
  },
  {
   "cell_type": "markdown",
   "id": "veterinary-carnival",
   "metadata": {},
   "source": [
    "# values()方法"
   ]
  },
  {
   "cell_type": "code",
   "execution_count": 18,
   "id": "focal-nothing",
   "metadata": {},
   "outputs": [
    {
     "name": "stdout",
     "output_type": "stream",
     "text": [
      "{'名字': 'Jay', '主修': '鋼琴', '副修': '寫曲'}\n",
      "{'名字': 'Yuna', '主修': '小提琴', '副修': '鋼琴'}\n",
      "{'名字': 'Rebecca', '主修': '打擊', '副修': '鋼琴'}\n"
     ]
    }
   ],
   "source": [
    "for value in students.values():\n",
    "    print(value)"
   ]
  },
  {
   "cell_type": "code",
   "execution_count": 56,
   "id": "expanded-current",
   "metadata": {},
   "outputs": [
    {
     "name": "stdout",
     "output_type": "stream",
     "text": [
      "1\n",
      "9999\n",
      "1234\n",
      "2\n",
      "9999\n",
      "5678\n"
     ]
    }
   ],
   "source": [
    "a = {'1':1234,'2':5678}\n",
    "\n",
    "for key, value in a.items():\n",
    "    value = 9999\n",
    "    print(key)\n",
    "    print(value)\n",
    "    print(a[key])"
   ]
  },
  {
   "cell_type": "markdown",
   "id": "textile-death",
   "metadata": {},
   "source": [
    "# update()方法"
   ]
  },
  {
   "cell_type": "code",
   "execution_count": 72,
   "id": "awful-large",
   "metadata": {},
   "outputs": [
    {
     "name": "stdout",
     "output_type": "stream",
     "text": [
      "字典標籤:  Jay\n",
      "字典內容:  {'名字': 'Jay'}\n"
     ]
    }
   ],
   "source": [
    "content = {'名字':'Jay','主修':\"鋼琴\",\"副修\":\"寫曲\"}\n",
    "content_2 = {'名字':'Jay'}\n",
    "\n",
    "students = {'Jay':content}\n",
    "students_2 = {'Jay':content_2}\n",
    "\n",
    "students.update(students_2)\n",
    "\n",
    "for key, value in students.items():\n",
    "    print(\"字典標籤: \",key)\n",
    "    print(\"字典內容: \",value)"
   ]
  },
  {
   "cell_type": "code",
   "execution_count": 1,
   "id": "green-joyce",
   "metadata": {},
   "outputs": [
    {
     "name": "stdout",
     "output_type": "stream",
     "text": [
      "字典標籤:  Jay\n",
      "字典內容:  {'名字': 'Jay', '主修': '鋼琴', '副修': '寫曲'}\n",
      "字典標籤:  Yuna\n",
      "字典內容:  {'名字': 'Yuna', '主修': '小提琴', '副修': '鋼琴'}\n",
      "字典標籤:  Rebecca\n",
      "字典內容:  {'名字': 'Rebecca', '主修': '打擊', '副修': '鋼琴'}\n"
     ]
    }
   ],
   "source": [
    "Jay = {'名字':'Jay','主修':\"鋼琴\",\"副修\":\"寫曲\"}\n",
    "Yuna = {'名字':'Yuna','主修':\"小提琴\",\"副修\":\"鋼琴\"}\n",
    "Rebecca = {'名字':'Rebecca','主修':\"打擊\",\"副修\":\"鋼琴\"}\n",
    "\n",
    "students = {'Jay':Jay}\n",
    "students_2 = {'Jay':Jay,'Yuna':Yuna,'Rebecca':Rebecca}\n",
    "\n",
    "students.update(students_2)\n",
    "\n",
    "for key, value in students.items():\n",
    "    print(\"字典標籤: \",key)\n",
    "    print(\"字典內容: \",value)"
   ]
  },
  {
   "cell_type": "markdown",
   "id": "sustainable-greenhouse",
   "metadata": {},
   "source": [
    "# get()方法"
   ]
  },
  {
   "cell_type": "code",
   "execution_count": 80,
   "id": "north-slovakia",
   "metadata": {},
   "outputs": [
    {
     "name": "stdout",
     "output_type": "stream",
     "text": [
      "{'名字': 'Rebecca', '主修': '打擊', '副修': '鋼琴'}\n",
      "None\n"
     ]
    }
   ],
   "source": [
    "value = students.get('Rebecca')\n",
    "print(value)\n",
    "\n",
    "value = students.get('Johnny')\n",
    "print(value)"
   ]
  },
  {
   "cell_type": "markdown",
   "id": "champion-medline",
   "metadata": {},
   "source": [
    "# pop()方法"
   ]
  },
  {
   "cell_type": "code",
   "execution_count": 11,
   "id": "korean-snapshot",
   "metadata": {},
   "outputs": [],
   "source": [
    "Jay = {'名字':'Jay','主修':\"鋼琴\"}\n",
    "Yuna = {'名字':'Yuna','主修':\"小提琴\"}\n",
    "Rebecca = {'名字':'Rebecca','主修':\"打擊\"}\n",
    "\n",
    "students = {'Jay':Jay,'Yuna':Yuna,'Rebecca':Rebecca}\n",
    "\n",
    "# delete_content = students.pop('Rebecca')\n",
    "\n",
    "# print(\"刪除的標籤與對應內容:\",delete_content)\n",
    "# print(\"刪除後的字典內容:\",students)"
   ]
  },
  {
   "cell_type": "code",
   "execution_count": 18,
   "id": "superb-transsexual",
   "metadata": {},
   "outputs": [
    {
     "name": "stdout",
     "output_type": "stream",
     "text": [
      "Rebecca 已不存在字典中\n"
     ]
    }
   ],
   "source": [
    "delete_key = 'Rebecca'\n",
    "if delete_key in students.keys():\n",
    "    students.pop(delete_key)\n",
    "else:\n",
    "    print(delete_key,\"已不存在字典中\")"
   ]
  },
  {
   "cell_type": "code",
   "execution_count": 19,
   "id": "forced-battlefield",
   "metadata": {},
   "outputs": [
    {
     "name": "stdout",
     "output_type": "stream",
     "text": [
      "Rebecca 已不存在字典中\n"
     ]
    }
   ],
   "source": [
    "delete_key = 'Rebecca'\n",
    "if students.get(delete_key) is None:\n",
    "    print(delete_key,\"已不存在字典中\")\n",
    "else:\n",
    "    students.pop(delete_key)"
   ]
  },
  {
   "cell_type": "markdown",
   "id": "bibliographic-hammer",
   "metadata": {},
   "source": [
    "# clear()方法"
   ]
  },
  {
   "cell_type": "code",
   "execution_count": 20,
   "id": "promising-license",
   "metadata": {},
   "outputs": [
    {
     "name": "stdout",
     "output_type": "stream",
     "text": [
      "{}\n"
     ]
    }
   ],
   "source": [
    "Jay = {'名字':'Jay','主修':\"鋼琴\"}\n",
    "Yuna = {'名字':'Yuna','主修':\"小提琴\"}\n",
    "Rebecca = {'名字':'Rebecca','主修':\"打擊\"}\n",
    "\n",
    "students = {'Jay':Jay,'Yuna':Yuna,'Rebecca':Rebecca}\n",
    "\n",
    "students.clear()\n",
    "\n",
    "print(students)"
   ]
  },
  {
   "cell_type": "markdown",
   "id": "biblical-concentration",
   "metadata": {},
   "source": [
    "# copy()方法"
   ]
  },
  {
   "cell_type": "code",
   "execution_count": 23,
   "id": "everyday-genealogy",
   "metadata": {},
   "outputs": [
    {
     "name": "stdout",
     "output_type": "stream",
     "text": [
      "----未更動任何變數的內容前\n",
      "a的ID 1631790549184\n",
      "b的ID 1631790549184\n",
      "c的ID 1631790549184\n",
      "----新增a內容後\n",
      "a的ID 1631790549184\n",
      "b的ID 1631790549184\n",
      "c的ID 1631790549184\n",
      "a內容 =  {'Rebecca': 166, 'Johnny': 171}\n",
      "b內容 =  {'Rebecca': 166, 'Johnny': 171}\n",
      "c內容 =  {'Rebecca': 166, 'Johnny': 171}\n",
      "----新增b內容後\n",
      "a的ID 1631790549184\n",
      "b的ID 1631790549184\n",
      "c的ID 1631790549184\n",
      "a內容 =  {'Rebecca': 166, 'Johnny': 171, 'Jolin': 160}\n",
      "b內容 =  {'Rebecca': 166, 'Johnny': 171, 'Jolin': 160}\n",
      "c內容 =  {'Rebecca': 166, 'Johnny': 171, 'Jolin': 160}\n"
     ]
    }
   ],
   "source": [
    "#不使用cpoy()時，使用字典進行多重給值會有內容連動的情形\n",
    "a = b = c = {'Rebecca':166}\n",
    "\n",
    "print(\"----未更動任何變數的內容前\")\n",
    "print(\"a的ID\",id(a))\n",
    "print(\"b的ID\",id(b))\n",
    "print(\"c的ID\",id(c))\n",
    "\n",
    "a['Johnny'] = 171\n",
    "print(\"----新增a內容後\")\n",
    "print(\"a的ID\",id(a))\n",
    "print(\"b的ID\",id(b))\n",
    "print(\"c的ID\",id(c))\n",
    "print(\"a內容 = \",a)\n",
    "print(\"b內容 = \",b)\n",
    "print(\"c內容 = \",c)\n",
    "\n",
    "b['Jolin'] = 160\n",
    "print(\"----新增b內容後\")\n",
    "print(\"a的ID\",id(a))\n",
    "print(\"b的ID\",id(b))\n",
    "print(\"c的ID\",id(c))\n",
    "print(\"a內容 = \",a)\n",
    "print(\"b內容 = \",b)\n",
    "print(\"c內容 = \",c)"
   ]
  },
  {
   "cell_type": "code",
   "execution_count": 25,
   "id": "comfortable-seating",
   "metadata": {},
   "outputs": [
    {
     "name": "stdout",
     "output_type": "stream",
     "text": [
      "----未更動任何變數的內容前\n",
      "a的ID 1631783322304\n",
      "b的ID 1631783322944\n",
      "c的ID 1631783324160\n",
      "----新增a內容後\n",
      "a的ID 1631783322304\n",
      "b的ID 1631783322944\n",
      "c的ID 1631783324160\n",
      "a內容 =  {'Rebecca': 166, 'Johnny': 171}\n",
      "b內容 =  {'Rebecca': 166}\n",
      "c內容 =  {'Rebecca': 166}\n",
      "----新增b內容後\n",
      "a的ID 1631783322304\n",
      "b的ID 1631783322944\n",
      "c的ID 1631783324160\n",
      "a內容 =  {'Rebecca': 166, 'Johnny': 171}\n",
      "b內容 =  {'Rebecca': 166, 'Jolin': 160}\n",
      "c內容 =  {'Rebecca': 166}\n"
     ]
    }
   ],
   "source": [
    "a = {'Rebecca':166}\n",
    "b = a.copy()\n",
    "c = a.copy()\n",
    "\n",
    "print(\"----未更動任何變數的內容前\")\n",
    "print(\"a的ID\",id(a))\n",
    "print(\"b的ID\",id(b))\n",
    "print(\"c的ID\",id(c))\n",
    "\n",
    "a['Johnny'] = 171\n",
    "print(\"----新增a內容後\")\n",
    "print(\"a的ID\",id(a))\n",
    "print(\"b的ID\",id(b))\n",
    "print(\"c的ID\",id(c))\n",
    "print(\"a內容 = \",a)\n",
    "print(\"b內容 = \",b)\n",
    "print(\"c內容 = \",c)\n",
    "\n",
    "b['Jolin'] = 160\n",
    "print(\"----新增b內容後\")\n",
    "print(\"a的ID\",id(a))\n",
    "print(\"b的ID\",id(b))\n",
    "print(\"c的ID\",id(c))\n",
    "print(\"a內容 = \",a)\n",
    "print(\"b內容 = \",b)\n",
    "print(\"c內容 = \",c)"
   ]
  },
  {
   "cell_type": "markdown",
   "id": "compressed-cherry",
   "metadata": {},
   "source": [
    "# len()函數"
   ]
  },
  {
   "cell_type": "code",
   "execution_count": 30,
   "id": "hawaiian-template",
   "metadata": {},
   "outputs": [
    {
     "name": "stdout",
     "output_type": "stream",
     "text": [
      "3\n",
      "3\n",
      "3\n",
      "3\n"
     ]
    }
   ],
   "source": [
    "Jay = {'名字':'Jay','主修':\"鋼琴\"}\n",
    "Yuna = {'名字':'Yuna','主修':\"小提琴\"}\n",
    "Rebecca = {'名字':'Rebecca','主修':\"打擊\"}\n",
    "\n",
    "students = {'Jay':Jay,'Yuna':Yuna,'Rebecca':Rebecca}\n",
    "\n",
    "len_1 = len(students)\n",
    "print(len_1)\n",
    "\n",
    "len_2 = len(students.keys())\n",
    "print(len_2)\n",
    "\n",
    "len_3 = len(students.values())\n",
    "print(len_3)\n",
    "\n",
    "len_4 = len(students.items())\n",
    "print(len_4)"
   ]
  }
 ],
 "metadata": {
  "kernelspec": {
   "display_name": "Python 3",
   "language": "python",
   "name": "python3"
  },
  "language_info": {
   "codemirror_mode": {
    "name": "ipython",
    "version": 3
   },
   "file_extension": ".py",
   "mimetype": "text/x-python",
   "name": "python",
   "nbconvert_exporter": "python",
   "pygments_lexer": "ipython3",
   "version": "3.8.10"
  }
 },
 "nbformat": 4,
 "nbformat_minor": 5
}
