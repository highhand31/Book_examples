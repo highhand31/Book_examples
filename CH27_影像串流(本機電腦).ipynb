{
 "cells": [
  {
   "cell_type": "markdown",
   "metadata": {},
   "source": [
    "# 匯入套件"
   ]
  },
  {
   "cell_type": "code",
   "execution_count": 1,
   "metadata": {},
   "outputs": [],
   "source": [
    "import cv2,time\n",
    "import numpy as np"
   ]
  },
  {
   "cell_type": "markdown",
   "metadata": {},
   "source": [
    "# 影像串流初始化 "
   ]
  },
  {
   "cell_type": "code",
   "execution_count": 2,
   "metadata": {},
   "outputs": [],
   "source": [
    "def video_init(source=0):\n",
    "    '''\n",
    "    source:影像的來源，\n",
    "        1.若是USB camera或筆電內建camera，填數字0\n",
    "        2.若是影片(.mp4 or .avi)，填影片的路徑\n",
    "    '''\n",
    "    cap = cv2.VideoCapture(source)\n",
    "    #----獲取影像的高度與寬度\n",
    "    height = cap.get(cv2.CAP_PROP_FRAME_HEIGHT)#預設值 480\n",
    "    width = cap.get(cv2.CAP_PROP_FRAME_WIDTH)#預設值 640\n",
    "\n",
    "    return cap,int(height),int(width)"
   ]
  },
  {
   "cell_type": "code",
   "execution_count": 4,
   "metadata": {},
   "outputs": [
    {
     "name": "stdout",
     "output_type": "stream",
     "text": [
      "影像高度: 480\n",
      "影像寬度: 640\n"
     ]
    }
   ],
   "source": [
    "video_source = \"http://192.168.0.167:8080/video\"\n",
    "frame_count = 0\n",
    "FPS = \"Initialing\"\n",
    "\n",
    "#----影像串流初始化\n",
    "cap, height, width = video_init(video_source)\n",
    "print(\"影像高度:\",height)\n",
    "print(\"影像寬度:\",width)\n",
    "\n",
    "#----建立不斷獲取影像的while迴圈\n",
    "while (cap.isOpened()):#每一次都要確認cap是否為開啟狀態\n",
    "    \n",
    "    #----向cap獲取影像\n",
    "    status, img = cap.read()\n",
    "    if status is True:\n",
    "        \n",
    "        #----FPS的計算\n",
    "        if frame_count == 0:\n",
    "            t_start = time.time()\n",
    "        frame_count += 1\n",
    "        if frame_count >= 20:\n",
    "            t_stop = time.time()\n",
    "            FPS = \"FPS={}\".format(round(20 / (t_stop - t_start)))\n",
    "            frame_count = 0\n",
    "\n",
    "        # cv2.putText(影像, 文字, 座標, 字型, 大小, 顏色, 線條寬度, 線條種類)\n",
    "        cv2.putText(img, FPS, (10, 50), cv2.FONT_HERSHEY_SIMPLEX, 1, (0, 255, 0), 3)\n",
    "        \n",
    "        #----顯示影像\n",
    "        #使用cv2.imshow()而不使用plt.imshow()\n",
    "        cv2.imshow(\"demo by JohnnyAI\", img)\n",
    "        \n",
    "        #----按鍵偵測\n",
    "        key = cv2.waitKey(1) & 0xFF\n",
    "        if key == ord('q'):\n",
    "            break\n",
    "    else:\n",
    "        print(\"取圖失敗\")\n",
    "        break\n",
    "#----影像串流停止，釋放資源\n",
    "cap.release()\n",
    "cv2.destroyAllWindows()"
   ]
  },
  {
   "cell_type": "code",
   "execution_count": 9,
   "metadata": {},
   "outputs": [],
   "source": []
  },
  {
   "cell_type": "code",
   "execution_count": null,
   "metadata": {},
   "outputs": [],
   "source": [
    "\n",
    "        \n",
    "        "
   ]
  }
 ],
 "metadata": {
  "kernelspec": {
   "display_name": "Python 3",
   "language": "python",
   "name": "python3"
  },
  "language_info": {
   "codemirror_mode": {
    "name": "ipython",
    "version": 3
   },
   "file_extension": ".py",
   "mimetype": "text/x-python",
   "name": "python",
   "nbconvert_exporter": "python",
   "pygments_lexer": "ipython3",
   "version": "3.8.10"
  }
 },
 "nbformat": 4,
 "nbformat_minor": 2
}
