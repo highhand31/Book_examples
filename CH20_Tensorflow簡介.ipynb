{
 "cells": [
  {
   "cell_type": "markdown",
   "metadata": {},
   "source": [
    "# 匯入Tensorflow套件"
   ]
  },
  {
   "cell_type": "code",
   "execution_count": 8,
   "metadata": {},
   "outputs": [
    {
     "name": "stdout",
     "output_type": "stream",
     "text": [
      "Tensorflow version:2.5.0\n"
     ]
    }
   ],
   "source": [
    "import tensorflow\n",
    "if tensorflow.__version__.startswith('1.'):\n",
    "    import tensorflow as tf\n",
    "    from tensorflow.python.platform import gfile\n",
    "else:\n",
    "    import tensorflow as v2\n",
    "    import tensorflow.compat.v1 as tf\n",
    "    tf.disable_v2_behavior()\n",
    "    import tensorflow.compat.v1.gfile as gfile\n",
    "print(\"Tensorflow version:{}\".format(tf.__version__))"
   ]
  },
  {
   "cell_type": "code",
   "execution_count": 9,
   "metadata": {},
   "outputs": [
    {
     "name": "stdout",
     "output_type": "stream",
     "text": [
      "num_sum: Tensor(\"Add_1:0\", shape=(), dtype=int32)\n"
     ]
    }
   ],
   "source": [
    "num_sum = tf.add(5,6)\n",
    "print(\"num_sum:\",num_sum)"
   ]
  },
  {
   "cell_type": "code",
   "execution_count": 10,
   "metadata": {},
   "outputs": [
    {
     "name": "stdout",
     "output_type": "stream",
     "text": [
      "num_sum: 11\n"
     ]
    }
   ],
   "source": [
    "import numpy as np\n",
    "num_sum = np.add(5,6)\n",
    "print(\"num_sum:\",num_sum)"
   ]
  },
  {
   "cell_type": "code",
   "execution_count": 36,
   "metadata": {},
   "outputs": [
    {
     "name": "stdout",
     "output_type": "stream",
     "text": [
      "num_sum: Tensor(\"Add_2:0\", shape=(), dtype=int32)\n",
      "num_sum: 11\n"
     ]
    }
   ],
   "source": [
    "num_sum = tf.add(5,6)\n",
    "print(\"num_sum:\",num_sum)\n",
    "\n",
    "with tf.Session() as sess:\n",
    "    print(\"num_sum:\",sess.run(num_sum))"
   ]
  },
  {
   "cell_type": "code",
   "execution_count": 11,
   "metadata": {},
   "outputs": [
    {
     "name": "stdout",
     "output_type": "stream",
     "text": [
      "node_c =  Tensor(\"node_c_1:0\", shape=(), dtype=int32)\n"
     ]
    }
   ],
   "source": [
    "node_a = tf.add(5,6,name='node_a')\n",
    "node_b = tf.multiply(node_a,3,name='node_b')\n",
    "node_c = tf.subtract(node_b,3,name='node_c')\n",
    "\n",
    "print(\"node_c = \",node_c)"
   ]
  },
  {
   "cell_type": "code",
   "execution_count": 12,
   "metadata": {},
   "outputs": [
    {
     "name": "stdout",
     "output_type": "stream",
     "text": [
      "node_c =  30\n"
     ]
    }
   ],
   "source": [
    "with tf.Session() as sess:\n",
    "    print(\"node_c = \",sess.run(node_c))"
   ]
  },
  {
   "cell_type": "code",
   "execution_count": 13,
   "metadata": {},
   "outputs": [
    {
     "name": "stdout",
     "output_type": "stream",
     "text": [
      "node_c =  30\n"
     ]
    }
   ],
   "source": [
    "sess = tf.Session()\n",
    "print(\"node_c = \",sess.run(node_c))\n",
    "sess.close()"
   ]
  },
  {
   "cell_type": "markdown",
   "metadata": {},
   "source": [
    "# 常數tf.constant()的使用"
   ]
  },
  {
   "cell_type": "code",
   "execution_count": 14,
   "metadata": {},
   "outputs": [
    {
     "name": "stdout",
     "output_type": "stream",
     "text": [
      "Tensor(\"constant_a:0\", shape=(), dtype=float32)\n",
      "Tensor(\"constant_b:0\", shape=(), dtype=float32)\n"
     ]
    }
   ],
   "source": [
    "a = tf.constant(61, dtype=tf.float32, name='constant_a')\n",
    "\n",
    "b = tf.constant(61., name='constant_b')\n",
    "\n",
    "print(a)\n",
    "print(b)"
   ]
  },
  {
   "cell_type": "code",
   "execution_count": 15,
   "metadata": {},
   "outputs": [
    {
     "name": "stdout",
     "output_type": "stream",
     "text": [
      "a =  61.0\n",
      "b =  61.0\n"
     ]
    }
   ],
   "source": [
    "with tf.Session() as sess:\n",
    "    print(\"a = \",sess.run(a))\n",
    "    print(\"b = \",sess.run(b))"
   ]
  },
  {
   "cell_type": "code",
   "execution_count": 16,
   "metadata": {},
   "outputs": [
    {
     "name": "stdout",
     "output_type": "stream",
     "text": [
      "Tensor(\"constant_c:0\", shape=(3, 3), dtype=float32)\n"
     ]
    }
   ],
   "source": [
    "c = tf.constant(61, shape=[3,3],dtype=tf.float32, name='constant_c')\n",
    "print(c)"
   ]
  },
  {
   "cell_type": "code",
   "execution_count": 17,
   "metadata": {},
   "outputs": [
    {
     "name": "stdout",
     "output_type": "stream",
     "text": [
      "c = \n",
      " [[61. 61. 61.]\n",
      " [61. 61. 61.]\n",
      " [61. 61. 61.]]\n"
     ]
    }
   ],
   "source": [
    "with tf.Session() as sess:\n",
    "    print(\"c = \\n\",sess.run(c))"
   ]
  },
  {
   "cell_type": "code",
   "execution_count": 18,
   "metadata": {},
   "outputs": [
    {
     "name": "stdout",
     "output_type": "stream",
     "text": [
      "Tensor(\"constant_d:0\", shape=(2, 2), dtype=int32)\n",
      "Tensor(\"constant_e:0\", shape=(2, 2), dtype=float32)\n"
     ]
    }
   ],
   "source": [
    "d = tf.constant([[1,2],[3,4]], name='constant_d')\n",
    "e = tf.constant([[1,2.],[3,4]], name='constant_e')\n",
    "print(d)\n",
    "print(e)"
   ]
  },
  {
   "cell_type": "code",
   "execution_count": 19,
   "metadata": {},
   "outputs": [
    {
     "name": "stdout",
     "output_type": "stream",
     "text": [
      "d = \n",
      " [[1 2]\n",
      " [3 4]]\n",
      "e = \n",
      " [[1. 2.]\n",
      " [3. 4.]]\n"
     ]
    }
   ],
   "source": [
    "with tf.Session() as sess:\n",
    "    print(\"d = \\n\",sess.run(d))\n",
    "    print(\"e = \\n\",sess.run(e))"
   ]
  },
  {
   "cell_type": "code",
   "execution_count": 20,
   "metadata": {},
   "outputs": [
    {
     "name": "stdout",
     "output_type": "stream",
     "text": [
      "Tensor(\"Const:0\", shape=(2, 2), dtype=int32)\n",
      "Tensor(\"Const_1:0\", shape=(2, 2), dtype=float32)\n"
     ]
    }
   ],
   "source": [
    "d = tf.constant([[1,2],[3,4]])\n",
    "e = tf.constant([[1,2.],[3,4]])\n",
    "print(d)\n",
    "print(e)"
   ]
  },
  {
   "cell_type": "markdown",
   "metadata": {},
   "source": [
    "# 衝突範例"
   ]
  },
  {
   "cell_type": "code",
   "execution_count": 21,
   "metadata": {
    "scrolled": true
   },
   "outputs": [
    {
     "ename": "TypeError",
     "evalue": "Expected int32, got 2.0 of type 'float' instead.",
     "output_type": "error",
     "traceback": [
      "\u001b[1;31m---------------------------------------------------------------------------\u001b[0m",
      "\u001b[1;31mValueError\u001b[0m                                Traceback (most recent call last)",
      "\u001b[1;32m~\\Anaconda3\\envs\\tf_2.5\\lib\\site-packages\\tensorflow\\python\\framework\\tensor_util.py\u001b[0m in \u001b[0;36m_AssertCompatible\u001b[1;34m(values, dtype)\u001b[0m\n\u001b[0;32m    329\u001b[0m   \u001b[1;32mtry\u001b[0m\u001b[1;33m:\u001b[0m\u001b[1;33m\u001b[0m\u001b[1;33m\u001b[0m\u001b[0m\n\u001b[1;32m--> 330\u001b[1;33m     \u001b[0mfn\u001b[0m\u001b[1;33m(\u001b[0m\u001b[0mvalues\u001b[0m\u001b[1;33m)\u001b[0m\u001b[1;33m\u001b[0m\u001b[1;33m\u001b[0m\u001b[0m\n\u001b[0m\u001b[0;32m    331\u001b[0m   \u001b[1;32mexcept\u001b[0m \u001b[0mValueError\u001b[0m \u001b[1;32mas\u001b[0m \u001b[0me\u001b[0m\u001b[1;33m:\u001b[0m\u001b[1;33m\u001b[0m\u001b[1;33m\u001b[0m\u001b[0m\n",
      "\u001b[1;32m~\\Anaconda3\\envs\\tf_2.5\\lib\\site-packages\\tensorflow\\python\\framework\\tensor_util.py\u001b[0m in \u001b[0;36minner\u001b[1;34m(values)\u001b[0m\n\u001b[0;32m    268\u001b[0m                issubclass(v.dtype.type, expected_types))):\n\u001b[1;32m--> 269\u001b[1;33m         \u001b[0m_check_failed\u001b[0m\u001b[1;33m(\u001b[0m\u001b[0mv\u001b[0m\u001b[1;33m)\u001b[0m\u001b[1;33m\u001b[0m\u001b[1;33m\u001b[0m\u001b[0m\n\u001b[0m\u001b[0;32m    270\u001b[0m \u001b[1;33m\u001b[0m\u001b[0m\n",
      "\u001b[1;32m~\\Anaconda3\\envs\\tf_2.5\\lib\\site-packages\\tensorflow\\python\\framework\\tensor_util.py\u001b[0m in \u001b[0;36m_check_failed\u001b[1;34m(v)\u001b[0m\n\u001b[0;32m    249\u001b[0m   \u001b[1;31m# it is safe to use here.\u001b[0m\u001b[1;33m\u001b[0m\u001b[1;33m\u001b[0m\u001b[1;33m\u001b[0m\u001b[0m\n\u001b[1;32m--> 250\u001b[1;33m   \u001b[1;32mraise\u001b[0m \u001b[0mValueError\u001b[0m\u001b[1;33m(\u001b[0m\u001b[0mv\u001b[0m\u001b[1;33m)\u001b[0m\u001b[1;33m\u001b[0m\u001b[1;33m\u001b[0m\u001b[0m\n\u001b[0m\u001b[0;32m    251\u001b[0m \u001b[1;33m\u001b[0m\u001b[0m\n",
      "\u001b[1;31mValueError\u001b[0m: 2.0",
      "\nDuring handling of the above exception, another exception occurred:\n",
      "\u001b[1;31mTypeError\u001b[0m                                 Traceback (most recent call last)",
      "\u001b[1;32m<ipython-input-21-c4950c7ffdb7>\u001b[0m in \u001b[0;36m<module>\u001b[1;34m\u001b[0m\n\u001b[1;32m----> 1\u001b[1;33m \u001b[0md\u001b[0m \u001b[1;33m=\u001b[0m \u001b[0mtf\u001b[0m\u001b[1;33m.\u001b[0m\u001b[0mconstant\u001b[0m\u001b[1;33m(\u001b[0m\u001b[1;33m[\u001b[0m\u001b[1;33m[\u001b[0m\u001b[1;36m1\u001b[0m\u001b[1;33m,\u001b[0m\u001b[1;36m2.\u001b[0m\u001b[1;33m]\u001b[0m\u001b[1;33m,\u001b[0m\u001b[1;33m[\u001b[0m\u001b[1;36m3\u001b[0m\u001b[1;33m,\u001b[0m\u001b[1;36m4\u001b[0m\u001b[1;33m]\u001b[0m\u001b[1;33m]\u001b[0m\u001b[1;33m,\u001b[0m\u001b[0mdtype\u001b[0m\u001b[1;33m=\u001b[0m\u001b[0mtf\u001b[0m\u001b[1;33m.\u001b[0m\u001b[0mint32\u001b[0m\u001b[1;33m)\u001b[0m\u001b[1;33m\u001b[0m\u001b[1;33m\u001b[0m\u001b[0m\n\u001b[0m\u001b[0;32m      2\u001b[0m \u001b[0mprint\u001b[0m\u001b[1;33m(\u001b[0m\u001b[0md\u001b[0m\u001b[1;33m)\u001b[0m\u001b[1;33m\u001b[0m\u001b[1;33m\u001b[0m\u001b[0m\n",
      "\u001b[1;32m~\\Anaconda3\\envs\\tf_2.5\\lib\\site-packages\\tensorflow\\python\\framework\\constant_op.py\u001b[0m in \u001b[0;36mconstant_v1\u001b[1;34m(value, dtype, shape, name, verify_shape)\u001b[0m\n\u001b[0;32m    160\u001b[0m     \u001b[0mTypeError\u001b[0m\u001b[1;33m:\u001b[0m \u001b[1;32mif\u001b[0m \u001b[0mshape\u001b[0m \u001b[1;32mis\u001b[0m \u001b[0mincorrectly\u001b[0m \u001b[0mspecified\u001b[0m \u001b[1;32mor\u001b[0m \u001b[0munsupported\u001b[0m\u001b[1;33m.\u001b[0m\u001b[1;33m\u001b[0m\u001b[1;33m\u001b[0m\u001b[0m\n\u001b[0;32m    161\u001b[0m   \"\"\"\n\u001b[1;32m--> 162\u001b[1;33m   return _constant_impl(value, dtype, shape, name, verify_shape=verify_shape,\n\u001b[0m\u001b[0;32m    163\u001b[0m                         allow_broadcast=False)\n\u001b[0;32m    164\u001b[0m \u001b[1;33m\u001b[0m\u001b[0m\n",
      "\u001b[1;32m~\\Anaconda3\\envs\\tf_2.5\\lib\\site-packages\\tensorflow\\python\\framework\\constant_op.py\u001b[0m in \u001b[0;36m_constant_impl\u001b[1;34m(value, dtype, shape, name, verify_shape, allow_broadcast)\u001b[0m\n\u001b[0;32m    279\u001b[0m   \u001b[0mtensor_value\u001b[0m \u001b[1;33m=\u001b[0m \u001b[0mattr_value_pb2\u001b[0m\u001b[1;33m.\u001b[0m\u001b[0mAttrValue\u001b[0m\u001b[1;33m(\u001b[0m\u001b[1;33m)\u001b[0m\u001b[1;33m\u001b[0m\u001b[1;33m\u001b[0m\u001b[0m\n\u001b[0;32m    280\u001b[0m   tensor_value.tensor.CopyFrom(\n\u001b[1;32m--> 281\u001b[1;33m       tensor_util.make_tensor_proto(\n\u001b[0m\u001b[0;32m    282\u001b[0m           \u001b[0mvalue\u001b[0m\u001b[1;33m,\u001b[0m \u001b[0mdtype\u001b[0m\u001b[1;33m=\u001b[0m\u001b[0mdtype\u001b[0m\u001b[1;33m,\u001b[0m \u001b[0mshape\u001b[0m\u001b[1;33m=\u001b[0m\u001b[0mshape\u001b[0m\u001b[1;33m,\u001b[0m \u001b[0mverify_shape\u001b[0m\u001b[1;33m=\u001b[0m\u001b[0mverify_shape\u001b[0m\u001b[1;33m,\u001b[0m\u001b[1;33m\u001b[0m\u001b[1;33m\u001b[0m\u001b[0m\n\u001b[0;32m    283\u001b[0m           allow_broadcast=allow_broadcast))\n",
      "\u001b[1;32m~\\Anaconda3\\envs\\tf_2.5\\lib\\site-packages\\tensorflow\\python\\framework\\tensor_util.py\u001b[0m in \u001b[0;36mmake_tensor_proto\u001b[1;34m(values, dtype, shape, verify_shape, allow_broadcast)\u001b[0m\n\u001b[0;32m    455\u001b[0m       \u001b[0mnparray\u001b[0m \u001b[1;33m=\u001b[0m \u001b[0mnp\u001b[0m\u001b[1;33m.\u001b[0m\u001b[0mempty\u001b[0m\u001b[1;33m(\u001b[0m\u001b[0mshape\u001b[0m\u001b[1;33m,\u001b[0m \u001b[0mdtype\u001b[0m\u001b[1;33m=\u001b[0m\u001b[0mnp_dt\u001b[0m\u001b[1;33m)\u001b[0m\u001b[1;33m\u001b[0m\u001b[1;33m\u001b[0m\u001b[0m\n\u001b[0;32m    456\u001b[0m     \u001b[1;32melse\u001b[0m\u001b[1;33m:\u001b[0m\u001b[1;33m\u001b[0m\u001b[1;33m\u001b[0m\u001b[0m\n\u001b[1;32m--> 457\u001b[1;33m       \u001b[0m_AssertCompatible\u001b[0m\u001b[1;33m(\u001b[0m\u001b[0mvalues\u001b[0m\u001b[1;33m,\u001b[0m \u001b[0mdtype\u001b[0m\u001b[1;33m)\u001b[0m\u001b[1;33m\u001b[0m\u001b[1;33m\u001b[0m\u001b[0m\n\u001b[0m\u001b[0;32m    458\u001b[0m       \u001b[0mnparray\u001b[0m \u001b[1;33m=\u001b[0m \u001b[0mnp\u001b[0m\u001b[1;33m.\u001b[0m\u001b[0marray\u001b[0m\u001b[1;33m(\u001b[0m\u001b[0mvalues\u001b[0m\u001b[1;33m,\u001b[0m \u001b[0mdtype\u001b[0m\u001b[1;33m=\u001b[0m\u001b[0mnp_dt\u001b[0m\u001b[1;33m)\u001b[0m\u001b[1;33m\u001b[0m\u001b[1;33m\u001b[0m\u001b[0m\n\u001b[0;32m    459\u001b[0m       \u001b[1;31m# check to them.\u001b[0m\u001b[1;33m\u001b[0m\u001b[1;33m\u001b[0m\u001b[1;33m\u001b[0m\u001b[0m\n",
      "\u001b[1;32m~\\Anaconda3\\envs\\tf_2.5\\lib\\site-packages\\tensorflow\\python\\framework\\tensor_util.py\u001b[0m in \u001b[0;36m_AssertCompatible\u001b[1;34m(values, dtype)\u001b[0m\n\u001b[0;32m    334\u001b[0m       \u001b[1;32mraise\u001b[0m \u001b[0mTypeError\u001b[0m\u001b[1;33m(\u001b[0m\u001b[1;34m\"Expected any non-tensor type, got a tensor instead.\"\u001b[0m\u001b[1;33m)\u001b[0m\u001b[1;33m\u001b[0m\u001b[1;33m\u001b[0m\u001b[0m\n\u001b[0;32m    335\u001b[0m     \u001b[1;32melse\u001b[0m\u001b[1;33m:\u001b[0m\u001b[1;33m\u001b[0m\u001b[1;33m\u001b[0m\u001b[0m\n\u001b[1;32m--> 336\u001b[1;33m       raise TypeError(\"Expected %s, got %s of type '%s' instead.\" %\n\u001b[0m\u001b[0;32m    337\u001b[0m                       (dtype.name, repr(mismatch), type(mismatch).__name__))\n\u001b[0;32m    338\u001b[0m \u001b[1;33m\u001b[0m\u001b[0m\n",
      "\u001b[1;31mTypeError\u001b[0m: Expected int32, got 2.0 of type 'float' instead."
     ]
    }
   ],
   "source": [
    "d = tf.constant([[1,2.],[3,4]],dtype=tf.int32)\n",
    "print(d)"
   ]
  },
  {
   "cell_type": "markdown",
   "metadata": {},
   "source": [
    "# 變數tf.Variable()用法"
   ]
  },
  {
   "cell_type": "code",
   "execution_count": 22,
   "metadata": {},
   "outputs": [
    {
     "name": "stdout",
     "output_type": "stream",
     "text": [
      "a_0D <tf.Variable '0D_Tensor:0' shape=() dtype=float32_ref>\n"
     ]
    }
   ],
   "source": [
    "#----方式1:直接設定數值內容\n",
    "a_0D=tf.Variable(1.,name='0D_Tensor')#0維的Tensor\n",
    "print('a_0D',a_0D)"
   ]
  },
  {
   "cell_type": "code",
   "execution_count": 23,
   "metadata": {},
   "outputs": [
    {
     "name": "stdout",
     "output_type": "stream",
     "text": [
      "a_1D <tf.Variable '1D_Tensor:0' shape=(4,) dtype=int32_ref>\n"
     ]
    }
   ],
   "source": [
    "a_1D=tf.Variable([1,2,3,4],name='1D_Tensor')#1維的Tensor\n",
    "print('a_1D',a_1D)"
   ]
  },
  {
   "cell_type": "code",
   "execution_count": 24,
   "metadata": {},
   "outputs": [
    {
     "name": "stdout",
     "output_type": "stream",
     "text": [
      "a_2D <tf.Variable '2D_Tensor:0' shape=(2, 2) dtype=int32_ref>\n"
     ]
    }
   ],
   "source": [
    "a_2D=tf.Variable([[1,2],[3,4]],name='2D_Tensor')#2維的Tensor\n",
    "print('a_2D',a_2D)"
   ]
  },
  {
   "cell_type": "code",
   "execution_count": 25,
   "metadata": {},
   "outputs": [
    {
     "name": "stdout",
     "output_type": "stream",
     "text": [
      "a_3D <tf.Variable '3D_Tensor:0' shape=(1, 2, 2) dtype=int32_ref>\n"
     ]
    }
   ],
   "source": [
    "a_3D=tf.Variable([[[1,2],[3,4]]],name='3D_Tensor')#3維的Tensor\n",
    "print('a_3D',a_3D)"
   ]
  },
  {
   "cell_type": "code",
   "execution_count": 26,
   "metadata": {},
   "outputs": [
    {
     "name": "stdout",
     "output_type": "stream",
     "text": [
      "1.0\n",
      "[1 2 3 4]\n",
      "[[1 2]\n",
      " [3 4]]\n",
      "[[[1 2]\n",
      "  [3 4]]]\n"
     ]
    }
   ],
   "source": [
    "with tf.Session() as sess:\n",
    "    \n",
    "    sess.run(tf.global_variables_initializer())\n",
    "    \n",
    "    print(sess.run(a_0D))\n",
    "    print(sess.run(a_1D))\n",
    "    print(sess.run(a_2D))\n",
    "    print(sess.run(a_3D))\n",
    "  "
   ]
  },
  {
   "cell_type": "code",
   "execution_count": 27,
   "metadata": {},
   "outputs": [
    {
     "name": "stdout",
     "output_type": "stream",
     "text": [
      "ones: Tensor(\"ones:0\", shape=(3, 3), dtype=float32)\n",
      "zeros: Tensor(\"zeros:0\", shape=(3, 3), dtype=float32)\n",
      "b:  <tf.Variable 'b:0' shape=(2, 2) dtype=int32_ref>\n",
      "c:  <tf.Variable 'c:0' shape=(3, 3) dtype=float32_ref>\n",
      "d:  <tf.Variable 'd:0' shape=(3, 3) dtype=float32_ref>\n"
     ]
    }
   ],
   "source": [
    "#----方式2: \n",
    "#搭配 tf.constant()、tf.ones()、tf.zeros()來建立tf.Variable()\n",
    "\n",
    "ones = tf.ones(shape=[3,3],name='ones')\n",
    "print(\"ones:\",ones)#預設數值型態(dtype)float32\n",
    "\n",
    "zeros = tf.zeros(shape=[3,3],name='zeros')\n",
    "print(\"zeros:\",zeros)#預設數值型態(dtype)float32\n",
    "\n",
    "b=tf.Variable(tf.constant([[1,2],[1,2]]),name='b')\n",
    "print(\"b: \",b)\n",
    "\n",
    "c=tf.Variable(ones,name='c')\n",
    "print(\"c: \",c)\n",
    "\n",
    "d=tf.Variable(zeros,name='d')\n",
    "print(\"d: \",d)"
   ]
  },
  {
   "cell_type": "code",
   "execution_count": 28,
   "metadata": {},
   "outputs": [
    {
     "name": "stdout",
     "output_type": "stream",
     "text": [
      "ones: \n",
      " [[1. 1. 1.]\n",
      " [1. 1. 1.]\n",
      " [1. 1. 1.]]\n",
      "zeros: \n",
      " [[0. 0. 0.]\n",
      " [0. 0. 0.]\n",
      " [0. 0. 0.]]\n",
      "b: \n",
      " [[1 2]\n",
      " [1 2]]\n",
      "c: \n",
      " [[1. 1. 1.]\n",
      " [1. 1. 1.]\n",
      " [1. 1. 1.]]\n",
      "d: \n",
      " [[0. 0. 0.]\n",
      " [0. 0. 0.]\n",
      " [0. 0. 0.]]\n"
     ]
    }
   ],
   "source": [
    "with tf.Session() as sess:\n",
    "    \n",
    "    sess.run(tf.global_variables_initializer())\n",
    "    print(\"ones: \\n\",sess.run(ones))\n",
    "    print(\"zeros: \\n\",sess.run(zeros))\n",
    "    print('b: \\n',sess.run(b))\n",
    "    print('c: \\n',sess.run(c))\n",
    "    print('d: \\n',sess.run(d))"
   ]
  },
  {
   "cell_type": "code",
   "execution_count": 29,
   "metadata": {},
   "outputs": [
    {
     "name": "stdout",
     "output_type": "stream",
     "text": [
      "e:  <tf.Variable 'e:0' shape=(3, 3) dtype=float32_ref>\n",
      "f:  <tf.Variable 'f:0' shape=(3, 3) dtype=float32_ref>\n",
      "g:  <tf.Variable 'g:0' shape=(3, 3) dtype=float32_ref>\n",
      "e: \n",
      " [[1.0756657  1.1131315  1.0916035 ]\n",
      " [1.043614   0.94494075 0.9794925 ]\n",
      " [0.97873986 0.90285957 0.80597824]]\n",
      "f: \n",
      " [[0.9437075  1.0743661  0.95120555]\n",
      " [0.88364357 1.0353849  0.9917112 ]\n",
      " [0.9898488  0.9485826  0.97107315]]\n",
      "g: \n",
      " [[1.1535685  0.9914816  0.8001799 ]\n",
      " [0.9727666  0.9327952  0.86764693]\n",
      " [1.0218061  1.0958776  1.0884562 ]]\n"
     ]
    }
   ],
   "source": [
    "#----方式3: \n",
    "#搭配 tf.random函數來建立 tf.Variable() \n",
    "\n",
    "#tf.random_normal(shape, mean=0.0, stddev=1.0, dtype=tf.float32, seed=None, name=None)\n",
    "e=tf.Variable(tf.random_normal(shape=[3,3],mean=1.0,stddev=0.1),name='e')\n",
    "print(\"e: \",e)\n",
    "\n",
    "#tf.truncated_normal(shape, mean=0.0, stddev=1.0, dtype=tf.float32, seed=None, name=None)\n",
    "#所有的數值會落在|2*std_dev|區間,在區間外的數值會被去除，所以稱為被截斷的(truncated)\n",
    "#tf.random_normal()則會包含所有數值\n",
    "f=tf.Variable(tf.truncated_normal(shape=[3,3],mean=1.0,stddev=0.1),name='f')\n",
    "print(\"f: \",f)\n",
    "\n",
    "#tf.random_uniform(shape, minval=0, maxval=None, dtype=tf.float32, seed=None, name=None)\n",
    "#所有的數值會平均落在[minval, maxval區間 \n",
    "g=tf.Variable(tf.random_uniform(shape=[3,3],minval=0.8,maxval=1.2),name='g')\n",
    "print(\"g: \",g)\n",
    "\n",
    "with tf.Session() as sess:\n",
    "    \n",
    "    sess.run(tf.global_variables_initializer())\n",
    "    \n",
    "    print('e: \\n',sess.run(e))\n",
    "    print('f: \\n',sess.run(f))\n",
    "    print('g: \\n',sess.run(g))"
   ]
  },
  {
   "cell_type": "markdown",
   "metadata": {},
   "source": [
    "# tf.placeholder()的用法"
   ]
  },
  {
   "cell_type": "code",
   "execution_count": 30,
   "metadata": {},
   "outputs": [
    {
     "name": "stdout",
     "output_type": "stream",
     "text": [
      "area =  56\n"
     ]
    }
   ],
   "source": [
    "width = tf.placeholder('int32',name='width')\n",
    "height = tf.placeholder('int32',name='height')\n",
    "\n",
    "area = tf.multiply(width,height,name='area')\n",
    "\n",
    "with tf.Session() as sess:\n",
    "    \n",
    "    sess.run(tf.global_variables_initializer())\n",
    "    \n",
    "    print(\"area = \",sess.run(area,feed_dict={width:8,height:7}))"
   ]
  },
  {
   "cell_type": "markdown",
   "metadata": {},
   "source": [
    "# tf.Graph()"
   ]
  },
  {
   "cell_type": "code",
   "execution_count": 31,
   "metadata": {},
   "outputs": [
    {
     "name": "stdout",
     "output_type": "stream",
     "text": [
      "area =  56\n"
     ]
    }
   ],
   "source": [
    "graph = tf.Graph()#宣告計算圖\n",
    "with graph.as_default():\n",
    "    \n",
    "    width = tf.placeholder('int32',name='width')\n",
    "    height = tf.placeholder('int32',name='height')\n",
    "\n",
    "    area = tf.multiply(width,height,name='area')\n",
    "\n",
    "    with tf.Session() as sess:\n",
    "\n",
    "        sess.run(tf.global_variables_initializer())\n",
    "\n",
    "        print(\"area = \",sess.run(area,feed_dict={width:8,height:7}))\n"
   ]
  },
  {
   "cell_type": "code",
   "execution_count": 32,
   "metadata": {},
   "outputs": [
    {
     "name": "stdout",
     "output_type": "stream",
     "text": [
      "Tensor(\"width_1:0\", dtype=int32)\n",
      "Tensor(\"width_2:0\", dtype=int32)\n"
     ]
    }
   ],
   "source": [
    "width = tf.placeholder('int32',name='width')\n",
    "width_2 = tf.placeholder('int32',name='width')\n",
    "print(width)\n",
    "print(width_2)"
   ]
  },
  {
   "cell_type": "markdown",
   "metadata": {},
   "source": [
    "# 使用多個計算圖"
   ]
  },
  {
   "cell_type": "code",
   "execution_count": 33,
   "metadata": {},
   "outputs": [
    {
     "name": "stdout",
     "output_type": "stream",
     "text": [
      "c1: Tensor(\"c1:0\", shape=(), dtype=int32)\n",
      "c2: Tensor(\"c1:0\", shape=(), dtype=int32)\n",
      "c1= 1\n",
      "c2= 2\n"
     ]
    }
   ],
   "source": [
    "Graph_1=tf.Graph()\n",
    "with Graph_1.as_default():\n",
    "    \n",
    "    c1=tf.constant(1,name='c1')\n",
    "    \n",
    "    print(\"c1:\",c1)\n",
    "    \n",
    "Graph_2=tf.Graph()\n",
    "with Graph_2.as_default():\n",
    "    \n",
    "    c2=tf.constant(2,name='c1')\n",
    "    \n",
    "    print(\"c2:\",c2)\n",
    "\n",
    "\n",
    "with tf.Session(graph=Graph_1) as sess:\n",
    "    \n",
    "    sess.run(tf.global_variables_initializer())\n",
    "    \n",
    "    print('c1=',sess.run(c1))\n",
    "    \n",
    "with tf.Session(graph=Graph_2) as sess:\n",
    "    \n",
    "    sess.run(tf.global_variables_initializer())\n",
    "    \n",
    "    print('c2=',sess.run(c2))\n"
   ]
  },
  {
   "cell_type": "code",
   "execution_count": 34,
   "metadata": {},
   "outputs": [
    {
     "name": "stdout",
     "output_type": "stream",
     "text": [
      "area_1: Tensor(\"area:0\", dtype=float32)\n",
      "area_2: Tensor(\"area:0\", dtype=float32)\n",
      "area_1: 10000.0\n",
      "area_2: 10.0\n"
     ]
    }
   ],
   "source": [
    "Graph_1 = tf.Graph()\n",
    "with Graph_1.as_default():\n",
    "    height_1 = tf.placeholder(dtype=tf.float32,name='height')\n",
    "    width_1 = tf.placeholder(dtype=tf.float32,name='width')\n",
    "    area_1 = tf.multiply(height_1,width_1,name='area')\n",
    "    \n",
    "    print(\"area_1:\",area_1)\n",
    "    \n",
    "    sess_1 = tf.Session(graph=Graph_1)\n",
    "    sess_1.run(tf.global_variables_initializer())\n",
    "\n",
    "\n",
    "Graph_2 = tf.Graph()\n",
    "with Graph_2.as_default():\n",
    "    height_2 = tf.placeholder(dtype=tf.float32,name='height')\n",
    "    width_2 = tf.placeholder(dtype=tf.float32,name='width')\n",
    "    area_2 = tf.multiply(height_2,width_2)\n",
    "    area_2 = tf.divide(area_2,1000.,name='area')\n",
    "    \n",
    "    print(\"area_2:\",area_2)\n",
    "    \n",
    "    sess_2 = tf.Session()\n",
    "    sess_2.run(tf.global_variables_initializer())\n",
    "    \n",
    "print(\"area_1:\",sess_1.run(area_1,feed_dict={height_1:100.,width_1:100.}))\n",
    "print(\"area_2:\",sess_2.run(area_2,feed_dict={height_2:100.,width_2:100.}))  \n",
    "\n",
    "sess_1.close()\n",
    "sess_2.close()"
   ]
  },
  {
   "cell_type": "markdown",
   "metadata": {},
   "source": [
    "# GPU資源設定"
   ]
  },
  {
   "cell_type": "code",
   "execution_count": 35,
   "metadata": {},
   "outputs": [
    {
     "name": "stdout",
     "output_type": "stream",
     "text": [
      "area_1: Tensor(\"area:0\", dtype=float32)\n",
      "Device mapping:\n",
      "/job:localhost/replica:0/task:0/device:GPU:0 -> device: 0, name: GeForce RTX 2080 Ti, pci bus id: 0000:01:00.0, compute capability: 7.5\n",
      "\n",
      "area_1: 10000.0\n"
     ]
    }
   ],
   "source": [
    "GPU_ratio = None\n",
    "\n",
    "Graph_1 = tf.Graph()\n",
    "with Graph_1.as_default():\n",
    "    height_1 = tf.placeholder(dtype=tf.float32,name='height')\n",
    "    width_1 = tf.placeholder(dtype=tf.float32,name='width')\n",
    "    area_1 = tf.multiply(height_1,width_1,name='area')\n",
    "    \n",
    "    print(\"area_1:\",area_1)\n",
    "    \n",
    "    #----GPU setting\n",
    "    config = tf.ConfigProto(log_device_placement=True,\n",
    "                            allow_soft_placement=True)\n",
    "    if GPU_ratio is None:\n",
    "        config.gpu_options.allow_growth = True\n",
    "    else:\n",
    "        config.gpu_options.per_process_gpu_memory_fraction = GPU_ratio\n",
    "    \n",
    "    sess_1 = tf.Session(graph=Graph_1,config=config)\n",
    "    sess_1.run(tf.global_variables_initializer())\n",
    "    \n",
    "print(\"area_1:\",sess_1.run(area_1,feed_dict={height_1:100.,width_1:100.}))"
   ]
  },
  {
   "cell_type": "code",
   "execution_count": null,
   "metadata": {},
   "outputs": [],
   "source": []
  }
 ],
 "metadata": {
  "kernelspec": {
   "display_name": "Python 3",
   "language": "python",
   "name": "python3"
  },
  "language_info": {
   "codemirror_mode": {
    "name": "ipython",
    "version": 3
   },
   "file_extension": ".py",
   "mimetype": "text/x-python",
   "name": "python",
   "nbconvert_exporter": "python",
   "pygments_lexer": "ipython3",
   "version": "3.7.4"
  }
 },
 "nbformat": 4,
 "nbformat_minor": 2
}
