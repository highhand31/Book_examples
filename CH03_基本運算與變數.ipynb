{
 "cells": [
  {
   "cell_type": "code",
   "execution_count": 3,
   "metadata": {},
   "outputs": [
    {
     "name": "stdout",
     "output_type": "stream",
     "text": [
      "hello world\n"
     ]
    }
   ],
   "source": [
    "print(\"hello world\") #顯示文字字串"
   ]
  },
  {
   "cell_type": "code",
   "execution_count": 4,
   "metadata": {},
   "outputs": [
    {
     "name": "stdout",
     "output_type": "stream",
     "text": [
      "242190\n"
     ]
    }
   ],
   "source": [
    "print(45*78*69)#顯示數學運算結果"
   ]
  },
  {
   "cell_type": "code",
   "execution_count": 5,
   "metadata": {},
   "outputs": [
    {
     "data": {
      "text/plain": [
       "NoneType"
      ]
     },
     "execution_count": 5,
     "metadata": {},
     "output_type": "execute_result"
    }
   ],
   "source": [
    "type(None)#全部不使用print()，僅會顯示最後一行的執行結果"
   ]
  },
  {
   "cell_type": "code",
   "execution_count": 10,
   "metadata": {},
   "outputs": [
    {
     "data": {
      "text/plain": [
       "'hello world'"
      ]
     },
     "execution_count": 10,
     "metadata": {},
     "output_type": "execute_result"
    }
   ],
   "source": [
    "\"hello world\""
   ]
  },
  {
   "cell_type": "code",
   "execution_count": 12,
   "metadata": {},
   "outputs": [
    {
     "name": "stdout",
     "output_type": "stream",
     "text": [
      "hello world\n",
      "This is Python world\n",
      "Don't be afraid ~\n"
     ]
    }
   ],
   "source": [
    "print(\"hello world\")\n",
    "print(\"This is Python world\")\n",
    "print(\"Don't be afraid ~\")"
   ]
  },
  {
   "cell_type": "markdown",
   "metadata": {},
   "source": [
    "# 註解方式"
   ]
  },
  {
   "cell_type": "code",
   "execution_count": 13,
   "metadata": {},
   "outputs": [
    {
     "name": "stdout",
     "output_type": "stream",
     "text": [
      "242190\n"
     ]
    }
   ],
   "source": [
    "#使用井字號的註解方式\n",
    "\n",
    "print(45*78*69)#說明程式碼的目的\n",
    "\n",
    "#也可以提醒自己為何要寫這行程式碼\n",
    "#讓1年後的自己會感謝自己\n",
    "\n",
    "# 可以使用快捷鍵 Ctrl + /"
   ]
  },
  {
   "cell_type": "code",
   "execution_count": 15,
   "metadata": {},
   "outputs": [
    {
     "name": "stdout",
     "output_type": "stream",
     "text": [
      "242190\n"
     ]
    }
   ],
   "source": [
    "'''\n",
    "這種註解方式可以進行大量文字的註解\n",
    "不用在每一行的開頭都輸入井字號\n",
    "比較常使用在函數的參數解釋\n",
    "\n",
    "'''\n",
    "print(45*78*69)#說明程式碼的目的"
   ]
  },
  {
   "cell_type": "markdown",
   "metadata": {},
   "source": [
    "# 數學四則運算"
   ]
  },
  {
   "cell_type": "code",
   "execution_count": 16,
   "metadata": {},
   "outputs": [
    {
     "name": "stdout",
     "output_type": "stream",
     "text": [
      "12\n",
      "7.5\n",
      "13\n"
     ]
    }
   ],
   "source": [
    "print(6*3-2*3)\n",
    "print(45/6)\n",
    "print(3+2*5)"
   ]
  },
  {
   "cell_type": "code",
   "execution_count": 18,
   "metadata": {},
   "outputs": [
    {
     "name": "stdout",
     "output_type": "stream",
     "text": [
      "48\n"
     ]
    }
   ],
   "source": [
    "print((6*3-2)*3)"
   ]
  },
  {
   "cell_type": "code",
   "execution_count": 19,
   "metadata": {},
   "outputs": [
    {
     "name": "stdout",
     "output_type": "stream",
     "text": [
      "25\n"
     ]
    }
   ],
   "source": [
    "print((3+2)*5)"
   ]
  },
  {
   "cell_type": "code",
   "execution_count": 20,
   "metadata": {},
   "outputs": [
    {
     "name": "stdout",
     "output_type": "stream",
     "text": [
      "25\n",
      "64\n",
      "3.0\n"
     ]
    }
   ],
   "source": [
    "print(5**2)#5的平方\n",
    "print(4**3)#4的3次方\n",
    "print(9**0.5)#9的0.5次方"
   ]
  },
  {
   "cell_type": "code",
   "execution_count": 22,
   "metadata": {},
   "outputs": [
    {
     "name": "stdout",
     "output_type": "stream",
     "text": [
      "3\n",
      "1\n"
     ]
    }
   ],
   "source": [
    "print(10 // 3)#10除以3結果的整數部分\n",
    "print(10 % 3)#10除以3結果的餘數部分"
   ]
  },
  {
   "cell_type": "code",
   "execution_count": 21,
   "metadata": {},
   "outputs": [
    {
     "name": "stdout",
     "output_type": "stream",
     "text": [
      "45880.5\n",
      "45880.5\n"
     ]
    }
   ],
   "source": [
    "print(6**6+12/8-365-412)#數字與符號間沒有加空格\n",
    "\n",
    "#數字與符號間有空格，閱讀較為輕鬆\n",
    "print(6 ** 6 + 12 / 8 - 365 - 412)"
   ]
  },
  {
   "cell_type": "markdown",
   "metadata": {},
   "source": [
    "# 使用變數"
   ]
  },
  {
   "cell_type": "code",
   "execution_count": 1,
   "metadata": {},
   "outputs": [
    {
     "name": "stdout",
     "output_type": "stream",
     "text": [
      "餘額 =  13501\n"
     ]
    }
   ],
   "source": [
    "#變數賦予數值意義\n",
    "salary = 36000#月薪\n",
    "rental = 7000#房租費用\n",
    "food = 10000#飲食花費\n",
    "telephone_fee = 499#手機費用\n",
    "insurance = 2000#保險費用\n",
    "entertainment = 3000#娛樂花費\n",
    "\n",
    "balance = salary - (rental + food + telephone_fee + insurance + entertainment)\n",
    "print(\"餘額 = \",balance)\n"
   ]
  },
  {
   "cell_type": "code",
   "execution_count": 22,
   "metadata": {},
   "outputs": [
    {
     "data": {
      "text/plain": [
       "4149515568880992958512407863691161151012446232242436899995657329690652811412908146399707048947103794288197886611300789182395151075411775307886874834113963687061181803401509523685376"
      ]
     },
     "execution_count": 22,
     "metadata": {},
     "output_type": "execute_result"
    }
   ],
   "source": [
    "a = 2**600\n",
    "a"
   ]
  },
  {
   "cell_type": "code",
   "execution_count": 23,
   "metadata": {},
   "outputs": [
    {
     "data": {
      "text/plain": [
       "4.149515568880993e+179"
      ]
     },
     "execution_count": 23,
     "metadata": {},
     "output_type": "execute_result"
    }
   ],
   "source": [
    "a = 2**600 * 0.1\n",
    "a"
   ]
  },
  {
   "cell_type": "code",
   "execution_count": 10,
   "metadata": {},
   "outputs": [
    {
     "name": "stdout",
     "output_type": "stream",
     "text": [
      "36000\n",
      "35000\n",
      "30000\n",
      "28000\n"
     ]
    }
   ],
   "source": [
    "salary2 = 36000\n",
    "salary_2 = 35000 #使用英文、底線、數字來命名變數\n",
    "Salary2 = 30000 #S大寫的Salary2與s小寫的salary2不同\n",
    "_ = 28000 #單獨底線也是可以成為變數名稱，多用在不重要的變數或函數回傳值\n",
    "print(salary2)\n",
    "print(salary_2)\n",
    "print(Salary2)\n",
    "print(_)"
   ]
  },
  {
   "cell_type": "markdown",
   "metadata": {},
   "source": [
    "# 查詢Python內建的關鍵字"
   ]
  },
  {
   "cell_type": "code",
   "execution_count": 8,
   "metadata": {},
   "outputs": [
    {
     "name": "stdout",
     "output_type": "stream",
     "text": [
      "['False', 'None', 'True', 'and', 'as', 'assert', 'async', 'await', 'break', 'class', 'continue', 'def', 'del', 'elif', 'else', 'except', 'finally', 'for', 'from', 'global', 'if', 'import', 'in', 'is', 'lambda', 'nonlocal', 'not', 'or', 'pass', 'raise', 'return', 'try', 'while', 'with', 'yield']\n"
     ]
    }
   ],
   "source": [
    "import keyword\n",
    "\n",
    "print(keyword.kwlist)\n"
   ]
  },
  {
   "cell_type": "markdown",
   "metadata": {},
   "source": [
    "# 變數的身分識別碼(identification)"
   ]
  },
  {
   "cell_type": "code",
   "execution_count": 15,
   "metadata": {},
   "outputs": [
    {
     "name": "stdout",
     "output_type": "stream",
     "text": [
      "140734492414848 140734492414848 140734492414912\n",
      "140734492414848 140734492414912 140734492414912\n",
      "140734492414848 140734492414912 140734492414976\n",
      "3 5 7\n"
     ]
    }
   ],
   "source": [
    "test= 3\n",
    "a = 3\n",
    "b = 5\n",
    "print(id(test),id(a),id(b))\n",
    "a = 5\n",
    "print(id(test),id(a),id(b))\n",
    "\n",
    "b += 2\n",
    "print(id(test),id(a),id(b))\n",
    "print(test,a,b)\n"
   ]
  },
  {
   "cell_type": "code",
   "execution_count": 27,
   "metadata": {},
   "outputs": [
    {
     "name": "stdout",
     "output_type": "stream",
     "text": [
      "<class 'int'>\n",
      "yes\n"
     ]
    }
   ],
   "source": [
    "a = 3\n",
    "print(type(a))\n",
    "\n",
    "if isinstance(a,int):\n",
    "    print(\"yes\")"
   ]
  },
  {
   "cell_type": "code",
   "execution_count": 5,
   "metadata": {},
   "outputs": [
    {
     "name": "stdout",
     "output_type": "stream",
     "text": [
      "4.149515568880993e+179\n"
     ]
    }
   ],
   "source": [
    "a = 2**600 * 0.1\n",
    "print(a)"
   ]
  },
  {
   "cell_type": "markdown",
   "metadata": {},
   "source": [
    "# 計算後的數值型態"
   ]
  },
  {
   "cell_type": "code",
   "execution_count": 9,
   "metadata": {},
   "outputs": [
    {
     "name": "stdout",
     "output_type": "stream",
     "text": [
      "整數36 + 整數0 =  36\n",
      "整數36 + 浮點數0.0 =  36.0\n"
     ]
    }
   ],
   "source": [
    "a = 36\n",
    "\n",
    "print(\"整數36 + 整數0 = \",a + 0)\n",
    "print(\"整數36 + 浮點數0.0 = \",a + 0.0)"
   ]
  },
  {
   "cell_type": "code",
   "execution_count": 10,
   "metadata": {},
   "outputs": [
    {
     "name": "stdout",
     "output_type": "stream",
     "text": [
      "整數36 - 整數0 =  36\n",
      "整數36 - 浮點數0.0 =  36.0\n"
     ]
    }
   ],
   "source": [
    "print(\"整數36 - 整數0 = \",a - 0)\n",
    "print(\"整數36 - 浮點數0.0 = \",a - 0.0)"
   ]
  },
  {
   "cell_type": "code",
   "execution_count": 11,
   "metadata": {},
   "outputs": [
    {
     "name": "stdout",
     "output_type": "stream",
     "text": [
      "整數36 * 整數1 =  36\n",
      "整數36 * 浮點數1.0 =  36.0\n"
     ]
    }
   ],
   "source": [
    "print(\"整數36 * 整數1 = \",a * 1)\n",
    "print(\"整數36 * 浮點數1.0 = \",a * 1.0)"
   ]
  },
  {
   "cell_type": "code",
   "execution_count": 12,
   "metadata": {},
   "outputs": [
    {
     "name": "stdout",
     "output_type": "stream",
     "text": [
      "整數36 / 整數1 =  36.0\n",
      "整數36 / 浮點數1.0 =  36.0\n"
     ]
    }
   ],
   "source": [
    "print(\"整數36 / 整數1 = \",a / 1)\n",
    "print(\"整數36 / 浮點數1.0 = \",a / 1.0)"
   ]
  },
  {
   "cell_type": "code",
   "execution_count": 13,
   "metadata": {},
   "outputs": [
    {
     "name": "stdout",
     "output_type": "stream",
     "text": [
      "整數2的整數10次方 =  1024\n",
      "整數2的浮點數10.0次方 =  1024.0\n"
     ]
    }
   ],
   "source": [
    "print(\"整數2的整數10次方 = \",2**10)\n",
    "print(\"整數2的浮點數10.0次方 = \",2**10.0)"
   ]
  },
  {
   "cell_type": "code",
   "execution_count": 14,
   "metadata": {},
   "outputs": [
    {
     "name": "stdout",
     "output_type": "stream",
     "text": [
      "浮點數2.0的整數10次方 =  1024.0\n",
      "浮點數2.0的浮點數10.0次方 =  1024.0\n"
     ]
    }
   ],
   "source": [
    "print(\"浮點數2.0的整數10次方 = \",2.0**10)\n",
    "print(\"浮點數2.0的浮點數10.0次方 = \",2.0**10.0)"
   ]
  },
  {
   "cell_type": "code",
   "execution_count": 17,
   "metadata": {},
   "outputs": [
    {
     "name": "stdout",
     "output_type": "stream",
     "text": [
      "整數36 //  整數7 =  5\n",
      "整數36 //  浮點數7.0 =  5.0\n"
     ]
    }
   ],
   "source": [
    "print(\"整數36 //  整數7 = \",a // 7)\n",
    "print(\"整數36 //  浮點數7.0 = \",a // 7.0)"
   ]
  },
  {
   "cell_type": "code",
   "execution_count": 18,
   "metadata": {},
   "outputs": [
    {
     "name": "stdout",
     "output_type": "stream",
     "text": [
      "整數36 %  整數7 =  1\n",
      "整數36 %  浮點數7.0=  1.0\n"
     ]
    }
   ],
   "source": [
    "print(\"整數36 %  整數7 = \",a % 7)\n",
    "print(\"整數36 %  浮點數7.0= \",a % 7.0)"
   ]
  },
  {
   "cell_type": "markdown",
   "metadata": {},
   "source": [
    "# 使用type()得到數值型態"
   ]
  },
  {
   "cell_type": "code",
   "execution_count": 20,
   "metadata": {},
   "outputs": [
    {
     "name": "stdout",
     "output_type": "stream",
     "text": [
      "整數36 + 整數0 =  36 ，數值型態: <class 'int'>\n",
      "整數36 + 浮點數0.0 =  36.0 ，數值型態: <class 'float'>\n"
     ]
    }
   ],
   "source": [
    "print(\"整數36 + 整數0 = \",36 + 0,\"，數值型態:\",type(36 + 0))\n",
    "print(\"整數36 + 浮點數0.0 = \",36 + 0.0,\"，數值型態:\",type(36 + 0.0))"
   ]
  },
  {
   "cell_type": "code",
   "execution_count": 21,
   "metadata": {},
   "outputs": [
    {
     "name": "stdout",
     "output_type": "stream",
     "text": [
      "整數36 - 整數0 =  36 ，數值型態: <class 'int'>\n",
      "整數36 - 浮點數0.0 =  36.0 ，數值型態: <class 'float'>\n"
     ]
    }
   ],
   "source": [
    "print(\"整數36 - 整數0 = \",36 - 0,\"，數值型態:\",type(36 - 0))\n",
    "print(\"整數36 - 浮點數0.0 = \",36 - 0.0,\"，數值型態:\",type(36 - 0.0))"
   ]
  },
  {
   "cell_type": "code",
   "execution_count": 24,
   "metadata": {},
   "outputs": [
    {
     "name": "stdout",
     "output_type": "stream",
     "text": [
      "整數36 *   整數1   =  36 ， 數值型態: <class 'int'>\n",
      "整數36 * 浮點數1.0 =  36.0 ，數值型態: <class 'float'>\n"
     ]
    }
   ],
   "source": [
    "print(\"整數36 *   整數1   = \",36 * 1,\"， 數值型態:\",type(36 * 1))\n",
    "print(\"整數36 * 浮點數1.0 = \",36 * 1.0,\"，數值型態:\",type(36 * 1.0))"
   ]
  },
  {
   "cell_type": "code",
   "execution_count": 27,
   "metadata": {},
   "outputs": [
    {
     "name": "stdout",
     "output_type": "stream",
     "text": [
      "整數36 / 整數  1   =  36.0 ，數值型態: <class 'float'>\n",
      "整數36 / 浮點數1.0 =  36.0 ，數值型態: <class 'float'>\n"
     ]
    }
   ],
   "source": [
    "print(\"整數36 / 整數  1   = \",36 / 1,\"，數值型態:\",type(36 / 1))\n",
    "print(\"整數36 / 浮點數1.0 = \",36 / 1.0,\"，數值型態:\",type(36 / 1.0))"
   ]
  },
  {
   "cell_type": "markdown",
   "metadata": {},
   "source": [
    "# 使用int()轉換成整數"
   ]
  },
  {
   "cell_type": "code",
   "execution_count": 48,
   "metadata": {},
   "outputs": [
    {
     "name": "stdout",
     "output_type": "stream",
     "text": [
      "整數36 / 浮點數1.0 =  36.0 ，數值型態: <class 'float'>\n",
      "經過int()函數後的數值為 36 ，數值型態: <class 'int'>\n"
     ]
    }
   ],
   "source": [
    "a = 36\n",
    "float_1 = 1.0\n",
    "result = a / float_1\n",
    "print(\"整數36 / 浮點數1.0 = \",result,\"，數值型態:\",type(result))\n",
    "\n",
    "result = int(result)#將result結果轉換成整數，並重新給變數result此整數值\n",
    "print(\"經過int()函數後的數值為\",result,\"，數值型態:\",type(result))"
   ]
  },
  {
   "cell_type": "markdown",
   "metadata": {},
   "source": [
    "# 使用float()轉換成浮點數"
   ]
  },
  {
   "cell_type": "code",
   "execution_count": 50,
   "metadata": {},
   "outputs": [
    {
     "name": "stdout",
     "output_type": "stream",
     "text": [
      "整數36 * 整數1 =  36 ，數值型態: <class 'int'>\n",
      "經過float()函數後的數值為 36.0 ，數值型態: <class 'float'>\n"
     ]
    }
   ],
   "source": [
    "a = 36\n",
    "integer_1 = 1\n",
    "result = a * integer_1\n",
    "print(\"整數36 * 整數1 = \",result,\"，數值型態:\",type(result))\n",
    "\n",
    "result = float(result)#將result結果轉換成浮點數，並重新給值，給變數result此浮點數值\n",
    "print(\"經過float()函數後的數值為\",result,\"，數值型態:\",type(result))"
   ]
  },
  {
   "cell_type": "markdown",
   "metadata": {},
   "source": [
    "# 科學記數法"
   ]
  },
  {
   "cell_type": "code",
   "execution_count": 61,
   "metadata": {},
   "outputs": [
    {
     "name": "stdout",
     "output_type": "stream",
     "text": [
      "10000000000\n",
      "10000000000.0\n"
     ]
    }
   ],
   "source": [
    "a = 10000000000\n",
    "b = 1e10\n",
    "\n",
    "print(a)\n",
    "print(b)"
   ]
  },
  {
   "cell_type": "code",
   "execution_count": 64,
   "metadata": {},
   "outputs": [
    {
     "name": "stdout",
     "output_type": "stream",
     "text": [
      "1e-06\n",
      "1e-06\n"
     ]
    }
   ],
   "source": [
    "a = 0.000001\n",
    "b = 1e-6\n",
    "\n",
    "print(a)\n",
    "print(b)"
   ]
  },
  {
   "cell_type": "markdown",
   "metadata": {},
   "source": [
    "# 布林值型態(Bool)"
   ]
  },
  {
   "cell_type": "code",
   "execution_count": 20,
   "metadata": {},
   "outputs": [
    {
     "name": "stdout",
     "output_type": "stream",
     "text": [
      "True的型態 =  <class 'bool'>\n",
      "False的型態 =  <class 'bool'>\n"
     ]
    }
   ],
   "source": [
    "a = True#真、對\n",
    "b = False#假、錯、偽\n",
    "print(\"True的型態 = \",type(a))\n",
    "print(\"False的型態 = \",type(b))"
   ]
  },
  {
   "cell_type": "code",
   "execution_count": 27,
   "metadata": {},
   "outputs": [
    {
     "name": "stdout",
     "output_type": "stream",
     "text": [
      "a進行int()轉換前的內容 =  True 數值型態= <class 'bool'>\n",
      "a進行int()轉換後的內容 =  1.0 數值型態= <class 'float'>\n",
      "b進行int()轉換前的內容 =  False 數值型態= <class 'bool'>\n",
      "b進行int()轉換後的內容 =  0 數值型態= <class 'int'>\n"
     ]
    }
   ],
   "source": [
    "a = True\n",
    "print(\"a進行int()轉換前的內容 = \",a,'數值型態=',type(a))\n",
    "a = float(a)\n",
    "print(\"a進行int()轉換後的內容 = \",a,'數值型態=',type(a))\n",
    "\n",
    "b = False\n",
    "print(\"b進行int()轉換前的內容 = \",b,'數值型態=',type(b))\n",
    "b = int(b)\n",
    "print(\"b進行int()轉換後的內容 = \",b,'數值型態=',type(b))"
   ]
  },
  {
   "cell_type": "code",
   "execution_count": 29,
   "metadata": {},
   "outputs": [
    {
     "name": "stdout",
     "output_type": "stream",
     "text": [
      "False\n",
      "True\n",
      "True\n"
     ]
    }
   ],
   "source": [
    "a = 0\n",
    "print(bool(a))\n",
    "\n",
    "b = 0.0000000000000001\n",
    "print(bool(b))\n",
    "\n",
    "c = -0.000000000000001\n",
    "print(bool(c))"
   ]
  },
  {
   "cell_type": "code",
   "execution_count": 32,
   "metadata": {},
   "outputs": [
    {
     "name": "stdout",
     "output_type": "stream",
     "text": [
      "True\n",
      "1\n"
     ]
    }
   ],
   "source": [
    "d = 0.0000000000000001\n",
    "print(bool(d))\n",
    "\n",
    "e = bool(d)\n",
    "print(int(e))"
   ]
  },
  {
   "cell_type": "markdown",
   "metadata": {},
   "source": [
    "# 特殊形態None"
   ]
  },
  {
   "cell_type": "code",
   "execution_count": 2,
   "metadata": {},
   "outputs": [
    {
     "name": "stdout",
     "output_type": "stream",
     "text": [
      "140731286132864 140731286132864\n"
     ]
    }
   ],
   "source": [
    "a = None\n",
    "b = None\n",
    "\n",
    "print(id(a),id(b))"
   ]
  },
  {
   "cell_type": "code",
   "execution_count": 37,
   "metadata": {},
   "outputs": [
    {
     "name": "stdout",
     "output_type": "stream",
     "text": [
      "False\n"
     ]
    }
   ],
   "source": [
    "a = None\n",
    "print(a is True)"
   ]
  },
  {
   "cell_type": "code",
   "execution_count": 38,
   "metadata": {},
   "outputs": [
    {
     "name": "stdout",
     "output_type": "stream",
     "text": [
      "False\n"
     ]
    }
   ],
   "source": [
    "a = None\n",
    "print(a is False)"
   ]
  }
 ],
 "metadata": {
  "kernelspec": {
   "display_name": "Python 3",
   "language": "python",
   "name": "python3"
  },
  "language_info": {
   "codemirror_mode": {
    "name": "ipython",
    "version": 3
   },
   "file_extension": ".py",
   "mimetype": "text/x-python",
   "name": "python",
   "nbconvert_exporter": "python",
   "pygments_lexer": "ipython3",
   "version": "3.8.10"
  }
 },
 "nbformat": 4,
 "nbformat_minor": 4
}
