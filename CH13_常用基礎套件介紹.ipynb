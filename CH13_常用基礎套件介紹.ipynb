{
 "cells": [
  {
   "cell_type": "code",
   "execution_count": 1,
   "id": "61e44c1f",
   "metadata": {},
   "outputs": [],
   "source": [
    "import sys"
   ]
  },
  {
   "cell_type": "code",
   "execution_count": 3,
   "id": "comparable-behavior",
   "metadata": {},
   "outputs": [
    {
     "name": "stdout",
     "output_type": "stream",
     "text": [
      "3.8.5 (default, Sep  3 2020, 21:29:08) [MSC v.1916 64 bit (AMD64)]\n"
     ]
    }
   ],
   "source": [
    "print(sys.version)"
   ]
  },
  {
   "cell_type": "code",
   "execution_count": 7,
   "id": "4693a61e",
   "metadata": {},
   "outputs": [
    {
     "name": "stdout",
     "output_type": "stream",
     "text": [
      "sys.version_info(major=3, minor=8, micro=5, releaselevel='final', serial=0)\n"
     ]
    }
   ],
   "source": [
    "print(sys.version_info)"
   ]
  },
  {
   "cell_type": "code",
   "execution_count": 5,
   "id": "reliable-extraction",
   "metadata": {},
   "outputs": [
    {
     "name": "stdout",
     "output_type": "stream",
     "text": [
      "win32\n"
     ]
    }
   ],
   "source": [
    "print(sys.platform)"
   ]
  },
  {
   "cell_type": "code",
   "execution_count": 6,
   "id": "nonprofit-whale",
   "metadata": {},
   "outputs": [
    {
     "name": "stdout",
     "output_type": "stream",
     "text": [
      "Copyright (c) 2001-2020 Python Software Foundation.\n",
      "All Rights Reserved.\n",
      "\n",
      "Copyright (c) 2000 BeOpen.com.\n",
      "All Rights Reserved.\n",
      "\n",
      "Copyright (c) 1995-2001 Corporation for National Research Initiatives.\n",
      "All Rights Reserved.\n",
      "\n",
      "Copyright (c) 1991-1995 Stichting Mathematisch Centrum, Amsterdam.\n",
      "All Rights Reserved.\n"
     ]
    }
   ],
   "source": [
    "print(sys.copyright)"
   ]
  },
  {
   "cell_type": "markdown",
   "id": "3207c422",
   "metadata": {},
   "source": [
    "# math"
   ]
  },
  {
   "cell_type": "code",
   "execution_count": 3,
   "id": "04225651",
   "metadata": {},
   "outputs": [],
   "source": [
    "import math"
   ]
  },
  {
   "cell_type": "code",
   "execution_count": 20,
   "id": "056ab34f",
   "metadata": {},
   "outputs": [
    {
     "name": "stdout",
     "output_type": "stream",
     "text": [
      "2\n",
      "1\n",
      "2\n"
     ]
    }
   ],
   "source": [
    "a = 1.5\n",
    "print(math.ceil(a))\n",
    "print(math.floor(a))\n",
    "print(round(a))"
   ]
  },
  {
   "cell_type": "code",
   "execution_count": 197,
   "id": "dae80604",
   "metadata": {},
   "outputs": [
    {
     "name": "stdout",
     "output_type": "stream",
     "text": [
      "14964\n"
     ]
    }
   ],
   "source": [
    "batch_size = 64\n",
    "\n",
    "process_number = 957684\n",
    "\n",
    "process_times = math.ceil(process_number / batch_size)\n",
    "\n",
    "print(process_times)"
   ]
  },
  {
   "cell_type": "code",
   "execution_count": 200,
   "id": "55489e8d",
   "metadata": {},
   "outputs": [
    {
     "name": "stdout",
     "output_type": "stream",
     "text": [
      "14964\n"
     ]
    }
   ],
   "source": [
    "batch_size = 64\n",
    "\n",
    "process_number = 957684\n",
    "\n",
    "process_times = process_number / batch_size\n",
    "\n",
    "if process_number % batch_size != 0:\n",
    "    process_times = int(process_times + 1)\n",
    "else:\n",
    "    process_times = int(process_times)\n",
    "    \n",
    "print(process_times)\n"
   ]
  },
  {
   "cell_type": "markdown",
   "id": "418575de",
   "metadata": {},
   "source": [
    "# randint()"
   ]
  },
  {
   "cell_type": "code",
   "execution_count": 24,
   "id": "ecf4cd48",
   "metadata": {},
   "outputs": [
    {
     "name": "stdout",
     "output_type": "stream",
     "text": [
      "1\n",
      "64\n",
      "-100\n"
     ]
    }
   ],
   "source": [
    "import random\n",
    "\n",
    "print(random.randint(1,1))\n",
    "\n",
    "print(random.randint(1,100))\n",
    "\n",
    "print(random.randint(-100,-1))"
   ]
  },
  {
   "cell_type": "code",
   "execution_count": 31,
   "id": "2fcf7ae6",
   "metadata": {},
   "outputs": [
    {
     "name": "stdout",
     "output_type": "stream",
     "text": [
      "猜猜位於1~100的數字50\n",
      "數值要再小一點\n",
      "猜猜位於1~100的數字25\n",
      "數值要再小一點\n",
      "猜猜位於1~100的數字13\n",
      "數值要再小一點\n",
      "猜猜位於1~100的數字7\n",
      "數值要再大一點\n",
      "猜猜位於1~100的數字10\n",
      "數值要再小一點\n",
      "猜猜位於1~100的數字8\n",
      "Bingo，答對了，你總共猜了6次\n"
     ]
    }
   ],
   "source": [
    "num_list = [1,100]\n",
    "count = 0\n",
    "num = random.randint(num_list[0],num_list[1])\n",
    "\n",
    "while True:\n",
    "    guess = input(\"猜猜位於{}~{}的數字\".format(num_list[0],num_list[1]))\n",
    "    guess = int(guess)\n",
    "    count += 1\n",
    "    \n",
    "    if guess == num:\n",
    "        print(\"Bingo，答對了，你總共猜了{}次\".format(count))\n",
    "        break\n",
    "    if guess > num:\n",
    "        print(\"數值要再小一點\")\n",
    "    else:\n",
    "        print(\"數值要再大一點\")"
   ]
  },
  {
   "cell_type": "code",
   "execution_count": 37,
   "id": "94713822",
   "metadata": {},
   "outputs": [
    {
     "name": "stdout",
     "output_type": "stream",
     "text": [
      "80\n"
     ]
    }
   ],
   "source": [
    "import random\n",
    "\n",
    "rint = random.randint\n",
    "print(rint(0,100))"
   ]
  },
  {
   "cell_type": "code",
   "execution_count": 35,
   "id": "2ada5d41",
   "metadata": {},
   "outputs": [
    {
     "name": "stdout",
     "output_type": "stream",
     "text": [
      "88\n"
     ]
    }
   ],
   "source": [
    "from random import randint \n",
    "\n",
    "print(randint(0,100))"
   ]
  },
  {
   "cell_type": "code",
   "execution_count": 36,
   "id": "f78b76d6",
   "metadata": {},
   "outputs": [
    {
     "name": "stdout",
     "output_type": "stream",
     "text": [
      "14\n"
     ]
    }
   ],
   "source": [
    "from random import randint as rint\n",
    "\n",
    "print(rint(0,100))"
   ]
  },
  {
   "cell_type": "markdown",
   "id": "c3adc7c8",
   "metadata": {},
   "source": [
    "# uniform"
   ]
  },
  {
   "cell_type": "code",
   "execution_count": 153,
   "id": "7e36b42d",
   "metadata": {},
   "outputs": [
    {
     "name": "stdout",
     "output_type": "stream",
     "text": [
      "1.0\n",
      "1.0\n",
      "22.02311543901913\n",
      "99.25276135918743\n",
      "-12.448713554348416\n",
      "-46.096686329903626\n"
     ]
    }
   ],
   "source": [
    "r_float = random.uniform\n",
    "\n",
    "print(r_float(1,1))\n",
    "\n",
    "print(r_float(1.0,1.0))\n",
    "\n",
    "print(r_float(1,100))\n",
    "\n",
    "print(r_float(1.2,100.33))\n",
    "\n",
    "print(r_float(-100,-1))\n",
    "\n",
    "print(r_float(-100.22,-1.95))"
   ]
  },
  {
   "cell_type": "code",
   "execution_count": 160,
   "id": "614d8c86",
   "metadata": {},
   "outputs": [
    {
     "name": "stdout",
     "output_type": "stream",
     "text": [
      "使用uniform後得到的數值: 39.65375860726223\n",
      "使用int()轉換成整數: 39\n"
     ]
    }
   ],
   "source": [
    "r_float = random.uniform\n",
    "\n",
    "num = r_float(0,100)\n",
    "print(\"使用uniform後得到的數值:\",num)\n",
    "\n",
    "num = int(num)\n",
    "print(\"使用int()轉換成整數:\",num)"
   ]
  },
  {
   "cell_type": "markdown",
   "id": "bc870471",
   "metadata": {},
   "source": [
    "# choice()"
   ]
  },
  {
   "cell_type": "code",
   "execution_count": 64,
   "id": "529ab3e7",
   "metadata": {},
   "outputs": [
    {
     "ename": "TypeError",
     "evalue": "'set' object is not subscriptable",
     "output_type": "error",
     "traceback": [
      "\u001b[1;31m---------------------------------------------------------------------------\u001b[0m",
      "\u001b[1;31mTypeError\u001b[0m                                 Traceback (most recent call last)",
      "\u001b[1;32m<ipython-input-64-3c7c31baa80a>\u001b[0m in \u001b[0;36m<module>\u001b[1;34m\u001b[0m\n\u001b[0;32m      4\u001b[0m \u001b[0mnumbers\u001b[0m \u001b[1;33m=\u001b[0m \u001b[0mset\u001b[0m\u001b[1;33m(\u001b[0m\u001b[0mnumbers\u001b[0m\u001b[1;33m)\u001b[0m\u001b[1;33m\u001b[0m\u001b[1;33m\u001b[0m\u001b[0m\n\u001b[0;32m      5\u001b[0m \u001b[1;33m\u001b[0m\u001b[0m\n\u001b[1;32m----> 6\u001b[1;33m \u001b[0mrandom_name\u001b[0m \u001b[1;33m=\u001b[0m \u001b[0mrandom\u001b[0m\u001b[1;33m.\u001b[0m\u001b[0mchoice\u001b[0m\u001b[1;33m(\u001b[0m\u001b[0mnumbers\u001b[0m\u001b[1;33m)\u001b[0m\u001b[1;33m\u001b[0m\u001b[1;33m\u001b[0m\u001b[0m\n\u001b[0m\u001b[0;32m      7\u001b[0m \u001b[1;33m\u001b[0m\u001b[0m\n\u001b[0;32m      8\u001b[0m \u001b[0mprint\u001b[0m\u001b[1;33m(\u001b[0m\u001b[0mrandom_name\u001b[0m\u001b[1;33m)\u001b[0m\u001b[1;33m\u001b[0m\u001b[1;33m\u001b[0m\u001b[0m\n",
      "\u001b[1;32m~\\Anaconda3\\envs\\py3.8\\lib\\random.py\u001b[0m in \u001b[0;36mchoice\u001b[1;34m(self, seq)\u001b[0m\n\u001b[0;32m    289\u001b[0m         \u001b[1;32mexcept\u001b[0m \u001b[0mValueError\u001b[0m\u001b[1;33m:\u001b[0m\u001b[1;33m\u001b[0m\u001b[1;33m\u001b[0m\u001b[0m\n\u001b[0;32m    290\u001b[0m             \u001b[1;32mraise\u001b[0m \u001b[0mIndexError\u001b[0m\u001b[1;33m(\u001b[0m\u001b[1;34m'Cannot choose from an empty sequence'\u001b[0m\u001b[1;33m)\u001b[0m \u001b[1;32mfrom\u001b[0m \u001b[1;32mNone\u001b[0m\u001b[1;33m\u001b[0m\u001b[1;33m\u001b[0m\u001b[0m\n\u001b[1;32m--> 291\u001b[1;33m         \u001b[1;32mreturn\u001b[0m \u001b[0mseq\u001b[0m\u001b[1;33m[\u001b[0m\u001b[0mi\u001b[0m\u001b[1;33m]\u001b[0m\u001b[1;33m\u001b[0m\u001b[1;33m\u001b[0m\u001b[0m\n\u001b[0m\u001b[0;32m    292\u001b[0m \u001b[1;33m\u001b[0m\u001b[0m\n\u001b[0;32m    293\u001b[0m     \u001b[1;32mdef\u001b[0m \u001b[0mshuffle\u001b[0m\u001b[1;33m(\u001b[0m\u001b[0mself\u001b[0m\u001b[1;33m,\u001b[0m \u001b[0mx\u001b[0m\u001b[1;33m,\u001b[0m \u001b[0mrandom\u001b[0m\u001b[1;33m=\u001b[0m\u001b[1;32mNone\u001b[0m\u001b[1;33m)\u001b[0m\u001b[1;33m:\u001b[0m\u001b[1;33m\u001b[0m\u001b[1;33m\u001b[0m\u001b[0m\n",
      "\u001b[1;31mTypeError\u001b[0m: 'set' object is not subscriptable"
     ]
    }
   ],
   "source": [
    "import random\n",
    "\n",
    "numbers = ['Jane','Jacky','Jay','Jolin','Johnny']\n",
    "numbers = set(numbers)\n",
    "\n",
    "random_name = random.choice(numbers)\n",
    "\n",
    "print(random_name)"
   ]
  },
  {
   "cell_type": "code",
   "execution_count": 95,
   "id": "2d7678c4",
   "metadata": {},
   "outputs": [
    {
     "name": "stdout",
     "output_type": "stream",
     "text": [
      "Jacky\n"
     ]
    }
   ],
   "source": [
    "import random\n",
    "\n",
    "rint = random.randint\n",
    "\n",
    "names = ['Jane','Jacky','Jay','Jolin','Johnny']\n",
    "\n",
    "rnum = rint(0,len(names) - 1)\n",
    "\n",
    "\n",
    "print(names[rnum])"
   ]
  },
  {
   "cell_type": "markdown",
   "id": "162d52ae",
   "metadata": {},
   "source": [
    "# choices()"
   ]
  },
  {
   "cell_type": "code",
   "execution_count": 184,
   "id": "2d2fc75e",
   "metadata": {},
   "outputs": [
    {
     "name": "stdout",
     "output_type": "stream",
     "text": [
      "Jane\n",
      "['Jay', 'Jolin', 'Jay', 'Jolin', 'Jacky']\n"
     ]
    }
   ],
   "source": [
    "import random\n",
    "\n",
    "names = ['Jane','Jacky','Jay','Jolin','Johnny']\n",
    "\n",
    "print(random.choice(names))\n",
    "\n",
    "print(random.choices(names,k=5))"
   ]
  },
  {
   "cell_type": "markdown",
   "id": "7b0a6116",
   "metadata": {},
   "source": [
    "# shuffle()"
   ]
  },
  {
   "cell_type": "code",
   "execution_count": 18,
   "id": "3917c6f8",
   "metadata": {},
   "outputs": [
    {
     "name": "stdout",
     "output_type": "stream",
     "text": [
      "未shuffle前的串列內容: ['Jane', 'Jacky', 'Jay', 'Jolin', 'Johnny']\n",
      "有shuffle後的串列內容: ['Jane', 'Jolin', 'Johnny', 'Jay', 'Jacky']\n"
     ]
    }
   ],
   "source": [
    "import random\n",
    "\n",
    "names = ['Jane','Jacky','Jay','Jolin','Johnny']\n",
    "\n",
    "print(\"未shuffle前的串列內容:\",names)\n",
    "\n",
    "random.shuffle(names)\n",
    "\n",
    "print(\"有shuffle後的串列內容:\",names)"
   ]
  },
  {
   "cell_type": "code",
   "execution_count": 195,
   "id": "768927d2",
   "metadata": {},
   "outputs": [
    {
     "name": "stdout",
     "output_type": "stream",
     "text": [
      "第1次取出的值:Johnny\n",
      "第2次取出的值:Jane\n",
      "第3次取出的值:Jacky\n"
     ]
    }
   ],
   "source": [
    "import random\n",
    "index = -1\n",
    "names = ['Jane','Jacky','Jay','Jolin','Johnny']\n",
    "\n",
    "for i in range(3):\n",
    "    random.shuffle(names)\n",
    "    print(\"第{}次取出的值:{}\".format(i+1,names[index]))"
   ]
  },
  {
   "cell_type": "markdown",
   "id": "015ff92c",
   "metadata": {},
   "source": [
    "# time()"
   ]
  },
  {
   "cell_type": "code",
   "execution_count": 2,
   "id": "5394365d",
   "metadata": {},
   "outputs": [
    {
     "name": "stdout",
     "output_type": "stream",
     "text": [
      "1632450735.9507189\n"
     ]
    }
   ],
   "source": [
    "import time\n",
    "\n",
    "print(time.time())"
   ]
  },
  {
   "cell_type": "code",
   "execution_count": 19,
   "id": "ed73b8ac",
   "metadata": {},
   "outputs": [
    {
     "name": "stdout",
     "output_type": "stream",
     "text": [
      "猜猜位於1~100的數字50\n",
      "數值要再大一點\n",
      "猜猜位於1~100的數字75\n",
      "數值要再大一點\n",
      "猜猜位於1~100的數字85\n",
      "數值要再大一點\n",
      "猜猜位於1~100的數字92\n",
      "數值要再大一點\n",
      "猜猜位於1~100的數字96\n",
      "數值要再大一點\n",
      "猜猜位於1~100的數字98\n",
      "數值要再小一點\n",
      "猜猜位於1~100的數字97\n",
      "Bingo，答對了，你總共猜了7次\n",
      "所花時間為24.53179621696472秒\n"
     ]
    }
   ],
   "source": [
    "num_list = [1,100]\n",
    "count = 0\n",
    "num = random.randint(num_list[0],num_list[1])\n",
    "t_1 = time.time()\n",
    "\n",
    "while True:\n",
    "    guess = input(\"猜猜位於{}~{}的數字\".format(num_list[0],num_list[1]))\n",
    "    guess = int(guess)\n",
    "    count += 1\n",
    "    \n",
    "    if guess == num:\n",
    "        t_2 = time.time()\n",
    "        print(\"Bingo，答對了，你總共猜了{}次\".format(count))\n",
    "        print(\"所花時間為{}秒\".format(t_2 - t_1))\n",
    "        break\n",
    "    if guess > num:\n",
    "        print(\"數值要再小一點\")\n",
    "    else:\n",
    "        print(\"數值要再大一點\")"
   ]
  },
  {
   "cell_type": "markdown",
   "id": "c3b213c6",
   "metadata": {},
   "source": [
    "# asctime()"
   ]
  },
  {
   "cell_type": "code",
   "execution_count": 24,
   "id": "9adb0b90",
   "metadata": {},
   "outputs": [
    {
     "name": "stdout",
     "output_type": "stream",
     "text": [
      "<class 'str'>\n",
      "Sat May 22 17:48:39 2021\n"
     ]
    }
   ],
   "source": [
    "now_time = time.asctime()\n",
    "\n",
    "print(type(now_time))\n",
    "print(now_time)"
   ]
  },
  {
   "cell_type": "markdown",
   "id": "aaeb2427",
   "metadata": {},
   "source": [
    "# localtime()"
   ]
  },
  {
   "cell_type": "code",
   "execution_count": 27,
   "id": "1ba26b8d",
   "metadata": {},
   "outputs": [
    {
     "name": "stdout",
     "output_type": "stream",
     "text": [
      "<class 'time.struct_time'>\n",
      "年:2021\n",
      "月:5\n",
      "日:22\n",
      "時:18\n",
      "分:1\n",
      "秒:28\n",
      "星期:5\n",
      "一年當中的第幾天:142\n",
      "夏令時間:0\n"
     ]
    }
   ],
   "source": [
    "struct_list = ['年','月','日','時','分','秒','星期','一年當中的第幾天','夏令時間']\n",
    "struct_time = time.localtime()\n",
    "print(type(struct_time))\n",
    "\n",
    "for i,time_member in enumerate(struct_time):\n",
    "    print(\"{}:{}\".format(struct_list[i],time_member))"
   ]
  },
  {
   "cell_type": "code",
   "execution_count": 3,
   "id": "e61a912b",
   "metadata": {},
   "outputs": [
    {
     "name": "stdout",
     "output_type": "stream",
     "text": [
      "file_tailer: 2021924103218\n",
      "new_file_path: customer_report_2021924103218.pptx\n"
     ]
    }
   ],
   "source": [
    "file_name = 'customer_report.pptx'\n",
    "\n",
    "splits = file_name.split(\".\")\n",
    "\n",
    "struct_time = time.localtime()\n",
    "\n",
    "file_tailer = ''\n",
    "for i in range(6):\n",
    "    file_tailer = file_tailer + str(struct_time[i])\n",
    "print(\"file_tailer:\",file_tailer)\n",
    "\n",
    "new_file_path = \"{}_{}.{}\".format(splits[0],file_tailer,splits[-1])\n",
    "\n",
    "print(\"new_file_path:\",new_file_path)"
   ]
  }
 ],
 "metadata": {
  "kernelspec": {
   "display_name": "Python 3",
   "language": "python",
   "name": "python3"
  },
  "language_info": {
   "codemirror_mode": {
    "name": "ipython",
    "version": 3
   },
   "file_extension": ".py",
   "mimetype": "text/x-python",
   "name": "python",
   "nbconvert_exporter": "python",
   "pygments_lexer": "ipython3",
   "version": "3.8.10"
  }
 },
 "nbformat": 4,
 "nbformat_minor": 5
}
