{
 "cells": [
  {
   "cell_type": "markdown",
   "metadata": {},
   "source": [
    "# 匯入Tensorflow套件"
   ]
  },
  {
   "cell_type": "code",
   "execution_count": 1,
   "metadata": {},
   "outputs": [
    {
     "name": "stdout",
     "output_type": "stream",
     "text": [
      "WARNING:tensorflow:From C:\\Users\\JohnnyKavnie\\Anaconda3\\lib\\site-packages\\tensorflow\\python\\compat\\v2_compat.py:96: disable_resource_variables (from tensorflow.python.ops.variable_scope) is deprecated and will be removed in a future version.\n",
      "Instructions for updating:\n",
      "non-resource variables are not supported in the long term\n",
      "Tensorflow version:2.5.0\n"
     ]
    }
   ],
   "source": [
    "import tensorflow\n",
    "if tensorflow.__version__.startswith('1.'):\n",
    "    import tensorflow as tf\n",
    "    from tensorflow.python.platform import gfile\n",
    "else:\n",
    "    import tensorflow as v2\n",
    "    import tensorflow.compat.v1 as tf\n",
    "    tf.disable_v2_behavior()\n",
    "    import tensorflow.compat.v1.gfile as gfile\n",
    "print(\"Tensorflow version:{}\".format(tf.__version__))"
   ]
  },
  {
   "cell_type": "markdown",
   "metadata": {},
   "source": [
    "# 匯入其他套件"
   ]
  },
  {
   "cell_type": "code",
   "execution_count": 2,
   "metadata": {},
   "outputs": [],
   "source": [
    "import matplotlib.pyplot as plt\n",
    "import os\n",
    "import math\n",
    "import numpy as np\n",
    "import json"
   ]
  },
  {
   "cell_type": "markdown",
   "metadata": {},
   "source": [
    "# 匯入資料集mnist"
   ]
  },
  {
   "cell_type": "code",
   "execution_count": 47,
   "metadata": {},
   "outputs": [],
   "source": [
    " (img_train, label_train), (img_test, label_test) = tf.keras.datasets.mnist.load_data()"
   ]
  },
  {
   "cell_type": "markdown",
   "metadata": {},
   "source": [
    "# 匯入資料集fashion mnist"
   ]
  },
  {
   "cell_type": "code",
   "execution_count": 77,
   "metadata": {},
   "outputs": [],
   "source": [
    "#  (img_train, label_train), (img_test, label_test) = tf.keras.datasets.fashion_mnist.load_data()"
   ]
  },
  {
   "cell_type": "markdown",
   "metadata": {},
   "source": [
    "# 匯入資料集cifar 10"
   ]
  },
  {
   "cell_type": "code",
   "execution_count": 36,
   "metadata": {},
   "outputs": [],
   "source": [
    "#  (img_train, label_train), (img_test, label_test) = tf.keras.datasets.cifar10.load_data()"
   ]
  },
  {
   "cell_type": "code",
   "execution_count": 48,
   "metadata": {},
   "outputs": [
    {
     "name": "stdout",
     "output_type": "stream",
     "text": [
      "img_train type: <class 'numpy.ndarray'>\n",
      "img_train shape: (60000, 28, 28)\n",
      "img_train dtype: uint8\n",
      "label_train type: <class 'numpy.ndarray'>\n",
      "label_train shape: (60000,)\n",
      "label_train dtype: uint8\n"
     ]
    }
   ],
   "source": [
    "print(\"img_train type:\",type(img_train))\n",
    "print(\"img_train shape:\",img_train.shape)\n",
    "print(\"img_train dtype:\",img_train.dtype)\n",
    "print(\"label_train type:\",type(label_train))\n",
    "print(\"label_train shape:\",label_train.shape)\n",
    "print(\"label_train dtype:\",label_train.dtype)"
   ]
  },
  {
   "cell_type": "code",
   "execution_count": 49,
   "metadata": {},
   "outputs": [
    {
     "name": "stdout",
     "output_type": "stream",
     "text": [
      "img_test type: <class 'numpy.ndarray'>\n",
      "img_test shape: (10000, 28, 28)\n",
      "img_test dtype: uint8\n",
      "label_test type: <class 'numpy.ndarray'>\n",
      "label_test shape: (10000,)\n",
      "label_test dtype: uint8\n"
     ]
    }
   ],
   "source": [
    "print(\"img_test type:\",type(img_test))\n",
    "print(\"img_test shape:\",img_test.shape)\n",
    "print(\"img_test dtype:\",img_test.dtype)\n",
    "print(\"label_test type:\",type(label_test))\n",
    "print(\"label_test shape:\",label_test.shape)\n",
    "print(\"label_test dtype:\",label_test.dtype)"
   ]
  },
  {
   "cell_type": "markdown",
   "metadata": {},
   "source": [
    "# 訓練cifar10時，label要縮減維度"
   ]
  },
  {
   "cell_type": "code",
   "execution_count": 50,
   "metadata": {},
   "outputs": [],
   "source": [
    "# print(\"縮減維度之前:\",label_train.shape)\n",
    "# label_train = np.squeeze(label_train)\n",
    "# label_test = np.squeeze(label_test)\n",
    "\n",
    "# print(\"縮減維度之後:\",label_train.shape)"
   ]
  },
  {
   "cell_type": "markdown",
   "metadata": {},
   "source": [
    "# 建立label轉換成類別名稱的字典集"
   ]
  },
  {
   "cell_type": "code",
   "execution_count": 51,
   "metadata": {},
   "outputs": [],
   "source": [
    "#----mnist\n",
    "label2classname_dict = {0:'zero',\n",
    "                        1:\"one\",\n",
    "                        2:\"two\",\n",
    "                        3:\"three\",\n",
    "                        4:\"four\",\n",
    "                        5:\"five\",\n",
    "                        6:\"six\",\n",
    "                        7:\"seven\",\n",
    "                        8:'eight',\n",
    "                        9:\"nine\"}"
   ]
  },
  {
   "cell_type": "code",
   "execution_count": 80,
   "metadata": {},
   "outputs": [],
   "source": [
    "#----fashion mnist\n",
    "# label2classname_dict = {0:'T-shirt',\n",
    "#                         1:\"Trouser\",\n",
    "#                         2:\"Pullover\",\n",
    "#                         3:\"Dress\",\n",
    "#                         4:\"Coat\",\n",
    "#                         5:\"Sandal\",\n",
    "#                         6:\"Shirt\",\n",
    "#                         7:\"Sneaker\",\n",
    "#                         8:'Bag',\n",
    "#                         9:\"Ankle boot\"}"
   ]
  },
  {
   "cell_type": "code",
   "execution_count": 10,
   "metadata": {},
   "outputs": [],
   "source": [
    "# #----cifar 10\n",
    "# label2classname_dict = {0:'airplane',\n",
    "#                         1:\"automobile\",\n",
    "#                         2:\"bird\",\n",
    "#                         3:\"cat\",\n",
    "#                         4:\"deer\",\n",
    "#                         5:\"dog\",\n",
    "#                         6:\"frog\",\n",
    "#                         7:\"horse\",\n",
    "#                         8:'ship',\n",
    "#                         9:\"truck\"}"
   ]
  },
  {
   "cell_type": "markdown",
   "metadata": {},
   "source": [
    "# 圖片顯示函數"
   ]
  },
  {
   "cell_type": "code",
   "execution_count": 11,
   "metadata": {},
   "outputs": [],
   "source": [
    "def image_random_show(img_data,label_data,label2classname_dict,row=3,column=3):\n",
    "    a = np.array([1])\n",
    "    random_list = np.random.randint(0,img_data.shape[0], int(row * column))                           \n",
    "    print(\"random_list:\",random_list)\n",
    "    \n",
    "    #----設定圖片大小\n",
    "    plt.figure(figsize=(7,7))\n",
    "    #----display\n",
    "    for i, rdm_number in enumerate(random_list):\n",
    "        label = label_data[rdm_number]\n",
    "        if type(label) == type(a):\n",
    "            label = label[0]\n",
    "        classname = label2classname_dict[label]\n",
    "\n",
    "        plt.subplot(column,row,i+1)\n",
    "        plt.axis('off')\n",
    "        plt.title(\"{}\".format(classname))\n",
    "        \n",
    "        if img_data.ndim == 3:\n",
    "            plt.imshow(img_data[rdm_number],cmap='gray')\n",
    "        else:\n",
    "            plt.imshow(img_data[rdm_number])\n",
    "\n",
    "    plt.show()"
   ]
  },
  {
   "cell_type": "code",
   "execution_count": 52,
   "metadata": {},
   "outputs": [
    {
     "name": "stdout",
     "output_type": "stream",
     "text": [
      "random_list: [  440 27045 11226 37642 15759 26498  5874 15089 29942 35213 56119 43216\n",
      " 10930 47983 32927 56647 51283 35997 29652 18668 57999 42072 44223  3504\n",
      " 27475]\n"
     ]
    },
    {
     "data": {
      "image/png": "[encoded data removed]",
      "text/plain": [
       "<Figure size 504x504 with 25 Axes>"
      ]
     },
     "metadata": {
      "needs_background": "light"
     },
     "output_type": "display_data"
    }
   ],
   "source": [
    "image_random_show(img_train,label_train,label2classname_dict=label2classname_dict,row=5,column=5)"
   ]
  },
  {
   "cell_type": "markdown",
   "metadata": {},
   "source": [
    "# 資料集的前處理"
   ]
  },
  {
   "cell_type": "code",
   "execution_count": 60,
   "metadata": {},
   "outputs": [
    {
     "name": "stdout",
     "output_type": "stream",
     "text": [
      "img_train shape: (60000, 28, 28, 1)\n"
     ]
    }
   ],
   "source": [
    "#單色圖片的資料集才需要擴增維度，若訓練cifar 10，就不用執行此程式碼\n",
    "img_train = np.expand_dims(img_train,axis=-1)\n",
    "print(\"img_train shape:\",img_train.shape)"
   ]
  },
  {
   "cell_type": "code",
   "execution_count": 61,
   "metadata": {},
   "outputs": [
    {
     "name": "stdout",
     "output_type": "stream",
     "text": [
      "img_test shape: (10000, 28, 28, 1)\n"
     ]
    }
   ],
   "source": [
    "#單色圖片的資料集才需要擴增維度，若訓練cifar 10，就不用執行此程式碼\n",
    "img_test = np.expand_dims(img_test,axis=-1)\n",
    "print(\"img_test shape:\",img_test.shape)"
   ]
  },
  {
   "cell_type": "code",
   "execution_count": 62,
   "metadata": {},
   "outputs": [
    {
     "name": "stdout",
     "output_type": "stream",
     "text": [
      "img_train dtype: float32\n",
      "資料最小值 =  0.0\n",
      "資料最大值 =  1.0\n"
     ]
    }
   ],
   "source": [
    "img_train = img_train.astype(np.float32)\n",
    "print(\"img_train dtype:\",img_train.dtype)\n",
    "\n",
    "img_train /= 255\n",
    "print(\"資料最小值 = \",np.min(img_train))\n",
    "print(\"資料最大值 = \",np.max(img_train))"
   ]
  },
  {
   "cell_type": "code",
   "execution_count": 63,
   "metadata": {},
   "outputs": [
    {
     "name": "stdout",
     "output_type": "stream",
     "text": [
      "img_test dtype: float32\n",
      "資料最小值 =  0.0\n",
      "資料最大值 =  1.0\n"
     ]
    }
   ],
   "source": [
    "img_test = img_test.astype(np.float32)\n",
    "print(\"img_test dtype:\",img_test.dtype)\n",
    "\n",
    "img_test /= 255\n",
    "print(\"資料最小值 = \",np.min(img_test))\n",
    "print(\"資料最大值 = \",np.max(img_test))"
   ]
  },
  {
   "cell_type": "markdown",
   "metadata": {},
   "source": [
    "# 建立計算圖"
   ]
  },
  {
   "cell_type": "code",
   "execution_count": 54,
   "metadata": {},
   "outputs": [],
   "source": [
    "graph_1 = tf.Graph()\n",
    "activation = tf.nn.relu\n",
    "save_dir = r\"D:\\code\\model_saver\\mnist_CNN\""
   ]
  },
  {
   "cell_type": "code",
   "execution_count": 65,
   "metadata": {},
   "outputs": [
    {
     "name": "stdout",
     "output_type": "stream",
     "text": [
      "卷積層 1 shape: (?, 28, 28, 8)\n",
      "池化層 1 shape: (?, 14, 14, 8)\n",
      "卷積層 2 shape: (?, 14, 14, 16)\n",
      "池化層 2 shape: (?, 7, 7, 16)\n",
      "卷積層 3 shape: (?, 7, 7, 32)\n",
      "池化層 3 shape: (?, 4, 4, 32)\n",
      "陣列拉直後 shape: (?, 512)\n",
      "全連接層 shape: (?, 64)\n",
      "輸出層 shape: (?, 10)\n",
      "Device mapping:\n",
      "/job:localhost/replica:0/task:0/device:GPU:0 -> device: 0, name: NVIDIA GeForce GTX 1080 Ti, pci bus id: 0000:01:00.0, compute capability: 6.1\n",
      "\n"
     ]
    }
   ],
   "source": [
    "with graph_1.as_default():\n",
    "    #----建立tf.placeholder()，接收非張量型態的資料\n",
    "    tf_input = tf.placeholder(tf.float32,shape=[None,28,28,1],name='input')\n",
    "    tf_label = tf.placeholder(tf.int32,shape=[None],name=\"label\")\n",
    "    tf_keep_prob = tf.placeholder(tf.float32,name='keep_prob')\n",
    "\n",
    "    #----建立類神經網路\n",
    "    net = tf.layers.conv2d(\n",
    "        inputs=tf_input,\n",
    "        filters=8,\n",
    "        kernel_size=[3, 3],\n",
    "        padding=\"same\",\n",
    "        strides=1,\n",
    "        activation=activation\n",
    "    )\n",
    "    print(\"卷積層 1 shape:\",net.shape)\n",
    "\n",
    "    net = tf.layers.max_pooling2d(net, pool_size=[2, 2], strides=2,padding='same')\n",
    "    print(\"池化層 1 shape:\",net.shape)\n",
    "\n",
    "    net = tf.layers.conv2d(\n",
    "        inputs=net,\n",
    "        filters=16,\n",
    "        kernel_size=[3, 3],\n",
    "        padding=\"same\",\n",
    "        strides=1,\n",
    "        activation=activation\n",
    "    )\n",
    "    print(\"卷積層 2 shape:\",net.shape)\n",
    "\n",
    "    net = tf.layers.max_pooling2d(net, pool_size=[2, 2], strides=2,padding='same')\n",
    "    print(\"池化層 2 shape:\",net.shape)\n",
    "\n",
    "    net = tf.layers.conv2d(\n",
    "        inputs=net,\n",
    "        filters=32,\n",
    "        kernel_size=[3, 3],\n",
    "        padding=\"same\",\n",
    "        strides=1,\n",
    "        activation=activation\n",
    "    )\n",
    "    print(\"卷積層 3 shape:\",net.shape)\n",
    "\n",
    "    net = tf.layers.max_pooling2d(net, pool_size=[2, 2], strides=2,padding='same')\n",
    "    print(\"池化層 3 shape:\",net.shape)\n",
    "\n",
    "    net = tf.layers.flatten(net)\n",
    "    print(\"陣列拉直後 shape:\",net.shape)\n",
    "\n",
    "    net = tf.layers.dense(inputs=net, units=64, activation=activation)\n",
    "    print(\"全連接層 shape:\",net.shape)\n",
    "\n",
    "    net = tf.nn.dropout(net, keep_prob=tf_keep_prob)#加入dropout\n",
    "\n",
    "    output = tf.layers.dense(inputs=net, units=10, activation=None)#輸出層就不需使用激勵函數\n",
    "    print(\"輸出層 shape:\",output.shape)\n",
    "\n",
    "    #----softmax函數輸出各類別的機率\n",
    "    tf_prediction = tf.nn.softmax(output,name=\"prediction\")\n",
    "\n",
    "     #----設定損失函數\n",
    "    tf_loss = tf.reduce_mean(tf.nn.sparse_softmax_cross_entropy_with_logits(labels=tf_label,logits=output),\n",
    "                      name=\"loss\")\n",
    "\n",
    "    #----設定最佳化函數\n",
    "    learning_rate = 1e-4\n",
    "    tf_optimizer = tf.train.AdamOptimizer(learning_rate=learning_rate).minimize(tf_loss)\n",
    "\n",
    "    #----設定儲存權重的資料夾\n",
    "    if not os.path.exists(save_dir):\n",
    "        os.makedirs(save_dir)\n",
    "    saver = tf.train.Saver(max_to_keep=5)\n",
    "\n",
    "    #----GPU 資源設定\n",
    "    config = tf.ConfigProto(log_device_placement=True,\n",
    "                            allow_soft_placement=True)\n",
    "    config.gpu_options.allow_growth = True\n",
    "\n",
    "    sess = tf.Session(config=config)\n",
    "    sess.run(tf.global_variables_initializer())"
   ]
  },
  {
   "cell_type": "markdown",
   "metadata": {},
   "source": [
    "# 計算訓練的參數數量"
   ]
  },
  {
   "cell_type": "code",
   "execution_count": 19,
   "metadata": {},
   "outputs": [],
   "source": [
    "def get_qty_var(tf_graph):\n",
    "    qty = 0\n",
    "    with tf_graph.as_default():\n",
    "        for var in tf.global_variables():\n",
    "            \n",
    "            if var.trainable:\n",
    "                shape = var.shape\n",
    "                for i,num in enumerate(shape):\n",
    "                    if i == 0:\n",
    "                        product = num\n",
    "                    else:\n",
    "                        product *= num\n",
    "                qty += product \n",
    "\n",
    "        print(\"參數數量 = \",qty)"
   ]
  },
  {
   "cell_type": "code",
   "execution_count": 58,
   "metadata": {},
   "outputs": [
    {
     "name": "stdout",
     "output_type": "stream",
     "text": [
      "參數數量 =  112500\n"
     ]
    }
   ],
   "source": [
    "get_qty_var(graph_1)"
   ]
  },
  {
   "cell_type": "markdown",
   "metadata": {},
   "source": [
    "# 選取迭代資料函數"
   ]
  },
  {
   "cell_type": "code",
   "execution_count": 21,
   "metadata": {},
   "outputs": [],
   "source": [
    "def get_ite_data(img_data,label_data,ite_num,batch_size):\n",
    "    num_start = batch_size * ite_num\n",
    "    num_end = num_start + batch_size\n",
    "    if num_end > img_data.shape[0]:\n",
    "        num_end = img_data.shape[0]\n",
    "    \n",
    "    ite_data = img_data[num_start:num_end]\n",
    "    ite_label = label_data[num_start:num_end]\n",
    "    \n",
    "    return ite_data,ite_label"
   ]
  },
  {
   "cell_type": "markdown",
   "metadata": {},
   "source": [
    "# 計算損失值函數"
   ]
  },
  {
   "cell_type": "code",
   "execution_count": 22,
   "metadata": {},
   "outputs": [],
   "source": [
    "def get_loss(img_data,label_data,batch_size,sess,use_dropout=False):\n",
    "    iterations =math.ceil(img_data.shape[0] / batch_size)\n",
    "    loss = 0\n",
    "    \n",
    "    for iteration in range(iterations):\n",
    "        ite_data,ite_label = get_ite_data(img_data,label_data,iteration,batch_size)\n",
    "        \n",
    "        if use_dropout is False:\n",
    "            loss += sess.run(tf_loss,feed_dict={tf_input:ite_data,tf_label:ite_label})\n",
    "        else:\n",
    "            loss += sess.run(tf_loss,feed_dict={tf_input:ite_data,\n",
    "                                                tf_label:ite_label,\n",
    "                                                tf_keep_prob:1})\n",
    "    \n",
    "    loss /= iterations\n",
    "    \n",
    "    return loss"
   ]
  },
  {
   "cell_type": "markdown",
   "metadata": {},
   "source": [
    "# 計算準確率函數"
   ]
  },
  {
   "cell_type": "code",
   "execution_count": 23,
   "metadata": {},
   "outputs": [],
   "source": [
    "def get_accuracy(img_data,label_data,batch_size,sess,use_dropout=False):\n",
    "    iterations = math.ceil(img_data.shape[0] / batch_size)\n",
    "    correct_count = 0\n",
    "    prediction_count = 0\n",
    "    \n",
    "    for iteration in range(iterations):\n",
    "        ite_data,ite_label = get_ite_data(img_data,label_data,iteration,batch_size)\n",
    "        \n",
    "        if use_dropout is False:\n",
    "            predictions = sess.run(tf_prediction,feed_dict={tf_input:ite_data})\n",
    "        else:\n",
    "            predictions = sess.run(tf_prediction,feed_dict={tf_input:ite_data,\n",
    "                                                #tf_label:ite_label,\n",
    "                                                tf_keep_prob:1})\n",
    "        \n",
    "        arg_predictions = np.argmax(predictions,axis=1)\n",
    "        for arg_prediction, label in zip(arg_predictions,ite_label):\n",
    "            prediction_count += 1\n",
    "            if arg_prediction == label:\n",
    "                correct_count += 1\n",
    "    acc = correct_count / prediction_count\n",
    "    \n",
    "    return acc"
   ]
  },
  {
   "cell_type": "markdown",
   "metadata": {},
   "source": [
    "# 儲存PB檔案"
   ]
  },
  {
   "cell_type": "code",
   "execution_count": 24,
   "metadata": {},
   "outputs": [],
   "source": [
    "def save_pb_file(graph,sess,tf_node_list,pb_save_path):\n",
    "    graph = graph.as_graph_def()\n",
    "#     graph = tf.get_default_graph().as_graph_def()\n",
    "    output_graph_def = tf.graph_util.convert_variables_to_constants(sess, graph, tf_node_list)\n",
    "    with gfile.GFile(pb_save_path, 'wb')as f:\n",
    "        f.write(output_graph_def.SerializeToString())\n",
    "    msg = \"儲存pb檔至 {}\".format(pb_save_path)\n",
    "    print(msg)"
   ]
  },
  {
   "cell_type": "markdown",
   "metadata": {},
   "source": [
    "# 訓練程式碼函數"
   ]
  },
  {
   "cell_type": "code",
   "execution_count": 25,
   "metadata": {},
   "outputs": [],
   "source": [
    "batch_size=128\n",
    "epochs=50\n",
    "dropout_ratio=0.5  "
   ]
  },
  {
   "cell_type": "code",
   "execution_count": 66,
   "metadata": {
    "scrolled": true
   },
   "outputs": [
    {
     "name": "stdout",
     "output_type": "stream",
     "text": [
      "weights_path: D:\\code\\model_saver\\mnist_CNN\\model-49\n",
      "INFO:tensorflow:Restoring parameters from D:\\code\\model_saver\\mnist_CNN\\model-49\n",
      "套用權重檔產生錯誤，重新訓練\n",
      "Epoch  0\n",
      "訓練集 損失值 =  0.5626862219401768\n",
      "訓練集 準確率 =  0.8572\n",
      "驗證集 損失值 =  0.5447772852604902\n",
      "驗證集 準確率 =  0.8686\n",
      "儲存權重檔至 D:\\code\\model_saver\\mnist_CNN\\model-0\n",
      "Epoch  1\n",
      "訓練集 損失值 =  0.27784082315750974\n",
      "訓練集 準確率 =  0.9239166666666667\n",
      "驗證集 損失值 =  0.2675406727704066\n",
      "驗證集 準確率 =  0.9269\n",
      "儲存權重檔至 D:\\code\\model_saver\\mnist_CNN\\model-1\n",
      "pb_save_path: D:\\code\\model_saver\\mnist_CNN\\infer_acc_0.9269.pb\n",
      "WARNING:tensorflow:From <ipython-input-24-1c58e9725700>:4: convert_variables_to_constants (from tensorflow.python.framework.graph_util_impl) is deprecated and will be removed in a future version.\n",
      "Instructions for updating:\n",
      "Use `tf.compat.v1.graph_util.convert_variables_to_constants`\n",
      "WARNING:tensorflow:From C:\\Users\\JohnnyKavnie\\Anaconda3\\lib\\site-packages\\tensorflow\\python\\framework\\convert_to_constants.py:857: extract_sub_graph (from tensorflow.python.framework.graph_util_impl) is deprecated and will be removed in a future version.\n",
      "Instructions for updating:\n",
      "Use `tf.compat.v1.graph_util.extract_sub_graph`\n",
      "儲存pb檔至 D:\\code\\model_saver\\mnist_CNN\\infer_acc_0.9269.pb\n",
      "Epoch  2\n",
      "訓練集 損失值 =  0.20260383906776208\n",
      "訓練集 準確率 =  0.9401833333333334\n",
      "驗證集 損失值 =  0.19413860158735438\n",
      "驗證集 準確率 =  0.9418\n",
      "儲存權重檔至 D:\\code\\model_saver\\mnist_CNN\\model-2\n",
      "pb_save_path: D:\\code\\model_saver\\mnist_CNN\\infer_acc_0.9418.pb\n",
      "儲存pb檔至 D:\\code\\model_saver\\mnist_CNN\\infer_acc_0.9418.pb\n",
      "Epoch  3\n",
      "訓練集 損失值 =  0.16507634744524702\n",
      "訓練集 準確率 =  0.9506833333333333\n",
      "驗證集 損失值 =  0.15596407157946615\n",
      "驗證集 準確率 =  0.9516\n",
      "儲存權重檔至 D:\\code\\model_saver\\mnist_CNN\\model-3\n",
      "pb_save_path: D:\\code\\model_saver\\mnist_CNN\\infer_acc_0.9516.pb\n",
      "儲存pb檔至 D:\\code\\model_saver\\mnist_CNN\\infer_acc_0.9516.pb\n",
      "Epoch  4\n",
      "訓練集 損失值 =  0.14399718712451362\n",
      "訓練集 準確率 =  0.9562166666666667\n",
      "驗證集 損失值 =  0.13662657383947244\n",
      "驗證集 準確率 =  0.9565\n",
      "儲存權重檔至 D:\\code\\model_saver\\mnist_CNN\\model-4\n",
      "pb_save_path: D:\\code\\model_saver\\mnist_CNN\\infer_acc_0.9565.pb\n",
      "儲存pb檔至 D:\\code\\model_saver\\mnist_CNN\\infer_acc_0.9565.pb\n",
      "Epoch  5\n",
      "訓練集 損失值 =  0.12594395910483053\n",
      "訓練集 準確率 =  0.9615333333333334\n",
      "驗證集 損失值 =  0.11903278995600022\n",
      "驗證集 準確率 =  0.9615\n",
      "儲存權重檔至 D:\\code\\model_saver\\mnist_CNN\\model-5\n",
      "pb_save_path: D:\\code\\model_saver\\mnist_CNN\\infer_acc_0.9615.pb\n",
      "儲存pb檔至 D:\\code\\model_saver\\mnist_CNN\\infer_acc_0.9615.pb\n",
      "Epoch  6\n",
      "訓練集 損失值 =  0.11815103618447968\n",
      "訓練集 準確率 =  0.9639833333333333\n",
      "驗證集 損失值 =  0.10959644107548874\n",
      "驗證集 準確率 =  0.9652\n",
      "儲存權重檔至 D:\\code\\model_saver\\mnist_CNN\\model-6\n",
      "pb_save_path: D:\\code\\model_saver\\mnist_CNN\\infer_acc_0.9652.pb\n",
      "儲存pb檔至 D:\\code\\model_saver\\mnist_CNN\\infer_acc_0.9652.pb\n",
      "Epoch  7\n",
      "訓練集 損失值 =  0.10716759490528341\n",
      "訓練集 準確率 =  0.96695\n",
      "驗證集 損失值 =  0.0993403772472793\n",
      "驗證集 準確率 =  0.967\n",
      "儲存權重檔至 D:\\code\\model_saver\\mnist_CNN\\model-7\n",
      "pb_save_path: D:\\code\\model_saver\\mnist_CNN\\infer_acc_0.967.pb\n",
      "儲存pb檔至 D:\\code\\model_saver\\mnist_CNN\\infer_acc_0.967.pb\n",
      "Epoch  8\n",
      "訓練集 損失值 =  0.09891363438258548\n",
      "訓練集 準確率 =  0.9701833333333333\n",
      "驗證集 損失值 =  0.09313848010511903\n",
      "驗證集 準確率 =  0.9698\n",
      "儲存權重檔至 D:\\code\\model_saver\\mnist_CNN\\model-8\n",
      "pb_save_path: D:\\code\\model_saver\\mnist_CNN\\infer_acc_0.9698.pb\n",
      "儲存pb檔至 D:\\code\\model_saver\\mnist_CNN\\infer_acc_0.9698.pb\n",
      "Epoch  9\n",
      "訓練集 損失值 =  0.09548126183339019\n",
      "訓練集 準確率 =  0.9713833333333334\n",
      "驗證集 損失值 =  0.09153431133496799\n",
      "驗證集 準確率 =  0.9703\n",
      "儲存權重檔至 D:\\code\\model_saver\\mnist_CNN\\model-9\n",
      "pb_save_path: D:\\code\\model_saver\\mnist_CNN\\infer_acc_0.9703.pb\n",
      "儲存pb檔至 D:\\code\\model_saver\\mnist_CNN\\infer_acc_0.9703.pb\n",
      "Epoch  10\n",
      "訓練集 損失值 =  0.08894940190064882\n",
      "訓練集 準確率 =  0.9733666666666667\n",
      "驗證集 損失值 =  0.08379500494721712\n",
      "驗證集 準確率 =  0.9718\n",
      "儲存權重檔至 D:\\code\\model_saver\\mnist_CNN\\model-10\n",
      "pb_save_path: D:\\code\\model_saver\\mnist_CNN\\infer_acc_0.9718.pb\n",
      "儲存pb檔至 D:\\code\\model_saver\\mnist_CNN\\infer_acc_0.9718.pb\n",
      "Epoch  11\n",
      "訓練集 損失值 =  0.0859070257770259\n",
      "訓練集 準確率 =  0.9732166666666666\n",
      "驗證集 損失值 =  0.07978180563519414\n",
      "驗證集 準確率 =  0.9745\n",
      "儲存權重檔至 D:\\code\\model_saver\\mnist_CNN\\model-11\n",
      "pb_save_path: D:\\code\\model_saver\\mnist_CNN\\infer_acc_0.9745.pb\n",
      "儲存pb檔至 D:\\code\\model_saver\\mnist_CNN\\infer_acc_0.9745.pb\n",
      "Epoch  12\n",
      "訓練集 損失值 =  0.08359515027149018\n",
      "訓練集 準確率 =  0.9749833333333333\n",
      "驗證集 損失值 =  0.07935679244220882\n",
      "驗證集 準確率 =  0.9742\n",
      "儲存權重檔至 D:\\code\\model_saver\\mnist_CNN\\model-12\n",
      "Epoch  13\n",
      "訓練集 損失值 =  0.07659715524852784\n",
      "訓練集 準確率 =  0.9763333333333334\n",
      "驗證集 損失值 =  0.07251286776839531\n",
      "驗證集 準確率 =  0.9757\n",
      "儲存權重檔至 D:\\code\\model_saver\\mnist_CNN\\model-13\n",
      "pb_save_path: D:\\code\\model_saver\\mnist_CNN\\infer_acc_0.9757.pb\n",
      "儲存pb檔至 D:\\code\\model_saver\\mnist_CNN\\infer_acc_0.9757.pb\n",
      "Epoch  14\n",
      "訓練集 損失值 =  0.07415807421511805\n",
      "訓練集 準確率 =  0.9773833333333334\n",
      "驗證集 損失值 =  0.07158538638216243\n",
      "驗證集 準確率 =  0.9768\n",
      "儲存權重檔至 D:\\code\\model_saver\\mnist_CNN\\model-14\n",
      "pb_save_path: D:\\code\\model_saver\\mnist_CNN\\infer_acc_0.9768.pb\n",
      "儲存pb檔至 D:\\code\\model_saver\\mnist_CNN\\infer_acc_0.9768.pb\n",
      "Epoch  15\n",
      "訓練集 損失值 =  0.07336119300862556\n",
      "訓練集 準確率 =  0.9773\n",
      "驗證集 損失值 =  0.07014344971703625\n",
      "驗證集 準確率 =  0.9766\n",
      "儲存權重檔至 D:\\code\\model_saver\\mnist_CNN\\model-15\n",
      "Epoch  16\n",
      "訓練集 損失值 =  0.06988495321416144\n",
      "訓練集 準確率 =  0.97855\n",
      "驗證集 損失值 =  0.0662211714757465\n",
      "驗證集 準確率 =  0.9783\n",
      "儲存權重檔至 D:\\code\\model_saver\\mnist_CNN\\model-16\n",
      "pb_save_path: D:\\code\\model_saver\\mnist_CNN\\infer_acc_0.9783.pb\n",
      "儲存pb檔至 D:\\code\\model_saver\\mnist_CNN\\infer_acc_0.9783.pb\n",
      "Epoch  17\n",
      "訓練集 損失值 =  0.06578034142465163\n",
      "訓練集 準確率 =  0.9796833333333334\n",
      "驗證集 損失值 =  0.06408524464689125\n",
      "驗證集 準確率 =  0.9793\n",
      "儲存權重檔至 D:\\code\\model_saver\\mnist_CNN\\model-17\n",
      "pb_save_path: D:\\code\\model_saver\\mnist_CNN\\infer_acc_0.9793.pb\n",
      "儲存pb檔至 D:\\code\\model_saver\\mnist_CNN\\infer_acc_0.9793.pb\n",
      "Epoch  18\n",
      "訓練集 損失值 =  0.06537322105684959\n",
      "訓練集 準確率 =  0.9796333333333334\n",
      "驗證集 損失值 =  0.06420239603553628\n",
      "驗證集 準確率 =  0.9787\n",
      "儲存權重檔至 D:\\code\\model_saver\\mnist_CNN\\model-18\n",
      "Epoch  19\n",
      "訓練集 損失值 =  0.06352338553575088\n",
      "訓練集 準確率 =  0.9799333333333333\n",
      "驗證集 損失值 =  0.061361526075715225\n",
      "驗證集 準確率 =  0.9793\n",
      "儲存權重檔至 D:\\code\\model_saver\\mnist_CNN\\model-19\n",
      "Epoch  20\n",
      "訓練集 損失值 =  0.0607052569114752\n",
      "訓練集 準確率 =  0.9808833333333333\n",
      "驗證集 損失值 =  0.05780512586057693\n",
      "驗證集 準確率 =  0.9806\n",
      "儲存權重檔至 D:\\code\\model_saver\\mnist_CNN\\model-20\n",
      "pb_save_path: D:\\code\\model_saver\\mnist_CNN\\infer_acc_0.9806.pb\n",
      "儲存pb檔至 D:\\code\\model_saver\\mnist_CNN\\infer_acc_0.9806.pb\n",
      "Epoch  21\n",
      "訓練集 損失值 =  0.058539703390054675\n",
      "訓練集 準確率 =  0.9816666666666667\n",
      "驗證集 損失值 =  0.058243663927217464\n",
      "驗證集 準確率 =  0.9808\n",
      "儲存權重檔至 D:\\code\\model_saver\\mnist_CNN\\model-21\n",
      "pb_save_path: D:\\code\\model_saver\\mnist_CNN\\infer_acc_0.9808.pb\n",
      "儲存pb檔至 D:\\code\\model_saver\\mnist_CNN\\infer_acc_0.9808.pb\n",
      "Epoch  22\n",
      "訓練集 損失值 =  0.05623384494521121\n",
      "訓練集 準確率 =  0.9825666666666667\n",
      "驗證集 損失值 =  0.0541137148257009\n",
      "驗證集 準確率 =  0.9813\n",
      "儲存權重檔至 D:\\code\\model_saver\\mnist_CNN\\model-22\n",
      "pb_save_path: D:\\code\\model_saver\\mnist_CNN\\infer_acc_0.9813.pb\n",
      "儲存pb檔至 D:\\code\\model_saver\\mnist_CNN\\infer_acc_0.9813.pb\n",
      "Epoch  23\n",
      "訓練集 損失值 =  0.05582637931091159\n",
      "訓練集 準確率 =  0.9827166666666667\n",
      "驗證集 損失值 =  0.05593353778118698\n",
      "驗證集 準確率 =  0.982\n",
      "儲存權重檔至 D:\\code\\model_saver\\mnist_CNN\\model-23\n",
      "pb_save_path: D:\\code\\model_saver\\mnist_CNN\\infer_acc_0.982.pb\n",
      "儲存pb檔至 D:\\code\\model_saver\\mnist_CNN\\infer_acc_0.982.pb\n",
      "Epoch  24\n",
      "訓練集 損失值 =  0.05444461549483319\n",
      "訓練集 準確率 =  0.98305\n",
      "驗證集 損失值 =  0.05247360116657005\n",
      "驗證集 準確率 =  0.9824\n",
      "儲存權重檔至 D:\\code\\model_saver\\mnist_CNN\\model-24\n",
      "pb_save_path: D:\\code\\model_saver\\mnist_CNN\\infer_acc_0.9824.pb\n",
      "儲存pb檔至 D:\\code\\model_saver\\mnist_CNN\\infer_acc_0.9824.pb\n",
      "Epoch  25\n",
      "訓練集 損失值 =  0.05315079893678554\n",
      "訓練集 準確率 =  0.9832666666666666\n",
      "驗證集 損失值 =  0.05274017546184087\n",
      "驗證集 準確率 =  0.9819\n",
      "儲存權重檔至 D:\\code\\model_saver\\mnist_CNN\\model-25\n",
      "Epoch  26\n",
      "訓練集 損失值 =  0.05200880992192545\n",
      "訓練集 準確率 =  0.9835666666666667\n",
      "驗證集 損失值 =  0.05185548916429243\n",
      "驗證集 準確率 =  0.9822\n",
      "儲存權重檔至 D:\\code\\model_saver\\mnist_CNN\\model-26\n",
      "Epoch  27\n",
      "訓練集 損失值 =  0.05060556711259681\n",
      "訓練集 準確率 =  0.98465\n",
      "驗證集 損失值 =  0.05030979796572842\n",
      "驗證集 準確率 =  0.9833\n",
      "儲存權重檔至 D:\\code\\model_saver\\mnist_CNN\\model-27\n",
      "pb_save_path: D:\\code\\model_saver\\mnist_CNN\\infer_acc_0.9833.pb\n",
      "儲存pb檔至 D:\\code\\model_saver\\mnist_CNN\\infer_acc_0.9833.pb\n",
      "Epoch  28\n",
      "訓練集 損失值 =  0.050277536292610045\n",
      "訓練集 準確率 =  0.9840833333333333\n",
      "驗證集 損失值 =  0.05015364665469181\n",
      "驗證集 準確率 =  0.983\n",
      "儲存權重檔至 D:\\code\\model_saver\\mnist_CNN\\model-28\n",
      "Epoch  29\n",
      "訓練集 損失值 =  0.048304830465827196\n",
      "訓練集 準確率 =  0.9847166666666667\n",
      "驗證集 損失值 =  0.04732193870411352\n",
      "驗證集 準確率 =  0.9833\n",
      "儲存權重檔至 D:\\code\\model_saver\\mnist_CNN\\model-29\n",
      "Epoch  30\n",
      "訓練集 損失值 =  0.04639189380920057\n",
      "訓練集 準確率 =  0.9854166666666667\n"
     ]
    },
    {
     "name": "stdout",
     "output_type": "stream",
     "text": [
      "驗證集 損失值 =  0.04622655084317615\n",
      "驗證集 準確率 =  0.9841\n",
      "儲存權重檔至 D:\\code\\model_saver\\mnist_CNN\\model-30\n",
      "pb_save_path: D:\\code\\model_saver\\mnist_CNN\\infer_acc_0.9841.pb\n",
      "儲存pb檔至 D:\\code\\model_saver\\mnist_CNN\\infer_acc_0.9841.pb\n",
      "Epoch  31\n",
      "訓練集 損失值 =  0.045223093900912954\n",
      "訓練集 準確率 =  0.9859666666666667\n",
      "驗證集 損失值 =  0.04604528279733016\n",
      "驗證集 準確率 =  0.9838\n",
      "儲存權重檔至 D:\\code\\model_saver\\mnist_CNN\\model-31\n",
      "Epoch  32\n",
      "訓練集 損失值 =  0.04671771492638282\n",
      "訓練集 準確率 =  0.9850166666666667\n",
      "驗證集 損失值 =  0.047520394940529745\n",
      "驗證集 準確率 =  0.9836\n",
      "儲存權重檔至 D:\\code\\model_saver\\mnist_CNN\\model-32\n",
      "Epoch  33\n",
      "訓練集 損失值 =  0.043376544015859365\n",
      "訓練集 準確率 =  0.9866666666666667\n",
      "驗證集 損失值 =  0.04602497005341515\n",
      "驗證集 準確率 =  0.9843\n",
      "儲存權重檔至 D:\\code\\model_saver\\mnist_CNN\\model-33\n",
      "pb_save_path: D:\\code\\model_saver\\mnist_CNN\\infer_acc_0.9843.pb\n",
      "儲存pb檔至 D:\\code\\model_saver\\mnist_CNN\\infer_acc_0.9843.pb\n",
      "Epoch  34\n",
      "訓練集 損失值 =  0.042604296918469925\n",
      "訓練集 準確率 =  0.9867333333333334\n",
      "驗證集 損失值 =  0.04540431913123997\n",
      "驗證集 準確率 =  0.9846\n",
      "儲存權重檔至 D:\\code\\model_saver\\mnist_CNN\\model-34\n",
      "pb_save_path: D:\\code\\model_saver\\mnist_CNN\\infer_acc_0.9846.pb\n",
      "儲存pb檔至 D:\\code\\model_saver\\mnist_CNN\\infer_acc_0.9846.pb\n",
      "Epoch  35\n",
      "訓練集 損失值 =  0.0423156688315496\n",
      "訓練集 準確率 =  0.9865666666666667\n",
      "驗證集 損失值 =  0.04441913335047709\n",
      "驗證集 準確率 =  0.9851\n",
      "儲存權重檔至 D:\\code\\model_saver\\mnist_CNN\\model-35\n",
      "pb_save_path: D:\\code\\model_saver\\mnist_CNN\\infer_acc_0.9851.pb\n",
      "儲存pb檔至 D:\\code\\model_saver\\mnist_CNN\\infer_acc_0.9851.pb\n",
      "Epoch  36\n",
      "訓練集 損失值 =  0.045263868332880215\n",
      "訓練集 準確率 =  0.9854333333333334\n",
      "驗證集 損失值 =  0.04899064052466501\n",
      "驗證集 準確率 =  0.9841\n",
      "儲存權重檔至 D:\\code\\model_saver\\mnist_CNN\\model-36\n",
      "Epoch  37\n",
      "訓練集 損失值 =  0.040556891200277626\n",
      "訓練集 準確率 =  0.9873333333333333\n",
      "驗證集 損失值 =  0.04286596280830445\n",
      "驗證集 準確率 =  0.985\n",
      "儲存權重檔至 D:\\code\\model_saver\\mnist_CNN\\model-37\n",
      "Epoch  38\n",
      "訓練集 損失值 =  0.041011849075738495\n",
      "訓練集 準確率 =  0.9872\n",
      "驗證集 損失值 =  0.04376165192412902\n",
      "驗證集 準確率 =  0.9852\n",
      "儲存權重檔至 D:\\code\\model_saver\\mnist_CNN\\model-38\n",
      "pb_save_path: D:\\code\\model_saver\\mnist_CNN\\infer_acc_0.9852.pb\n",
      "儲存pb檔至 D:\\code\\model_saver\\mnist_CNN\\infer_acc_0.9852.pb\n",
      "Epoch  39\n",
      "訓練集 損失值 =  0.04070935822548722\n",
      "訓練集 準確率 =  0.9873666666666666\n",
      "驗證集 損失值 =  0.045828822581226426\n",
      "驗證集 準確率 =  0.9848\n",
      "儲存權重檔至 D:\\code\\model_saver\\mnist_CNN\\model-39\n",
      "Epoch  40\n",
      "訓練集 損失值 =  0.03880004810495997\n",
      "訓練集 準確率 =  0.9879666666666667\n",
      "驗證集 損失值 =  0.04151016801570452\n",
      "驗證集 準確率 =  0.9864\n",
      "儲存權重檔至 D:\\code\\model_saver\\mnist_CNN\\model-40\n",
      "pb_save_path: D:\\code\\model_saver\\mnist_CNN\\infer_acc_0.9864.pb\n",
      "儲存pb檔至 D:\\code\\model_saver\\mnist_CNN\\infer_acc_0.9864.pb\n",
      "Epoch  41\n",
      "訓練集 損失值 =  0.037111504787781725\n",
      "訓練集 準確率 =  0.9882833333333333\n",
      "驗證集 損失值 =  0.03958484533488238\n",
      "驗證集 準確率 =  0.986\n",
      "儲存權重檔至 D:\\code\\model_saver\\mnist_CNN\\model-41\n",
      "Epoch  42\n",
      "訓練集 損失值 =  0.036650277458246484\n",
      "訓練集 準確率 =  0.98825\n",
      "驗證集 損失值 =  0.03983944384264207\n",
      "驗證集 準確率 =  0.9854\n",
      "儲存權重檔至 D:\\code\\model_saver\\mnist_CNN\\model-42\n",
      "Epoch  43\n",
      "訓練集 損失值 =  0.03602589892525313\n",
      "訓練集 準確率 =  0.9888666666666667\n",
      "驗證集 損失值 =  0.03845983034759079\n",
      "驗證集 準確率 =  0.9866\n",
      "儲存權重檔至 D:\\code\\model_saver\\mnist_CNN\\model-43\n",
      "pb_save_path: D:\\code\\model_saver\\mnist_CNN\\infer_acc_0.9866.pb\n",
      "儲存pb檔至 D:\\code\\model_saver\\mnist_CNN\\infer_acc_0.9866.pb\n",
      "Epoch  44\n",
      "訓練集 損失值 =  0.03605933996664086\n",
      "訓練集 準確率 =  0.98875\n",
      "驗證集 損失值 =  0.04041339445200121\n",
      "驗證集 準確率 =  0.9858\n",
      "儲存權重檔至 D:\\code\\model_saver\\mnist_CNN\\model-44\n",
      "Epoch  45\n",
      "訓練集 損失值 =  0.035185020854339194\n",
      "訓練集 準確率 =  0.9888333333333333\n",
      "驗證集 損失值 =  0.03918416736766481\n",
      "驗證集 準確率 =  0.9864\n",
      "儲存權重檔至 D:\\code\\model_saver\\mnist_CNN\\model-45\n",
      "Epoch  46\n",
      "訓練集 損失值 =  0.03355296550920285\n",
      "訓練集 準確率 =  0.9895666666666667\n",
      "驗證集 損失值 =  0.0379759449744505\n",
      "驗證集 準確率 =  0.9866\n",
      "儲存權重檔至 D:\\code\\model_saver\\mnist_CNN\\model-46\n",
      "Epoch  47\n",
      "訓練集 損失值 =  0.0340265925687704\n",
      "訓練集 準確率 =  0.9892\n",
      "驗證集 損失值 =  0.038247558526241454\n",
      "驗證集 準確率 =  0.9867\n",
      "儲存權重檔至 D:\\code\\model_saver\\mnist_CNN\\model-47\n",
      "pb_save_path: D:\\code\\model_saver\\mnist_CNN\\infer_acc_0.9867.pb\n",
      "儲存pb檔至 D:\\code\\model_saver\\mnist_CNN\\infer_acc_0.9867.pb\n",
      "Epoch  48\n",
      "訓練集 損失值 =  0.033560092306521135\n",
      "訓練集 準確率 =  0.9893166666666666\n",
      "驗證集 損失值 =  0.03728712915665399\n",
      "驗證集 準確率 =  0.9861\n",
      "儲存權重檔至 D:\\code\\model_saver\\mnist_CNN\\model-48\n",
      "Epoch  49\n",
      "訓練集 損失值 =  0.03274882782815592\n",
      "訓練集 準確率 =  0.98975\n",
      "驗證集 損失值 =  0.0374002924175709\n",
      "驗證集 準確率 =  0.9867\n",
      "儲存權重檔至 D:\\code\\model_saver\\mnist_CNN\\model-49\n"
     ]
    }
   ],
   "source": [
    "acc_record = 0.9\n",
    "#----計算迭代次數\n",
    "iterations_train =math.ceil(img_train.shape[0] / batch_size)\n",
    "iterations_test = math.ceil(img_test.shape[0] / batch_size )\n",
    "\n",
    "#----宣告收集損失值與準確率的串列\n",
    "loss_train_list = list()\n",
    "acc_train_list = list()\n",
    "loss_test_list = list()\n",
    "acc_test_list = list()\n",
    "\n",
    "#----載入上次的訓練權重檔案\n",
    "weights_path = tf.train.latest_checkpoint(save_dir)\n",
    "if weights_path is not None:\n",
    "    print(\"weights_path:\",weights_path)\n",
    "    try:\n",
    "        saver.restore(sess, weights_path)\n",
    "        print(\"使用之前的權重檔:{}\".format(weights_path))   \n",
    "    except:\n",
    "        print(\"套用權重檔產生錯誤，重新訓練\")\n",
    "\n",
    "for epoch in range(epochs):\n",
    "    #----shuffle就像撲克牌洗牌，將圖案的順序打亂\n",
    "    indice = np.random.permutation(len(img_train))\n",
    "    img_train = img_train[indice]\n",
    "    label_train = label_train[indice]\n",
    "    \n",
    "    for iteration in range(iterations_train):\n",
    "        ite_data,ite_label = get_ite_data(img_train,label_train,iteration,batch_size)\n",
    "        if dropout_ratio is None:\n",
    "            sess.run(tf_optimizer,feed_dict={tf_input:ite_data,tf_label:ite_label})\n",
    "        else:\n",
    "            sess.run(tf_optimizer,feed_dict={tf_input:ite_data,\n",
    "                                             tf_label:ite_label,\n",
    "                                             tf_keep_prob:1-dropout_ratio})\n",
    "\n",
    "    #----計算訓練集的損失值與準確率\n",
    "    if dropout_ratio is None:\n",
    "        loss_train = get_loss(img_train,label_train,batch_size,sess)\n",
    "        acc_train = get_accuracy(img_train,label_train,batch_size,sess)\n",
    "    else:\n",
    "        loss_train = get_loss(img_train,\n",
    "                              label_train,\n",
    "                              batch_size,sess,\n",
    "                              use_dropout=True)\n",
    "        acc_train = get_accuracy(img_train,\n",
    "                                 label_train,\n",
    "                                 batch_size,sess,\n",
    "                                 use_dropout=True)\n",
    "    print(\"Epoch \",epoch)\n",
    "    print(\"訓練集 損失值 = \",loss_train)\n",
    "    print(\"訓練集 準確率 = \",acc_train)\n",
    "\n",
    "    #----收集訓練集損失值與準確率數值至串列\n",
    "    loss_train_list.append(float(loss_train))\n",
    "    acc_train_list.append(float(acc_train))\n",
    "\n",
    "    #----計算驗證集的損失值與準確率\n",
    "    if dropout_ratio is None:\n",
    "        loss_test = get_loss(img_test,label_test,batch_size,sess)\n",
    "        acc_test = get_accuracy(img_test,label_test,batch_size,sess)\n",
    "    else:\n",
    "        loss_test = get_loss(img_test,\n",
    "                              label_test,\n",
    "                              batch_size,sess,\n",
    "                              use_dropout=True)\n",
    "        acc_test = get_accuracy(img_test,\n",
    "                                 label_test,\n",
    "                                 batch_size,sess,\n",
    "                                 use_dropout=True)\n",
    "\n",
    "    print(\"驗證集 損失值 = \",loss_test)\n",
    "    print(\"驗證集 準確率 = \",acc_test)\n",
    "\n",
    "    #----收集驗證集損失值與準確率數值至串列\n",
    "    loss_test_list.append(float(loss_test))\n",
    "    acc_test_list.append(float(acc_test))\n",
    "\n",
    "    #----儲存權重檔案\n",
    "    save_filename = os.path.join(save_dir,'model')\n",
    "    model_save_path = saver.save(sess, save_filename, global_step=epoch)\n",
    "    print(\"儲存權重檔至 {}\".format(model_save_path))\n",
    "    \n",
    "    #----儲存準確率最高的PB檔案\n",
    "    if acc_test > acc_record:\n",
    "        pb_save_path = \"infer_acc_{}.pb\".format(acc_test)\n",
    "        pb_save_path = os.path.join(save_dir,pb_save_path)\n",
    "        print(\"pb_save_path:\",pb_save_path)\n",
    "#         pb_save_path = os.path.join(save_dir,'inference.pb')\n",
    "        save_pb_file(graph_1,sess,['prediction'],pb_save_path)\n",
    "        acc_record = acc_test\n",
    "        \n",
    "    #----儲存訓練集與驗證集的損失值與準確率\n",
    "    json_path = os.path.join(save_dir,'train_result.json')\n",
    "    data_dict = {'loss_train_list':loss_train_list,\n",
    "                 'acc_train_list':acc_train_list,\n",
    "                 'loss_test_list':loss_test_list,\n",
    "                 'acc_test_list':acc_test_list,\n",
    "              }\n",
    "    with open(json_path,'w') as file_obj:\n",
    "        json.dump(data_dict,file_obj)\n"
   ]
  },
  {
   "cell_type": "markdown",
   "metadata": {},
   "source": [
    "# 結果圖形化函數"
   ]
  },
  {
   "cell_type": "code",
   "execution_count": 67,
   "metadata": {},
   "outputs": [],
   "source": [
    "def get_plots(*args):\n",
    "    loss_train_list = args[0]\n",
    "    acc_train_list = args[1]\n",
    "    loss_test_list = args[2]\n",
    "    acc_test_list = args[3]\n",
    "    \n",
    "    x_num = [i for i in range(0,len(loss_train_list))]\n",
    "\n",
    "    plt.figure(figsize=(12,4))#圖形的大小可以自行設定\n",
    "\n",
    "    plt.subplot(1,2,1)#設定第1張圖\n",
    "    plt.plot(x_num,loss_train_list,label='train data')\n",
    "    plt.plot(x_num,loss_test_list,label='test data')\n",
    "    plt.xlabel(\"epoch\")\n",
    "    plt.ylabel(\"loss \")\n",
    "    plt.legend()\n",
    "\n",
    "    plt.subplot(1,2,2)#設定第2張圖\n",
    "    plt.plot(x_num,acc_train_list,label='train data')\n",
    "    plt.plot(x_num,acc_test_list,label='test data')\n",
    "    plt.xlabel(\"epoch\")\n",
    "    plt.ylabel(\"accuracy\")\n",
    "    plt.legend()\n",
    "\n",
    "    plt.show()#所有圖都設定完再執行show()\n",
    "    \n",
    "    arg_train = np.argmax(acc_train_list)\n",
    "    best_acc_train = acc_train_list[arg_train]\n",
    "    print(\"訓練集最高的準確率為{}，出現在epoch {}\".format(best_acc_train,arg_train))\n",
    "\n",
    "    arg_test = np.argmax(acc_test_list)\n",
    "    best_acc_test = acc_test_list[arg_test]\n",
    "    print(\"驗證集最高的準確率為{}，出現在epoch {}\".format(best_acc_test,arg_test))"
   ]
  },
  {
   "cell_type": "markdown",
   "metadata": {},
   "source": [
    "# 使用train_result資料進行圖形化"
   ]
  },
  {
   "cell_type": "code",
   "execution_count": 68,
   "metadata": {},
   "outputs": [
    {
     "data": {
      "image/png": "[encoded data removed]",
      "text/plain": [
       "<Figure size 864x288 with 2 Axes>"
      ]
     },
     "metadata": {
      "needs_background": "light"
     },
     "output_type": "display_data"
    },
    {
     "name": "stdout",
     "output_type": "stream",
     "text": [
      "訓練集最高的準確率為0.98975，出現在epoch 49\n",
      "驗證集最高的準確率為0.9867，出現在epoch 47\n"
     ]
    }
   ],
   "source": [
    "json_path = r\"D:\\code\\model_saver\\mnist_CNN\\train_result.json\"\n",
    "\n",
    "with open(json_path,'r') as file_obj:\n",
    "    data_dict = json.load(file_obj)\n",
    "\n",
    "loss_train_list = data_dict['loss_train_list']\n",
    "acc_train_list = data_dict['acc_train_list']\n",
    "loss_test_list = data_dict['loss_test_list']\n",
    "acc_test_list = data_dict['acc_test_list']\n",
    "\n",
    "get_plots(loss_train_list,acc_train_list,loss_test_list,acc_test_list)"
   ]
  },
  {
   "cell_type": "markdown",
   "metadata": {},
   "source": [
    "# 使用PB檔案進行推論"
   ]
  },
  {
   "cell_type": "code",
   "execution_count": 70,
   "metadata": {},
   "outputs": [],
   "source": [
    "def model_restore_from_pb(pb_path,node_dict,GPU_ratio=None):\n",
    "    tf_node_dict = dict()\n",
    "    with tf.Graph().as_default():\n",
    "        config = tf.ConfigProto(log_device_placement=True,\n",
    "                                allow_soft_placement=True,\n",
    "                                )\n",
    "        if GPU_ratio is None:\n",
    "            config.gpu_options.allow_growth = True  \n",
    "        else:\n",
    "            config.gpu_options.per_process_gpu_memory_fraction = GPU_ratio \n",
    "\n",
    "        sess_pb = tf.Session(config=config)\n",
    "        with gfile.FastGFile(pb_path, 'rb') as f:\n",
    "            content = f.read()\n",
    "            graph_def = tf.GraphDef()\n",
    "            graph_def.ParseFromString(content)\n",
    "            sess_pb.graph.as_default()\n",
    "            \n",
    "            tf.import_graph_def(graph_def, name='')  # 匯入計算圖\n",
    "\n",
    "        sess_pb.run(tf.global_variables_initializer())\n",
    "        for key,value in node_dict.items():\n",
    "            try:\n",
    "                node = sess_pb.graph.get_tensor_by_name(value)\n",
    "                tf_node_dict[key] = node\n",
    "            except:\n",
    "                print(\"節點名稱:{}不存在\".format(key))\n",
    "        return sess_pb,tf_node_dict"
   ]
  },
  {
   "cell_type": "code",
   "execution_count": 71,
   "metadata": {},
   "outputs": [
    {
     "name": "stdout",
     "output_type": "stream",
     "text": [
      "Device mapping:\n",
      "/job:localhost/replica:0/task:0/device:GPU:0 -> device: 0, name: NVIDIA GeForce GTX 1080 Ti, pci bus id: 0000:01:00.0, compute capability: 6.1\n",
      "\n",
      "WARNING:tensorflow:From <ipython-input-70-6a0435b3e435>:13: FastGFile.__init__ (from tensorflow.python.platform.gfile) is deprecated and will be removed in a future version.\n",
      "Instructions for updating:\n",
      "Use tf.gfile.GFile.\n"
     ]
    },
    {
     "data": {
      "text/plain": [
       "{'input': <tf.Tensor 'input:0' shape=(?, 28, 28, 1) dtype=float32>,\n",
       " 'keep_prob': <tf.Tensor 'keep_prob:0' shape=<unknown> dtype=float32>,\n",
       " 'prediction': <tf.Tensor 'prediction:0' shape=(?, 10) dtype=float32>}"
      ]
     },
     "execution_count": 71,
     "metadata": {},
     "output_type": "execute_result"
    }
   ],
   "source": [
    "pb_path = r\"D:\\code\\model_saver\\mnist_CNN\\infer_acc_0.9903.pb\"\n",
    "nodename_dict = {\n",
    "                'input': 'input:0',\n",
    "                'keep_prob': 'keep_prob:0',\n",
    "                'prediction': 'prediction:0'\n",
    "                 }\n",
    "sess_infer,tf_node_dict = model_restore_from_pb(pb_path,nodename_dict,GPU_ratio=None)\n",
    "tf_node_dict"
   ]
  },
  {
   "cell_type": "code",
   "execution_count": 72,
   "metadata": {
    "scrolled": true
   },
   "outputs": [
    {
     "name": "stdout",
     "output_type": "stream",
     "text": [
      "0.9903\n"
     ]
    }
   ],
   "source": [
    "iterations = math.ceil(img_test.shape[0] / batch_size)\n",
    "correct_count = 0\n",
    "prediction_count = 0\n",
    "wrong_idx_list = list()\n",
    "pred_list = list()\n",
    "ans_list = list()\n",
    "\n",
    "#----取出推論的節點\n",
    "pb_prediction = tf_node_dict['prediction']\n",
    "pb_input = tf_node_dict['input']\n",
    "pb_keep_prob = tf_node_dict['keep_prob']\n",
    "\n",
    "for iteration in range(iterations):\n",
    "   \n",
    "    ite_data,ite_label = get_ite_data(img_test,label_test,iteration,batch_size)\n",
    "\n",
    "    predictions = sess_infer.run(pb_prediction,\n",
    "                                 feed_dict={pb_input:ite_data, pb_keep_prob:1})\n",
    "        \n",
    "    arg_predictions = np.argmax(predictions,axis=1)\n",
    "   \n",
    "    for arg_prediction, label in zip(arg_predictions,ite_label):\n",
    "        idx = prediction_count\n",
    "        prediction_count += 1\n",
    "        if arg_prediction == label:\n",
    "            correct_count += 1\n",
    "        else:\n",
    "            wrong_idx_list.append(idx)\n",
    "            pred_list.append(arg_prediction)\n",
    "            ans_list.append(label)\n",
    "            \n",
    "acc = correct_count / prediction_count\n",
    "print(acc)"
   ]
  },
  {
   "cell_type": "markdown",
   "metadata": {},
   "source": [
    "# 挑出錯誤的圖片並恢復圖片格式"
   ]
  },
  {
   "cell_type": "code",
   "execution_count": 73,
   "metadata": {},
   "outputs": [
    {
     "name": "stdout",
     "output_type": "stream",
     "text": [
      "驗證集錯誤的圖片shape: (97, 28, 28, 1)\n",
      "reshape後: (97, 28, 28)\n"
     ]
    }
   ],
   "source": [
    "img_test_selected = img_test[wrong_idx_list]\n",
    "print(\"驗證集錯誤的圖片shape:\",img_test_selected.shape)\n",
    "\n",
    "img_test_selected = np.reshape(img_test_selected,[-1,28,28])\n",
    "print(\"reshape後:\",img_test_selected.shape)\n",
    "\n",
    "img_test_selected *= 255\n",
    "img_test_selected = img_test_selected.astype(np.uint8)"
   ]
  },
  {
   "cell_type": "markdown",
   "metadata": {},
   "source": [
    "# 觀看預測錯誤的圖片"
   ]
  },
  {
   "cell_type": "code",
   "execution_count": 74,
   "metadata": {},
   "outputs": [
    {
     "data": {
      "image/png": "[encoded data removed]",
      "text/plain": [
       "<Figure size 1080x1080 with 97 Axes>"
      ]
     },
     "metadata": {
      "needs_background": "light"
     },
     "output_type": "display_data"
    }
   ],
   "source": [
    "plt_num = math.ceil(np.sqrt(len(img_test_selected)))\n",
    "#----設定圖片大小\n",
    "plt.figure(figsize=(15,15))\n",
    "for idx,img_wrong in enumerate(img_test_selected):\n",
    "    plt.subplot(plt_num,plt_num,idx+1)\n",
    "    plt.imshow(img_wrong,cmap='gray')\n",
    "    plt.axis('off')\n",
    "    title = \"{}_{}\".format(label2classname_dict[pred_list[idx]],label2classname_dict[ans_list[idx]])\n",
    "    plt.title(title)\n",
    "plt.show()\n",
    "# image_random_show(img_test_selected,pred_list,label2classname_dict=label2classname_dict,row=5,column=5)"
   ]
  },
  {
   "cell_type": "markdown",
   "metadata": {},
   "source": [
    "# 附錄:查看卷積網路每一層的特徵圖"
   ]
  },
  {
   "cell_type": "code",
   "execution_count": 105,
   "metadata": {},
   "outputs": [
    {
     "name": "stdout",
     "output_type": "stream",
     "text": [
      "Device mapping:\n",
      "/job:localhost/replica:0/task:0/device:GPU:0 -> device: 0, name: NVIDIA GeForce GTX 1080 Ti, pci bus id: 0000:01:00.0, compute capability: 6.1\n",
      "\n"
     ]
    }
   ],
   "source": [
    "pb_path = r\"D:\\code\\model_saver\\mnist_CNN\\infer_acc_0.9923.pb\"\n",
    "nodename_dict = {'input': 'input:0',\n",
    "                 'keep_prob': 'keep_prob:0',\n",
    "#                  'conv_1': 'conv2d/Conv2D:0',\n",
    "                 'conv_1': 'conv2d/Relu:0',\n",
    "#                  'conv_1': 'conv2d/BiasAdd:0',\n",
    "#                  'conv_1': 'max_pooling2d/MaxPool:0',\n",
    "                 'conv_2':'conv2d_1/Relu:0',\n",
    "                 'conv_3':'conv2d_2/Relu:0'\n",
    "                 }\n",
    "sess_infer,tf_node_dict = model_restore_from_pb(pb_path,nodename_dict,GPU_ratio=None)\n",
    "#----取出推論的節點\n",
    "pb_conv_1 = tf_node_dict['conv_1']\n",
    "pb_conv_2 = tf_node_dict['conv_2']\n",
    "pb_conv_3 = tf_node_dict['conv_3']\n",
    "pb_input = tf_node_dict['input']\n",
    "pb_keep_prob = tf_node_dict['keep_prob']"
   ]
  },
  {
   "cell_type": "code",
   "execution_count": 106,
   "metadata": {},
   "outputs": [
    {
     "name": "stdout",
     "output_type": "stream",
     "text": [
      "rdm_num: 7140\n"
     ]
    }
   ],
   "source": [
    "rdm_num = np.random.randint(len(img_test))\n",
    "print(\"rdm_num:\",rdm_num)\n",
    "img_a = img_test[rdm_num:rdm_num+1]\n",
    "\n",
    "conv_1 = sess_infer.run(pb_conv_1,feed_dict={pb_input:img_a, pb_keep_prob:1})\n",
    "conv_2 = sess_infer.run(pb_conv_2,feed_dict={pb_input:img_a, pb_keep_prob:1})\n",
    "conv_3 = sess_infer.run(pb_conv_3,feed_dict={pb_input:img_a, pb_keep_prob:1})"
   ]
  },
  {
   "cell_type": "code",
   "execution_count": 107,
   "metadata": {},
   "outputs": [
    {
     "name": "stdout",
     "output_type": "stream",
     "text": [
      "1.0\n"
     ]
    }
   ],
   "source": [
    "print(np.max(img_a))"
   ]
  },
  {
   "cell_type": "code",
   "execution_count": 108,
   "metadata": {},
   "outputs": [
    {
     "name": "stdout",
     "output_type": "stream",
     "text": [
      "img_ori shape: (28, 28)\n",
      "img_ori dtype: uint8\n"
     ]
    },
    {
     "data": {
      "image/png": "[encoded data removed]",
      "text/plain": [
       "<Figure size 432x288 with 1 Axes>"
      ]
     },
     "metadata": {
      "needs_background": "light"
     },
     "output_type": "display_data"
    }
   ],
   "source": [
    "img_ori = img_a.copy()\n",
    "img_ori = np.reshape(img_ori,(28,28))\n",
    "img_ori *= 255\n",
    "# img_ori = np.clip(img_ori,0,255)\n",
    "img_ori = img_ori.astype(np.uint8)\n",
    "print('img_ori shape:',img_ori.shape)\n",
    "print('img_ori dtype:',img_ori.dtype)\n",
    "\n",
    "plt.imshow(img_ori,cmap='gray')\n",
    "plt.axis('off')\n",
    "plt.show()"
   ]
  },
  {
   "cell_type": "code",
   "execution_count": 109,
   "metadata": {},
   "outputs": [],
   "source": [
    "def show_conv_img(input_data):\n",
    "    conv_data = input_data.copy()\n",
    "    shape = conv_data.shape\n",
    "    #----設定圖片大小\n",
    "    plt.figure(figsize=(7,7))\n",
    "#     img_data = np.swapaxes(conv_data,0,-1)\n",
    "#     print(img_data.shape)\n",
    "    img_data = np.reshape(conv_data,(shape[-1],shape[1],shape[2]))\n",
    "    img_data *= 255\n",
    "#     img_data = np.clip(img_data,0,255)\n",
    "    img_data = img_data.astype(np.uint8)\n",
    "    print('img_data.shape:',img_data.shape)\n",
    "    print('img_data dtype:',img_data.dtype)\n",
    "    plt_num = math.ceil(np.sqrt(len(img_data)))\n",
    "#     print(plt_num)\n",
    "    for idx,img_conv in enumerate(img_data):\n",
    "        plt.subplot(plt_num,plt_num,idx+1)\n",
    "        plt.imshow(img_conv,cmap='gray')\n",
    "        plt.axis('off')\n",
    "    plt.show()"
   ]
  },
  {
   "cell_type": "code",
   "execution_count": 110,
   "metadata": {},
   "outputs": [
    {
     "name": "stdout",
     "output_type": "stream",
     "text": [
      "img_data.shape: (8, 28, 28)\n",
      "img_data dtype: uint8\n"
     ]
    },
    {
     "data": {
      "image/png": "[encoded data removed]",
      "text/plain": [
       "<Figure size 504x504 with 8 Axes>"
      ]
     },
     "metadata": {
      "needs_background": "light"
     },
     "output_type": "display_data"
    }
   ],
   "source": [
    "show_conv_img(conv_1)"
   ]
  },
  {
   "cell_type": "code",
   "execution_count": 111,
   "metadata": {},
   "outputs": [
    {
     "name": "stdout",
     "output_type": "stream",
     "text": [
      "img_data.shape: (16, 14, 14)\n",
      "img_data dtype: uint8\n"
     ]
    },
    {
     "data": {
      "image/png": "[encoded data removed]",
      "text/plain": [
       "<Figure size 504x504 with 16 Axes>"
      ]
     },
     "metadata": {
      "needs_background": "light"
     },
     "output_type": "display_data"
    }
   ],
   "source": [
    "show_conv_img(conv_2)"
   ]
  },
  {
   "cell_type": "code",
   "execution_count": 112,
   "metadata": {},
   "outputs": [
    {
     "name": "stdout",
     "output_type": "stream",
     "text": [
      "img_data.shape: (32, 7, 7)\n",
      "img_data dtype: uint8\n"
     ]
    },
    {
     "data": {
      "image/png": "[encoded data removed]",
      "text/plain": [
       "<Figure size 504x504 with 32 Axes>"
      ]
     },
     "metadata": {
      "needs_background": "light"
     },
     "output_type": "display_data"
    }
   ],
   "source": [
    "show_conv_img(conv_3)"
   ]
  }
 ],
 "metadata": {
  "kernelspec": {
   "display_name": "Python 3",
   "language": "python",
   "name": "python3"
  },
  "language_info": {
   "codemirror_mode": {
    "name": "ipython",
    "version": 3
   },
   "file_extension": ".py",
   "mimetype": "text/x-python",
   "name": "python",
   "nbconvert_exporter": "python",
   "pygments_lexer": "ipython3",
   "version": "3.7.3"
  }
 },
 "nbformat": 4,
 "nbformat_minor": 5
}
