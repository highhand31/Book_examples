{
 "cells": [
  {
   "cell_type": "markdown",
   "id": "8c4f9d87",
   "metadata": {},
   "source": [
    "# 類別的定義與初始化"
   ]
  },
  {
   "cell_type": "code",
   "execution_count": 8,
   "id": "funky-ghana",
   "metadata": {},
   "outputs": [],
   "source": [
    "class Person():\n",
    "    def __init__(self,name,height,weight):\n",
    "        \n",
    "        self.name = name\n",
    "        self.height = height\n",
    "        self.weight = weight\n",
    "        \n",
    "    def get_bmi(self):\n",
    "        bmi = self.weight / (self.height/100)**2\n",
    "        return bmi"
   ]
  },
  {
   "cell_type": "markdown",
   "id": "707b02ff",
   "metadata": {},
   "source": [
    "# 物件的宣告"
   ]
  },
  {
   "cell_type": "code",
   "execution_count": 9,
   "id": "reserved-hampshire",
   "metadata": {},
   "outputs": [
    {
     "name": "stdout",
     "output_type": "stream",
     "text": [
      "23.573915188728378\n"
     ]
    }
   ],
   "source": [
    "curry = Person('Steve Curry',191,86)\n",
    "\n",
    "bmi = curry.get_bmi()\n",
    "print(bmi)"
   ]
  },
  {
   "cell_type": "code",
   "execution_count": 10,
   "id": "useful-cause",
   "metadata": {},
   "outputs": [
    {
     "name": "stdout",
     "output_type": "stream",
     "text": [
      "<class '__main__.Person'>\n"
     ]
    }
   ],
   "source": [
    "print(type(curry))"
   ]
  },
  {
   "cell_type": "code",
   "execution_count": 16,
   "id": "physical-publicity",
   "metadata": {},
   "outputs": [
    {
     "name": "stdout",
     "output_type": "stream",
     "text": [
      "Steve Curry\n",
      "191\n",
      "86\n",
      "23.573915188728378\n"
     ]
    }
   ],
   "source": [
    "curry = Person('Steve Curry',191,86)\n",
    "\n",
    "print(curry.name)\n",
    "print(curry.height)\n",
    "print(curry.weight)\n",
    "\n",
    "bmi = curry.get_bmi()\n",
    "print(bmi)"
   ]
  },
  {
   "cell_type": "code",
   "execution_count": 43,
   "id": "handy-sarah",
   "metadata": {},
   "outputs": [],
   "source": [
    "class Person():\n",
    "    def __init__(self,name,height,weight):\n",
    "        \n",
    "        self.name = name\n",
    "        self.height = height\n",
    "        self.weight = weight\n",
    "    \n",
    "    def get_bmi(self):\n",
    "        bmi = self.weight / (self.height/100)**2\n",
    "        return bmi\n",
    "        \n",
    "    def introduction(self):\n",
    "        def say():\n",
    "            print(\"My name is \",self.name)\n",
    "            print(\"My height is \",self.height)\n",
    "            print(\"My weight is \",self.weight)\n",
    "            \n",
    "        say()"
   ]
  },
  {
   "cell_type": "code",
   "execution_count": 34,
   "id": "mobile-canyon",
   "metadata": {},
   "outputs": [
    {
     "name": "stdout",
     "output_type": "stream",
     "text": [
      "My name is  Steve Curry\n",
      "My height is  191\n",
      "My weight is  86\n"
     ]
    }
   ],
   "source": [
    "curry = Person('Steve Curry',191,86)\n",
    "\n",
    "curry.introduction()"
   ]
  },
  {
   "cell_type": "code",
   "execution_count": 35,
   "id": "fossil-riverside",
   "metadata": {},
   "outputs": [
    {
     "ename": "AttributeError",
     "evalue": "'Person' object has no attribute 'say'",
     "output_type": "error",
     "traceback": [
      "\u001b[1;31m---------------------------------------------------------------------------\u001b[0m",
      "\u001b[1;31mAttributeError\u001b[0m                            Traceback (most recent call last)",
      "\u001b[1;32m<ipython-input-35-152defc97b1e>\u001b[0m in \u001b[0;36m<module>\u001b[1;34m\u001b[0m\n\u001b[1;32m----> 1\u001b[1;33m \u001b[0mcurry\u001b[0m\u001b[1;33m.\u001b[0m\u001b[0msay\u001b[0m\u001b[1;33m(\u001b[0m\u001b[1;33m)\u001b[0m\u001b[1;33m\u001b[0m\u001b[1;33m\u001b[0m\u001b[0m\n\u001b[0m",
      "\u001b[1;31mAttributeError\u001b[0m: 'Person' object has no attribute 'say'"
     ]
    }
   ],
   "source": [
    "curry.say()"
   ]
  },
  {
   "cell_type": "code",
   "execution_count": 49,
   "id": "imperial-satellite",
   "metadata": {},
   "outputs": [],
   "source": [
    "class NBA_player(Person):\n",
    "    def __init__(self,name,height,weight,pos,pts):\n",
    "        self.pos = pos\n",
    "        self.pts = pts\n",
    "        super().__init__(name,height,weight)"
   ]
  },
  {
   "cell_type": "code",
   "execution_count": 50,
   "id": "electrical-premiere",
   "metadata": {},
   "outputs": [],
   "source": [
    "curry = NBA_player('Steve Curry',191,86,'PG',31.6)"
   ]
  },
  {
   "cell_type": "code",
   "execution_count": 53,
   "id": "voluntary-algeria",
   "metadata": {},
   "outputs": [
    {
     "name": "stdout",
     "output_type": "stream",
     "text": [
      "My name is  Steve Curry\n",
      "My height is  191\n",
      "My weight is  86\n",
      "Curry的位置: PG\n",
      "Curry的平均得分: 31.6\n"
     ]
    }
   ],
   "source": [
    "curry.introduction()\n",
    "print(\"Curry的位置:\",curry.pos)\n",
    "print(\"Curry的平均得分:\",curry.pts)"
   ]
  },
  {
   "cell_type": "markdown",
   "id": "9878be44",
   "metadata": {},
   "source": [
    "# 建立類別裡的方法"
   ]
  },
  {
   "cell_type": "code",
   "execution_count": 54,
   "id": "satisfied-subcommittee",
   "metadata": {},
   "outputs": [],
   "source": [
    "class Person():\n",
    "    def __init__(self,name,height,weight):\n",
    "        \n",
    "        self.name = name\n",
    "        self.height = height\n",
    "        self.weight = weight\n",
    "        self.bmi = self.__get_bmi()\n",
    "    \n",
    "    def __get_bmi(self):\n",
    "        bmi = self.weight / (self.height/100)**2\n",
    "        return bmi\n",
    "        \n",
    "    def introduction(self):\n",
    "        def say():\n",
    "            print(\"My name is \",self.name)\n",
    "            print(\"My height is \",self.height)\n",
    "            print(\"My weight is \",self.weight)\n",
    "            \n",
    "        say()"
   ]
  },
  {
   "cell_type": "code",
   "execution_count": 56,
   "id": "tribal-afghanistan",
   "metadata": {},
   "outputs": [],
   "source": [
    "curry = Person('Steve Curry',191,86)"
   ]
  },
  {
   "cell_type": "code",
   "execution_count": 59,
   "id": "material-harvard",
   "metadata": {},
   "outputs": [
    {
     "ename": "AttributeError",
     "evalue": "'Person' object has no attribute 'get_bmi'",
     "output_type": "error",
     "traceback": [
      "\u001b[1;31m---------------------------------------------------------------------------\u001b[0m",
      "\u001b[1;31mAttributeError\u001b[0m                            Traceback (most recent call last)",
      "\u001b[1;32m<ipython-input-59-966c308a55e2>\u001b[0m in \u001b[0;36m<module>\u001b[1;34m\u001b[0m\n\u001b[1;32m----> 1\u001b[1;33m \u001b[0mcurry\u001b[0m\u001b[1;33m.\u001b[0m\u001b[0mget_bmi\u001b[0m\u001b[1;33m(\u001b[0m\u001b[1;33m)\u001b[0m\u001b[1;33m\u001b[0m\u001b[1;33m\u001b[0m\u001b[0m\n\u001b[0m",
      "\u001b[1;31mAttributeError\u001b[0m: 'Person' object has no attribute 'get_bmi'"
     ]
    }
   ],
   "source": [
    "curry.get_bmi()"
   ]
  },
  {
   "cell_type": "code",
   "execution_count": 60,
   "id": "independent-consumption",
   "metadata": {},
   "outputs": [
    {
     "ename": "AttributeError",
     "evalue": "'Person' object has no attribute '__get_bmi'",
     "output_type": "error",
     "traceback": [
      "\u001b[1;31m---------------------------------------------------------------------------\u001b[0m",
      "\u001b[1;31mAttributeError\u001b[0m                            Traceback (most recent call last)",
      "\u001b[1;32m<ipython-input-60-16b66f908a0c>\u001b[0m in \u001b[0;36m<module>\u001b[1;34m\u001b[0m\n\u001b[1;32m----> 1\u001b[1;33m \u001b[0mcurry\u001b[0m\u001b[1;33m.\u001b[0m\u001b[0m__get_bmi\u001b[0m\u001b[1;33m(\u001b[0m\u001b[1;33m)\u001b[0m\u001b[1;33m\u001b[0m\u001b[1;33m\u001b[0m\u001b[0m\n\u001b[0m",
      "\u001b[1;31mAttributeError\u001b[0m: 'Person' object has no attribute '__get_bmi'"
     ]
    }
   ],
   "source": [
    "curry.__get_bmi()"
   ]
  },
  {
   "cell_type": "markdown",
   "id": "corporate-offering",
   "metadata": {},
   "source": [
    "# 物件練習:給老師用的學生成績登錄類別"
   ]
  },
  {
   "cell_type": "code",
   "execution_count": 1,
   "id": "radical-patient",
   "metadata": {},
   "outputs": [],
   "source": [
    "class Grades_recorder():\n",
    "    def __init__(self,teacher_name):\n",
    "        self.teacher_name = teacher_name\n",
    "        self.__sub_name_set = set()\n",
    "        self.__name_set = set()\n",
    "        self.__score_dict = dict()\n",
    "    def sub_process(self,sub_name,p_type):\n",
    "        if p_type == '新增':\n",
    "            self.__sub_name_set.add(sub_name)\n",
    "        elif p_type == '刪除':\n",
    "            if sub_name in self.__sub_name_set:\n",
    "                self.__sub_name_set.remove(sub_name)\n",
    "            else:\n",
    "                print(sub_name,\"不在科目名單裡，不進行刪除\")\n",
    "        else:\n",
    "            print(p_type,\"不支援，目前支援的處理有新增或刪除\")\n",
    "    def student_process(self,name,p_type):\n",
    "        if p_type == '新增':\n",
    "            if name not in self.__name_set:\n",
    "                self.__name_set.add(name)\n",
    "                self.__score_dict[name] = dict()\n",
    "        elif p_type == '刪除':\n",
    "            if name in self.__name_set:\n",
    "                self.__name_set.remove(name)\n",
    "                delete_content = self.__score_dict.pop(name)\n",
    "            else:\n",
    "                print(name,\"不在學生名單裡，不進行刪除\")\n",
    "        else:\n",
    "            print(p_type,\"不支援，目前支援的處理有新增或刪除\")\n",
    "    def scores_process(self,name,sub_name,score):\n",
    "        if self.__score_dict.get(name) is not None:\n",
    "            if sub_name in self.__sub_name_set:\n",
    "                self.__score_dict[name][sub_name] = score\n",
    "            else:\n",
    "                print(sub_name,'不在科目名單裡，請先新增此科目分數')\n",
    "        else:\n",
    "            print(name,'不在學生名冊裡，請先新增學生名字')\n",
    "    def search(self,name):\n",
    "        if self.__score_dict.get(name) is not None:\n",
    "            print(self.__score_dict[name])\n",
    "        else:\n",
    "            print(name,'不在學生名冊裡')"
   ]
  },
  {
   "cell_type": "code",
   "execution_count": 3,
   "id": "d8a5da2b",
   "metadata": {},
   "outputs": [],
   "source": [
    "physics = Grades_recorder('Johnny')"
   ]
  },
  {
   "cell_type": "code",
   "execution_count": 4,
   "id": "moral-islam",
   "metadata": {},
   "outputs": [],
   "source": [
    "physics.sub_process('Physics','新增')\n",
    "physics.student_process('Jay','新增')\n",
    "physics.student_process('Jeremy','新增')\n",
    "physics.student_process('Jolin','新增')"
   ]
  },
  {
   "cell_type": "code",
   "execution_count": 5,
   "id": "wrapped-block",
   "metadata": {},
   "outputs": [],
   "source": [
    "physics.scores_process('Jay','Physics',69)\n",
    "physics.scores_process('Jeremy','Physics',88)\n",
    "physics.scores_process('Jolin','Physics',58)"
   ]
  },
  {
   "cell_type": "code",
   "execution_count": 6,
   "id": "atmospheric-partnership",
   "metadata": {},
   "outputs": [
    {
     "name": "stdout",
     "output_type": "stream",
     "text": [
      "{'Physics': 69}\n",
      "{'Physics': 88}\n",
      "{'Physics': 58}\n",
      "May 不在學生名冊裡\n"
     ]
    }
   ],
   "source": [
    "physics.search('Jay')\n",
    "physics.search('Jeremy')\n",
    "physics.search('Jolin')\n",
    "physics.search('May')"
   ]
  },
  {
   "cell_type": "code",
   "execution_count": 7,
   "id": "junior-talent",
   "metadata": {
    "scrolled": true
   },
   "outputs": [
    {
     "ename": "AttributeError",
     "evalue": "'Grades_recorder' object has no attribute 'sub_name_set'",
     "output_type": "error",
     "traceback": [
      "\u001b[1;31m---------------------------------------------------------------------------\u001b[0m",
      "\u001b[1;31mAttributeError\u001b[0m                            Traceback (most recent call last)",
      "\u001b[1;32m<ipython-input-7-77fe516ea327>\u001b[0m in \u001b[0;36m<module>\u001b[1;34m\u001b[0m\n\u001b[1;32m----> 1\u001b[1;33m \u001b[0mprint\u001b[0m\u001b[1;33m(\u001b[0m\u001b[0mphysics\u001b[0m\u001b[1;33m.\u001b[0m\u001b[0msub_name_set\u001b[0m\u001b[1;33m)\u001b[0m\u001b[1;33m\u001b[0m\u001b[1;33m\u001b[0m\u001b[0m\n\u001b[0m\u001b[0;32m      2\u001b[0m \u001b[0mprint\u001b[0m\u001b[1;33m(\u001b[0m\u001b[0mphysics\u001b[0m\u001b[1;33m.\u001b[0m\u001b[0mname_set\u001b[0m\u001b[1;33m)\u001b[0m\u001b[1;33m\u001b[0m\u001b[1;33m\u001b[0m\u001b[0m\n",
      "\u001b[1;31mAttributeError\u001b[0m: 'Grades_recorder' object has no attribute 'sub_name_set'"
     ]
    }
   ],
   "source": [
    "print(physics.sub_name_set)\n",
    "print(physics.name_set)"
   ]
  },
  {
   "cell_type": "markdown",
   "id": "23a36b2c",
   "metadata": {},
   "source": [
    "# 特殊方法__str__()與__repr__()"
   ]
  },
  {
   "cell_type": "code",
   "execution_count": 6,
   "id": "meaningful-sussex",
   "metadata": {},
   "outputs": [],
   "source": [
    "class Grades_recorder():\n",
    "    '''\n",
    "    這是一個登錄學生科目成績的類別\n",
    "    '''\n",
    "    def __str__(self):\n",
    "        msg = \"這是一個類別from__str__\"\n",
    "        return msg\n",
    "    def __repr__(self):\n",
    "        msg = \"這是一個類別from__repr__\"\n",
    "        return msg\n",
    "    def __init__(self,teacher_name):\n",
    "        '''\n",
    "        teacher_name:str\n",
    "        '''\n",
    "        self.teacher_name = teacher_name\n",
    "        self.__sub_name_set = set()\n",
    "        self.__name_set = set()\n",
    "        self.__score_dict = dict()  "
   ]
  },
  {
   "cell_type": "code",
   "execution_count": 7,
   "id": "micro-sender",
   "metadata": {},
   "outputs": [
    {
     "name": "stdout",
     "output_type": "stream",
     "text": [
      "這是一個類別from__str__\n"
     ]
    },
    {
     "ename": "TypeError",
     "evalue": "__repr__ returned non-string (type int)",
     "output_type": "error",
     "traceback": [
      "\u001b[1;31m---------------------------------------------------------------------------\u001b[0m",
      "\u001b[1;31mTypeError\u001b[0m                                 Traceback (most recent call last)",
      "\u001b[1;32m~\\Anaconda3\\envs\\py3.8\\lib\\site-packages\\IPython\\core\\formatters.py\u001b[0m in \u001b[0;36m__call__\u001b[1;34m(self, obj)\u001b[0m\n\u001b[0;32m    700\u001b[0m                 \u001b[0mtype_pprinters\u001b[0m\u001b[1;33m=\u001b[0m\u001b[0mself\u001b[0m\u001b[1;33m.\u001b[0m\u001b[0mtype_printers\u001b[0m\u001b[1;33m,\u001b[0m\u001b[1;33m\u001b[0m\u001b[1;33m\u001b[0m\u001b[0m\n\u001b[0;32m    701\u001b[0m                 deferred_pprinters=self.deferred_printers)\n\u001b[1;32m--> 702\u001b[1;33m             \u001b[0mprinter\u001b[0m\u001b[1;33m.\u001b[0m\u001b[0mpretty\u001b[0m\u001b[1;33m(\u001b[0m\u001b[0mobj\u001b[0m\u001b[1;33m)\u001b[0m\u001b[1;33m\u001b[0m\u001b[1;33m\u001b[0m\u001b[0m\n\u001b[0m\u001b[0;32m    703\u001b[0m             \u001b[0mprinter\u001b[0m\u001b[1;33m.\u001b[0m\u001b[0mflush\u001b[0m\u001b[1;33m(\u001b[0m\u001b[1;33m)\u001b[0m\u001b[1;33m\u001b[0m\u001b[1;33m\u001b[0m\u001b[0m\n\u001b[0;32m    704\u001b[0m             \u001b[1;32mreturn\u001b[0m \u001b[0mstream\u001b[0m\u001b[1;33m.\u001b[0m\u001b[0mgetvalue\u001b[0m\u001b[1;33m(\u001b[0m\u001b[1;33m)\u001b[0m\u001b[1;33m\u001b[0m\u001b[1;33m\u001b[0m\u001b[0m\n",
      "\u001b[1;32m~\\Anaconda3\\envs\\py3.8\\lib\\site-packages\\IPython\\lib\\pretty.py\u001b[0m in \u001b[0;36mpretty\u001b[1;34m(self, obj)\u001b[0m\n\u001b[0;32m    392\u001b[0m                         \u001b[1;32mif\u001b[0m \u001b[0mcls\u001b[0m \u001b[1;32mis\u001b[0m \u001b[1;32mnot\u001b[0m \u001b[0mobject\u001b[0m\u001b[0;31m \u001b[0m\u001b[0;31m\\\u001b[0m\u001b[1;33m\u001b[0m\u001b[1;33m\u001b[0m\u001b[0m\n\u001b[0;32m    393\u001b[0m                                 \u001b[1;32mand\u001b[0m \u001b[0mcallable\u001b[0m\u001b[1;33m(\u001b[0m\u001b[0mcls\u001b[0m\u001b[1;33m.\u001b[0m\u001b[0m__dict__\u001b[0m\u001b[1;33m.\u001b[0m\u001b[0mget\u001b[0m\u001b[1;33m(\u001b[0m\u001b[1;34m'__repr__'\u001b[0m\u001b[1;33m)\u001b[0m\u001b[1;33m)\u001b[0m\u001b[1;33m:\u001b[0m\u001b[1;33m\u001b[0m\u001b[1;33m\u001b[0m\u001b[0m\n\u001b[1;32m--> 394\u001b[1;33m                             \u001b[1;32mreturn\u001b[0m \u001b[0m_repr_pprint\u001b[0m\u001b[1;33m(\u001b[0m\u001b[0mobj\u001b[0m\u001b[1;33m,\u001b[0m \u001b[0mself\u001b[0m\u001b[1;33m,\u001b[0m \u001b[0mcycle\u001b[0m\u001b[1;33m)\u001b[0m\u001b[1;33m\u001b[0m\u001b[1;33m\u001b[0m\u001b[0m\n\u001b[0m\u001b[0;32m    395\u001b[0m \u001b[1;33m\u001b[0m\u001b[0m\n\u001b[0;32m    396\u001b[0m             \u001b[1;32mreturn\u001b[0m \u001b[0m_default_pprint\u001b[0m\u001b[1;33m(\u001b[0m\u001b[0mobj\u001b[0m\u001b[1;33m,\u001b[0m \u001b[0mself\u001b[0m\u001b[1;33m,\u001b[0m \u001b[0mcycle\u001b[0m\u001b[1;33m)\u001b[0m\u001b[1;33m\u001b[0m\u001b[1;33m\u001b[0m\u001b[0m\n",
      "\u001b[1;32m~\\Anaconda3\\envs\\py3.8\\lib\\site-packages\\IPython\\lib\\pretty.py\u001b[0m in \u001b[0;36m_repr_pprint\u001b[1;34m(obj, p, cycle)\u001b[0m\n\u001b[0;32m    698\u001b[0m     \u001b[1;34m\"\"\"A pprint that just redirects to the normal repr function.\"\"\"\u001b[0m\u001b[1;33m\u001b[0m\u001b[1;33m\u001b[0m\u001b[0m\n\u001b[0;32m    699\u001b[0m     \u001b[1;31m# Find newlines and replace them with p.break_()\u001b[0m\u001b[1;33m\u001b[0m\u001b[1;33m\u001b[0m\u001b[1;33m\u001b[0m\u001b[0m\n\u001b[1;32m--> 700\u001b[1;33m     \u001b[0moutput\u001b[0m \u001b[1;33m=\u001b[0m \u001b[0mrepr\u001b[0m\u001b[1;33m(\u001b[0m\u001b[0mobj\u001b[0m\u001b[1;33m)\u001b[0m\u001b[1;33m\u001b[0m\u001b[1;33m\u001b[0m\u001b[0m\n\u001b[0m\u001b[0;32m    701\u001b[0m     \u001b[0mlines\u001b[0m \u001b[1;33m=\u001b[0m \u001b[0moutput\u001b[0m\u001b[1;33m.\u001b[0m\u001b[0msplitlines\u001b[0m\u001b[1;33m(\u001b[0m\u001b[1;33m)\u001b[0m\u001b[1;33m\u001b[0m\u001b[1;33m\u001b[0m\u001b[0m\n\u001b[0;32m    702\u001b[0m     \u001b[1;32mwith\u001b[0m \u001b[0mp\u001b[0m\u001b[1;33m.\u001b[0m\u001b[0mgroup\u001b[0m\u001b[1;33m(\u001b[0m\u001b[1;33m)\u001b[0m\u001b[1;33m:\u001b[0m\u001b[1;33m\u001b[0m\u001b[1;33m\u001b[0m\u001b[0m\n",
      "\u001b[1;31mTypeError\u001b[0m: __repr__ returned non-string (type int)"
     ]
    }
   ],
   "source": [
    "physics = Grades_recorder('Johnny')\n",
    "print(physics)\n",
    "physics"
   ]
  },
  {
   "cell_type": "code",
   "execution_count": 73,
   "id": "eligible-consultancy",
   "metadata": {},
   "outputs": [
    {
     "name": "stdout",
     "output_type": "stream",
     "text": [
      "\n",
      "    這是一個登錄學生科目成績的類別\n",
      "    \n"
     ]
    }
   ],
   "source": [
    "print(physics.__doc__)"
   ]
  },
  {
   "cell_type": "code",
   "execution_count": 74,
   "id": "duplicate-draft",
   "metadata": {},
   "outputs": [
    {
     "name": "stdout",
     "output_type": "stream",
     "text": [
      "\n",
      "        teacher_name:str\n",
      "        \n"
     ]
    }
   ],
   "source": [
    "print(physics.__init__.__doc__)"
   ]
  },
  {
   "cell_type": "code",
   "execution_count": 75,
   "id": "determined-european",
   "metadata": {},
   "outputs": [
    {
     "name": "stdout",
     "output_type": "stream",
     "text": [
      "\n",
      "        sub_process(sub_name,p_type):科目名稱的處理方法，\n",
      "        sub_name為科目名稱，型態為str；p_type為處理的方法，有新增與刪除\n",
      "        \n"
     ]
    }
   ],
   "source": [
    "print(physics.sub_process.__doc__)"
   ]
  },
  {
   "cell_type": "code",
   "execution_count": 5,
   "id": "analyzed-fetish",
   "metadata": {},
   "outputs": [],
   "source": [
    "def test():\n",
    "    print(a)\n",
    "    "
   ]
  },
  {
   "cell_type": "markdown",
   "id": "ea5a83b6",
   "metadata": {},
   "source": [
    "# 物件的銷毀"
   ]
  },
  {
   "cell_type": "code",
   "execution_count": 6,
   "id": "encouraging-polymer",
   "metadata": {},
   "outputs": [],
   "source": [
    "class Grades_recorder():\n",
    "    def __init__(self,teacher_name):\n",
    "        self.teacher_name = teacher_name\n",
    "        print(\"Teacher's name is \",teacher_name)\n",
    "    def __del__(self):\n",
    "        print(\"See you next time\")"
   ]
  },
  {
   "cell_type": "code",
   "execution_count": 7,
   "id": "knowing-guarantee",
   "metadata": {},
   "outputs": [
    {
     "name": "stdout",
     "output_type": "stream",
     "text": [
      "Teacher's name is  Bryant\n"
     ]
    }
   ],
   "source": [
    "a = Grades_recorder('Bryant')"
   ]
  },
  {
   "cell_type": "code",
   "execution_count": 8,
   "id": "sharp-tiffany",
   "metadata": {},
   "outputs": [
    {
     "name": "stdout",
     "output_type": "stream",
     "text": [
      "See you next time\n"
     ]
    }
   ],
   "source": [
    "del a"
   ]
  },
  {
   "cell_type": "code",
   "execution_count": 9,
   "id": "convinced-pantyhose",
   "metadata": {},
   "outputs": [
    {
     "ename": "NameError",
     "evalue": "name 'a' is not defined",
     "output_type": "error",
     "traceback": [
      "\u001b[1;31m---------------------------------------------------------------------------\u001b[0m",
      "\u001b[1;31mNameError\u001b[0m                                 Traceback (most recent call last)",
      "\u001b[1;32m<ipython-input-9-3f786850e387>\u001b[0m in \u001b[0;36m<module>\u001b[1;34m\u001b[0m\n\u001b[1;32m----> 1\u001b[1;33m \u001b[0ma\u001b[0m\u001b[1;33m\u001b[0m\u001b[1;33m\u001b[0m\u001b[0m\n\u001b[0m",
      "\u001b[1;31mNameError\u001b[0m: name 'a' is not defined"
     ]
    }
   ],
   "source": [
    "a"
   ]
  },
  {
   "cell_type": "code",
   "execution_count": null,
   "id": "tough-serum",
   "metadata": {},
   "outputs": [],
   "source": []
  }
 ],
 "metadata": {
  "kernelspec": {
   "display_name": "Python 3",
   "language": "python",
   "name": "python3"
  },
  "language_info": {
   "codemirror_mode": {
    "name": "ipython",
    "version": 3
   },
   "file_extension": ".py",
   "mimetype": "text/x-python",
   "name": "python",
   "nbconvert_exporter": "python",
   "pygments_lexer": "ipython3",
   "version": "3.8.10"
  }
 },
 "nbformat": 4,
 "nbformat_minor": 5
}
