{
 "cells": [
  {
   "cell_type": "markdown",
   "metadata": {},
   "source": [
    "# 匯入Tensorflow套件"
   ]
  },
  {
   "cell_type": "code",
   "execution_count": 1,
   "metadata": {},
   "outputs": [
    {
     "name": "stdout",
     "output_type": "stream",
     "text": [
      "WARNING:tensorflow:From C:\\Users\\JohnnyKavnie\\Anaconda3\\lib\\site-packages\\tensorflow\\python\\compat\\v2_compat.py:96: disable_resource_variables (from tensorflow.python.ops.variable_scope) is deprecated and will be removed in a future version.\n",
      "Instructions for updating:\n",
      "non-resource variables are not supported in the long term\n",
      "Tensorflow version:2.5.0\n"
     ]
    }
   ],
   "source": [
    "import tensorflow\n",
    "if tensorflow.__version__.startswith('1.'):\n",
    "    import tensorflow as tf\n",
    "    from tensorflow.python.platform import gfile\n",
    "else:\n",
    "    import tensorflow as v2\n",
    "    import tensorflow.compat.v1 as tf\n",
    "    tf.disable_v2_behavior()\n",
    "    import tensorflow.compat.v1.gfile as gfile\n",
    "print(\"Tensorflow version:{}\".format(tf.__version__))"
   ]
  },
  {
   "cell_type": "markdown",
   "metadata": {},
   "source": [
    "# 匯入其他套件"
   ]
  },
  {
   "cell_type": "code",
   "execution_count": 2,
   "metadata": {},
   "outputs": [],
   "source": [
    "import matplotlib.pyplot as plt\n",
    "import math\n",
    "import numpy as np"
   ]
  },
  {
   "cell_type": "markdown",
   "metadata": {},
   "source": [
    "# 匯入資料集mnist"
   ]
  },
  {
   "cell_type": "code",
   "execution_count": 25,
   "metadata": {},
   "outputs": [],
   "source": [
    " (img_train, label_train), (img_test, label_test) = tf.keras.datasets.mnist.load_data()"
   ]
  },
  {
   "cell_type": "markdown",
   "metadata": {},
   "source": [
    "# 查看資料集的type, shape, dtype訊息"
   ]
  },
  {
   "cell_type": "code",
   "execution_count": 26,
   "metadata": {},
   "outputs": [
    {
     "name": "stdout",
     "output_type": "stream",
     "text": [
      "img_train type: <class 'numpy.ndarray'>\n",
      "img_train shape: (60000, 28, 28)\n",
      "img_train dtype: uint8\n",
      "label_train type: <class 'numpy.ndarray'>\n",
      "label_train shape: (60000,)\n",
      "label_train dtype: uint8\n"
     ]
    }
   ],
   "source": [
    "print(\"img_train type:\",type(img_train))\n",
    "print(\"img_train shape:\",img_train.shape)\n",
    "print(\"img_train dtype:\",img_train.dtype)\n",
    "print(\"label_train type:\",type(label_train))\n",
    "print(\"label_train shape:\",label_train.shape)\n",
    "print(\"label_train dtype:\",label_train.dtype)"
   ]
  },
  {
   "cell_type": "markdown",
   "metadata": {},
   "source": [
    "# 圖片顯示函數"
   ]
  },
  {
   "cell_type": "code",
   "execution_count": 27,
   "metadata": {},
   "outputs": [],
   "source": [
    "def image_random_show(img_data,label_data,label2classname_dict,row=3,column=3):\n",
    "    a = np.array([1])\n",
    "    random_list = np.random.randint(0,img_data.shape[0], int(row * column))                           \n",
    "    print(\"random_list:\",random_list)\n",
    "    \n",
    "    #----設定圖片大小\n",
    "    plt.figure(figsize=(7,7))\n",
    "    #----display\n",
    "    for i, rdm_number in enumerate(random_list):\n",
    "        label = label_data[rdm_number]\n",
    "        if type(label) == type(a):\n",
    "            label = label[0]\n",
    "        classname = label2classname_dict[label]\n",
    "\n",
    "        plt.subplot(column,row,i+1)\n",
    "        plt.axis('off')\n",
    "        plt.title(\"{}\".format(classname))\n",
    "        \n",
    "        if img_data.ndim == 3:\n",
    "             plt.imshow(img_data[rdm_number],cmap='gray')\n",
    "        else:\n",
    "            plt.imshow(img_data[rdm_number])\n",
    "\n",
    "    plt.show()"
   ]
  },
  {
   "cell_type": "markdown",
   "metadata": {},
   "source": [
    "# 建立label轉換成類別名稱的字典集"
   ]
  },
  {
   "cell_type": "code",
   "execution_count": 28,
   "metadata": {},
   "outputs": [],
   "source": [
    "label2classname_dict = {0:'zero',\n",
    "                        1:\"one\",\n",
    "                        2:\"two\",\n",
    "                        3:\"three\",\n",
    "                        4:\"four\",\n",
    "                        5:\"five\",\n",
    "                        6:\"six\",\n",
    "                        7:\"seven\",\n",
    "                        8:'eight',\n",
    "                        9:\"nine\"}"
   ]
  },
  {
   "cell_type": "code",
   "execution_count": 29,
   "metadata": {},
   "outputs": [
    {
     "name": "stdout",
     "output_type": "stream",
     "text": [
      "random_list: [57404 32944  6807  3932 56763 38173 44133  5271 58111]\n"
     ]
    },
    {
     "data": {
      "image/png": "[encoded data removed]",
      "text/plain": [
       "<Figure size 504x504 with 9 Axes>"
      ]
     },
     "metadata": {
      "needs_background": "light"
     },
     "output_type": "display_data"
    }
   ],
   "source": [
    "image_random_show(img_train,label_train,label2classname_dict=label2classname_dict,row=3,column=3)"
   ]
  },
  {
   "cell_type": "code",
   "execution_count": 30,
   "metadata": {},
   "outputs": [
    {
     "name": "stdout",
     "output_type": "stream",
     "text": [
      "random_list: [1297 8704 8303 1176 4989 1561 6446 9331 3027]\n"
     ]
    },
    {
     "data": {
      "image/png": "[encoded data removed]",
      "text/plain": [
       "<Figure size 504x504 with 9 Axes>"
      ]
     },
     "metadata": {
      "needs_background": "light"
     },
     "output_type": "display_data"
    }
   ],
   "source": [
    "image_random_show(img_test,label_test,label2classname_dict=label2classname_dict,row=3,column=3)"
   ]
  },
  {
   "cell_type": "markdown",
   "metadata": {},
   "source": [
    "# 建立計算圖_1"
   ]
  },
  {
   "cell_type": "code",
   "execution_count": 40,
   "metadata": {},
   "outputs": [
    {
     "name": "stdout",
     "output_type": "stream",
     "text": [
      "(?, 784)\n",
      "(?, 100)\n",
      "(?, 10)\n",
      "Device mapping:\n",
      "/job:localhost/replica:0/task:0/device:GPU:0 -> device: 0, name: NVIDIA GeForce GTX 1080 Ti, pci bus id: 0000:01:00.0, compute capability: 6.1\n",
      "\n"
     ]
    }
   ],
   "source": [
    "graph_1 = tf.Graph()\n",
    "with graph_1.as_default():\n",
    "    #----建立tf.placeholder()，接收非張量型態的資料\n",
    "    tf_input = tf.placeholder(tf.float32,shape=[None,28,28],name='input')\n",
    "    tf_label = tf.placeholder(tf.int32,shape=[None],name=\"label\")\n",
    "    \n",
    "    #----建立類神經網路\n",
    "    net = tf.layers.flatten(tf_input)\n",
    "    print(net.shape)\n",
    "    net = tf.layers.dense(inputs=net, units=100, activation=tf.nn.relu)\n",
    "    print(net.shape)\n",
    "    output = tf.layers.dense(inputs=net, units=10, activation=None)#輸出層就不需使用激勵函數\n",
    "    print(output.shape)\n",
    "\n",
    "    #----softmax函數輸出各類別的機率\n",
    "    tf_prediction = tf.nn.softmax(output,name=\"prediction\")\n",
    "\n",
    "     #----設定損失函數\n",
    "    tf_loss = tf.reduce_mean(tf.nn.sparse_softmax_cross_entropy_with_logits(labels=tf_label,logits=output),\n",
    "                      name=\"loss\")\n",
    "\n",
    "    #----設定最佳化函數\n",
    "    learning_rate = 1e-4\n",
    "    tf_optimizer = tf.train.AdamOptimizer(learning_rate=learning_rate).minimize(tf_loss)\n",
    "\n",
    "    #----GPU 資源設定\n",
    "    config = tf.ConfigProto(log_device_placement=True,\n",
    "                            allow_soft_placement=True)\n",
    "    config.gpu_options.allow_growth = True\n",
    "\n",
    "    sess = tf.Session(graph=graph_1,config=config)\n",
    "    sess.run(tf.global_variables_initializer())"
   ]
  },
  {
   "cell_type": "markdown",
   "metadata": {},
   "source": [
    "# #建立計算圖_2"
   ]
  },
  {
   "cell_type": "code",
   "execution_count": 44,
   "metadata": {},
   "outputs": [
    {
     "name": "stdout",
     "output_type": "stream",
     "text": [
      "(?, 784)\n",
      "(?, 512)\n",
      "(?, 1024)\n",
      "(?, 10)\n",
      "Device mapping:\n",
      "/job:localhost/replica:0/task:0/device:GPU:0 -> device: 0, name: NVIDIA GeForce GTX 1080 Ti, pci bus id: 0000:01:00.0, compute capability: 6.1\n",
      "\n"
     ]
    }
   ],
   "source": [
    "graph_2 = tf.Graph()\n",
    "with graph_2.as_default():\n",
    "    \n",
    "    #----建立tf.placeholder()，接收非張量型態的資料\n",
    "    tf_input = tf.placeholder(tf.float32,shape=[None,28,28],name='input')\n",
    "    tf_label = tf.placeholder(tf.int32,shape=[None],name=\"label\")\n",
    "    tf_keep_prob = tf.placeholder(tf.float32,name='keep_prob')\n",
    "    \n",
    "    #----建立類神經網路\n",
    "    net = tf.layers.flatten(tf_input)\n",
    "    print(net.shape)\n",
    "    net = tf.layers.dense(inputs=net, units=512, activation=tf.nn.relu)\n",
    "    print(net.shape)\n",
    "    net = tf.layers.dense(inputs=net, units=1024, activation=tf.nn.relu)\n",
    "    print(net.shape)\n",
    "    \n",
    "    net = tf.nn.dropout(net, keep_prob=tf_keep_prob)#加入dropout\n",
    "    \n",
    "    output = tf.layers.dense(inputs=net, units=10, activation=None)#輸出層就不需使用激勵函數\n",
    "    print(output.shape)\n",
    "\n",
    "    #----softmax函數輸出各類別的機率\n",
    "    tf_prediction = tf.nn.softmax(output,name=\"prediction\")\n",
    "\n",
    "     #----設定損失函數\n",
    "    tf_loss = tf.reduce_mean(tf.nn.sparse_softmax_cross_entropy_with_logits(labels=tf_label,logits=output),\n",
    "                      name=\"loss\")\n",
    "\n",
    "    #----設定最佳化函數\n",
    "    learning_rate = 1e-4\n",
    "    tf_optimizer = tf.train.AdamOptimizer(learning_rate=learning_rate).minimize(tf_loss)\n",
    "\n",
    "    #----GPU 資源設定\n",
    "    config = tf.ConfigProto(log_device_placement=True,\n",
    "                            allow_soft_placement=True)\n",
    "    config.gpu_options.allow_growth = True\n",
    "\n",
    "    sess = tf.Session(graph=graph_2,config=config)\n",
    "    sess.run(tf.global_variables_initializer())"
   ]
  },
  {
   "cell_type": "markdown",
   "metadata": {},
   "source": [
    "# 計算訓練的參數數量"
   ]
  },
  {
   "cell_type": "code",
   "execution_count": 20,
   "metadata": {},
   "outputs": [],
   "source": [
    "def get_qty_var(tf_graph):\n",
    "    qty = 0\n",
    "    with tf_graph.as_default():\n",
    "        for var in tf.global_variables():\n",
    "            \n",
    "            if var.trainable:\n",
    "                shape = var.shape\n",
    "                for i,num in enumerate(shape):\n",
    "                    if i == 0:\n",
    "                        product = num\n",
    "                    else:\n",
    "                        product *= num\n",
    "                qty += product \n",
    "\n",
    "        print(\"參數數量 = \",qty)"
   ]
  },
  {
   "cell_type": "code",
   "execution_count": 21,
   "metadata": {},
   "outputs": [
    {
     "name": "stdout",
     "output_type": "stream",
     "text": [
      "參數數量 =  79510\n",
      "參數數量 =  937482\n"
     ]
    }
   ],
   "source": [
    "get_qty_var(graph_1)\n",
    "get_qty_var(graph_2)"
   ]
  },
  {
   "cell_type": "markdown",
   "metadata": {},
   "source": [
    "# 選取迭代資料函數"
   ]
  },
  {
   "cell_type": "code",
   "execution_count": 11,
   "metadata": {},
   "outputs": [],
   "source": [
    "def get_ite_data(img_data,label_data,ite_num,batch_size):\n",
    "    num_start = batch_size * ite_num\n",
    "    num_end = num_start + batch_size\n",
    "    if num_end > img_data.shape[0]:\n",
    "        num_end = img_data.shape[0]\n",
    "    \n",
    "    ite_data = img_data[num_start:num_end]\n",
    "    ite_label = label_data[num_start:num_end]\n",
    "    \n",
    "    return ite_data,ite_label"
   ]
  },
  {
   "cell_type": "markdown",
   "metadata": {},
   "source": [
    "# 計算損失值函數"
   ]
  },
  {
   "cell_type": "code",
   "execution_count": 12,
   "metadata": {},
   "outputs": [],
   "source": [
    "def get_loss(img_data,label_data,batch_size,sess,use_dropout=False):\n",
    "    iterations =math.ceil(img_data.shape[0] / batch_size)\n",
    "    loss = 0\n",
    "    \n",
    "    for iteration in range(iterations):\n",
    "        ite_data,ite_label = get_ite_data(img_data,label_data,iteration,batch_size)\n",
    "        \n",
    "        if use_dropout is False:\n",
    "            loss += sess.run(tf_loss,feed_dict={tf_input:ite_data,tf_label:ite_label})\n",
    "        else:\n",
    "            loss += sess.run(tf_loss,feed_dict={tf_input:ite_data,\n",
    "                                                tf_label:ite_label,\n",
    "                                                tf_keep_prob:1})\n",
    "    \n",
    "    loss /= iterations\n",
    "    \n",
    "    return loss"
   ]
  },
  {
   "cell_type": "markdown",
   "metadata": {},
   "source": [
    "# 計算準確率函數"
   ]
  },
  {
   "cell_type": "code",
   "execution_count": 16,
   "metadata": {},
   "outputs": [],
   "source": [
    "def get_accuracy(img_data,label_data,batch_size,sess,use_dropout=False):\n",
    "    iterations = math.ceil(img_data.shape[0] / batch_size)\n",
    "    correct_count = 0\n",
    "    prediction_count = 0\n",
    "    \n",
    "    for iteration in range(iterations):\n",
    "        ite_data,ite_label = get_ite_data(img_data,label_data,iteration,batch_size)\n",
    "        if use_dropout is False:\n",
    "            predictions = sess.run(tf_prediction,feed_dict={tf_input:ite_data})\n",
    "        else:\n",
    "            predictions = sess.run(tf_prediction,feed_dict={tf_input:ite_data,\n",
    "                                                tf_label:ite_label,\n",
    "                                                tf_keep_prob:1})\n",
    "        arg_predictions = np.argmax(predictions,axis=1)\n",
    "        for arg_prediction, label in zip(arg_predictions,ite_label):\n",
    "            prediction_count += 1\n",
    "            if arg_prediction == label:\n",
    "                correct_count += 1\n",
    "    acc = correct_count / prediction_count\n",
    "    \n",
    "    return acc"
   ]
  },
  {
   "cell_type": "markdown",
   "metadata": {},
   "source": [
    "# 訓練程式碼函數"
   ]
  },
  {
   "cell_type": "code",
   "execution_count": 37,
   "metadata": {},
   "outputs": [],
   "source": [
    "def run_training(*args,**kwargs):\n",
    "    #----參數擷取\n",
    "    img_train = args[0]\n",
    "    label_train = args[1]\n",
    "    img_test = args[2]\n",
    "    label_test = args[3]\n",
    "    sess = args[4]\n",
    "    batch_size = kwargs['batch_size']\n",
    "    epochs = kwargs['epochs']\n",
    "    dropout_ratio = kwargs.get('dropout_ratio')\n",
    "    \n",
    "    #----計算迭代次數\n",
    "    iterations_train =math.ceil(img_train.shape[0] / batch_size)\n",
    "    iterations_test = math.ceil(img_test.shape[0] / batch_size )\n",
    "    \n",
    "    #----宣告收集損失值與準確率的串列\n",
    "    loss_train_list = list()\n",
    "    acc_train_list = list()\n",
    "    loss_test_list = list()\n",
    "    acc_test_list = list()\n",
    "    \n",
    "    for epoch in range(epochs):\n",
    "        for iteration in range(iterations_train):\n",
    "            ite_data,ite_label = get_ite_data(img_train,label_train,iteration,batch_size)\n",
    "            if dropout_ratio is None:\n",
    "                sess.run(tf_optimizer,feed_dict={tf_input:ite_data,tf_label:ite_label})\n",
    "            else:\n",
    "                sess.run(tf_optimizer,feed_dict={tf_input:ite_data,\n",
    "                                                 tf_label:ite_label,\n",
    "                                                 tf_keep_prob:1-dropout_ratio})\n",
    "        \n",
    "        #----計算訓練集的損失值與準確率\n",
    "        if dropout_ratio is None:\n",
    "            loss_train = get_loss(img_train,label_train,batch_size,sess)\n",
    "            acc_train = get_accuracy(img_train,label_train,batch_size,sess)\n",
    "        else:\n",
    "            loss_train = get_loss(img_train,\n",
    "                                  label_train,\n",
    "                                  batch_size,sess,\n",
    "                                  use_dropout=True)\n",
    "            acc_train = get_accuracy(img_train,\n",
    "                                     label_train,\n",
    "                                     batch_size,sess,\n",
    "                                     use_dropout=True)\n",
    "        print(\"訓練集 損失值 = \",loss_train)\n",
    "        print(\"訓練集 準確率 = \",acc_train)\n",
    "\n",
    "        #----收集訓練集損失值與準確率數值至串列\n",
    "        loss_train_list.append(loss_train)\n",
    "        acc_train_list.append(acc_train)\n",
    "\n",
    "        #----計算驗證集的損失值與準確率\n",
    "        if dropout_ratio is None:\n",
    "            loss_test = get_loss(img_test,label_test,batch_size,sess)\n",
    "            acc_test = get_accuracy(img_test,label_test,batch_size,sess)\n",
    "        else:\n",
    "            loss_test = get_loss(img_test,\n",
    "                                  label_test,\n",
    "                                  batch_size,sess,\n",
    "                                  use_dropout=True)\n",
    "            acc_test = get_accuracy(img_test,\n",
    "                                     label_test,\n",
    "                                     batch_size,sess,\n",
    "                                     use_dropout=True)\n",
    "            \n",
    "        print(\"驗證集 損失值 = \",loss_test)\n",
    "        print(\"驗證集 準確率 = \",acc_test)\n",
    "\n",
    "        #----收集驗證集損失值與準確率數值至串列\n",
    "        loss_test_list.append(loss_test)\n",
    "        acc_test_list.append(acc_test)\n",
    "        \n",
    "    return loss_train_list,acc_train_list,loss_test_list,acc_test_list"
   ]
  },
  {
   "cell_type": "markdown",
   "metadata": {},
   "source": [
    "# 結果圖形化函數"
   ]
  },
  {
   "cell_type": "code",
   "execution_count": 14,
   "metadata": {},
   "outputs": [],
   "source": [
    "def get_plots(*args):\n",
    "    loss_train_list = args[0]\n",
    "    acc_train_list = args[1]\n",
    "    loss_test_list = args[2]\n",
    "    acc_test_list = args[3]\n",
    "    \n",
    "    x_num = [i for i in range(0,len(loss_train_list))]\n",
    "\n",
    "    plt.figure(figsize=(12,4))#圖形的大小可以自行設定\n",
    "\n",
    "    plt.subplot(1,2,1)#設定第1張圖\n",
    "    plt.plot(x_num,loss_train_list,label='train data')\n",
    "    plt.plot(x_num,loss_test_list,label='test data')\n",
    "    plt.xlabel(\"epoch\")\n",
    "    plt.ylabel(\"loss \")\n",
    "    plt.legend()\n",
    "\n",
    "    plt.subplot(1,2,2)#設定第2張圖\n",
    "    plt.plot(x_num,acc_train_list,label='train data')\n",
    "    plt.plot(x_num,acc_test_list,label='test data')\n",
    "    plt.xlabel(\"epoch\")\n",
    "    plt.ylabel(\"accuracy\")\n",
    "    plt.legend()\n",
    "\n",
    "    plt.show()#所有圖都設定完再執行show()\n",
    "    \n",
    "    arg_train = np.argmax(acc_train_list)\n",
    "    best_acc_train = acc_train_list[arg_train]\n",
    "    print(\"訓練集最高的準確率為{}，出現在epoch {}\".format(best_acc_train,arg_train))\n",
    "\n",
    "    arg_test = np.argmax(acc_test_list)\n",
    "    best_acc_test = acc_test_list[arg_test]\n",
    "    print(\"驗證集最高的準確率為{}，出現在epoch {}\".format(best_acc_test,arg_test))"
   ]
  },
  {
   "cell_type": "markdown",
   "metadata": {},
   "source": [
    "# graph_1的訓練"
   ]
  },
  {
   "cell_type": "code",
   "execution_count": 41,
   "metadata": {
    "scrolled": true
   },
   "outputs": [
    {
     "name": "stdout",
     "output_type": "stream",
     "text": [
      "訓練集 損失值 =  5.829530030743146\n",
      "訓練集 準確率 =  0.8328833333333333\n",
      "驗證集 損失值 =  5.698850598610655\n",
      "驗證集 準確率 =  0.8356\n",
      "訓練集 損失值 =  3.3585922964729433\n",
      "訓練集 準確率 =  0.8800666666666667\n",
      "驗證集 損失值 =  3.512360063561665\n",
      "驗證集 準確率 =  0.8784\n",
      "訓練集 損失值 =  2.3380696949547035\n",
      "訓練集 準確率 =  0.9015333333333333\n",
      "驗證集 損失值 =  2.689615601166799\n",
      "驗證集 準確率 =  0.8968\n",
      "訓練集 損失值 =  1.7614079758779073\n",
      "訓練集 準確率 =  0.9164833333333333\n",
      "驗證集 損失值 =  2.1904583056869953\n",
      "驗證集 準確率 =  0.9071\n",
      "訓練集 損失值 =  1.400698595241443\n",
      "訓練集 準確率 =  0.9255666666666666\n",
      "驗證集 損失值 =  1.8784232210970992\n",
      "驗證集 準確率 =  0.9154\n",
      "訓練集 損失值 =  1.1254833498820742\n",
      "訓練集 準確率 =  0.9340666666666667\n",
      "驗證集 損失值 =  1.6606455878409798\n",
      "驗證集 準確率 =  0.9221\n",
      "訓練集 損失值 =  0.926666205086788\n",
      "訓練集 準確率 =  0.9409\n",
      "驗證集 損失值 =  1.5125768129907693\n",
      "驗證集 準確率 =  0.9247\n",
      "訓練集 損失值 =  0.7807114621041529\n",
      "訓練集 準確率 =  0.94655\n",
      "驗證集 損失值 =  1.393617913627369\n",
      "驗證集 準確率 =  0.9285\n",
      "訓練集 損失值 =  0.6602263738030021\n",
      "訓練集 準確率 =  0.9508833333333333\n",
      "驗證集 損失值 =  1.3173094206280773\n",
      "驗證集 準確率 =  0.9307\n",
      "訓練集 損失值 =  0.5451672744479833\n",
      "訓練集 準確率 =  0.9563\n",
      "驗證集 損失值 =  1.239463012291143\n",
      "驗證集 準確率 =  0.932\n",
      "訓練集 損失值 =  0.46026322373905243\n",
      "訓練集 準確率 =  0.9593333333333334\n",
      "驗證集 損失值 =  1.1641795357805673\n",
      "驗證集 準確率 =  0.9351\n",
      "訓練集 損失值 =  0.3851739407489417\n",
      "訓練集 準確率 =  0.9628\n",
      "驗證集 損失值 =  1.11232737083272\n",
      "驗證集 準確率 =  0.937\n",
      "訓練集 損失值 =  0.3318940544335679\n",
      "訓練集 準確率 =  0.9657833333333333\n",
      "驗證集 損失值 =  1.075812989454197\n",
      "驗證集 準確率 =  0.9383\n",
      "訓練集 損失值 =  0.27954224916341003\n",
      "訓練集 準確率 =  0.9689833333333333\n",
      "驗證集 損失值 =  1.0347255911494784\n",
      "驗證集 準確率 =  0.9399\n",
      "訓練集 損失值 =  0.2554198353275524\n",
      "訓練集 準確率 =  0.9701666666666666\n",
      "驗證集 損失值 =  0.9968880987029985\n",
      "驗證集 準確率 =  0.9412\n",
      "訓練集 損失值 =  0.2270589265592948\n",
      "訓練集 準確率 =  0.9713666666666667\n",
      "驗證集 損失值 =  0.9843119548621025\n",
      "驗證集 準確率 =  0.9402\n",
      "訓練集 損失值 =  0.19606056744093384\n",
      "訓練集 準確率 =  0.9733166666666667\n",
      "驗證集 損失值 =  0.9599444723518175\n",
      "驗證集 準確率 =  0.9418\n",
      "訓練集 損失值 =  0.17069421943446003\n",
      "訓練集 準確率 =  0.97555\n",
      "驗證集 損失值 =  0.9306693035804632\n",
      "驗證集 準確率 =  0.9414\n",
      "訓練集 損失值 =  0.16455048531295915\n",
      "訓練集 準確率 =  0.97525\n",
      "驗證集 損失值 =  0.9275499739939399\n",
      "驗證集 準確率 =  0.9419\n",
      "訓練集 損失值 =  0.1590098093506999\n",
      "訓練集 準確率 =  0.9751833333333333\n",
      "驗證集 損失值 =  0.9203444411529595\n",
      "驗證集 準確率 =  0.9428\n",
      "訓練集 損失值 =  0.12062148513546463\n",
      "訓練集 準確率 =  0.97995\n",
      "驗證集 損失值 =  0.8994846253583259\n",
      "驗證集 準確率 =  0.9439\n",
      "訓練集 損失值 =  0.1206079759449533\n",
      "訓練集 準確率 =  0.9791333333333333\n",
      "驗證集 損失值 =  0.8768465186528944\n",
      "驗證集 準確率 =  0.944\n",
      "訓練集 損失值 =  0.1214685367543433\n",
      "訓練集 準確率 =  0.9792\n",
      "驗證集 損失值 =  0.8804631414266032\n",
      "驗證集 準確率 =  0.9448\n",
      "訓練集 損失值 =  0.09495008598720438\n",
      "訓練集 準確率 =  0.9826166666666667\n",
      "驗證集 損失值 =  0.8476633053147021\n",
      "驗證集 準確率 =  0.9465\n",
      "訓練集 損失值 =  0.09167273629654465\n",
      "訓練集 準確率 =  0.98255\n",
      "驗證集 損失值 =  0.8352714417964353\n",
      "驗證集 準確率 =  0.9467\n",
      "訓練集 損失值 =  0.10327264236215447\n",
      "訓練集 準確率 =  0.98105\n",
      "驗證集 損失值 =  0.8610168886941291\n",
      "驗證集 準確率 =  0.9446\n",
      "訓練集 損失值 =  0.06996855432007888\n",
      "訓練集 準確率 =  0.9861333333333333\n",
      "驗證集 損失值 =  0.8163444539596824\n",
      "驗證集 準確率 =  0.9482\n",
      "訓練集 損失值 =  0.05308638181322594\n",
      "訓練集 準確率 =  0.9889\n",
      "驗證集 損失值 =  0.8012622521037259\n",
      "驗證集 準確率 =  0.9507\n",
      "訓練集 損失值 =  0.06778077823306329\n",
      "訓練集 準確率 =  0.9862\n",
      "驗證集 損失值 =  0.829517104530668\n",
      "驗證集 準確率 =  0.9491\n",
      "訓練集 損失值 =  0.04627575507883386\n",
      "訓練集 準確率 =  0.9893833333333333\n",
      "驗證集 損失值 =  0.8142890878946222\n",
      "驗證集 準確率 =  0.9501\n"
     ]
    }
   ],
   "source": [
    "loss_train_list_1,acc_train_list_1,loss_test_list_1,acc_test_list_1 = run_training(img_train,\n",
    "                             label_train,\n",
    "                             img_test,\n",
    "                             label_test,\n",
    "                             sess,\n",
    "                             batch_size=128,\n",
    "                             epochs=30,\n",
    "                             #dropout_ratio=0.5                                            \n",
    "                             )                                  "
   ]
  },
  {
   "cell_type": "markdown",
   "metadata": {},
   "source": [
    "# graph_1的結果"
   ]
  },
  {
   "cell_type": "code",
   "execution_count": 42,
   "metadata": {
    "scrolled": true
   },
   "outputs": [
    {
     "data": {
      "image/png": "[encoded data removed]",
      "text/plain": [
       "<Figure size 864x288 with 2 Axes>"
      ]
     },
     "metadata": {
      "needs_background": "light"
     },
     "output_type": "display_data"
    },
    {
     "name": "stdout",
     "output_type": "stream",
     "text": [
      "訓練集最高的準確率為0.9893833333333333，出現在epoch 29\n",
      "驗證集最高的準確率為0.9507，出現在epoch 27\n"
     ]
    }
   ],
   "source": [
    "get_plots(loss_train_list_1,acc_train_list_1,loss_test_list_1,acc_test_list_1)"
   ]
  },
  {
   "cell_type": "markdown",
   "metadata": {},
   "source": [
    "# graph_2的訓練"
   ]
  },
  {
   "cell_type": "code",
   "execution_count": 45,
   "metadata": {
    "scrolled": true
   },
   "outputs": [
    {
     "name": "stdout",
     "output_type": "stream",
     "text": [
      "訓練集 損失值 =  1.1016426215025927\n",
      "訓練集 準確率 =  0.9419166666666666\n",
      "驗證集 損失值 =  1.1871218688526664\n",
      "驗證集 準確率 =  0.9371\n",
      "訓練集 損失值 =  0.45561441181163087\n",
      "訓練集 準確率 =  0.9609333333333333\n",
      "驗證集 損失值 =  0.6149194561848704\n",
      "驗證集 準確率 =  0.9511\n",
      "訓練集 損失值 =  0.23638332973373732\n",
      "訓練集 準確率 =  0.9703\n",
      "驗證集 損失值 =  0.41540317761833273\n",
      "驗證集 準確率 =  0.955\n",
      "訓練集 損失值 =  0.14746411301726564\n",
      "訓練集 準確率 =  0.97565\n",
      "驗證集 損失值 =  0.32054199578890835\n",
      "驗證集 準確率 =  0.9588\n",
      "訓練集 損失值 =  0.10211330891055898\n",
      "訓練集 準確率 =  0.9799833333333333\n",
      "驗證集 損失值 =  0.27049612375356424\n",
      "驗證集 準確率 =  0.9612\n",
      "訓練集 損失值 =  0.07119427514774142\n",
      "訓練集 準確率 =  0.9832833333333333\n",
      "驗證集 損失值 =  0.23620878720949126\n",
      "驗證集 準確率 =  0.9617\n",
      "訓練集 損失值 =  0.05036423522039507\n",
      "訓練集 準確率 =  0.9872666666666666\n",
      "驗證集 損失值 =  0.21725378210483748\n",
      "驗證集 準確率 =  0.9652\n",
      "訓練集 損失值 =  0.03582073387311104\n",
      "訓練集 準確率 =  0.9903833333333333\n",
      "驗證集 損失值 =  0.1902697397771319\n",
      "驗證集 準確率 =  0.9681\n",
      "訓練集 損失值 =  0.028004754608212414\n",
      "訓練集 準確率 =  0.9919166666666667\n",
      "驗證集 損失值 =  0.18938544010162803\n",
      "驗證集 準確率 =  0.9685\n",
      "訓練集 損失值 =  0.02270784695629932\n",
      "訓練集 準確率 =  0.9932\n",
      "驗證集 損失值 =  0.18231321921703517\n",
      "驗證集 準確率 =  0.9682\n",
      "訓練集 損失值 =  0.019451452992329622\n",
      "訓練集 準確率 =  0.9939333333333333\n",
      "驗證集 損失值 =  0.17516107021142086\n",
      "驗證集 準確率 =  0.9707\n",
      "訓練集 損失值 =  0.017027306223758337\n",
      "訓練集 準確率 =  0.9944\n",
      "驗證集 損失值 =  0.16718960718003184\n",
      "驗證集 準確率 =  0.9708\n",
      "訓練集 損失值 =  0.015757531363009343\n",
      "訓練集 準確率 =  0.9952\n",
      "驗證集 損失值 =  0.17274688435471816\n",
      "驗證集 準確率 =  0.9723\n",
      "訓練集 損失值 =  0.012266971664148476\n",
      "訓練集 準確率 =  0.9957333333333334\n",
      "驗證集 損失值 =  0.17495294763033645\n",
      "驗證集 準確率 =  0.9691\n",
      "訓練集 損失值 =  0.01134077802124114\n",
      "訓練集 準確率 =  0.9965166666666667\n",
      "驗證集 損失值 =  0.1719468936072863\n",
      "驗證集 準確率 =  0.9709\n",
      "訓練集 損失值 =  0.009183900407487153\n",
      "訓練集 準確率 =  0.997\n",
      "驗證集 損失值 =  0.17138606171793186\n",
      "驗證集 準確率 =  0.9713\n",
      "訓練集 損失值 =  0.008189569785072832\n",
      "訓練集 準確率 =  0.9973833333333333\n",
      "驗證集 損失值 =  0.16701277584094515\n",
      "驗證集 準確率 =  0.973\n",
      "訓練集 損失值 =  0.00538100439811183\n",
      "訓練集 準確率 =  0.9980333333333333\n",
      "驗證集 損失值 =  0.16339974014958092\n",
      "驗證集 準確率 =  0.9727\n",
      "訓練集 損失值 =  0.006533360248849417\n",
      "訓練集 準確率 =  0.9978166666666667\n",
      "驗證集 損失值 =  0.16859892653743414\n",
      "驗證集 準確率 =  0.9732\n",
      "訓練集 損失值 =  0.006266761529871732\n",
      "訓練集 準確率 =  0.9980166666666667\n",
      "驗證集 損失值 =  0.17127270708988362\n",
      "驗證集 準確率 =  0.9736\n",
      "訓練集 損失值 =  0.004969351274209113\n",
      "訓練集 準確率 =  0.9982666666666666\n",
      "驗證集 損失值 =  0.16684323941128149\n",
      "驗證集 準確率 =  0.9739\n",
      "訓練集 損失值 =  0.0042561173976137165\n",
      "訓練集 準確率 =  0.9987833333333334\n",
      "驗證集 損失值 =  0.16787276321544503\n",
      "驗證集 準確率 =  0.9748\n",
      "訓練集 損失值 =  0.004698225163330006\n",
      "訓練集 準確率 =  0.9985666666666667\n",
      "驗證集 損失值 =  0.16821127671240488\n",
      "驗證集 準確率 =  0.9749\n",
      "訓練集 損失值 =  0.004689590578607264\n",
      "訓練集 準確率 =  0.9984666666666666\n",
      "驗證集 損失值 =  0.17002436102500973\n",
      "驗證集 準確率 =  0.9751\n",
      "訓練集 損失值 =  0.003795405576182135\n",
      "訓練集 準確率 =  0.99885\n",
      "驗證集 損失值 =  0.15958439150027692\n",
      "驗證集 準確率 =  0.9752\n",
      "訓練集 損失值 =  0.0032993634484387233\n",
      "訓練集 準確率 =  0.99895\n",
      "驗證集 損失值 =  0.1574146888565562\n",
      "驗證集 準確率 =  0.9764\n",
      "訓練集 損失值 =  0.0038498625990582066\n",
      "訓練集 準確率 =  0.9988833333333333\n",
      "驗證集 損失值 =  0.1658282110196872\n",
      "驗證集 準確率 =  0.978\n",
      "訓練集 損失值 =  0.0037920295530076394\n",
      "訓練集 準確率 =  0.9988\n",
      "驗證集 損失值 =  0.15195220529741452\n",
      "驗證集 準確率 =  0.9785\n",
      "訓練集 損失值 =  0.002234869240361151\n",
      "訓練集 準確率 =  0.9992333333333333\n",
      "驗證集 損失值 =  0.1539683790175055\n",
      "驗證集 準確率 =  0.9782\n",
      "訓練集 損失值 =  0.004078535098541042\n",
      "訓練集 準確率 =  0.9986666666666667\n",
      "驗證集 損失值 =  0.16480126061871675\n",
      "驗證集 準確率 =  0.9767\n"
     ]
    }
   ],
   "source": [
    "loss_train_list_2,acc_train_list_2,loss_test_list_2,acc_test_list_2 = run_training(img_train,\n",
    "                             label_train,\n",
    "                             img_test,\n",
    "                             label_test,\n",
    "                             sess,\n",
    "                             batch_size=128,\n",
    "                             epochs=30,\n",
    "                             dropout_ratio=0.5                                            \n",
    "                             )   "
   ]
  },
  {
   "cell_type": "markdown",
   "metadata": {},
   "source": [
    "# graph_2的結果"
   ]
  },
  {
   "cell_type": "code",
   "execution_count": 46,
   "metadata": {},
   "outputs": [
    {
     "data": {
      "image/png": "[encoded data removed]",
      "text/plain": [
       "<Figure size 864x288 with 2 Axes>"
      ]
     },
     "metadata": {
      "needs_background": "light"
     },
     "output_type": "display_data"
    },
    {
     "name": "stdout",
     "output_type": "stream",
     "text": [
      "訓練集最高的準確率為0.9991，出現在epoch 28\n",
      "驗證集最高的準確率為0.9786，出現在epoch 19\n"
     ]
    }
   ],
   "source": [
    "get_plots(loss_train_list,acc_train_list,loss_test_list,acc_test_list)"
   ]
  }
 ],
 "metadata": {
  "kernelspec": {
   "display_name": "Python 3",
   "language": "python",
   "name": "python3"
  },
  "language_info": {
   "codemirror_mode": {
    "name": "ipython",
    "version": 3
   },
   "file_extension": ".py",
   "mimetype": "text/x-python",
   "name": "python",
   "nbconvert_exporter": "python",
   "pygments_lexer": "ipython3",
   "version": "3.7.3"
  }
 },
 "nbformat": 4,
 "nbformat_minor": 4
}
