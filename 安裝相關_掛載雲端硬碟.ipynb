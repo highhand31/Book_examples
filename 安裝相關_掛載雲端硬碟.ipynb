{
 "cells": [
  {
   "cell_type": "code",
   "execution_count": 3,
   "metadata": {
    "executionInfo": {
     "elapsed": 245,
     "status": "ok",
     "timestamp": 1628926327292,
     "user": {
      "displayName": "Liao Johnny",
      "photoUrl": "",
      "userId": "10482561226672514216"
     },
     "user_tz": -480
    },
    "id": "a7xjpOSWCCnF"
   },
   "outputs": [],
   "source": [
    "import os"
   ]
  },
  {
   "cell_type": "code",
   "execution_count": 1,
   "metadata": {
    "colab": {
     "base_uri": "https://localhost:8080/"
    },
    "executionInfo": {
     "elapsed": 16906,
     "status": "ok",
     "timestamp": 1628925967259,
     "user": {
      "displayName": "Liao Johnny",
      "photoUrl": "",
      "userId": "10482561226672514216"
     },
     "user_tz": -480
    },
    "id": "nbBv6oX9CiLJ",
    "outputId": "e3d89a91-07c8-476e-e28c-f3b2f693f1d3"
   },
   "outputs": [
    {
     "name": "stdout",
     "output_type": "stream",
     "text": [
      "Mounted at /content/drive\n"
     ]
    }
   ],
   "source": [
    "from google.colab import drive\n",
    "drive.mount('/content/drive')"
   ]
  },
  {
   "cell_type": "code",
   "execution_count": 4,
   "metadata": {
    "colab": {
     "base_uri": "https://localhost:8080/"
    },
    "executionInfo": {
     "elapsed": 270,
     "status": "ok",
     "timestamp": 1628926344426,
     "user": {
      "displayName": "Liao Johnny",
      "photoUrl": "",
      "userId": "10482561226672514216"
     },
     "user_tz": -480
    },
    "id": "5mqzQJryknJz",
    "outputId": "c0ec249a-86e7-4d1d-eb08-355d6b20b5a8"
   },
   "outputs": [
    {
     "name": "stdout",
     "output_type": "stream",
     "text": [
      "該路徑存在\n"
     ]
    }
   ],
   "source": [
    "dir_path = '/content/drive/MyDrive/Book_examples'\n",
    "if os.path.exists(dir_path):\n",
    "    print(\"該路徑存在\")"
   ]
  },
  {
   "cell_type": "code",
   "execution_count": null,
   "metadata": {
    "colab": {
     "base_uri": "https://localhost:8080/"
    },
    "executionInfo": {
     "elapsed": 341,
     "status": "ok",
     "timestamp": 1627309838014,
     "user": {
      "displayName": "廖源粕",
      "photoUrl": "https://lh3.googleusercontent.com/a-/AOh14Giwt8C7Yaq4ckJzKSVnDRM1-W5cQKu6JZwsjSPhjg=s64",
      "userId": "16029451250870712646"
     },
     "user_tz": -480
    },
    "id": "Va2Dn2d8OB2w",
    "outputId": "dd5de6e0-0ba2-4dcc-981a-da2a9efc53b0"
   },
   "outputs": [
    {
     "name": "stdout",
     "output_type": "stream",
     "text": [
      "dir_path: drive/MyDrive/Book_examples\n",
      "<DirEntry 'Lecture_notes.pptx'>\n",
      "<DirEntry '14_0.png'>\n",
      "<DirEntry 'Resume.docx'>\n",
      "<DirEntry 'content.json'>\n",
      "<DirEntry 'dairy_notes.txt'>\n",
      "<DirEntry 'statistics.xlsx'>\n",
      "<DirEntry 'test.txt'>\n",
      "<DirEntry '1.txt'>\n",
      "<DirEntry 'image_paths.txt'>\n",
      "<DirEntry 'test.json'>\n",
      "<DirEntry 'image_paths.json'>\n",
      "<DirEntry 'earth.jpg'>\n",
      "<DirEntry 'earth_1.jpg'>\n",
      "<DirEntry 'books'>\n",
      "<DirEntry 'movies'>\n",
      "<DirEntry 'jobs'>\n",
      "<DirEntry 'random_selection'>\n",
      "<DirEntry 'test'>\n",
      "<DirEntry 'datasets'>\n",
      "<DirEntry 'music'>\n",
      "<DirEntry 'games'>\n",
      "<DirEntry 'reports'>\n",
      "<DirEntry '寫入練習'>\n"
     ]
    }
   ],
   "source": [
    "dir_path = os.path.join('drive','MyDrive','Book_examples')\n",
    "print(\"dir_path:\",dir_path)\n",
    "for obj in os.scandir(dir_path):\n",
    "    print(obj)"
   ]
  }
 ],
 "metadata": {
  "colab": {
   "collapsed_sections": [],
   "name": "安裝相關_掛載雲端硬碟.ipynb",
   "provenance": []
  },
  "kernelspec": {
   "display_name": "Python 3",
   "language": "python",
   "name": "python3"
  },
  "language_info": {
   "codemirror_mode": {
    "name": "ipython",
    "version": 3
   },
   "file_extension": ".py",
   "mimetype": "text/x-python",
   "name": "python",
   "nbconvert_exporter": "python",
   "pygments_lexer": "ipython3",
   "version": "3.8.10"
  }
 },
 "nbformat": 4,
 "nbformat_minor": 1
}
