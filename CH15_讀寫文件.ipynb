{
 "cells": [
  {
   "cell_type": "code",
   "execution_count": 2,
   "metadata": {
    "executionInfo": {
     "elapsed": 258,
     "status": "ok",
     "timestamp": 1627454505402,
     "user": {
      "displayName": "廖源粕",
      "photoUrl": "https://lh3.googleusercontent.com/a-/AOh14Giwt8C7Yaq4ckJzKSVnDRM1-W5cQKu6JZwsjSPhjg=s64",
      "userId": "16029451250870712646"
     },
     "user_tz": -480
    },
    "id": "_BdIonYm0def"
   },
   "outputs": [],
   "source": [
    "import os"
   ]
  },
  {
   "cell_type": "markdown",
   "metadata": {
    "id": "cM98Q_cV2-A_"
   },
   "source": [
    "# 若使用COLAB，要先掛載雲端硬碟"
   ]
  },
  {
   "cell_type": "code",
   "execution_count": 1,
   "metadata": {
    "colab": {
     "base_uri": "https://localhost:8080/"
    },
    "executionInfo": {
     "elapsed": 36503,
     "status": "ok",
     "timestamp": 1627454108834,
     "user": {
      "displayName": "廖源粕",
      "photoUrl": "https://lh3.googleusercontent.com/a-/AOh14Giwt8C7Yaq4ckJzKSVnDRM1-W5cQKu6JZwsjSPhjg=s64",
      "userId": "16029451250870712646"
     },
     "user_tz": -480
    },
    "id": "Kr2BR3X60kjd",
    "outputId": "d2d473ad-ed78-47e1-b987-7ba0b1e1550a"
   },
   "outputs": [
    {
     "name": "stdout",
     "output_type": "stream",
     "text": [
      "Mounted at /content/drive\n"
     ]
    }
   ],
   "source": [
    "from google.colab import drive\n",
    "drive.mount('/content/drive')"
   ]
  },
  {
   "cell_type": "code",
   "execution_count": 5,
   "metadata": {
    "colab": {
     "base_uri": "https://localhost:8080/"
    },
    "executionInfo": {
     "elapsed": 265,
     "status": "ok",
     "timestamp": 1627454688097,
     "user": {
      "displayName": "廖源粕",
      "photoUrl": "https://lh3.googleusercontent.com/a-/AOh14Giwt8C7Yaq4ckJzKSVnDRM1-W5cQKu6JZwsjSPhjg=s64",
      "userId": "16029451250870712646"
     },
     "user_tz": -480
    },
    "id": "UgiNfV0m1511",
    "outputId": "cba53042-84b1-4a72-fd80-9ba754f91afc"
   },
   "outputs": [
    {
     "name": "stdout",
     "output_type": "stream",
     "text": [
      "雲端硬碟掛載成功\n"
     ]
    }
   ],
   "source": [
    "dir_path = r\"drive/MyDrive/Colab Notebooks\"\n",
    "if os.path.exists(dir_path):\n",
    "    print(\"雲端硬碟掛載成功\")\n",
    "else:\n",
    "    print(\"雲端硬碟掛載失敗\")"
   ]
  },
  {
   "cell_type": "code",
   "execution_count": 14,
   "metadata": {
    "executionInfo": {
     "elapsed": 253,
     "status": "ok",
     "timestamp": 1627456478221,
     "user": {
      "displayName": "廖源粕",
      "photoUrl": "https://lh3.googleusercontent.com/a-/AOh14Giwt8C7Yaq4ckJzKSVnDRM1-W5cQKu6JZwsjSPhjg=s64",
      "userId": "16029451250870712646"
     },
     "user_tz": -480
    },
    "id": "5PnumSrE70G4"
   },
   "outputs": [],
   "source": [
    "# file_path = os.path.join(dir_path,'test.txt')#這樣的組建路徑也可以\n",
    "file_path = \"./drive/MyDrive/Colab Notebooks/test.txt\"\n",
    "\n",
    "file_obj = open(file_path,'w')\n",
    "\n",
    "file_obj.write(\"The line1\")\n",
    "\n",
    "file_obj.close()"
   ]
  },
  {
   "cell_type": "markdown",
   "metadata": {
    "id": "ZEThXtHu0deh"
   },
   "source": [
    "# 檔案的寫入"
   ]
  },
  {
   "cell_type": "code",
   "execution_count": 15,
   "metadata": {
    "executionInfo": {
     "elapsed": 264,
     "status": "ok",
     "timestamp": 1627457374432,
     "user": {
      "displayName": "廖源粕",
      "photoUrl": "https://lh3.googleusercontent.com/a-/AOh14Giwt8C7Yaq4ckJzKSVnDRM1-W5cQKu6JZwsjSPhjg=s64",
      "userId": "16029451250870712646"
     },
     "user_tz": -480
    },
    "id": "6234Qe5w0deh"
   },
   "outputs": [],
   "source": [
    "# file_path = r\"F:\\book_examples\\寫入練習\\test.txt\"#本機Jupyter方式\n",
    "file_path = os.path.join(dir_path,'test.txt')#coloab方式\n",
    "file_obj = open(file_path,'w')"
   ]
  },
  {
   "cell_type": "code",
   "execution_count": 17,
   "metadata": {
    "executionInfo": {
     "elapsed": 327,
     "status": "ok",
     "timestamp": 1627457382760,
     "user": {
      "displayName": "廖源粕",
      "photoUrl": "https://lh3.googleusercontent.com/a-/AOh14Giwt8C7Yaq4ckJzKSVnDRM1-W5cQKu6JZwsjSPhjg=s64",
      "userId": "16029451250870712646"
     },
     "user_tz": -480
    },
    "id": "c0JPjXQt0dei"
   },
   "outputs": [],
   "source": [
    "sep = '\\n'\n",
    "\n",
    "_ = file_obj.write('寫入測試 1'+ sep)\n",
    "_ = file_obj.write('寫入測試 2'+ sep)\n",
    "_ = file_obj.write('寫入測試 3'+ sep)\n",
    "_ = file_obj.write('寫入測試 4'+ sep)\n",
    "_ = file_obj.write('寫入測試 5'+ sep)"
   ]
  },
  {
   "cell_type": "code",
   "execution_count": null,
   "metadata": {
    "id": "eqsJMMexA0uW"
   },
   "outputs": [],
   "source": [
    "sep = ','\n",
    "\n",
    "_ = file_obj.write(str(12345) + sep)\n",
    "_ = file_obj.write(str(67890) + sep)\n",
    "_ = file_obj.write(str(13579) + sep)\n",
    "_ = file_obj.write(str(24680) + sep)"
   ]
  },
  {
   "cell_type": "code",
   "execution_count": 18,
   "metadata": {
    "executionInfo": {
     "elapsed": 274,
     "status": "ok",
     "timestamp": 1627457386801,
     "user": {
      "displayName": "廖源粕",
      "photoUrl": "https://lh3.googleusercontent.com/a-/AOh14Giwt8C7Yaq4ckJzKSVnDRM1-W5cQKu6JZwsjSPhjg=s64",
      "userId": "16029451250870712646"
     },
     "user_tz": -480
    },
    "id": "QrUNg2gk0dei"
   },
   "outputs": [],
   "source": [
    "file_obj.close()"
   ]
  },
  {
   "cell_type": "code",
   "execution_count": null,
   "metadata": {
    "id": "l_lX6JMd0dei"
   },
   "outputs": [],
   "source": [
    "del file_obj\n"
   ]
  },
  {
   "cell_type": "code",
   "execution_count": 19,
   "metadata": {
    "colab": {
     "base_uri": "https://localhost:8080/",
     "height": 206
    },
    "executionInfo": {
     "elapsed": 302,
     "status": "error",
     "timestamp": 1627457551758,
     "user": {
      "displayName": "廖源粕",
      "photoUrl": "https://lh3.googleusercontent.com/a-/AOh14Giwt8C7Yaq4ckJzKSVnDRM1-W5cQKu6JZwsjSPhjg=s64",
      "userId": "16029451250870712646"
     },
     "user_tz": -480
    },
    "id": "dm4at85f0dei",
    "outputId": "c70f5f14-638a-452b-9151-41760ece6e8d"
   },
   "outputs": [
    {
     "ename": "ValueError",
     "evalue": "ignored",
     "output_type": "error",
     "traceback": [
      "\u001b[0;31m---------------------------------------------------------------------------\u001b[0m",
      "\u001b[0;31mValueError\u001b[0m                                Traceback (most recent call last)",
      "\u001b[0;32m<ipython-input-19-bcf407d58baa>\u001b[0m in \u001b[0;36m<module>\u001b[0;34m()\u001b[0m\n\u001b[1;32m      7\u001b[0m     \u001b[0m_\u001b[0m \u001b[0;34m=\u001b[0m \u001b[0mfile_obj\u001b[0m\u001b[0;34m.\u001b[0m\u001b[0mwrite\u001b[0m\u001b[0;34m(\u001b[0m\u001b[0mstr\u001b[0m\u001b[0;34m(\u001b[0m\u001b[0;36m12345\u001b[0m\u001b[0;34m)\u001b[0m \u001b[0;34m+\u001b[0m \u001b[0msep\u001b[0m\u001b[0;34m)\u001b[0m\u001b[0;34m\u001b[0m\u001b[0;34m\u001b[0m\u001b[0m\n\u001b[1;32m      8\u001b[0m \u001b[0;34m\u001b[0m\u001b[0m\n\u001b[0;32m----> 9\u001b[0;31m \u001b[0m_\u001b[0m \u001b[0;34m=\u001b[0m \u001b[0mfile_obj\u001b[0m\u001b[0;34m.\u001b[0m\u001b[0mwrite\u001b[0m\u001b[0;34m(\u001b[0m\u001b[0;34m'67890'\u001b[0m \u001b[0;34m+\u001b[0m \u001b[0msep\u001b[0m\u001b[0;34m)\u001b[0m\u001b[0;34m\u001b[0m\u001b[0;34m\u001b[0m\u001b[0m\n\u001b[0m",
      "\u001b[0;31mValueError\u001b[0m: I/O operation on closed file."
     ]
    }
   ],
   "source": [
    "# file_path = r\"F:\\book_examples\\寫入練習\\test.txt\"#本機Jupyter方式\n",
    "file_path = os.path.join(dir_path,'test.txt')#coloab方式\n",
    "sep = ','\n",
    "\n",
    "with open(file_path,'w') as file_obj:\n",
    "    \n",
    "    _ = file_obj.write(str(12345) + sep)\n",
    "\n",
    "_ = file_obj.write('67890' + sep)#離開with open()的程式區塊，就無法再寫入字串"
   ]
  },
  {
   "cell_type": "markdown",
   "metadata": {
    "id": "MAvMrit40dej"
   },
   "source": [
    "# writelines()"
   ]
  },
  {
   "cell_type": "code",
   "execution_count": 20,
   "metadata": {
    "executionInfo": {
     "elapsed": 435,
     "status": "ok",
     "timestamp": 1627457688497,
     "user": {
      "displayName": "廖源粕",
      "photoUrl": "https://lh3.googleusercontent.com/a-/AOh14Giwt8C7Yaq4ckJzKSVnDRM1-W5cQKu6JZwsjSPhjg=s64",
      "userId": "16029451250870712646"
     },
     "user_tz": -480
    },
    "id": "8hx1WeXZ0dek"
   },
   "outputs": [],
   "source": [
    "# file_path = r\"F:\\book_examples\\寫入練習\\test.txt\"#本機Jupyter方式\n",
    "file_path = os.path.join(dir_path,'test.txt')#coloab方式\n",
    "\n",
    "content_list = ['string_1','\\n','string_2','\\n']\n",
    "\n",
    "with open(file_path,'w') as file_obj:\n",
    "    file_obj.writelines(content_list)"
   ]
  },
  {
   "cell_type": "markdown",
   "metadata": {
    "id": "FNqgyFXb0dek"
   },
   "source": [
    "# 附加檔案"
   ]
  },
  {
   "cell_type": "code",
   "execution_count": null,
   "metadata": {
    "id": "xi8P34VD0dek"
   },
   "outputs": [],
   "source": [
    "# file_path = r\"F:\\book_examples\\寫入練習\\test.txt\"#本機Jupyter方式\n",
    "file_path = os.path.join(dir_path,'test.txt')#coloab方式\n",
    "\n",
    "content_list = ['string_3','\\n','string_4','\\n']\n",
    "\n",
    "with open(file_path,'a') as file_obj:\n",
    "    file_obj.writelines(content_list)"
   ]
  },
  {
   "cell_type": "markdown",
   "metadata": {
    "id": "XsQIO7iK0dek"
   },
   "source": [
    "# 練習:"
   ]
  },
  {
   "cell_type": "code",
   "execution_count": null,
   "metadata": {
    "id": "8UXEJR4U0del"
   },
   "outputs": [],
   "source": [
    "#----var\n",
    "dir_path = r\"F:\\book_examples\"\n",
    "sep  = '\\n'\n",
    "img_format = {'jpg', 'bmp', 'png'}\n",
    "\n",
    "#----open a file\n",
    "txt_path = os.path.join(dir_path,'image_paths.txt')\n",
    "file_obj = open(txt_path,'w')\n",
    "\n",
    "#----find out all image files\n",
    "for dir_name,sub_dir_list,filename_list in os.walk(dir_path):\n",
    "    \n",
    "    if len(filename_list) > 0:\n",
    "        for filename in filename_list:\n",
    "            if filename.split(\".\")[-1] in img_format:\n",
    "                \n",
    "                abs_path = os.path.join(dir_path,filename)\n",
    "                \n",
    "                file_obj.write(abs_path)\n",
    "                file_obj.write(sep)\n",
    "    \n",
    "#----close file_obj\n",
    "file_obj.close()"
   ]
  },
  {
   "cell_type": "code",
   "execution_count": null,
   "metadata": {
    "id": "zm9K5qFM0del"
   },
   "outputs": [],
   "source": [
    "#----var\n",
    "dir_path = r\"F:\\book_examples\"\n",
    "sep  = '\\n'\n",
    "img_format = {'jpg', 'bmp', 'png'}\n",
    "path_list = list()\n",
    "\n",
    "#----open a file\n",
    "txt_path = os.path.join(dir_path,'image_paths.txt')\n",
    "file_obj = open(txt_path,'w')\n",
    "\n",
    "#----find out all image files\n",
    "for dir_name,sub_dir_list,filename_list in os.walk(dir_path):\n",
    "    \n",
    "    if len(filename_list) > 0:\n",
    "        for filename in filename_list:\n",
    "            if filename.split(\".\")[-1] in img_format:\n",
    "                \n",
    "                abs_path = os.path.join(dir_path,filename)\n",
    "                \n",
    "                path_list.append(abs_path)\n",
    "                path_list.append(sep)\n",
    "                \n",
    "#----write and close file_obj\n",
    "file_obj.writelines(path_list)\n",
    "file_obj.close()"
   ]
  },
  {
   "cell_type": "markdown",
   "metadata": {
    "id": "aNmPQSK00del"
   },
   "source": [
    "# 檔案的讀取"
   ]
  },
  {
   "cell_type": "code",
   "execution_count": null,
   "metadata": {
    "id": "DWQ9bFrN0del",
    "outputId": "b7bfd8d8-e227-46bd-e7a6-b3473de3839f"
   },
   "outputs": [
    {
     "name": "stdout",
     "output_type": "stream",
     "text": [
      "<class 'str'>\n",
      "F:\\book_examples\\14_0.png\n",
      "F:\\book_examples\\Coat_6.jpg\n",
      "F:\\book_examples\\Sneaker_11.jpg\n",
      "F:\\book_examples\\Sneaker_17.jpg\n",
      "F:\\book_examples\\Sneaker_7.jpg\n",
      "F:\\book_examples\\Bag_12.jpg\n",
      "F:\\book_examples\\Bag_23.jpg\n",
      "F:\\book_examples\\Bag_6.jpg\n",
      "F:\\book_examples\\85455_5803573.jpg\n",
      "F:\\book_examples\\85459_5803924.jpg\n",
      "F:\\book_examples\\85461_5804022.jpg\n",
      "F:\\book_examples\\85721_5821181.jpg\n",
      "F:\\book_examples\\Aaron_Peirsol_0001.png\n",
      "F:\\book_examples\\Aaron_Peirsol_0003.png\n",
      "\n"
     ]
    }
   ],
   "source": [
    "file_path = r\"F:\\book_examples\\image_paths.txt\"\n",
    "\n",
    "file_obj = open(file_path,'r')\n",
    "\n",
    "string = file_obj.read()\n",
    "\n",
    "file_obj.close()\n",
    "\n",
    "print(type(string))\n",
    "print(string)"
   ]
  },
  {
   "cell_type": "code",
   "execution_count": null,
   "metadata": {
    "id": "TLQzm0uX0dem",
    "outputId": "84851d9c-d53b-48ba-dfbe-8d128cde5ca9"
   },
   "outputs": [
    {
     "name": "stdout",
     "output_type": "stream",
     "text": [
      "<class 'str'>\n",
      "F:\\book_examples\\14_0.png\n",
      "F:\\book_examples\\Coat_6.jpg\n",
      "F:\\book_examples\\Sneaker_11.jpg\n",
      "F:\\book_examples\\Sneaker_17.jpg\n",
      "F:\\book_examples\\Sneaker_7.jpg\n",
      "F:\\book_examples\\Bag_12.jpg\n",
      "F:\\book_examples\\Bag_23.jpg\n",
      "F:\\book_examples\\Bag_6.jpg\n",
      "F:\\book_examples\\85455_5803573.jpg\n",
      "F:\\book_examples\\85459_5803924.jpg\n",
      "F:\\book_examples\\85461_5804022.jpg\n",
      "F:\\book_examples\\85721_5821181.jpg\n",
      "F:\\book_examples\\Aaron_Peirsol_0001.png\n",
      "F:\\book_examples\\Aaron_Peirsol_0003.png\n",
      "\n"
     ]
    }
   ],
   "source": [
    "file_path = r\"F:\\book_examples\\image_paths.txt\"\n",
    "\n",
    "with open(file_path,'r') as file_obj:\n",
    "    \n",
    "    string = file_obj.read()\n",
    "\n",
    "print(type(string))\n",
    "print(string)"
   ]
  },
  {
   "cell_type": "markdown",
   "metadata": {
    "id": "T3nC-Svv0dem"
   },
   "source": [
    "# 進行資料與資料間的分隔"
   ]
  },
  {
   "cell_type": "code",
   "execution_count": null,
   "metadata": {
    "id": "ayhUU3gE0dem",
    "outputId": "a689abe1-b4e5-43ff-ced3-70102eec8ba3"
   },
   "outputs": [
    {
     "name": "stdout",
     "output_type": "stream",
     "text": [
      "<class 'list'>\n",
      "['F:\\\\book_examples\\\\14_0.png', 'F:\\\\book_examples\\\\Coat_6.jpg', 'F:\\\\book_examples\\\\Sneaker_11.jpg', 'F:\\\\book_examples\\\\Sneaker_17.jpg', 'F:\\\\book_examples\\\\Sneaker_7.jpg', 'F:\\\\book_examples\\\\Bag_12.jpg', 'F:\\\\book_examples\\\\Bag_23.jpg', 'F:\\\\book_examples\\\\Bag_6.jpg', 'F:\\\\book_examples\\\\85455_5803573.jpg', 'F:\\\\book_examples\\\\85459_5803924.jpg', 'F:\\\\book_examples\\\\85461_5804022.jpg', 'F:\\\\book_examples\\\\85721_5821181.jpg', 'F:\\\\book_examples\\\\Aaron_Peirsol_0001.png', 'F:\\\\book_examples\\\\Aaron_Peirsol_0003.png']\n"
     ]
    }
   ],
   "source": [
    "file_path = r\"F:\\book_examples\\image_paths.txt\"\n",
    "\n",
    "with open(file_path,'r') as file_obj:\n",
    "    string = file_obj.read()\n",
    "\n",
    "string = string.strip('\\n')\n",
    "string = string.split(\"\\n\")\n",
    "\n",
    "print(type(string))\n",
    "print(string)"
   ]
  },
  {
   "cell_type": "markdown",
   "metadata": {
    "id": "Vnyh9YJh0dem"
   },
   "source": [
    "# JSON的寫入"
   ]
  },
  {
   "cell_type": "code",
   "execution_count": null,
   "metadata": {
    "id": "FQFfDsJY0dem"
   },
   "outputs": [],
   "source": [
    "import json"
   ]
  },
  {
   "cell_type": "code",
   "execution_count": null,
   "metadata": {
    "id": "jySTanaA0dem"
   },
   "outputs": [],
   "source": [
    "data_dict = {'name':'Jason','age':28,'height':183.3}\n",
    "\n",
    "json_path = file_path = r\"F:\\book_examples\\test.json\"\n",
    "\n",
    "with open(json_path,'w') as file_obj:\n",
    "    \n",
    "    json.dump(data_dict,file_obj)"
   ]
  },
  {
   "cell_type": "markdown",
   "metadata": {
    "id": "mK282Ang0den"
   },
   "source": [
    "# JSON的讀取"
   ]
  },
  {
   "cell_type": "code",
   "execution_count": null,
   "metadata": {
    "id": "iCzi7L4V0den",
    "outputId": "f46becf9-885e-4731-c394-1665abf70788"
   },
   "outputs": [
    {
     "name": "stdout",
     "output_type": "stream",
     "text": [
      "{'name': 'Jason', 'age': 28, 'height': 183.3}\n"
     ]
    }
   ],
   "source": [
    "json_path = file_path = r\"F:\\book_examples\\test.json\"\n",
    "\n",
    "with open(json_path,'r') as file_obj:\n",
    "    \n",
    "    data_dict = json.load(file_obj)\n",
    "\n",
    "print(data_dict)"
   ]
  },
  {
   "cell_type": "code",
   "execution_count": null,
   "metadata": {
    "id": "F5hXYM9X0den",
    "outputId": "5350212e-b2f3-4822-9823-382160e56559"
   },
   "outputs": [
    {
     "name": "stdout",
     "output_type": "stream",
     "text": [
      "key: name\n",
      "value: Jason\n",
      "type: <class 'str'>\n",
      "key: age\n",
      "value: 28\n",
      "type: <class 'int'>\n",
      "key: height\n",
      "value: 183.3\n",
      "type: <class 'float'>\n"
     ]
    }
   ],
   "source": [
    "for key, value in data_dict.items():\n",
    "    print(\"key:\",key)\n",
    "    \n",
    "    print(\"value:\",value)\n",
    "    \n",
    "    print(\"type:\",type(value))\n"
   ]
  },
  {
   "cell_type": "markdown",
   "metadata": {
    "id": "dim8-fuy0den"
   },
   "source": [
    "# 練習 "
   ]
  },
  {
   "cell_type": "code",
   "execution_count": null,
   "metadata": {
    "id": "Z2cck_Pj0den"
   },
   "outputs": [],
   "source": [
    "#----var\n",
    "dir_path = r\"F:\\book_examples\"\n",
    "img_format = {'jpg', 'bmp', 'png'}\n",
    "path_list = list()\n",
    "\n",
    "#----find out all image files\n",
    "for dir_name,sub_dir_list,filename_list in os.walk(dir_path):\n",
    "    \n",
    "    if len(filename_list) > 0:\n",
    "        for filename in filename_list:\n",
    "            if filename.split(\".\")[-1] in img_format:\n",
    "                \n",
    "                abs_path = os.path.join(dir_path,filename)\n",
    "                path_list.append(abs_path)\n",
    "                \n",
    "#----write data to a JSON file\n",
    "json_path = os.path.join(dir_path,'image_paths.json')\n",
    "data_dict = {'path_list':path_list}\n",
    "\n",
    "with open(json_path,'w') as file_obj:\n",
    "    \n",
    "    json.dump(data_dict,file_obj)"
   ]
  }
 ],
 "metadata": {
  "colab": {
   "collapsed_sections": [],
   "name": "CH15_讀寫文件.ipynb",
   "provenance": []
  },
  "kernelspec": {
   "display_name": "Python 3",
   "language": "python",
   "name": "python3"
  },
  "language_info": {
   "codemirror_mode": {
    "name": "ipython",
    "version": 3
   },
   "file_extension": ".py",
   "mimetype": "text/x-python",
   "name": "python",
   "nbconvert_exporter": "python",
   "pygments_lexer": "ipython3",
   "version": "3.8.10"
  }
 },
 "nbformat": 4,
 "nbformat_minor": 1
}
