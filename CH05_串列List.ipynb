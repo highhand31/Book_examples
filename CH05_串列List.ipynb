{
 "cells": [
  {
   "cell_type": "markdown",
   "metadata": {},
   "source": [
    "# 同性質的變數宣告"
   ]
  },
  {
   "cell_type": "code",
   "execution_count": 1,
   "metadata": {},
   "outputs": [
    {
     "name": "stdout",
     "output_type": "stream",
     "text": [
      "學生1的數學成績 =  32\n",
      "學生2的數學成績 =  64\n",
      "學生3的數學成績 =  96\n"
     ]
    }
   ],
   "source": [
    "math_student_1 = 32\n",
    "math_student_2 = 64\n",
    "math_student_3 = 96\n",
    "\n",
    "print(\"學生1的數學成績 = \",math_student_1)\n",
    "print(\"學生2的數學成績 = \",math_student_2)\n",
    "print(\"學生3的數學成績 = \",math_student_3)"
   ]
  },
  {
   "cell_type": "markdown",
   "metadata": {},
   "source": [
    "# 使用程式改寫上述的程式"
   ]
  },
  {
   "cell_type": "code",
   "execution_count": 9,
   "metadata": {},
   "outputs": [
    {
     "name": "stdout",
     "output_type": "stream",
     "text": [
      "學生1的數學成績 =  32\n",
      "學生2的數學成績 =  64\n",
      "學生3的數學成績 =  96\n"
     ]
    }
   ],
   "source": [
    "math = [32,64,96]\n",
    "\n",
    "print(\"學生1的數學成績 = \",math[0])\n",
    "print(\"學生2的數學成績 = \",math[1])\n",
    "print(\"學生3的數學成績 = \",math[2])"
   ]
  },
  {
   "cell_type": "markdown",
   "metadata": {},
   "source": [
    "# 串列的最後一筆元素，索引值填入-1"
   ]
  },
  {
   "cell_type": "code",
   "execution_count": 11,
   "metadata": {},
   "outputs": [
    {
     "name": "stdout",
     "output_type": "stream",
     "text": [
      "學生1的數學成績 =  32\n",
      "學生2的數學成績 =  64\n",
      "學生3的數學成績 =  96\n"
     ]
    }
   ],
   "source": [
    "math = [32,64,96]\n",
    "\n",
    "print(\"學生1的數學成績 = \",math[0])\n",
    "print(\"學生2的數學成績 = \",math[1])\n",
    "print(\"學生3的數學成績 = \",math[-1])"
   ]
  },
  {
   "cell_type": "code",
   "execution_count": 1,
   "metadata": {},
   "outputs": [
    {
     "name": "stdout",
     "output_type": "stream",
     "text": [
      "最後一位學生的數學成績 =  46\n",
      "倒數第二位學生的數學成績 =  91\n"
     ]
    }
   ],
   "source": [
    "math = [32,64,96,55,98,66,58,33,24,75,64,88,86,87,91,46]\n",
    "print(\"最後一位學生的數學成績 = \",math[-1])\n",
    "print(\"倒數第二位學生的數學成績 = \",math[-2])"
   ]
  },
  {
   "cell_type": "markdown",
   "metadata": {},
   "source": [
    "# 串列的切片"
   ]
  },
  {
   "cell_type": "code",
   "execution_count": 1,
   "metadata": {},
   "outputs": [
    {
     "name": "stdout",
     "output_type": "stream",
     "text": [
      "[96, 55, 98, 66]\n"
     ]
    }
   ],
   "source": [
    "math = [32,64,96,55,98,66,58,33,24,75,64,88,86,87,91,46]\n",
    "\n",
    "print(math[2:6])"
   ]
  },
  {
   "cell_type": "code",
   "execution_count": 3,
   "metadata": {},
   "outputs": [
    {
     "name": "stdout",
     "output_type": "stream",
     "text": [
      "[96, 55, 98, 66]\n"
     ]
    }
   ],
   "source": [
    "math = [32,64,96,55,98,66,58,33,24,75,64,88,86,87,91,46]\n",
    "\n",
    "print(math[2:-10])"
   ]
  },
  {
   "cell_type": "markdown",
   "metadata": {},
   "source": [
    "# 空串列的宣告 "
   ]
  },
  {
   "cell_type": "code",
   "execution_count": 15,
   "metadata": {},
   "outputs": [
    {
     "name": "stdout",
     "output_type": "stream",
     "text": [
      "[]\n",
      "[]\n"
     ]
    }
   ],
   "source": [
    "math = list()\n",
    "print(math)\n",
    "\n",
    "english = []\n",
    "print(english)"
   ]
  },
  {
   "cell_type": "markdown",
   "metadata": {},
   "source": [
    "# 學生名稱、科目名稱、數值都放到串列裡"
   ]
  },
  {
   "cell_type": "code",
   "execution_count": 18,
   "metadata": {},
   "outputs": [
    {
     "name": "stdout",
     "output_type": "stream",
     "text": [
      "學生名稱:  Jay\n",
      "科目名稱:  Chinese\n",
      "分數:  59\n",
      "科目名稱:  English\n",
      "分數:  63\n",
      "科目名稱:  Math\n",
      "分數:  78\n"
     ]
    }
   ],
   "source": [
    "student_1 = [\"Jay\",'Chinese',59,\"English\",63,'Math',78]\n",
    "\n",
    "print(\"學生名稱: \",student_1[0])\n",
    "print(\"科目名稱: \",student_1[1])\n",
    "print(\"分數: \",student_1[2])\n",
    "print(\"科目名稱: \",student_1[3])\n",
    "print(\"分數: \",student_1[4])\n",
    "print(\"科目名稱: \",student_1[5])\n",
    "print(\"分數: \",student_1[6])"
   ]
  },
  {
   "cell_type": "code",
   "execution_count": 28,
   "metadata": {},
   "outputs": [
    {
     "name": "stdout",
     "output_type": "stream",
     "text": [
      "學生名稱:  Jay\n",
      "科目名稱:  Chinese\n",
      "分數:  59\n",
      "科目名稱:  English\n",
      "分數:  63\n",
      "科目名稱:  Math\n",
      "分數:  78\n",
      "----------我是分隔線-----------\n",
      "學生名稱:  Jolin\n",
      "科目名稱:  Chinese\n",
      "分數:  88\n",
      "科目名稱:  English\n",
      "分數:  93\n",
      "科目名稱:  Math\n",
      "分數:  60\n"
     ]
    }
   ],
   "source": [
    "score_list = [\n",
    "                [\"Jay\",'Chinese',59,\"English\",63,'Math',78],\n",
    "                [\"Jolin\",'Chinese',88,\"English\",93,'Math',60]\n",
    "            ]\n",
    "\n",
    "print(\"學生名稱: \",score_list[0][0])\n",
    "print(\"科目名稱: \",score_list[0][1])\n",
    "print(\"分數: \",score_list[0][2])\n",
    "print(\"科目名稱: \",score_list[0][3])\n",
    "print(\"分數: \",score_list[0][4])\n",
    "print(\"科目名稱: \",score_list[0][5])\n",
    "print(\"分數: \",score_list[0][6])\n",
    "print(\"----------我是分隔線-----------\")\n",
    "print(\"學生名稱: \",score_list[1][0])\n",
    "print(\"科目名稱: \",score_list[1][1])\n",
    "print(\"分數: \",score_list[1][2])\n",
    "print(\"科目名稱: \",score_list[1][3])\n",
    "print(\"分數: \",score_list[1][4])\n",
    "print(\"科目名稱: \",score_list[1][5])\n",
    "print(\"分數: \",score_list[1][6])"
   ]
  },
  {
   "cell_type": "code",
   "execution_count": 29,
   "metadata": {},
   "outputs": [
    {
     "name": "stdout",
     "output_type": "stream",
     "text": [
      "學生名稱:  Jay\n",
      "科目名稱:  Chinese\n",
      "分數:  59\n",
      "科目名稱:  English\n",
      "分數:  63\n",
      "科目名稱:  Math\n",
      "分數:  78\n",
      "----------我是分隔線-----------\n",
      "學生名稱:  Jolin\n",
      "科目名稱:  Chinese\n",
      "分數:  88\n",
      "科目名稱:  English\n",
      "分數:  93\n",
      "科目名稱:  Math\n",
      "分數:  60\n"
     ]
    }
   ],
   "source": [
    "student_1 = [\"Jay\",'Chinese',59,\"English\",63,'Math',78]\n",
    "student_2 = [\"Jolin\",'Chinese',88,\"English\",93,'Math',60]\n",
    "score_list = [student_1,student_2]\n",
    "\n",
    "print(\"學生名稱: \",score_list[0][0])\n",
    "print(\"科目名稱: \",score_list[0][1])\n",
    "print(\"分數: \",score_list[0][2])\n",
    "print(\"科目名稱: \",score_list[0][3])\n",
    "print(\"分數: \",score_list[0][4])\n",
    "print(\"科目名稱: \",score_list[0][5])\n",
    "print(\"分數: \",score_list[0][6])\n",
    "print(\"----------我是分隔線-----------\")\n",
    "print(\"學生名稱: \",score_list[1][0])\n",
    "print(\"科目名稱: \",score_list[1][1])\n",
    "print(\"分數: \",score_list[1][2])\n",
    "print(\"科目名稱: \",score_list[1][3])\n",
    "print(\"分數: \",score_list[1][4])\n",
    "print(\"科目名稱: \",score_list[1][5])\n",
    "print(\"分數: \",score_list[1][6])"
   ]
  },
  {
   "cell_type": "markdown",
   "metadata": {},
   "source": [
    "# for迴圈的使用"
   ]
  },
  {
   "cell_type": "code",
   "execution_count": 7,
   "metadata": {},
   "outputs": [
    {
     "name": "stdout",
     "output_type": "stream",
     "text": [
      "元素1\n",
      "元素2\n",
      "元素3\n"
     ]
    }
   ],
   "source": [
    "a_list = ['元素1','元素2','元素3']\n",
    "for element in a_list:\n",
    "    print(element)"
   ]
  },
  {
   "cell_type": "code",
   "execution_count": 4,
   "metadata": {},
   "outputs": [
    {
     "name": "stdout",
     "output_type": "stream",
     "text": [
      "學生1的數學成績 =  32\n",
      "學生2的數學成績 =  64\n",
      "學生3的數學成績 =  96\n"
     ]
    }
   ],
   "source": [
    "math = [32,64,96]\n",
    "\n",
    "print(\"學生1的數學成績 = \",math[0])\n",
    "print(\"學生2的數學成績 = \",math[1])\n",
    "print(\"學生3的數學成績 = \",math[2])"
   ]
  },
  {
   "cell_type": "code",
   "execution_count": 7,
   "metadata": {},
   "outputs": [
    {
     "name": "stdout",
     "output_type": "stream",
     "text": [
      "學生 1 的數學成績 =  32\n",
      "學生 2 的數學成績 =  64\n",
      "學生 3 的數學成績 =  96\n"
     ]
    }
   ],
   "source": [
    "math = [32,64,96]\n",
    "count = 1\n",
    "\n",
    "for score in math:\n",
    "    print(\"學生\",count,\"的數學成績 = \",score)\n",
    "    count += 1"
   ]
  },
  {
   "cell_type": "code",
   "execution_count": 20,
   "metadata": {},
   "outputs": [
    {
     "name": "stdout",
     "output_type": "stream",
     "text": [
      "學生 1 的數學成績 =  32\n",
      "學生 2 的數學成績 =  64\n",
      "學生 3 的數學成績 =  96\n",
      "count最終的數值 =  4\n"
     ]
    }
   ],
   "source": [
    "math = [32,64,96]\n",
    "count = 1\n",
    "\n",
    "for score in math:\n",
    "    print(\"學生\",count,\"的數學成績 = \",score)\n",
    "    count += 1\n",
    "    \n",
    "print(\"count最終的數值 = \",count)"
   ]
  },
  {
   "cell_type": "markdown",
   "metadata": {},
   "source": [
    "# 列舉函數enumerate()"
   ]
  },
  {
   "cell_type": "code",
   "execution_count": 8,
   "metadata": {},
   "outputs": [
    {
     "name": "stdout",
     "output_type": "stream",
     "text": [
      "學生 1 的數學成績 =  32\n",
      "學生 2 的數學成績 =  64\n",
      "學生 3 的數學成績 =  96\n",
      "count最終的數值 =  2\n"
     ]
    }
   ],
   "source": [
    "math = [32,64,96]\n",
    "\n",
    "for count,score in enumerate(math):\n",
    "    print(\"學生\",count+1,\"的數學成績 = \",score)\n",
    "    \n",
    "print(\"count最終的數值 = \",count)"
   ]
  },
  {
   "cell_type": "markdown",
   "metadata": {},
   "source": [
    "# 有無給值得差異"
   ]
  },
  {
   "cell_type": "code",
   "execution_count": 31,
   "metadata": {},
   "outputs": [
    {
     "name": "stdout",
     "output_type": "stream",
     "text": [
      "0\n"
     ]
    }
   ],
   "source": [
    "a = 0\n",
    "a + 1\n",
    "\n",
    "print(a)"
   ]
  },
  {
   "cell_type": "code",
   "execution_count": 33,
   "metadata": {},
   "outputs": [
    {
     "name": "stdout",
     "output_type": "stream",
     "text": [
      "1\n"
     ]
    }
   ],
   "source": [
    "a = 0\n",
    "a += 1\n",
    "\n",
    "print(a)"
   ]
  },
  {
   "cell_type": "markdown",
   "metadata": {},
   "source": [
    "# 巢狀for迴圈"
   ]
  },
  {
   "cell_type": "code",
   "execution_count": 40,
   "metadata": {},
   "outputs": [
    {
     "name": "stdout",
     "output_type": "stream",
     "text": [
      "第 1 位學生的資料如下:\n",
      "第 0 個元素是 Jay\n",
      "第 1 個元素是 Chinese\n",
      "第 2 個元素是 59\n",
      "第 3 個元素是 English\n",
      "第 4 個元素是 63\n",
      "第 5 個元素是 Math\n",
      "第 6 個元素是 78\n",
      "第 2 位學生的資料如下:\n",
      "第 0 個元素是 Jolin\n",
      "第 1 個元素是 Chinese\n",
      "第 2 個元素是 88\n",
      "第 3 個元素是 English\n",
      "第 4 個元素是 93\n",
      "第 5 個元素是 Math\n",
      "第 6 個元素是 60\n"
     ]
    }
   ],
   "source": [
    "score_list = [\n",
    "                [\"Jay\",'Chinese',59,\"English\",63,'Math',78],\n",
    "                [\"Jolin\",'Chinese',88,\"English\",93,'Math',60]\n",
    "            ]\n",
    "\n",
    "for count,student in enumerate(score_list):\n",
    "    print(\"第\",count+1,\"位學生的資料如下:\")\n",
    "    \n",
    "    for idx,element in enumerate(student):\n",
    "        print(\"第\",idx,\"個元素是\",element)"
   ]
  },
  {
   "cell_type": "code",
   "execution_count": 2,
   "metadata": {},
   "outputs": [],
   "source": [
    "name_list = [\"Jay\",'Jolin']\n",
    "subject_list = ['Chinese','English','Math']\n",
    "\n",
    "score_list = [\n",
    "                [59,63,78],\n",
    "                [88,93,60]\n",
    "             ]"
   ]
  },
  {
   "cell_type": "code",
   "execution_count": 46,
   "metadata": {},
   "outputs": [
    {
     "name": "stdout",
     "output_type": "stream",
     "text": [
      "第 1 位學生 Jay 的成績如下:\n",
      "科目名稱:  Chinese\n",
      "分數:  59\n",
      "科目名稱:  English\n",
      "分數:  63\n",
      "科目名稱:  Math\n",
      "分數:  78\n",
      "第 2 位學生 Jolin 的成績如下:\n",
      "科目名稱:  Chinese\n",
      "分數:  88\n",
      "科目名稱:  English\n",
      "分數:  93\n",
      "科目名稱:  Math\n",
      "分數:  60\n"
     ]
    }
   ],
   "source": [
    "name_list = [\"Jay\",'Jolin']\n",
    "subject_list = ['Chinese','English','Math']\n",
    "score_list = [\n",
    "                [59,63,78],\n",
    "                [88,93,60]\n",
    "             ]\n",
    "#----第一層for迴圈\n",
    "for count,student in enumerate(score_list):\n",
    "    #----流程1\n",
    "    print(\"第\",count+1,\"位學生\",name_list[count],\"的成績如下:\")\n",
    "    \n",
    "    #----第二層for迴圈\n",
    "    for idx,score in enumerate(student):\n",
    "        #----流程2\n",
    "        print(\"科目名稱: \",subject_list[idx])\n",
    "        print(\"分數: \",score)"
   ]
  },
  {
   "cell_type": "markdown",
   "metadata": {},
   "source": [
    "# for 迴圈與if else的搭配"
   ]
  },
  {
   "cell_type": "code",
   "execution_count": 1,
   "metadata": {},
   "outputs": [
    {
     "name": "stdout",
     "output_type": "stream",
     "text": [
      "學生名字:  Jay\n",
      "科目名稱:  Math\n",
      "分數:  78\n"
     ]
    }
   ],
   "source": [
    "name_list = [\"Jay\",'Jolin']\n",
    "subject_list = ['Chinese','English','Math']\n",
    "score_list = [\n",
    "                [59,63,78],\n",
    "                [88,93,60]\n",
    "             ]\n",
    "appointed_name = 'Jay'\n",
    "appointed_subject = 'Math'\n",
    "\n",
    "#----第一層for迴圈\n",
    "for count,student in enumerate(score_list):\n",
    "    #----流程1\n",
    "    if name_list[count] == appointed_name:\n",
    "        print(\"學生名字: \",name_list[count])\n",
    "        \n",
    "        #----第二層for迴圈\n",
    "        for idx,score in enumerate(student):\n",
    "            #----流程2\n",
    "            if subject_list[idx] == appointed_subject:\n",
    "                print(\"科目名稱: \",subject_list[idx])\n",
    "                print(\"分數: \",score)"
   ]
  },
  {
   "cell_type": "markdown",
   "metadata": {},
   "source": [
    "# 若加上else敘述"
   ]
  },
  {
   "cell_type": "code",
   "execution_count": 13,
   "metadata": {},
   "outputs": [
    {
     "name": "stdout",
     "output_type": "stream",
     "text": [
      "學生名字:  Jay\n",
      "沒有符合的學生名字\n"
     ]
    }
   ],
   "source": [
    "name_list = [\"Jay\",'Jolin']\n",
    "subject_list = ['Chinese','English','Math']\n",
    "score_list = [\n",
    "                [59,63,78],\n",
    "                [88,93,60]\n",
    "             ]\n",
    "appointed_name = 'Jay'\n",
    "appointed_subject = 'Math'\n",
    "\n",
    "#----第一層for迴圈\n",
    "for count,student in enumerate(score_list):\n",
    "    #----流程1\n",
    "    if name_list[count] == appointed_name:\n",
    "        print(\"學生名字: \",name_list[count])\n",
    "    else:\n",
    "        print(\"沒有符合的學生名字\")"
   ]
  },
  {
   "cell_type": "markdown",
   "metadata": {},
   "source": [
    "# break的使用"
   ]
  },
  {
   "cell_type": "code",
   "execution_count": 18,
   "metadata": {},
   "outputs": [
    {
     "name": "stdout",
     "output_type": "stream",
     "text": [
      "你指定的名字已經找到，索引值 =  0\n",
      "for迴圈總共取值的次數 =  10\n",
      "你指定的名字已經找到，索引值 =  0\n",
      "for迴圈總共取值的次數 =  1\n"
     ]
    }
   ],
   "source": [
    "name_list = [\"Jay\",'Jolin','May','Emily','Iris',\n",
    "             'Yuna','Johnny','Ariel','Jeremy','Peter']\n",
    "appointed_name = 'Jay'\n",
    "\n",
    "\n",
    "#----未加入break\n",
    "for count,name in enumerate(name_list):\n",
    "    if name == appointed_name:\n",
    "        print(\"你指定的名字已經找到，索引值 = \",count)\n",
    "        \n",
    "print(\"for迴圈總共取值的次數 = \",count + 1)\n",
    "\n",
    "#----加入break，中斷for迴圈\n",
    "for count,name in enumerate(name_list):\n",
    "    if name == appointed_name:\n",
    "        print(\"你指定的名字已經找到，索引值 = \",count)\n",
    "        break\n",
    "        \n",
    "print(\"for迴圈總共取值的次數 = \",count + 1)\n",
    "    "
   ]
  },
  {
   "cell_type": "code",
   "execution_count": 8,
   "metadata": {},
   "outputs": [
    {
     "name": "stdout",
     "output_type": "stream",
     "text": [
      "1\n",
      "2\n",
      "3\n"
     ]
    }
   ],
   "source": [
    "a = [1,2,3,4]\n",
    "\n",
    "for i in a:\n",
    "    if i == 4:\n",
    "        break\n",
    "    print(i) "
   ]
  },
  {
   "cell_type": "markdown",
   "metadata": {},
   "source": [
    "# 可執行for迴圈的對象"
   ]
  },
  {
   "cell_type": "code",
   "execution_count": 4,
   "metadata": {},
   "outputs": [
    {
     "ename": "TypeError",
     "evalue": "'int' object is not iterable",
     "output_type": "error",
     "traceback": [
      "\u001b[1;31m---------------------------------------------------------------------------\u001b[0m",
      "\u001b[1;31mTypeError\u001b[0m                                 Traceback (most recent call last)",
      "\u001b[1;32m<ipython-input-4-a1cfb78b55f5>\u001b[0m in \u001b[0;36m<module>\u001b[1;34m\u001b[0m\n\u001b[0;32m      1\u001b[0m \u001b[0ma\u001b[0m \u001b[1;33m=\u001b[0m \u001b[1;36m56\u001b[0m\u001b[1;33m\u001b[0m\u001b[1;33m\u001b[0m\u001b[0m\n\u001b[1;32m----> 2\u001b[1;33m \u001b[1;32mfor\u001b[0m \u001b[0mi\u001b[0m \u001b[1;32min\u001b[0m \u001b[0ma\u001b[0m\u001b[1;33m:\u001b[0m\u001b[1;33m\u001b[0m\u001b[1;33m\u001b[0m\u001b[0m\n\u001b[0m\u001b[0;32m      3\u001b[0m     \u001b[0mprint\u001b[0m\u001b[1;33m(\u001b[0m\u001b[0mi\u001b[0m\u001b[1;33m)\u001b[0m\u001b[1;33m\u001b[0m\u001b[1;33m\u001b[0m\u001b[0m\n",
      "\u001b[1;31mTypeError\u001b[0m: 'int' object is not iterable"
     ]
    }
   ],
   "source": [
    "a = 56\n",
    "for i in a:\n",
    "    print(i)"
   ]
  },
  {
   "cell_type": "code",
   "execution_count": 5,
   "metadata": {},
   "outputs": [
    {
     "name": "stdout",
     "output_type": "stream",
     "text": [
      "5\n",
      "6\n"
     ]
    }
   ],
   "source": [
    "a = \"56\"\n",
    "for i in a:\n",
    "    print(i)"
   ]
  },
  {
   "cell_type": "markdown",
   "metadata": {},
   "source": [
    "# 物件的簡單概念"
   ]
  },
  {
   "cell_type": "code",
   "execution_count": 1,
   "metadata": {
    "scrolled": true
   },
   "outputs": [
    {
     "data": {
      "text/plain": [
       "['__add__',\n",
       " '__class__',\n",
       " '__contains__',\n",
       " '__delattr__',\n",
       " '__dir__',\n",
       " '__doc__',\n",
       " '__eq__',\n",
       " '__format__',\n",
       " '__ge__',\n",
       " '__getattribute__',\n",
       " '__getitem__',\n",
       " '__getnewargs__',\n",
       " '__gt__',\n",
       " '__hash__',\n",
       " '__init__',\n",
       " '__init_subclass__',\n",
       " '__iter__',\n",
       " '__le__',\n",
       " '__len__',\n",
       " '__lt__',\n",
       " '__mod__',\n",
       " '__mul__',\n",
       " '__ne__',\n",
       " '__new__',\n",
       " '__reduce__',\n",
       " '__reduce_ex__',\n",
       " '__repr__',\n",
       " '__rmod__',\n",
       " '__rmul__',\n",
       " '__setattr__',\n",
       " '__sizeof__',\n",
       " '__str__',\n",
       " '__subclasshook__',\n",
       " 'capitalize',\n",
       " 'casefold',\n",
       " 'center',\n",
       " 'count',\n",
       " 'encode',\n",
       " 'endswith',\n",
       " 'expandtabs',\n",
       " 'find',\n",
       " 'format',\n",
       " 'format_map',\n",
       " 'index',\n",
       " 'isalnum',\n",
       " 'isalpha',\n",
       " 'isascii',\n",
       " 'isdecimal',\n",
       " 'isdigit',\n",
       " 'isidentifier',\n",
       " 'islower',\n",
       " 'isnumeric',\n",
       " 'isprintable',\n",
       " 'isspace',\n",
       " 'istitle',\n",
       " 'isupper',\n",
       " 'join',\n",
       " 'ljust',\n",
       " 'lower',\n",
       " 'lstrip',\n",
       " 'maketrans',\n",
       " 'partition',\n",
       " 'replace',\n",
       " 'rfind',\n",
       " 'rindex',\n",
       " 'rjust',\n",
       " 'rpartition',\n",
       " 'rsplit',\n",
       " 'rstrip',\n",
       " 'split',\n",
       " 'splitlines',\n",
       " 'startswith',\n",
       " 'strip',\n",
       " 'swapcase',\n",
       " 'title',\n",
       " 'translate',\n",
       " 'upper',\n",
       " 'zfill']"
      ]
     },
     "execution_count": 1,
     "metadata": {},
     "output_type": "execute_result"
    }
   ],
   "source": [
    "a = \"腦容量總是不足\"\n",
    "\n",
    "dir(a)"
   ]
  },
  {
   "cell_type": "markdown",
   "metadata": {},
   "source": [
    "# 回傳值概念"
   ]
  },
  {
   "cell_type": "code",
   "execution_count": 5,
   "metadata": {},
   "outputs": [
    {
     "name": "stdout",
     "output_type": "stream",
     "text": [
      "a.count()的回傳值 =  3\n",
      "a.remove()的回傳值 =  None\n",
      "[2, 3, 4, 4, 4, 3, 2, 1]\n"
     ]
    }
   ],
   "source": [
    "a = [1,2,3,4,4,4,3,2,1]\n",
    "\n",
    "number = a.count(4)\n",
    "print(\"a.count()的回傳值 = \",number)\n",
    "\n",
    "ret = a.remove(1)\n",
    "print(\"a.remove()的回傳值 = \",ret)\n",
    "print(a)"
   ]
  },
  {
   "cell_type": "markdown",
   "metadata": {},
   "source": [
    "# append()方法"
   ]
  },
  {
   "cell_type": "code",
   "execution_count": 4,
   "metadata": {},
   "outputs": [
    {
     "name": "stdout",
     "output_type": "stream",
     "text": [
      "輸入要儲存的名字Johnny\n",
      "['Johnny']\n"
     ]
    }
   ],
   "source": [
    "name_list = list()\n",
    "\n",
    "name = input(\"輸入要儲存的名字\")\n",
    "name_list.append(name)\n",
    "\n",
    "print(name_list)"
   ]
  },
  {
   "cell_type": "code",
   "execution_count": 6,
   "metadata": {},
   "outputs": [
    {
     "name": "stdout",
     "output_type": "stream",
     "text": [
      "輸入要儲存的名字Johnny\n",
      "輸入要儲存的名字Jeremy\n",
      "輸入要儲存的名字Jay\n",
      "輸入要儲存的名字\n",
      "你所輸入的所有名字: ['Johnny', 'Jeremy', 'Jay']\n"
     ]
    }
   ],
   "source": [
    "name_list = list()\n",
    "\n",
    "for i in range(100):\n",
    "    name = input(\"輸入要儲存的名字\")\n",
    "    if name == '':\n",
    "        break\n",
    "    else:\n",
    "        name_list.append(name)\n",
    "\n",
    "print(\"你所輸入的所有名字:\",name_list)"
   ]
  },
  {
   "cell_type": "markdown",
   "metadata": {},
   "source": [
    "# range()函數"
   ]
  },
  {
   "cell_type": "code",
   "execution_count": 51,
   "metadata": {},
   "outputs": [
    {
     "name": "stdout",
     "output_type": "stream",
     "text": [
      "0\n",
      "2\n",
      "4\n",
      "6\n",
      "8\n"
     ]
    }
   ],
   "source": [
    "a = range(0,10,2)\n",
    "\n",
    "for i in a:\n",
    "    print(i)"
   ]
  },
  {
   "cell_type": "markdown",
   "metadata": {},
   "source": [
    "## 當間隔數等於1而省略不寫的情況"
   ]
  },
  {
   "cell_type": "code",
   "execution_count": 57,
   "metadata": {},
   "outputs": [
    {
     "name": "stdout",
     "output_type": "stream",
     "text": [
      "0\n",
      "1\n",
      "2\n"
     ]
    }
   ],
   "source": [
    "a = range(0,3)\n",
    "\n",
    "for i in a:\n",
    "    print(i)"
   ]
  },
  {
   "cell_type": "markdown",
   "metadata": {},
   "source": [
    "## 當間隔數等於1、起始值等於0而省略不寫的情況"
   ]
  },
  {
   "cell_type": "code",
   "execution_count": 54,
   "metadata": {},
   "outputs": [
    {
     "name": "stdout",
     "output_type": "stream",
     "text": [
      "0\n",
      "1\n",
      "2\n"
     ]
    }
   ],
   "source": [
    "a = range(3)\n",
    "\n",
    "for i in a:\n",
    "    print(i)"
   ]
  },
  {
   "cell_type": "markdown",
   "metadata": {},
   "source": [
    "# extend()方法"
   ]
  },
  {
   "cell_type": "code",
   "execution_count": 67,
   "metadata": {},
   "outputs": [
    {
     "name": "stdout",
     "output_type": "stream",
     "text": [
      "[1, 2, 3, 4]\n"
     ]
    }
   ],
   "source": [
    "a = [1,]\n",
    "b = [2,3,4]\n",
    "a.extend(b)\n",
    "\n",
    "print(a)"
   ]
  },
  {
   "cell_type": "code",
   "execution_count": 68,
   "metadata": {},
   "outputs": [
    {
     "name": "stdout",
     "output_type": "stream",
     "text": [
      "[1, [2, 3, 4]]\n"
     ]
    }
   ],
   "source": [
    "a = [1,]\n",
    "b = [2,3,4]\n",
    "a.append(b)\n",
    "\n",
    "print(a)"
   ]
  },
  {
   "cell_type": "code",
   "execution_count": 69,
   "metadata": {},
   "outputs": [
    {
     "name": "stdout",
     "output_type": "stream",
     "text": [
      "[1, [2, 3, 4]]\n"
     ]
    }
   ],
   "source": [
    "a = [1,]\n",
    "b = [[2,3,4]]\n",
    "a.extend(b)\n",
    "\n",
    "print(a)"
   ]
  },
  {
   "cell_type": "code",
   "execution_count": 70,
   "metadata": {},
   "outputs": [
    {
     "name": "stdout",
     "output_type": "stream",
     "text": [
      "['Mary', 'Kyo', 'Iori', 'Benimaru', 'Daimon']\n"
     ]
    }
   ],
   "source": [
    "#A老師有30位學生，這邊縮短成3位學生，但邏輯相同\n",
    "a = ['Mary', 'Kyo', 'Iori']\n",
    "\n",
    "#B老師有20位學生，這邊縮短成2位學生，但邏輯相同\n",
    "b = ['Benimaru', 'Daimon']\n",
    "new = []#整合後的學生名單\n",
    "\n",
    "for name in a:\n",
    "    \n",
    "    new.append(name)\n",
    "    \n",
    "for name in b:\n",
    "    \n",
    "    new.append(name)\n",
    "    \n",
    "print(new)"
   ]
  },
  {
   "cell_type": "code",
   "execution_count": 71,
   "metadata": {},
   "outputs": [
    {
     "name": "stdout",
     "output_type": "stream",
     "text": [
      "['Mary', 'Kyo', 'Iori', 'Benimaru', 'Daimon']\n"
     ]
    }
   ],
   "source": [
    "#A老師有30位學生，這邊縮短成3位學生，但邏輯相同\n",
    "a = ['Mary', 'Kyo', 'Iori']\n",
    "\n",
    "#B老師有20位學生，這邊縮短成2位學生，但邏輯相同\n",
    "b = ['Benimaru', 'Daimon']\n",
    "new = []#整合後的學生名單\n",
    "\n",
    "new.extend(a)\n",
    "new.extend(b)\n",
    "\n",
    "print(new)"
   ]
  },
  {
   "cell_type": "markdown",
   "metadata": {},
   "source": [
    "# 使用in來檢驗元素是否存在串列中"
   ]
  },
  {
   "cell_type": "code",
   "execution_count": 7,
   "metadata": {},
   "outputs": [
    {
     "name": "stdout",
     "output_type": "stream",
     "text": [
      "輸入欲查詢的名字Mary\n",
      "名字存在\n"
     ]
    }
   ],
   "source": [
    "name_list = ['Mary', 'Kyo', 'Iori']\n",
    "\n",
    "name = input(\"輸入欲查詢的名字\")\n",
    "\n",
    "if name in name_list:\n",
    "    print(\"名字存在\")\n",
    "else:\n",
    "    print(\"名字不存在\")"
   ]
  },
  {
   "cell_type": "markdown",
   "metadata": {},
   "source": [
    "# remove()方法"
   ]
  },
  {
   "cell_type": "code",
   "execution_count": 8,
   "metadata": {},
   "outputs": [
    {
     "name": "stdout",
     "output_type": "stream",
     "text": [
      "['Mary', 'Iori']\n"
     ]
    }
   ],
   "source": [
    "name_list = ['Mary', 'Kyo', 'Iori']\n",
    "name = \"Kyo\"\n",
    "\n",
    "if name in name_list:\n",
    "    name_list.remove(name)\n",
    "    \n",
    "print(name_list)"
   ]
  },
  {
   "cell_type": "code",
   "execution_count": 9,
   "metadata": {},
   "outputs": [
    {
     "name": "stdout",
     "output_type": "stream",
     "text": [
      "['Mary', 'Iori', 'Kyo']\n"
     ]
    }
   ],
   "source": [
    "name_list = ['Mary', 'Kyo', 'Iori','Kyo']\n",
    "name = \"Kyo\"\n",
    "\n",
    "if name in name_list:\n",
    "    name_list.remove(name)\n",
    "    \n",
    "print(name_list)"
   ]
  },
  {
   "cell_type": "code",
   "execution_count": 2,
   "metadata": {},
   "outputs": [
    {
     "name": "stdout",
     "output_type": "stream",
     "text": [
      "['Mary', 'Iori', 'Chris']\n"
     ]
    }
   ],
   "source": [
    "name_list = ['Mary', 'Kyo', 'Iori','Kyo',\"Chris\",'Kyo']\n",
    "name = \"Kyo\"\n",
    "\n",
    "for i in range(1000):\n",
    "    if name in name_list:\n",
    "        name_list.remove(name)\n",
    "    else:\n",
    "        break\n",
    "        \n",
    "print(name_list)"
   ]
  },
  {
   "cell_type": "markdown",
   "metadata": {},
   "source": [
    "# count()方法"
   ]
  },
  {
   "cell_type": "code",
   "execution_count": 16,
   "metadata": {},
   "outputs": [
    {
     "name": "stdout",
     "output_type": "stream",
     "text": [
      "<class 'int'>\n"
     ]
    }
   ],
   "source": [
    "name_list = ['Mary', 'Kyo', 'Iori','Kyo',\"Chris\",'Kyo']\n",
    "qty = name_list.count('Kyo')\n",
    "\n",
    "print(type(qty))"
   ]
  },
  {
   "cell_type": "code",
   "execution_count": 18,
   "metadata": {},
   "outputs": [
    {
     "name": "stdout",
     "output_type": "stream",
     "text": [
      "['Mary', 'Iori', 'Chris']\n"
     ]
    }
   ],
   "source": [
    "name_list = ['Mary', 'Kyo', 'Iori','Kyo',\"Chris\",'Kyo']\n",
    "name = \"Kyo\"\n",
    "\n",
    "qty = name_list.count(name)\n",
    "\n",
    "for i in range(qty):\n",
    "    if name in name_list:\n",
    "        name_list.remove(name)\n",
    "    else:\n",
    "        break\n",
    "        \n",
    "print(name_list)"
   ]
  },
  {
   "cell_type": "markdown",
   "metadata": {},
   "source": [
    "# index()方法"
   ]
  },
  {
   "cell_type": "code",
   "execution_count": 21,
   "metadata": {},
   "outputs": [
    {
     "ename": "ValueError",
     "evalue": "'Johnny' is not in list",
     "output_type": "error",
     "traceback": [
      "\u001b[1;31m---------------------------------------------------------------------------\u001b[0m",
      "\u001b[1;31mValueError\u001b[0m                                Traceback (most recent call last)",
      "\u001b[1;32m<ipython-input-21-48218fc65397>\u001b[0m in \u001b[0;36m<module>\u001b[1;34m\u001b[0m\n\u001b[0;32m      1\u001b[0m \u001b[0mname_list\u001b[0m \u001b[1;33m=\u001b[0m \u001b[1;33m[\u001b[0m\u001b[1;34m'Mary'\u001b[0m\u001b[1;33m,\u001b[0m \u001b[1;34m'Kyo'\u001b[0m\u001b[1;33m,\u001b[0m \u001b[1;34m'Iori'\u001b[0m\u001b[1;33m,\u001b[0m\u001b[1;34m'Kyo'\u001b[0m\u001b[1;33m,\u001b[0m\u001b[1;34m\"Chris\"\u001b[0m\u001b[1;33m,\u001b[0m\u001b[1;34m'Kyo'\u001b[0m\u001b[1;33m]\u001b[0m\u001b[1;33m\u001b[0m\u001b[1;33m\u001b[0m\u001b[0m\n\u001b[0;32m      2\u001b[0m \u001b[1;33m\u001b[0m\u001b[0m\n\u001b[1;32m----> 3\u001b[1;33m \u001b[0midx\u001b[0m \u001b[1;33m=\u001b[0m \u001b[0mname_list\u001b[0m\u001b[1;33m.\u001b[0m\u001b[0mindex\u001b[0m\u001b[1;33m(\u001b[0m\u001b[1;34m'Johnny'\u001b[0m\u001b[1;33m)\u001b[0m\u001b[1;33m\u001b[0m\u001b[1;33m\u001b[0m\u001b[0m\n\u001b[0m\u001b[0;32m      4\u001b[0m \u001b[1;33m\u001b[0m\u001b[0m\n\u001b[0;32m      5\u001b[0m \u001b[0mprint\u001b[0m\u001b[1;33m(\u001b[0m\u001b[0midx\u001b[0m\u001b[1;33m)\u001b[0m\u001b[1;33m\u001b[0m\u001b[1;33m\u001b[0m\u001b[0m\n",
      "\u001b[1;31mValueError\u001b[0m: 'Johnny' is not in list"
     ]
    }
   ],
   "source": [
    "name_list = ['Mary', 'Kyo', 'Iori','Kyo',\"Chris\",'Kyo']\n",
    "\n",
    "idx = name_list.index('Johnny')\n",
    "\n",
    "print(idx)"
   ]
  },
  {
   "cell_type": "code",
   "execution_count": 22,
   "metadata": {},
   "outputs": [
    {
     "name": "stdout",
     "output_type": "stream",
     "text": [
      "你查詢的元素不存在\n"
     ]
    }
   ],
   "source": [
    "name_list = ['Mary', 'Kyo', 'Iori','Kyo',\"Chris\",'Kyo']\n",
    "name = \"Johnny\"\n",
    "\n",
    "if name in name_list:\n",
    "    idx = name_list.index(name)\n",
    "    print(\"元素索引值 = \",idx)\n",
    "else:\n",
    "    print(\"你查詢的元素不存在\")"
   ]
  },
  {
   "cell_type": "markdown",
   "metadata": {},
   "source": [
    "# clear()方法"
   ]
  },
  {
   "cell_type": "code",
   "execution_count": 29,
   "metadata": {},
   "outputs": [
    {
     "name": "stdout",
     "output_type": "stream",
     "text": [
      "[]\n"
     ]
    }
   ],
   "source": [
    "name_list = ['Mary', 'Kyo', 'Iori','Kyo',\"Chris\",'Kyo']\n",
    "\n",
    "name_list.clear()\n",
    "#也可以寫成name_list = []\n",
    "#或是name_list = list()\n",
    "\n",
    "print(name_list)"
   ]
  },
  {
   "cell_type": "markdown",
   "metadata": {},
   "source": [
    "# sort()方法"
   ]
  },
  {
   "cell_type": "code",
   "execution_count": 5,
   "metadata": {},
   "outputs": [
    {
     "name": "stdout",
     "output_type": "stream",
     "text": [
      "['Mary', 'Kyo', 'Iori', 'Kyo', 'Chris', 'Kyo']\n",
      "['Chris', 'Iori', 'Kyo', 'Kyo', 'Kyo', 'Mary']\n"
     ]
    }
   ],
   "source": [
    "name_list = ['Mary', 'Kyo', 'Iori','Kyo',\"Chris\",'Kyo']\n",
    "\n",
    "print(name_list)\n",
    "name_list.sort()\n",
    "print(name_list)"
   ]
  },
  {
   "cell_type": "code",
   "execution_count": 6,
   "metadata": {},
   "outputs": [
    {
     "name": "stdout",
     "output_type": "stream",
     "text": [
      "['apple', 'Apple', 'bee', 'Bee']\n",
      "['Apple', 'Bee', 'apple', 'bee']\n"
     ]
    }
   ],
   "source": [
    "a = ['apple','Apple','bee','Bee']\n",
    "\n",
    "print(a)\n",
    "a.sort()\n",
    "print(a)"
   ]
  },
  {
   "cell_type": "code",
   "execution_count": 2,
   "metadata": {},
   "outputs": [
    {
     "name": "stdout",
     "output_type": "stream",
     "text": [
      "[99, 5, 5.01, 65, 8, 0, -9]\n",
      "[-9, 0, 5, 5.01, 8, 65, 99]\n"
     ]
    }
   ],
   "source": [
    "a = [99,5,5.01,65,8,0,-9]\n",
    "\n",
    "print(a)\n",
    "a.sort()\n",
    "print(a)"
   ]
  },
  {
   "cell_type": "code",
   "execution_count": 7,
   "metadata": {},
   "outputs": [
    {
     "name": "stdout",
     "output_type": "stream",
     "text": [
      "[99, 5, 'apple', 5.01, 'Apple', 65, 8, 'bee', 0, -9, 'Bee']\n"
     ]
    },
    {
     "ename": "TypeError",
     "evalue": "'<' not supported between instances of 'str' and 'int'",
     "output_type": "error",
     "traceback": [
      "\u001b[1;31m---------------------------------------------------------------------------\u001b[0m",
      "\u001b[1;31mTypeError\u001b[0m                                 Traceback (most recent call last)",
      "\u001b[1;32m<ipython-input-7-91e17741450a>\u001b[0m in \u001b[0;36m<module>\u001b[1;34m\u001b[0m\n\u001b[0;32m      2\u001b[0m \u001b[1;33m\u001b[0m\u001b[0m\n\u001b[0;32m      3\u001b[0m \u001b[0mprint\u001b[0m\u001b[1;33m(\u001b[0m\u001b[0ma\u001b[0m\u001b[1;33m)\u001b[0m\u001b[1;33m\u001b[0m\u001b[1;33m\u001b[0m\u001b[0m\n\u001b[1;32m----> 4\u001b[1;33m \u001b[0ma\u001b[0m\u001b[1;33m.\u001b[0m\u001b[0msort\u001b[0m\u001b[1;33m(\u001b[0m\u001b[1;33m)\u001b[0m\u001b[1;33m\u001b[0m\u001b[1;33m\u001b[0m\u001b[0m\n\u001b[0m\u001b[0;32m      5\u001b[0m \u001b[0mprint\u001b[0m\u001b[1;33m(\u001b[0m\u001b[0ma\u001b[0m\u001b[1;33m)\u001b[0m\u001b[1;33m\u001b[0m\u001b[1;33m\u001b[0m\u001b[0m\n",
      "\u001b[1;31mTypeError\u001b[0m: '<' not supported between instances of 'str' and 'int'"
     ]
    }
   ],
   "source": [
    "a = [99,5,'apple',5.01,'Apple',65,8,'bee',0,-9,'Bee']\n",
    "\n",
    "print(a)\n",
    "a.sort()\n",
    "print(a)"
   ]
  },
  {
   "cell_type": "markdown",
   "metadata": {},
   "source": [
    "# copy()方法"
   ]
  },
  {
   "cell_type": "code",
   "execution_count": 2,
   "metadata": {},
   "outputs": [
    {
     "name": "stdout",
     "output_type": "stream",
     "text": [
      "a串列內容: ['Johnny', 'Jeremy']\n",
      "b串列內容: ['Johnny', 'Jeremy']\n"
     ]
    }
   ],
   "source": [
    "a = ['Johnny']\n",
    "b = a\n",
    "\n",
    "b.append('Jeremy')\n",
    "\n",
    "print(\"a串列內容:\",a)\n",
    "print(\"b串列內容:\",b)"
   ]
  },
  {
   "cell_type": "code",
   "execution_count": 3,
   "metadata": {},
   "outputs": [
    {
     "name": "stdout",
     "output_type": "stream",
     "text": [
      "a串列內容: ['Johnny']\n",
      "b串列內容: ['Johnny', 'Jeremy']\n"
     ]
    }
   ],
   "source": [
    "a = ['Johnny']\n",
    "b = a.copy()\n",
    "\n",
    "b.append('Jeremy')\n",
    "\n",
    "print(\"a串列內容:\",a)\n",
    "print(\"b串列內容:\",b)"
   ]
  },
  {
   "cell_type": "code",
   "execution_count": 45,
   "metadata": {},
   "outputs": [
    {
     "name": "stdout",
     "output_type": "stream",
     "text": [
      "----未更動任何變數的內容前\n",
      "a的ID 140704199558880\n",
      "b的ID 140704199558880\n",
      "c的ID 140704199558880\n",
      "----更動a數值後\n",
      "a的ID 2438551664688\n",
      "b的ID 140704199558880\n",
      "c的ID 140704199558880\n",
      "a內容 =  265\n",
      "b內容 =  255\n",
      "c內容 =  255\n",
      "----更動b數值後\n",
      "a的ID 2438551664688\n",
      "b的ID 2438551663728\n",
      "c的ID 140704199558880\n",
      "a內容 =  265\n",
      "b內容 =  275\n",
      "c內容 =  255\n"
     ]
    }
   ],
   "source": [
    "a = b = c = 255\n",
    "print(\"----未更動任何變數的內容前\")\n",
    "print(\"a的ID\",id(a))\n",
    "print(\"b的ID\",id(b))\n",
    "print(\"c的ID\",id(c))\n",
    "\n",
    "a += 10\n",
    "print(\"----更動a數值後\")\n",
    "print(\"a的ID\",id(a))\n",
    "print(\"b的ID\",id(b))\n",
    "print(\"c的ID\",id(c))\n",
    "print(\"a內容 = \",a)\n",
    "print(\"b內容 = \",b)\n",
    "print(\"c內容 = \",c)\n",
    "\n",
    "b += 20\n",
    "print(\"----更動b數值後\")\n",
    "print(\"a的ID\",id(a))\n",
    "print(\"b的ID\",id(b))\n",
    "print(\"c的ID\",id(c))\n",
    "print(\"a內容 = \",a)\n",
    "print(\"b內容 = \",b)\n",
    "print(\"c內容 = \",c)\n"
   ]
  },
  {
   "cell_type": "code",
   "execution_count": 56,
   "metadata": {},
   "outputs": [
    {
     "name": "stdout",
     "output_type": "stream",
     "text": [
      "----未更動任何變數的內容前\n",
      "a的ID 2438548798336\n",
      "b的ID 2438541290240\n",
      "c的ID 2438548798720\n",
      "----更動a內容後\n",
      "a的ID 2438548798336\n",
      "b的ID 2438541290240\n",
      "c的ID 2438548798720\n",
      "a內容 =  ['Johnny', 'Jay']\n",
      "b內容 =  ['Johnny']\n",
      "c內容 =  ['Johnny']\n",
      "----更動b內容後\n",
      "a的ID 2438548798336\n",
      "b的ID 2438541290240\n",
      "c的ID 2438548798720\n",
      "a內容 =  ['Johnny', 'Jay']\n",
      "b內容 =  ['Johnny', 'Jolin']\n",
      "c內容 =  ['Johnny']\n"
     ]
    }
   ],
   "source": [
    "a = ['Johnny']\n",
    "b = a.copy()\n",
    "c = a.copy()\n",
    "print(\"----未更動任何變數的內容前\")\n",
    "print(\"a的ID\",id(a))\n",
    "print(\"b的ID\",id(b))\n",
    "print(\"c的ID\",id(c))\n",
    "\n",
    "a.append('Jay')\n",
    "print(\"----更動a內容後\")\n",
    "print(\"a的ID\",id(a))\n",
    "print(\"b的ID\",id(b))\n",
    "print(\"c的ID\",id(c))\n",
    "print(\"a內容 = \",a)\n",
    "print(\"b內容 = \",b)\n",
    "print(\"c內容 = \",c)\n",
    "\n",
    "b.append('Jolin')\n",
    "print(\"----更動b內容後\")\n",
    "print(\"a的ID\",id(a))\n",
    "print(\"b的ID\",id(b))\n",
    "print(\"c的ID\",id(c))\n",
    "print(\"a內容 = \",a)\n",
    "print(\"b內容 = \",b)\n",
    "print(\"c內容 = \",c)"
   ]
  },
  {
   "cell_type": "markdown",
   "metadata": {},
   "source": [
    "# len()函數"
   ]
  },
  {
   "cell_type": "code",
   "execution_count": 9,
   "metadata": {},
   "outputs": [
    {
     "name": "stdout",
     "output_type": "stream",
     "text": [
      "6\n",
      "<class 'int'>\n"
     ]
    }
   ],
   "source": [
    "name_list = ['Mary', 'Kyo', 'Iori','Kyo',\"Chris\",'Kyo']\n",
    "qty_list= len(name_list)\n",
    "\n",
    "print(qty_list)\n",
    "print(type(qty_list))"
   ]
  },
  {
   "cell_type": "code",
   "execution_count": 10,
   "metadata": {},
   "outputs": [
    {
     "name": "stdout",
     "output_type": "stream",
     "text": [
      "2\n"
     ]
    }
   ],
   "source": [
    "name_list = [\n",
    "                ['Mary', 'Kyo', 'Iori'],\n",
    "                ['Kyo',\"Chris\",'Kyo']\n",
    "            ]\n",
    "\n",
    "qty_list= len(name_list)\n",
    "\n",
    "print(qty_list)"
   ]
  }
 ],
 "metadata": {
  "kernelspec": {
   "display_name": "Python 3",
   "language": "python",
   "name": "python3"
  },
  "language_info": {
   "codemirror_mode": {
    "name": "ipython",
    "version": 3
   },
   "file_extension": ".py",
   "mimetype": "text/x-python",
   "name": "python",
   "nbconvert_exporter": "python",
   "pygments_lexer": "ipython3",
   "version": "3.7.3"
  }
 },
 "nbformat": 4,
 "nbformat_minor": 5
}
