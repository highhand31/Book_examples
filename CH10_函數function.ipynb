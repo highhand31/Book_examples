{
 "cells": [
  {
   "cell_type": "markdown",
   "metadata": {},
   "source": [
    "# 使用函數的目的:減少重複性"
   ]
  },
  {
   "cell_type": "code",
   "execution_count": 1,
   "metadata": {},
   "outputs": [
    {
     "name": "stdout",
     "output_type": "stream",
     "text": [
      "你的分數換算GPA等級為 C-\n"
     ]
    }
   ],
   "source": [
    "score = 61\n",
    "if score == 0:\n",
    "    gpa = 'X'\n",
    "elif score <= 59:\n",
    "    gpa = 'F'\n",
    "elif score <= 62:\n",
    "    gpa = 'C-'\n",
    "elif score <= 66:\n",
    "    gpa = 'C'\n",
    "elif score <= 69:\n",
    "    gpa = 'C+'\n",
    "elif score <= 72:\n",
    "    gpa = 'B-'\n",
    "elif score <= 76:\n",
    "    gpa = 'B'\n",
    "elif score <= 79:\n",
    "    gpa = 'B+'\n",
    "elif score <= 84:\n",
    "    gpa = 'A-'\n",
    "elif score <= 89:\n",
    "    gpa = 'A'\n",
    "elif score <= 100:\n",
    "    gpa = 'A+'\n",
    "else:\n",
    "    gpa = \"分數有問題，請確認分數是0~100之間的數值\"\n",
    "\n",
    "print(\"你的分數換算GPA等級為\",gpa)\n",
    "\n",
    "score = 88\n",
    "if score == 0:\n",
    "    gpa = 'X'\n",
    "elif score <= 59:\n",
    "    gpa = 'F'\n",
    "elif score <= 62:\n",
    "    gpa = 'C-'\n",
    "elif score <= 66:\n",
    "    gpa = 'C'\n",
    "elif score <= 69:\n",
    "    gpa = 'C+'\n",
    "elif score <= 72:\n",
    "    gpa = 'B-'\n",
    "elif score <= 76:\n",
    "    gpa = 'B'\n",
    "elif score <= 79:\n",
    "    gpa = 'B+'\n",
    "elif score <= 84:\n",
    "    gpa = 'A-'\n",
    "elif score <= 89:\n",
    "    gpa = 'A'\n",
    "elif score <= 100:\n",
    "    gpa = 'A+'\n",
    "else:\n",
    "    gpa = \"分數有問題，請確認分數是0~100之間的數值\"\n",
    "\n",
    "print(\"你的分數換算GPA等級為\",gpa)"
   ]
  },
  {
   "cell_type": "code",
   "execution_count": 5,
   "metadata": {},
   "outputs": [],
   "source": [
    "def gpa_check(score):\n",
    "    if score == 0:\n",
    "        gpa = 'X'\n",
    "    elif score <= 59:\n",
    "        gpa = 'F'\n",
    "    elif score <= 62:\n",
    "        gpa = 'C-'\n",
    "    elif score <= 66:\n",
    "        gpa = 'C'\n",
    "    elif score <= 69:\n",
    "        gpa = 'C+'\n",
    "    elif score <= 72:\n",
    "        gpa = 'B-'\n",
    "    elif score <= 76:\n",
    "        gpa = 'B'\n",
    "    elif score <= 79:\n",
    "        gpa = 'B+'\n",
    "    elif score <= 84:\n",
    "        gpa = 'A-'\n",
    "    elif score <= 89:\n",
    "        gpa = 'A'\n",
    "    elif score <= 100:\n",
    "        gpa = 'A+'\n",
    "    else:\n",
    "        gpa = \"分數有問題，請確認分數是0~100之間的數值\"\n",
    "\n",
    "    print(\"你的分數\",score,\"換算GPA等級為\",gpa)"
   ]
  },
  {
   "cell_type": "code",
   "execution_count": 7,
   "metadata": {},
   "outputs": [
    {
     "name": "stdout",
     "output_type": "stream",
     "text": [
      "你的分數 61 換算GPA等級為 C-\n",
      "你的分數 88 換算GPA等級為 A\n"
     ]
    }
   ],
   "source": [
    "score_1 = 61\n",
    "gpa_check(score_1)\n",
    "\n",
    "score_2 = 88\n",
    "gpa_check(score_2)"
   ]
  },
  {
   "cell_type": "markdown",
   "metadata": {},
   "source": [
    "# 使用函數的目的:增加架構的彈性"
   ]
  },
  {
   "cell_type": "code",
   "execution_count": 31,
   "metadata": {},
   "outputs": [],
   "source": [
    "def score_process(score_list):\n",
    "    #----var\n",
    "    max_score = 0\n",
    "    min_score = 100\n",
    "    sum_score = 0\n",
    "    #----最高分\n",
    "    for score in score_list:\n",
    "        if score > max_score:\n",
    "            max_score = score\n",
    "    print(\"最高分為\",max_score)\n",
    "    #----最低分\n",
    "    for score in score_list:\n",
    "        if score < min_score:\n",
    "            min_score = score\n",
    "    print(\"最低分為\",min_score)\n",
    "    #----總分\n",
    "    for score in score_list:\n",
    "        sum_score += score\n",
    "    print(\"總分為\",sum_score)\n",
    "    #----平均分數\n",
    "    average_score = sum_score / len(score_list)\n",
    "    print(\"平均分為\",average_score)\n",
    "    #----GPA check\n",
    "    score = average_score\n",
    "    if score == 0:\n",
    "        gpa = 'X'\n",
    "    elif score <= 59:\n",
    "        gpa = 'F'\n",
    "    elif score <= 62:\n",
    "        gpa = 'C-'\n",
    "    elif score <= 66:\n",
    "        gpa = 'C'\n",
    "    elif score <= 69:\n",
    "        gpa = 'C+'\n",
    "    elif score <= 72:\n",
    "        gpa = 'B-'\n",
    "    elif score <= 76:\n",
    "        gpa = 'B'\n",
    "    elif score <= 79:\n",
    "        gpa = 'B+'\n",
    "    elif score <= 84:\n",
    "        gpa = 'A-'\n",
    "    elif score <= 89:\n",
    "        gpa = 'A'\n",
    "    elif score <= 100:\n",
    "        gpa = 'A+'\n",
    "    else:\n",
    "        gpa = \"分數有問題，請確認分數是0~100之間的數值\"\n",
    "    print(\"你的分數\",score,\"換算GPA等級為\",gpa)"
   ]
  },
  {
   "cell_type": "code",
   "execution_count": 32,
   "metadata": {},
   "outputs": [],
   "source": [
    "def get_max_score(score_list):\n",
    "    #----var\n",
    "    max_score = 0\n",
    "    #----最高分計算\n",
    "    for score in score_list:\n",
    "        if score > max_score:\n",
    "            max_score = score\n",
    "    print(\"最高分為\",max_score)\n",
    "    return max_score"
   ]
  },
  {
   "cell_type": "code",
   "execution_count": 39,
   "metadata": {},
   "outputs": [],
   "source": [
    "def get_min_score(score_list):\n",
    "    #----var\n",
    "    min_score = 100\n",
    "    #----最低分計算\n",
    "    for score in score_list:\n",
    "        if score < min_score:\n",
    "            min_score = score\n",
    "    print(\"最低分為\",min_score)\n",
    "    return min_score"
   ]
  },
  {
   "cell_type": "code",
   "execution_count": 34,
   "metadata": {},
   "outputs": [],
   "source": [
    "def get_sum_score(score_list):\n",
    "    #----var\n",
    "    sum_score = 0\n",
    "    #----總分計算\n",
    "    for score in score_list:\n",
    "        sum_score += score\n",
    "    print(\"總分為\",sum_score)\n",
    "    return sum_score"
   ]
  },
  {
   "cell_type": "code",
   "execution_count": 35,
   "metadata": {},
   "outputs": [],
   "source": [
    "def get_ave_score(sum_score,score_list):\n",
    "    #----平均分數計算\n",
    "    average_score = sum_score / len(score_list)\n",
    "    print(\"平均分為\",average_score)\n",
    "    return average_score"
   ]
  },
  {
   "cell_type": "code",
   "execution_count": 40,
   "metadata": {},
   "outputs": [
    {
     "name": "stdout",
     "output_type": "stream",
     "text": [
      "最高分為 99\n",
      "最低分為 33\n",
      "總分為 265\n",
      "平均分為 66.25\n",
      "你的分數 66.25 換算GPA等級為 C+\n"
     ]
    }
   ],
   "source": [
    "Jay_score_list = [77,99,56,33]\n",
    "max_score = get_max_score(Jay_score_list)\n",
    "min_score = get_min_score(Jay_score_list)\n",
    "sum_score = get_sum_score(Jay_score_list)\n",
    "ave_score = get_ave_score(sum_score,Jay_score_list)\n",
    "gpa_check(ave_score)"
   ]
  },
  {
   "cell_type": "code",
   "execution_count": 46,
   "metadata": {},
   "outputs": [
    {
     "name": "stdout",
     "output_type": "stream",
     "text": [
      "最高分為 99\n",
      "最低分為 28\n"
     ]
    }
   ],
   "source": [
    "Johnny_score_list = [59,58,28,99]\n",
    "max_score = get_max_score(Johnny_score_list)\n",
    "min_score = get_min_score(Johnny_score_list)"
   ]
  },
  {
   "cell_type": "code",
   "execution_count": 45,
   "metadata": {},
   "outputs": [
    {
     "name": "stdout",
     "output_type": "stream",
     "text": [
      "總分為 323\n",
      "平均分為 80.75\n",
      "你的分數 80.75 換算GPA等級為 A-\n"
     ]
    }
   ],
   "source": [
    "Jolin_score_list = [88,86,60,89]\n",
    "sum_score = get_sum_score(Jolin_score_list)\n",
    "ave_score = get_ave_score(sum_score,Jolin_score_list)\n",
    "gpa_check(ave_score)"
   ]
  },
  {
   "cell_type": "code",
   "execution_count": 44,
   "metadata": {},
   "outputs": [
    {
     "name": "stdout",
     "output_type": "stream",
     "text": [
      "總分為 311\n"
     ]
    }
   ],
   "source": [
    "Ray_score_list = [79,89,77,66]\n",
    "sum_score = get_sum_score(Ray_score_list)"
   ]
  },
  {
   "cell_type": "markdown",
   "metadata": {},
   "source": [
    "# 使用函數的目的:建立清楚的流程"
   ]
  },
  {
   "cell_type": "code",
   "execution_count": 3,
   "metadata": {},
   "outputs": [],
   "source": [
    "def video_init(is_2_write=False,save_path=None):\n",
    "    writer = None\n",
    "    cap = cv2.VideoCapture(0)\n",
    "    height = cap.get(cv2.CAP_PROP_FRAME_HEIGHT)#default 640x480\n",
    "    width = cap.get(cv2.CAP_PROP_FRAME_WIDTH)\n",
    "\n",
    "    if is_2_write is True:\n",
    "        fourcc = cv2.VideoWriter_fourcc(*'XVID')\n",
    "        if save_path is None:\n",
    "            save_path = 'demo.avi'\n",
    "        writer = cv2.VideoWriter(save_path, fourcc, 20, (int(width), int(height)))\n",
    "\n",
    "    return cap,height,width,writer"
   ]
  },
  {
   "cell_type": "code",
   "execution_count": 4,
   "metadata": {},
   "outputs": [],
   "source": [
    "def generate_anchors(feature_map_sizes, anchor_sizes, anchor_ratios, offset=0.5):\n",
    "    '''\n",
    "    generate anchors.\n",
    "    :param feature_map_sizes: list of list, for example: [[40,40], [20,20]]\n",
    "    :param anchor_sizes: list of list, for example: [[0.05, 0.075], [0.1, 0.15]]\n",
    "    :param anchor_ratios: list of list, for example: [[1, 0.5], [1, 0.5]]\n",
    "    :param offset: default to 0.5\n",
    "    :return:\n",
    "    '''\n",
    "    anchor_bboxes = []\n",
    "    for idx, feature_size in enumerate(feature_map_sizes):\n",
    "        cx = (np.linspace(0, feature_size[0] - 1, feature_size[0]) + 0.5) / feature_size[0]\n",
    "        cy = (np.linspace(0, feature_size[1] - 1, feature_size[1]) + 0.5) / feature_size[1]\n",
    "        cx_grid, cy_grid = np.meshgrid(cx, cy)\n",
    "        cx_grid_expend = np.expand_dims(cx_grid, axis=-1)\n",
    "        cy_grid_expend = np.expand_dims(cy_grid, axis=-1)\n",
    "        center = np.concatenate((cx_grid_expend, cy_grid_expend), axis=-1)\n",
    "\n",
    "        num_anchors = len(anchor_sizes[idx]) +  len(anchor_ratios[idx]) - 1\n",
    "        center_tiled = np.tile(center, (1, 1, 2* num_anchors))\n",
    "        anchor_width_heights = []\n",
    "\n",
    "        # different scales with the first aspect ratio\n",
    "        for scale in anchor_sizes[idx]:\n",
    "            ratio = anchor_ratios[idx][0] # select the first ratio\n",
    "            width = scale * np.sqrt(ratio)\n",
    "            height = scale / np.sqrt(ratio)\n",
    "            anchor_width_heights.extend([-width / 2.0, -height / 2.0, width / 2.0, height / 2.0])\n",
    "\n",
    "        # the first scale, with different aspect ratios (except the first one)\n",
    "        for ratio in anchor_ratios[idx][1:]:\n",
    "            s1 = anchor_sizes[idx][0] # select the first scale\n",
    "            width = s1 * np.sqrt(ratio)\n",
    "            height = s1 / np.sqrt(ratio)\n",
    "            anchor_width_heights.extend([-width / 2.0, -height / 2.0, width / 2.0, height / 2.0])\n",
    "\n",
    "        bbox_coords = center_tiled + np.array(anchor_width_heights)\n",
    "        bbox_coords_reshape = bbox_coords.reshape((-1, 4))\n",
    "        anchor_bboxes.append(bbox_coords_reshape)\n",
    "    anchor_bboxes = np.concatenate(anchor_bboxes, axis=0)\n",
    "    return anchor_bboxes"
   ]
  },
  {
   "cell_type": "code",
   "execution_count": 2,
   "metadata": {},
   "outputs": [
    {
     "ename": "NameError",
     "evalue": "name 'cv2' is not defined",
     "output_type": "error",
     "traceback": [
      "\u001b[1;31m---------------------------------------------------------------------------\u001b[0m",
      "\u001b[1;31mNameError\u001b[0m                                 Traceback (most recent call last)",
      "\u001b[1;32m<ipython-input-2-696095846f81>\u001b[0m in \u001b[0;36m<module>\u001b[1;34m\u001b[0m\n\u001b[0;32m     16\u001b[0m \u001b[1;31m#----video streaming init\u001b[0m\u001b[1;33m\u001b[0m\u001b[1;33m\u001b[0m\u001b[1;33m\u001b[0m\u001b[0m\n\u001b[0;32m     17\u001b[0m \u001b[0mwriter\u001b[0m \u001b[1;33m=\u001b[0m \u001b[1;32mNone\u001b[0m\u001b[1;33m\u001b[0m\u001b[1;33m\u001b[0m\u001b[0m\n\u001b[1;32m---> 18\u001b[1;33m \u001b[0mcap\u001b[0m \u001b[1;33m=\u001b[0m \u001b[0mcv2\u001b[0m\u001b[1;33m.\u001b[0m\u001b[0mVideoCapture\u001b[0m\u001b[1;33m(\u001b[0m\u001b[1;36m0\u001b[0m\u001b[1;33m)\u001b[0m\u001b[1;33m\u001b[0m\u001b[1;33m\u001b[0m\u001b[0m\n\u001b[0m\u001b[0;32m     19\u001b[0m \u001b[0mheight\u001b[0m \u001b[1;33m=\u001b[0m \u001b[0mcap\u001b[0m\u001b[1;33m.\u001b[0m\u001b[0mget\u001b[0m\u001b[1;33m(\u001b[0m\u001b[0mcv2\u001b[0m\u001b[1;33m.\u001b[0m\u001b[0mCAP_PROP_FRAME_HEIGHT\u001b[0m\u001b[1;33m)\u001b[0m\u001b[1;31m#default 640x480\u001b[0m\u001b[1;33m\u001b[0m\u001b[1;33m\u001b[0m\u001b[0m\n\u001b[0;32m     20\u001b[0m \u001b[0mwidth\u001b[0m \u001b[1;33m=\u001b[0m \u001b[0mcap\u001b[0m\u001b[1;33m.\u001b[0m\u001b[0mget\u001b[0m\u001b[1;33m(\u001b[0m\u001b[0mcv2\u001b[0m\u001b[1;33m.\u001b[0m\u001b[0mCAP_PROP_FRAME_WIDTH\u001b[0m\u001b[1;33m)\u001b[0m\u001b[1;33m\u001b[0m\u001b[1;33m\u001b[0m\u001b[0m\n",
      "\u001b[1;31mNameError\u001b[0m: name 'cv2' is not defined"
     ]
    }
   ],
   "source": [
    "#----var\n",
    "pb_path = \"face_mask_detection.pb\"\n",
    "node_dict = {'input':'data_1:0',\n",
    "             'detection_bboxes':'loc_branch_concat_1/concat:0',\n",
    "             'detection_scores':'cls_branch_concat_1/concat:0'}\n",
    "conf_thresh = 0.5\n",
    "iou_thresh = 0.4\n",
    "frame_count = 0\n",
    "FPS = \"0\"\n",
    "#====anchors config\n",
    "feature_map_sizes = [[33, 33], [17, 17], [9, 9], [5, 5], [3, 3]]\n",
    "anchor_sizes = [[0.04, 0.056], [0.08, 0.11], [0.16, 0.22], [0.32, 0.45], [0.64, 0.72]]\n",
    "anchor_ratios = [[1, 0.62, 0.42]] * 5\n",
    "id2class = {0: 'Mask', 1: 'NoMask'}\n",
    "\n",
    "#----video streaming init\n",
    "cap, height, width, writer = video_init(is_2_write=is_2_write,save_path=save_path)\n",
    "\n",
    "#----model init\n",
    "\n",
    "#====generate anchors\n",
    "anchors = generate_anchors(feature_map_sizes, anchor_sizes, anchor_ratios)\n",
    "anchors_exp = np.expand_dims(anchors, axis=0)"
   ]
  },
  {
   "cell_type": "markdown",
   "metadata": {},
   "source": [
    "# 函數的定義"
   ]
  },
  {
   "cell_type": "code",
   "execution_count": null,
   "metadata": {},
   "outputs": [],
   "source": [
    "def abcde(a, b, c, d=34,e=False):\n",
    "    total = 0\n",
    "    \n",
    "    if a + b > c:\n",
    "        print(\"a + b > c\")\n",
    "    else:\n",
    "        print(\"a + b <= c\")\n",
    "            \n",
    "    if d > 0:\n",
    "        total = a + b + c + d\n",
    "    else:\n",
    "        total = a + b + c\n",
    "        \n",
    "    if e is True:\n",
    "        total *= 0.9\n",
    "    \n",
    "    return total"
   ]
  },
  {
   "cell_type": "markdown",
   "metadata": {},
   "source": [
    "## 回傳多筆資料"
   ]
  },
  {
   "cell_type": "code",
   "execution_count": 1,
   "metadata": {},
   "outputs": [],
   "source": [
    "def abcde(a, b, c, d=34,e=False):\n",
    "    total = a + b + c\n",
    "    avearage = sum_data / 3\n",
    "    mul = a * b * c\n",
    "    \n",
    "    return total, avearage, mul"
   ]
  },
  {
   "cell_type": "markdown",
   "metadata": {},
   "source": [
    "# print()的定義"
   ]
  },
  {
   "cell_type": "code",
   "execution_count": null,
   "metadata": {},
   "outputs": [],
   "source": [
    "def print(self, *args, sep=' ', end='\\n', file=None): # known special case of print\n",
    "    \"\"\"\n",
    "    print(value, ..., sep=' ', end='\\n', file=sys.stdout, flush=False)\n",
    "    \n",
    "    Prints the values to a stream, or to sys.stdout by default.\n",
    "    Optional keyword arguments:\n",
    "    file:  a file-like object (stream); defaults to the current sys.stdout.\n",
    "    sep:   string inserted between values, default a space.\n",
    "    end:   string appended after the last value, default a newline.\n",
    "    flush: whether to forcibly flush the stream.\n",
    "    \"\"\"\n",
    "    pass"
   ]
  },
  {
   "cell_type": "markdown",
   "metadata": {},
   "source": [
    "## print()參數的使用"
   ]
  },
  {
   "cell_type": "code",
   "execution_count": 45,
   "metadata": {},
   "outputs": [
    {
     "name": "stdout",
     "output_type": "stream",
     "text": [
      "2021 03 28\n",
      "2021/03/28\n",
      "2021//03//28\n",
      "2021\\03\\28\n",
      "2021\"03\"28\n",
      "2021'03'28\n",
      "2021-03-28\n",
      "2021_03_28\n"
     ]
    }
   ],
   "source": [
    "print('2021','03','28')\n",
    "print('2021','03','28',sep='/')\n",
    "print('2021','03','28',sep='//')\n",
    "print('2021','03','28',sep='\\\\')\n",
    "print('2021','03','28',sep='\\\"')\n",
    "print('2021','03','28',sep='\\'')\n",
    "print('2021','03','28',sep='-')\n",
    "print('2021','03','28',sep='_')"
   ]
  },
  {
   "cell_type": "code",
   "execution_count": 2,
   "metadata": {},
   "outputs": [
    {
     "name": "stdout",
     "output_type": "stream",
     "text": [
      "2021 03 28,"
     ]
    }
   ],
   "source": [
    "print('2021','03','28',end=',')"
   ]
  },
  {
   "cell_type": "code",
   "execution_count": 3,
   "metadata": {},
   "outputs": [
    {
     "name": "stdout",
     "output_type": "stream",
     "text": [
      "2021/03/28\n"
     ]
    }
   ],
   "source": [
    "print('2021','03','28',sep='/')"
   ]
  },
  {
   "cell_type": "code",
   "execution_count": 11,
   "metadata": {},
   "outputs": [
    {
     "name": "stdout",
     "output_type": "stream",
     "text": [
      "2021//03//28\t2021\\03\\28\n"
     ]
    }
   ],
   "source": [
    "print('2021','03','28',sep='//',end='\\t')\n",
    "print('2021','03','28',sep='\\\\')"
   ]
  },
  {
   "cell_type": "code",
   "execution_count": 6,
   "metadata": {},
   "outputs": [
    {
     "name": "stdout",
     "output_type": "stream",
     "text": [
      "2021\"03\"28----"
     ]
    }
   ],
   "source": [
    "print('2021','03','28',sep='\\\"',end='----')"
   ]
  },
  {
   "cell_type": "code",
   "execution_count": 8,
   "metadata": {},
   "outputs": [
    {
     "name": "stdout",
     "output_type": "stream",
     "text": [
      "2021'03'28\n"
     ]
    }
   ],
   "source": [
    "print('2021','03','28',sep='\\'')"
   ]
  },
  {
   "cell_type": "code",
   "execution_count": 9,
   "metadata": {},
   "outputs": [
    {
     "name": "stdout",
     "output_type": "stream",
     "text": [
      "2021-03-28|||"
     ]
    }
   ],
   "source": [
    "print('2021','03','28',sep='-',end='|||')"
   ]
  },
  {
   "cell_type": "code",
   "execution_count": 10,
   "metadata": {},
   "outputs": [
    {
     "name": "stdout",
     "output_type": "stream",
     "text": [
      "2021_03_28\n"
     ]
    }
   ],
   "source": [
    "print('2021','03','28',sep='_')"
   ]
  },
  {
   "cell_type": "markdown",
   "metadata": {},
   "source": [
    "# 撰寫函數的步驟"
   ]
  },
  {
   "cell_type": "markdown",
   "metadata": {},
   "source": [
    "### 1.直覺寫出達到某種功能的程式碼"
   ]
  },
  {
   "cell_type": "code",
   "execution_count": 6,
   "metadata": {},
   "outputs": [
    {
     "name": "stdout",
     "output_type": "stream",
     "text": [
      "攝氏溫度26度，轉換成華氏溫度為 78.8\n"
     ]
    }
   ],
   "source": [
    "temp_f = 26 * 9 / 5\n",
    "temp_f += 32\n",
    "print(\"攝氏溫度26度，轉換成華氏溫度為\",temp_f)"
   ]
  },
  {
   "cell_type": "markdown",
   "metadata": {},
   "source": [
    "# 改寫成函數"
   ]
  },
  {
   "cell_type": "code",
   "execution_count": 38,
   "metadata": {},
   "outputs": [],
   "source": [
    "def temp_c2f(temp_c):\n",
    "    temp_f = temp_c * 9 / 5\n",
    "    temp_f += 32\n",
    "    print(\"攝氏溫度\",temp_c,\"度，轉換成華氏溫度為\",temp_f)\n",
    "    \n",
    "    #diff = temp_f - temp_c\n",
    "    \n",
    "    #return temp_f, diff"
   ]
  },
  {
   "cell_type": "code",
   "execution_count": 40,
   "metadata": {},
   "outputs": [
    {
     "name": "stdout",
     "output_type": "stream",
     "text": [
      "攝氏溫度 26 度，轉換成華氏溫度為 78.8\n",
      "None\n"
     ]
    }
   ],
   "source": [
    "temp_c = 26\n",
    "temp_f = temp_c2f(temp_c)\n",
    "print(temp_f)"
   ]
  },
  {
   "cell_type": "code",
   "execution_count": 35,
   "metadata": {},
   "outputs": [
    {
     "name": "stdout",
     "output_type": "stream",
     "text": [
      "攝氏溫度 32 度，轉換成華氏溫度為 89.6\n",
      "攝氏溫度 0 度，轉換成華氏溫度為 32.0\n",
      "攝氏溫度 18 度，轉換成華氏溫度為 64.4\n"
     ]
    },
    {
     "data": {
      "text/plain": [
       "(64.4, 46.400000000000006)"
      ]
     },
     "execution_count": 35,
     "metadata": {},
     "output_type": "execute_result"
    }
   ],
   "source": [
    "temp_c = 32\n",
    "temp_c2f(temp_c)\n",
    "\n",
    "temp_c = 0\n",
    "temp_c2f(temp_c)\n",
    "\n",
    "temp_c = 18\n",
    "temp_c2f(temp_c)"
   ]
  },
  {
   "cell_type": "code",
   "execution_count": 19,
   "metadata": {},
   "outputs": [
    {
     "name": "stdout",
     "output_type": "stream",
     "text": [
      "攝氏溫度 32 度，轉換成華氏溫度為 89.6\n",
      "差值為 57.599999999999994\n"
     ]
    }
   ],
   "source": [
    "temp_c = 32\n",
    "temp_f, diff = temp_c2f(temp_c)\n",
    "print(\"差值為\",diff)"
   ]
  },
  {
   "cell_type": "markdown",
   "metadata": {},
   "source": [
    "# 加減乘除函數"
   ]
  },
  {
   "cell_type": "code",
   "execution_count": 6,
   "metadata": {},
   "outputs": [
    {
     "name": "stdout",
     "output_type": "stream",
     "text": [
      "12 + 13 = 25\n"
     ]
    }
   ],
   "source": [
    "a = 12\n",
    "b = 13\n",
    "add = a + b\n",
    "print(a,'+',b,'=',add)"
   ]
  },
  {
   "cell_type": "code",
   "execution_count": 8,
   "metadata": {},
   "outputs": [
    {
     "name": "stdout",
     "output_type": "stream",
     "text": [
      "12 + 13 = 25\n",
      "函數回傳值 =  25\n"
     ]
    }
   ],
   "source": [
    "a = 12\n",
    "b = 13\n",
    "\n",
    "add = addition(a,b)\n",
    "print(\"函數回傳值 = \",add)"
   ]
  },
  {
   "cell_type": "code",
   "execution_count": 12,
   "metadata": {},
   "outputs": [],
   "source": [
    "def addition(a,b):\n",
    "    \n",
    "    add = a + b\n",
    "    print(a,'+',b,'=',add)\n",
    "    \n",
    "    return add"
   ]
  },
  {
   "cell_type": "code",
   "execution_count": 13,
   "metadata": {},
   "outputs": [],
   "source": [
    "def subtraction(a,b):\n",
    "    \n",
    "    subtract = a - b\n",
    "    print(a,'-',b,'=',subtract)\n",
    "    \n",
    "    return subtract"
   ]
  },
  {
   "cell_type": "code",
   "execution_count": 14,
   "metadata": {},
   "outputs": [],
   "source": [
    "def multiplication(a,b):\n",
    "    \n",
    "    mul = a * b\n",
    "    print(a,'*',b,'=',mul)\n",
    "    \n",
    "    return mul"
   ]
  },
  {
   "cell_type": "code",
   "execution_count": 15,
   "metadata": {},
   "outputs": [],
   "source": [
    "def division(a,b):\n",
    "    \n",
    "    div = a / b\n",
    "    print(a,'/',b,'=',div)\n",
    "    \n",
    "    return div"
   ]
  },
  {
   "cell_type": "code",
   "execution_count": 41,
   "metadata": {},
   "outputs": [],
   "source": [
    "def calculation(a,b,cal_type):\n",
    "    ret_value = None\n",
    "    if cal_type == '+':\n",
    "        ret_value = a + b\n",
    "    elif cal_type == '-':\n",
    "        ret_value = a - b\n",
    "    elif cal_type == '*':\n",
    "        ret_value = a * b\n",
    "    elif cal_type == '/':\n",
    "        ret_value = a / b\n",
    "    else:\n",
    "        print(\"計算種類不支援:\",cal_type)\n",
    "    \n",
    "    return ret_value"
   ]
  },
  {
   "cell_type": "code",
   "execution_count": 18,
   "metadata": {},
   "outputs": [],
   "source": [
    "def calculation(a,b,cal_type):\n",
    "    ret_value = None\n",
    "    if cal_type == '+':\n",
    "        ret_value = addition(a,b)\n",
    "    elif cal_type == '-':\n",
    "        ret_value = subtraction(a,b)\n",
    "    elif cal_type == '*':\n",
    "        ret_value = multiplication(a,b)\n",
    "    elif cal_type == '/':\n",
    "        ret_value = division(a,b)\n",
    "    else:\n",
    "        print(\"計算種類不支援:\",cal_type)\n",
    "    \n",
    "    return ret_value"
   ]
  },
  {
   "cell_type": "code",
   "execution_count": 17,
   "metadata": {},
   "outputs": [
    {
     "name": "stdout",
     "output_type": "stream",
     "text": [
      "12 + 13 = 25\n",
      "函數回傳值 =  25\n",
      "12 - 13 = -1\n",
      "函數回傳值 =  -1\n",
      "12 * 13 = 156\n",
      "函數回傳值 =  156\n",
      "12 / 13 = 0.9230769230769231\n",
      "函數回傳值 =  0.9230769230769231\n"
     ]
    }
   ],
   "source": [
    "a = 12\n",
    "b = 13\n",
    "\n",
    "add = addition(a,b)\n",
    "print(\"函數回傳值 = \",add)\n",
    "\n",
    "sub = subtraction(a,b)\n",
    "print(\"函數回傳值 = \",sub)\n",
    "\n",
    "mul = multiplication(a,b)\n",
    "print(\"函數回傳值 = \",mul)\n",
    "\n",
    "div = division(a,b)\n",
    "print(\"函數回傳值 = \",div)"
   ]
  },
  {
   "cell_type": "code",
   "execution_count": 19,
   "metadata": {},
   "outputs": [
    {
     "name": "stdout",
     "output_type": "stream",
     "text": [
      "12 + 13 = 25\n",
      "函數回傳值 =  25\n",
      "12 - 13 = -1\n",
      "函數回傳值 =  -1\n",
      "12 * 13 = 156\n",
      "函數回傳值 =  156\n",
      "12 / 13 = 0.9230769230769231\n",
      "函數回傳值 =  0.9230769230769231\n"
     ]
    }
   ],
   "source": [
    "a = 12\n",
    "b = 13\n",
    "\n",
    "add = calculation(a,b,'+')\n",
    "print(\"函數回傳值 = \",add)\n",
    "\n",
    "sub = calculation(a,b,'-')\n",
    "print(\"函數回傳值 = \",sub)\n",
    "\n",
    "mul = calculation(a,b,'*')\n",
    "print(\"函數回傳值 = \",mul)\n",
    "\n",
    "div = calculation(a,b,'/')\n",
    "print(\"函數回傳值 = \",div)"
   ]
  },
  {
   "cell_type": "code",
   "execution_count": 43,
   "metadata": {},
   "outputs": [
    {
     "name": "stdout",
     "output_type": "stream",
     "text": [
      "a = 66\n",
      "b = 2\n",
      "cal_type = *\n",
      "a * b =  132\n"
     ]
    }
   ],
   "source": [
    "a = int(input(\"a = \"))\n",
    "b = int(input(\"b = \"))\n",
    "cal_type = input(\"cal_type = \")\n",
    "print(\"a\",cal_type,'b = ',calculation(a,b,cal_type))"
   ]
  },
  {
   "cell_type": "markdown",
   "metadata": {},
   "source": [
    "# 全域變數(Global variables)與區域變數(Local variables)"
   ]
  },
  {
   "cell_type": "code",
   "execution_count": 32,
   "metadata": {},
   "outputs": [],
   "source": [
    "def func(a,b):\n",
    "#     c = 123\n",
    "    print(\"a:\",a)\n",
    "    print(\"b:\",b)\n",
    "    print(\"區域變數c:\",c)"
   ]
  },
  {
   "cell_type": "code",
   "execution_count": 33,
   "metadata": {},
   "outputs": [
    {
     "name": "stdout",
     "output_type": "stream",
     "text": [
      "a: 100\n",
      "b: 200\n",
      "區域變數c: 100\n",
      "全域變數c: 100\n"
     ]
    }
   ],
   "source": [
    "c = 100\n",
    "d = 200\n",
    "\n",
    "func(c,d)\n",
    "\n",
    "print(\"全域變數c:\",c)"
   ]
  },
  {
   "cell_type": "code",
   "execution_count": 23,
   "metadata": {},
   "outputs": [
    {
     "name": "stdout",
     "output_type": "stream",
     "text": [
      "100\n"
     ]
    }
   ],
   "source": [
    "print(c)"
   ]
  },
  {
   "cell_type": "markdown",
   "metadata": {},
   "source": [
    "# 函數內對引數的修改"
   ]
  },
  {
   "cell_type": "code",
   "execution_count": 53,
   "metadata": {},
   "outputs": [],
   "source": [
    "def modify(a):\n",
    "    print(\"函數內,修改前的內容:\",a,',ID:',id(a))\n",
    "    a['type2'] = 5678\n",
    "    print(\"函數內,修改後的內容:\",a,',ID:',id(a))"
   ]
  },
  {
   "cell_type": "code",
   "execution_count": 55,
   "metadata": {},
   "outputs": [
    {
     "name": "stdout",
     "output_type": "stream",
     "text": [
      "函數外,剛宣告的內容: {'type1': 1234} ,ID: 2383585406120\n",
      "----丟入函數----\n",
      "函數內,修改前的內容: {'type1': 1234} ,ID: 2383585406624\n",
      "函數內,修改後的內容: {'type1': 1234, 'type2': 5678} ,ID: 2383585406624\n",
      "----離開函數----\n",
      "函數外,最新的內容: {'type1': 1234} ,ID: 2383585406120\n"
     ]
    }
   ],
   "source": [
    "num = {'type1':1234}\n",
    "\n",
    "print(\"函數外,剛宣告的內容:\",num,',ID:',id(num))\n",
    "print(\"----丟入函數----\")\n",
    "\n",
    "modify(num.copy())\n",
    "\n",
    "print(\"----離開函數----\")\n",
    "print(\"函數外,最新的內容:\",num,',ID:',id(num))"
   ]
  },
  {
   "cell_type": "code",
   "execution_count": 21,
   "metadata": {},
   "outputs": [
    {
     "name": "stdout",
     "output_type": "stream",
     "text": [
      "函數外,剛宣告的數值: 100 ,ID: 1607515456\n",
      "----丟入函數----\n",
      "函數內,修改前的數值: 100 ,ID: 1607515456\n",
      "函數內,修改後的數值: 102 ,ID: 1607515520\n",
      "----離開函數----\n",
      "函數外,最新的數值: 100 ,ID: 1607515456\n"
     ]
    }
   ],
   "source": [
    "num = 100\n",
    "print(\"函數外,剛宣告的數值:\",num,',ID:',id(num))\n",
    "print(\"----丟入函數----\")\n",
    "modify(num)\n",
    "print(\"----離開函數----\")\n",
    "print(\"函數外,最新的數值:\",num,',ID:',id(num))"
   ]
  },
  {
   "cell_type": "markdown",
   "metadata": {},
   "source": [
    "# 使用串列當作參數的型態"
   ]
  },
  {
   "cell_type": "code",
   "execution_count": 18,
   "metadata": {},
   "outputs": [],
   "source": [
    "def get_max_score(score_list):\n",
    "    #----var\n",
    "    max_score = 0\n",
    "    data_type = type(list())\n",
    "    \n",
    "    #----最高分計算\n",
    "    if type(score_list) == data_type:\n",
    "        for score in score_list:\n",
    "            if score > max_score:\n",
    "                max_score = score\n",
    "        print(\"最高分為\",max_score)\n",
    "    else:\n",
    "        print(\"參數的型態錯誤\")\n",
    "    \n",
    "    return max_score"
   ]
  },
  {
   "cell_type": "code",
   "execution_count": 19,
   "metadata": {},
   "outputs": [
    {
     "name": "stdout",
     "output_type": "stream",
     "text": [
      "最高分為 99\n"
     ]
    }
   ],
   "source": [
    "Jay_score_list = [77,99,56,33]\n",
    "max_score = get_max_score(Jay_score_list)"
   ]
  },
  {
   "cell_type": "code",
   "execution_count": 20,
   "metadata": {},
   "outputs": [
    {
     "name": "stdout",
     "output_type": "stream",
     "text": [
      "參數的型態錯誤\n"
     ]
    }
   ],
   "source": [
    "Jay_score_list = 44\n",
    "max_score = get_max_score(Jay_score_list)"
   ]
  },
  {
   "cell_type": "code",
   "execution_count": 28,
   "metadata": {},
   "outputs": [],
   "source": [
    "def get_max_score(score_dict):\n",
    "    #----var\n",
    "    max_subject = ''#最高分的科目名稱，預設值是空字串\n",
    "    max_score = 0\n",
    "    data_type = type(dict())#設定參數的型態為字典\n",
    "    \n",
    "    #----最高分計算\n",
    "    if type(score_dict) == data_type:#檢驗參數的型態是否為字典\n",
    "        for subject,score in score_dict.items():\n",
    "            if score > max_score:\n",
    "                max_score = score\n",
    "                max_subject = subject\n",
    "        print(\"最高分科目名稱:\",max_subject,',分數是',max_score)\n",
    "    else:\n",
    "        print(\"參數的型態錯誤\")\n",
    "    \n",
    "    return max_score"
   ]
  },
  {
   "cell_type": "code",
   "execution_count": 25,
   "metadata": {},
   "outputs": [
    {
     "name": "stdout",
     "output_type": "stream",
     "text": [
      "最高分科目名稱: 音樂 ,分數是 99\n"
     ]
    }
   ],
   "source": [
    "Jay_score_dict = {\"國文\":77,'音樂':99,'數學':56,'英文':33}\n",
    "max_score = get_max_score(Jay_score_dict)"
   ]
  },
  {
   "cell_type": "code",
   "execution_count": 26,
   "metadata": {},
   "outputs": [
    {
     "name": "stdout",
     "output_type": "stream",
     "text": [
      "參數的型態錯誤\n"
     ]
    }
   ],
   "source": [
    "Jay_score_dict = 77\n",
    "max_score = get_max_score(Jay_score_dict)"
   ]
  },
  {
   "cell_type": "code",
   "execution_count": 27,
   "metadata": {},
   "outputs": [
    {
     "name": "stdout",
     "output_type": "stream",
     "text": [
      "參數的型態錯誤\n"
     ]
    }
   ],
   "source": [
    "Jay_score_dict = [77,99,56,33]\n",
    "max_score = get_max_score(Jay_score_dict)"
   ]
  },
  {
   "cell_type": "code",
   "execution_count": 30,
   "metadata": {},
   "outputs": [],
   "source": [
    "def get_max_score(score_dict):\n",
    "    #----var\n",
    "    max_subject = ''#最高分的科目名稱，預設值是空字串\n",
    "    max_score = 0\n",
    "    data_type = type(dict())#設定參數的型態為字典\n",
    "    \n",
    "    #----最高分計算\n",
    "    if isinstance(score_dict,dict):\n",
    "        for subject,score in score_dict.items():\n",
    "            if score > max_score:\n",
    "                max_score = score\n",
    "                max_subject = subject\n",
    "        print(\"最高分科目名稱:\",max_subject,',分數是',max_score)\n",
    "    else:\n",
    "        print(\"參數的型態錯誤\")\n",
    "    \n",
    "    return max_score"
   ]
  },
  {
   "cell_type": "markdown",
   "metadata": {},
   "source": [
    "# 使用*args接收所有位置參數"
   ]
  },
  {
   "cell_type": "code",
   "execution_count": 16,
   "metadata": {},
   "outputs": [],
   "source": [
    "def fun(*args):\n",
    "    print(type(args))\n",
    "    print(args)"
   ]
  },
  {
   "cell_type": "code",
   "execution_count": 14,
   "metadata": {},
   "outputs": [
    {
     "name": "stdout",
     "output_type": "stream",
     "text": [
      "<class 'tuple'>\n",
      "(1, '2', [3, 3], 56, {56}, True)\n"
     ]
    }
   ],
   "source": [
    "fun(1,'2',[3,3],56,{56},True)"
   ]
  },
  {
   "cell_type": "code",
   "execution_count": 18,
   "metadata": {},
   "outputs": [],
   "source": [
    "def count_display(*args):\n",
    "    \n",
    "    print(\"學生數量:\",len(args))\n",
    "    for name in args:\n",
    "        print(\"學生名稱:\",name)\n",
    "    "
   ]
  },
  {
   "cell_type": "code",
   "execution_count": 19,
   "metadata": {},
   "outputs": [
    {
     "name": "stdout",
     "output_type": "stream",
     "text": [
      "學生數量: 3\n",
      "學生名稱: Jay\n",
      "學生名稱: Johnny\n",
      "學生名稱: Jeremy\n"
     ]
    }
   ],
   "source": [
    "count_display('Jay','Johnny','Jeremy')"
   ]
  },
  {
   "cell_type": "code",
   "execution_count": 20,
   "metadata": {},
   "outputs": [
    {
     "name": "stdout",
     "output_type": "stream",
     "text": [
      "學生數量: 0\n"
     ]
    }
   ],
   "source": [
    "count_display()"
   ]
  },
  {
   "cell_type": "code",
   "execution_count": 21,
   "metadata": {},
   "outputs": [
    {
     "name": "stdout",
     "output_type": "stream",
     "text": [
      "學生數量: 5\n",
      "學生名稱: Melody\n",
      "學生名稱: Rebecca\n",
      "學生名稱: Liu\n",
      "學生名稱: Rice\n",
      "學生名稱: Curry\n"
     ]
    }
   ],
   "source": [
    "count_display('Melody','Rebecca','Liu','Rice','Curry')"
   ]
  },
  {
   "cell_type": "markdown",
   "metadata": {},
   "source": [
    "# 使用**kwargs接收所有關鍵字參數"
   ]
  },
  {
   "cell_type": "code",
   "execution_count": 22,
   "metadata": {},
   "outputs": [],
   "source": [
    "def fun_2(**kwargs):\n",
    "    print(type(kwargs))\n",
    "    print(kwargs)"
   ]
  },
  {
   "cell_type": "code",
   "execution_count": 23,
   "metadata": {},
   "outputs": [
    {
     "name": "stdout",
     "output_type": "stream",
     "text": [
      "<class 'dict'>\n",
      "{'a': 12, 'b': 33, 'cal_type': '-'}\n"
     ]
    }
   ],
   "source": [
    "fun_2(a=12,b=33,cal_type='-')"
   ]
  },
  {
   "cell_type": "code",
   "execution_count": 24,
   "metadata": {},
   "outputs": [],
   "source": [
    "def fun_3(*args,**kwargs):\n",
    "    print(type(args))\n",
    "    print(args)\n",
    "    \n",
    "    print(type(kwargs))\n",
    "    print(kwargs)"
   ]
  },
  {
   "cell_type": "code",
   "execution_count": 27,
   "metadata": {},
   "outputs": [
    {
     "name": "stdout",
     "output_type": "stream",
     "text": [
      "<class 'tuple'>\n",
      "(1, '2', [3, 3], 56, {56}, True)\n",
      "<class 'dict'>\n",
      "{'a': 12, 'b': 33, 'cal_type': '-'}\n"
     ]
    }
   ],
   "source": [
    "fun_3(1,'2',[3,3],56,{56},True,a=12,b=33,cal_type='-')"
   ]
  },
  {
   "cell_type": "code",
   "execution_count": 57,
   "metadata": {},
   "outputs": [],
   "source": [
    "def score_display(name,**kwargs):\n",
    "    print(\"學生:\",name)\n",
    "    for key,value in kwargs.items():\n",
    "        print(\"科目 \",key,\",分數為\",value)"
   ]
  },
  {
   "cell_type": "code",
   "execution_count": 61,
   "metadata": {},
   "outputs": [
    {
     "name": "stdout",
     "output_type": "stream",
     "text": [
      "學生: Johnny\n",
      "科目  國文 ,分數為 88\n",
      "科目  英文 ,分數為 92\n",
      "科目  物理 ,分數為 28\n",
      "學生: Jeremy\n",
      "科目  chinese ,分數為 92\n",
      "科目  english ,分數為 99\n",
      "科目  physics ,分數為 77\n",
      "科目  math ,分數為 79\n",
      "科目  chemistry ,分數為 88\n"
     ]
    }
   ],
   "source": [
    "name = \"Johnny\"\n",
    "score_display(name,國文=88,英文=92,物理=28)\n",
    "\n",
    "name = \"Jeremy\"\n",
    "score_display(name,\n",
    "              chinese=92,\n",
    "              english=99,\n",
    "              physics=77,\n",
    "              math=79,\n",
    "              chemistry=88)"
   ]
  },
  {
   "cell_type": "code",
   "execution_count": 62,
   "metadata": {},
   "outputs": [],
   "source": [
    "def buy_drinks(drink_name,**kwargs):\n",
    "    print(\"你點的飲料是\",drink_name)\n",
    "    \n",
    "    for key,value in kwargs.items():\n",
    "        print(key,\" 的要求是 \",value)"
   ]
  },
  {
   "cell_type": "code",
   "execution_count": 63,
   "metadata": {},
   "outputs": [
    {
     "name": "stdout",
     "output_type": "stream",
     "text": [
      "你點的飲料是 珍珠奶茶\n",
      "size  的要求是  大杯\n",
      "ice  的要求是  少冰\n",
      "sugar  的要求是  半糖\n",
      "bubble  的要求是  大珍珠\n",
      "milk_type  的要求是  鮮奶\n",
      "add_pudding  的要求是  True\n",
      "add_QQ  的要求是  True\n"
     ]
    }
   ],
   "source": [
    "drink_name = \"珍珠奶茶\"\n",
    "buy_drinks(drink_name,\n",
    "           size='大杯',\n",
    "           ice='少冰',\n",
    "           sugar='半糖',\n",
    "           bubble='大珍珠',\n",
    "           milk_type=\"鮮奶\",\n",
    "           add_pudding=True,\n",
    "           add_QQ=True)"
   ]
  }
 ],
 "metadata": {
  "kernelspec": {
   "display_name": "Python 3",
   "language": "python",
   "name": "python3"
  },
  "language_info": {
   "codemirror_mode": {
    "name": "ipython",
    "version": 3
   },
   "file_extension": ".py",
   "mimetype": "text/x-python",
   "name": "python",
   "nbconvert_exporter": "python",
   "pygments_lexer": "ipython3",
   "version": "3.7.3"
  }
 },
 "nbformat": 4,
 "nbformat_minor": 5
}
