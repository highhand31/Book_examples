{
 "cells": [
  {
   "cell_type": "markdown",
   "metadata": {},
   "source": [
    "# 字串使用"
   ]
  },
  {
   "cell_type": "code",
   "execution_count": 1,
   "metadata": {},
   "outputs": [
    {
     "name": "stdout",
     "output_type": "stream",
     "text": [
      "字串a的內容: The score is 87, can not be higher anymore! ，型態屬性 =  <class 'str'>\n",
      "字串b的內容: 87分，不能再高了 ，型態屬性 =  <class 'str'>\n"
     ]
    }
   ],
   "source": [
    "#使用單引號放置在文字內容的前後，形成字串\n",
    "a = 'The score is 87, can not be higher anymore!'\n",
    "\n",
    "#使用雙引號放置在文字內容的前後，形成字串\n",
    "b = \"87分，不能再高了\"\n",
    "\n",
    "print(\"字串a的內容:\",a,'，型態屬性 = ',type(a))\n",
    "print(\"字串b的內容:\",b,'，型態屬性 = ',type(b))"
   ]
  },
  {
   "cell_type": "markdown",
   "metadata": {},
   "source": [
    "# 遇到英文縮寫使用單引號時"
   ]
  },
  {
   "cell_type": "code",
   "execution_count": 13,
   "metadata": {},
   "outputs": [
    {
     "name": "stdout",
     "output_type": "stream",
     "text": [
      "She doesn't like you\n",
      "'''''''''\n",
      "\"\n"
     ]
    }
   ],
   "source": [
    "a = \"She doesn't like you\"#英文縮寫時的'，要改用雙引號框住字串內容\n",
    "b = \" ''''''''' \"#使用雙引號來顯示單引號\n",
    "c = ' \" '#使用單引號來顯示雙引號\n",
    "\n",
    "print(a)\n",
    "print(b)\n",
    "print(c)"
   ]
  },
  {
   "cell_type": "markdown",
   "metadata": {},
   "source": [
    "# 字串的連接"
   ]
  },
  {
   "cell_type": "code",
   "execution_count": 16,
   "metadata": {},
   "outputs": [
    {
     "name": "stdout",
     "output_type": "stream",
     "text": [
      "She doesn't like you.She's my girl now! hahaha\n"
     ]
    }
   ],
   "source": [
    "a = \"She doesn't like you.\"\n",
    "b = \"She's my girl now! hahaha\"\n",
    "c = a + b\n",
    "print(c)"
   ]
  },
  {
   "cell_type": "markdown",
   "metadata": {},
   "source": [
    "# 字串的重複顯示"
   ]
  },
  {
   "cell_type": "code",
   "execution_count": 23,
   "metadata": {},
   "outputs": [
    {
     "name": "stdout",
     "output_type": "stream",
     "text": [
      "範例都要看!範例都要看!範例都要看!，很重要所以要說3次\n"
     ]
    }
   ],
   "source": [
    "a = \"範例都要看!\"\n",
    "b = \"，很重要所以要說3次\"\n",
    "\n",
    "print(a * 3 + b)"
   ]
  },
  {
   "cell_type": "markdown",
   "metadata": {},
   "source": [
    "# 字串的轉換"
   ]
  },
  {
   "cell_type": "code",
   "execution_count": 32,
   "metadata": {},
   "outputs": [
    {
     "name": "stdout",
     "output_type": "stream",
     "text": [
      "a的內容 =  36.00001 ，型態 =  <class 'float'>\n",
      "b的內容 =  36.00001 ，型態 =  <class 'str'>\n"
     ]
    }
   ],
   "source": [
    "a = 36.00001\n",
    "b = str(a)\n",
    "\n",
    "print(\"a的內容 = \",a,\"，型態 = \",type(a))\n",
    "print(\"b的內容 = \",b,\"，型態 = \",type(b))"
   ]
  },
  {
   "cell_type": "code",
   "execution_count": 33,
   "metadata": {},
   "outputs": [
    {
     "name": "stdout",
     "output_type": "stream",
     "text": [
      "a的內容 =  True ，型態 =  <class 'bool'>\n",
      "b的內容 =  True ，型態 =  <class 'str'>\n"
     ]
    }
   ],
   "source": [
    "a = True\n",
    "b = str(a)\n",
    "print(\"a的內容 = \",a,\"，型態 = \",type(a))\n",
    "print(\"b的內容 = \",b,\"，型態 = \",type(b))"
   ]
  },
  {
   "cell_type": "code",
   "execution_count": 34,
   "metadata": {},
   "outputs": [
    {
     "name": "stdout",
     "output_type": "stream",
     "text": [
      "a的內容 =  None ，型態 =  <class 'NoneType'>\n",
      "b的內容 =  None ，型態 =  <class 'str'>\n"
     ]
    }
   ],
   "source": [
    "a = None\n",
    "b = str(a)\n",
    "print(\"a的內容 = \",a,\"，型態 = \",type(a))\n",
    "print(\"b的內容 = \",b,\"，型態 = \",type(b))"
   ]
  },
  {
   "cell_type": "code",
   "execution_count": 46,
   "metadata": {},
   "outputs": [
    {
     "name": "stdout",
     "output_type": "stream",
     "text": [
      "a的內容 =  36 ，型態 =  <class 'str'>\n",
      "b的內容 =  36 ，型態 =  <class 'int'>\n",
      "b的內容 =  36.0 ，型態 =  <class 'float'>\n",
      "b的內容 =  True ，型態 =  <class 'bool'>\n"
     ]
    }
   ],
   "source": [
    "a = \"36\"\n",
    "b = int(a)\n",
    "c = float(a)\n",
    "d = bool(a)\n",
    "\n",
    "print(\"a的內容 = \",a,\"，型態 = \",type(a))\n",
    "print(\"b的內容 = \",b,\"，型態 = \",type(b))\n",
    "print(\"b的內容 = \",c,\"，型態 = \",type(c))\n",
    "print(\"b的內容 = \",d,\"，型態 = \",type(d))"
   ]
  },
  {
   "cell_type": "code",
   "execution_count": 53,
   "metadata": {},
   "outputs": [
    {
     "name": "stdout",
     "output_type": "stream",
     "text": [
      "36.0\n",
      "True\n"
     ]
    },
    {
     "ename": "ValueError",
     "evalue": "invalid literal for int() with base 10: '36.0'",
     "output_type": "error",
     "traceback": [
      "\u001b[1;31m---------------------------------------------------------------------------\u001b[0m",
      "\u001b[1;31mValueError\u001b[0m                                Traceback (most recent call last)",
      "\u001b[1;32m<ipython-input-53-7fe0f9685fac>\u001b[0m in \u001b[0;36m<module>\u001b[1;34m\u001b[0m\n\u001b[0;32m      3\u001b[0m \u001b[0mprint\u001b[0m\u001b[1;33m(\u001b[0m\u001b[0mfloat\u001b[0m\u001b[1;33m(\u001b[0m\u001b[0ma\u001b[0m\u001b[1;33m)\u001b[0m\u001b[1;33m)\u001b[0m\u001b[1;31m#轉換成功\u001b[0m\u001b[1;33m\u001b[0m\u001b[1;33m\u001b[0m\u001b[0m\n\u001b[0;32m      4\u001b[0m \u001b[0mprint\u001b[0m\u001b[1;33m(\u001b[0m\u001b[0mbool\u001b[0m\u001b[1;33m(\u001b[0m\u001b[0ma\u001b[0m\u001b[1;33m)\u001b[0m\u001b[1;33m)\u001b[0m\u001b[1;31m#轉換成功\u001b[0m\u001b[1;33m\u001b[0m\u001b[1;33m\u001b[0m\u001b[0m\n\u001b[1;32m----> 5\u001b[1;33m \u001b[0mprint\u001b[0m\u001b[1;33m(\u001b[0m\u001b[0mint\u001b[0m\u001b[1;33m(\u001b[0m\u001b[0ma\u001b[0m\u001b[1;33m)\u001b[0m\u001b[1;33m)\u001b[0m\u001b[1;31m#轉換失敗!!!\u001b[0m\u001b[1;33m\u001b[0m\u001b[1;33m\u001b[0m\u001b[0m\n\u001b[0m",
      "\u001b[1;31mValueError\u001b[0m: invalid literal for int() with base 10: '36.0'"
     ]
    }
   ],
   "source": [
    "a = \"36.0\"\n",
    "\n",
    "print(float(a))#轉換成功\n",
    "print(bool(a))#轉換成功\n",
    "print(int(a))#轉換失敗!!!"
   ]
  },
  {
   "cell_type": "markdown",
   "metadata": {},
   "source": [
    "# 字串裡顯示引號"
   ]
  },
  {
   "cell_type": "code",
   "execution_count": 18,
   "metadata": {},
   "outputs": [
    {
     "name": "stdout",
     "output_type": "stream",
     "text": [
      "那就是最重要的'證據'\n",
      "那就是最重要的\"證據\"\n",
      "那就是最重要的\\證據'\n",
      "那就是最重要的\"證據\"\n"
     ]
    }
   ],
   "source": [
    "print(\"那就是最重要的'證據'\")#要顯示單引號時，使用雙引號框住字串內容\n",
    "print('那就是最重要的\"證據\"')#要顯示雙引號時，使用單引號框住字串內容\n",
    "\n",
    "print('那就是最重要的\\證據\\'')#要顯示單引號時，使用\\'，一樣可以使用單引號框住字串內容\n",
    "print(\"那就是最重要的\\\"證據\\\"\")#要顯示雙引號時，使用\\\"，一樣可以使用雙引號框住字串內容"
   ]
  },
  {
   "cell_type": "markdown",
   "metadata": {},
   "source": [
    "# 字串裡顯示反斜線"
   ]
  },
  {
   "cell_type": "code",
   "execution_count": 28,
   "metadata": {},
   "outputs": [
    {
     "name": "stdout",
     "output_type": "stream",
     "text": [
      "顯示1個反斜線:\\\n",
      "顯示2個反斜線:\\\\\n",
      "顯示3個反斜線:\\\\\\\n",
      "顯示n個反斜線:=_=|||  自己try\n"
     ]
    }
   ],
   "source": [
    "print(\"顯示1個反斜線:\\\\\")\n",
    "print(\"顯示2個反斜線:\\\\\\\\\")\n",
    "print(\"顯示3個反斜線:\\\\\\\\\\\\\")\n",
    "print(\"顯示n個反斜線:=_=|||  自己try\")"
   ]
  },
  {
   "cell_type": "markdown",
   "metadata": {},
   "source": [
    "# 字串裡顯示斜線"
   ]
  },
  {
   "cell_type": "code",
   "execution_count": 3,
   "metadata": {},
   "outputs": [
    {
     "name": "stdout",
     "output_type": "stream",
     "text": [
      "顯示1個斜線:/\n",
      "顯示2個斜線://\n"
     ]
    }
   ],
   "source": [
    "print(\"顯示1個斜線:/\")\n",
    "print(\"顯示2個斜線://\")"
   ]
  },
  {
   "cell_type": "code",
   "execution_count": 30,
   "metadata": {},
   "outputs": [
    {
     "name": "stdout",
     "output_type": "stream",
     "text": [
      "敘述第一行...\n",
      "敘述第二行...\n",
      "敘述第三行...\n",
      "\n",
      "我想跟上面保持點距離...\n"
     ]
    }
   ],
   "source": [
    "print(\"敘述第一行...\")\n",
    "print(\"敘述第二行...\")\n",
    "print(\"敘述第三行...\")\n",
    "print(\"\\n我想跟上面保持點距離...\")"
   ]
  },
  {
   "cell_type": "code",
   "execution_count": 41,
   "metadata": {},
   "outputs": [
    {
     "name": "stdout",
     "output_type": "stream",
     "text": [
      "敘述第一行...\n",
      "敘述第二行...\n",
      "下面的臭美，我也離你遠一點\n",
      "\n",
      "\n",
      "\n",
      "\n",
      "我想跟上面保持點距離...\n"
     ]
    }
   ],
   "source": [
    "print(\"敘述第一行...\")\n",
    "print(\"敘述第二行...\")\n",
    "print(\"下面的臭美，我也離你遠一點\\n\\n\\n\")\n",
    "print(\"\\n我想跟上面保持點距離...\")"
   ]
  },
  {
   "cell_type": "markdown",
   "metadata": {},
   "source": [
    "# 路徑與跳脫字元的相遇"
   ]
  },
  {
   "cell_type": "code",
   "execution_count": 2,
   "metadata": {},
   "outputs": [
    {
     "name": "stdout",
     "output_type": "stream",
     "text": [
      "E:\\dataset\n",
      "ew_images\n"
     ]
    }
   ],
   "source": [
    "image_path = \"E:\\dataset\\new_images\"\n",
    "\n",
    "print(image_path)"
   ]
  },
  {
   "cell_type": "code",
   "execution_count": 3,
   "metadata": {},
   "outputs": [
    {
     "name": "stdout",
     "output_type": "stream",
     "text": [
      "E:\\dataset\\new_images\n"
     ]
    }
   ],
   "source": [
    "image_path = \"E:\\\\dataset\\\\new_images\"\n",
    "\n",
    "print(image_path)"
   ]
  },
  {
   "cell_type": "code",
   "execution_count": 3,
   "metadata": {},
   "outputs": [
    {
     "name": "stdout",
     "output_type": "stream",
     "text": [
      "E:\\dataset\\customer\\day_1\\new_images\\original\\processed\n"
     ]
    }
   ],
   "source": [
    "image_path = r\"E:\\dataset\\customer\\day_1\\new_images\\original\\processed\"\n",
    "\n",
    "print(image_path)"
   ]
  },
  {
   "cell_type": "code",
   "execution_count": 21,
   "metadata": {},
   "outputs": [
    {
     "name": "stdout",
     "output_type": "stream",
     "text": [
      "當字串內容相當多的時候，需要寫到第二行的時候，就加上反斜線吧~\n"
     ]
    }
   ],
   "source": [
    "a = \"當字串內容相當多的時候，需要寫到第二行的時候，\\\n",
    "就加上反斜線吧~\"\n",
    "\n",
    "print(a)"
   ]
  },
  {
   "cell_type": "markdown",
   "metadata": {},
   "source": [
    "# 顯示變數的id"
   ]
  },
  {
   "cell_type": "code",
   "execution_count": 8,
   "metadata": {},
   "outputs": [
    {
     "name": "stdout",
     "output_type": "stream",
     "text": [
      "140709016971520\n"
     ]
    }
   ],
   "source": [
    "num = 16\n",
    "print(id(num))"
   ]
  },
  {
   "cell_type": "markdown",
   "metadata": {},
   "source": [
    "# 不同變數名稱，但數值相同，且若在-5~256間，id會相同"
   ]
  },
  {
   "cell_type": "code",
   "execution_count": 18,
   "metadata": {},
   "outputs": [
    {
     "name": "stdout",
     "output_type": "stream",
     "text": [
      "140709016979168\n",
      "140709016979168\n"
     ]
    }
   ],
   "source": [
    "a = 255\n",
    "b = 255\n",
    "print(id(a))\n",
    "print(id(b))"
   ]
  },
  {
   "cell_type": "markdown",
   "metadata": {},
   "source": [
    "# 多重給值的id差異¶"
   ]
  },
  {
   "cell_type": "code",
   "execution_count": 1,
   "metadata": {},
   "outputs": [
    {
     "name": "stdout",
     "output_type": "stream",
     "text": [
      "----一般宣告變數的id顯示\n",
      "1988944429872\n",
      "1988944430224\n",
      "1988944429968\n"
     ]
    }
   ],
   "source": [
    "#一般宣告變數的id顯示\n",
    "salary_1 = 36000\n",
    "salary_2 = 36000\n",
    "salary_3 = 36000\n",
    "print('----一般宣告變數的id顯示')\n",
    "print(id(salary_1))\n",
    "print(id(salary_2))\n",
    "print(id(salary_3))"
   ]
  },
  {
   "cell_type": "code",
   "execution_count": 2,
   "metadata": {},
   "outputs": [
    {
     "name": "stdout",
     "output_type": "stream",
     "text": [
      "----多重給值的id顯示\n",
      "1988944429744\n",
      "1988944429744\n",
      "1988944429744\n"
     ]
    }
   ],
   "source": [
    "#多重給值的id顯示\n",
    "salary_1 = salary_2 = salary_3 = 36000\n",
    "print('----多重給值的id顯示')\n",
    "print(id(salary_1))\n",
    "print(id(salary_2))\n",
    "print(id(salary_3))"
   ]
  },
  {
   "cell_type": "code",
   "execution_count": 3,
   "metadata": {},
   "outputs": [
    {
     "name": "stdout",
     "output_type": "stream",
     "text": [
      "----一般宣告變數的id顯示\n",
      "1988944305376\n",
      "1988944305488\n"
     ]
    }
   ],
   "source": [
    "a = \"敘述第一行...\"\n",
    "b = \"敘述第一行...\"\n",
    "print('----一般宣告變數的id顯示')\n",
    "print(id(a))\n",
    "print(id(b))"
   ]
  },
  {
   "cell_type": "code",
   "execution_count": 4,
   "metadata": {},
   "outputs": [
    {
     "name": "stdout",
     "output_type": "stream",
     "text": [
      "----多重給值的id顯示\n",
      "1988944305824\n",
      "1988944305824\n"
     ]
    }
   ],
   "source": [
    "a = b = \"敘述第一行...\"\n",
    "print('----多重給值的id顯示')\n",
    "print(id(a))\n",
    "print(id(b))"
   ]
  },
  {
   "cell_type": "markdown",
   "metadata": {},
   "source": [
    "# 伊隆馬斯克的別名範例"
   ]
  },
  {
   "cell_type": "code",
   "execution_count": 2,
   "metadata": {},
   "outputs": [
    {
     "name": "stdout",
     "output_type": "stream",
     "text": [
      "伊隆馬斯克\n",
      "2358137515248\n",
      "伊隆馬斯克\n",
      "2358137515248\n"
     ]
    }
   ],
   "source": [
    "Tesla_CEO = SpaceX_CEO = Neuralink_CEO = SolarCity_founder = OpenAI_founder = '伊隆馬斯克' \n",
    "print(Tesla_CEO)\n",
    "print(id(Tesla_CEO))\n",
    "\n",
    "print(Neuralink_CEO)\n",
    "print(id(Neuralink_CEO))"
   ]
  },
  {
   "cell_type": "markdown",
   "metadata": {},
   "source": [
    "# 擁有相同身分識別碼時的變數更動數值情況"
   ]
  },
  {
   "cell_type": "code",
   "execution_count": 2,
   "metadata": {},
   "outputs": [
    {
     "name": "stdout",
     "output_type": "stream",
     "text": [
      "140704199558880\n",
      "140704199558880\n",
      "----更動a數值\n",
      "265\n",
      "255\n",
      "255\n",
      "1994729228784\n",
      "140704199558880\n"
     ]
    }
   ],
   "source": [
    "a = b = c = 255\n",
    "print(id(a))\n",
    "print(id(b))\n",
    "\n",
    "a += 10\n",
    "print(\"----更動a數值\")\n",
    "print(a)\n",
    "print(b)\n",
    "print(c)\n",
    "print(id(a))\n",
    "print(id(b))"
   ]
  },
  {
   "cell_type": "markdown",
   "metadata": {},
   "source": [
    "# True,False,None的身分識別碼"
   ]
  },
  {
   "cell_type": "code",
   "execution_count": 6,
   "metadata": {},
   "outputs": [
    {
     "name": "stdout",
     "output_type": "stream",
     "text": [
      "----一般宣告變數的id顯示\n",
      "140729475832144\n",
      "140729475832144\n",
      "140729475832144\n"
     ]
    }
   ],
   "source": [
    "#一般宣告變數的id顯示\n",
    "a = True\n",
    "b = True\n",
    "c = True\n",
    "print('----一般宣告變數的id顯示')\n",
    "print(id(a))\n",
    "print(id(b))\n",
    "print(id(c))"
   ]
  },
  {
   "cell_type": "code",
   "execution_count": 7,
   "metadata": {},
   "outputs": [
    {
     "name": "stdout",
     "output_type": "stream",
     "text": [
      "----多重給值的id顯示\n",
      "140729475832144\n",
      "140729475832144\n",
      "140729475832144\n"
     ]
    }
   ],
   "source": [
    "#多重給值的id顯示\n",
    "a = b = c = True\n",
    "print('----多重給值的id顯示')\n",
    "print(id(a))\n",
    "print(id(b))\n",
    "print(id(c))"
   ]
  },
  {
   "cell_type": "code",
   "execution_count": 8,
   "metadata": {},
   "outputs": [
    {
     "name": "stdout",
     "output_type": "stream",
     "text": [
      "----一般宣告變數的id顯示\n",
      "140729475878112\n",
      "140729475878112\n",
      "140729475878112\n"
     ]
    }
   ],
   "source": [
    "#一般宣告變數的id顯示\n",
    "a = None\n",
    "b = None\n",
    "c = None\n",
    "print('----一般宣告變數的id顯示')\n",
    "print(id(a))\n",
    "print(id(b))\n",
    "print(id(c))"
   ]
  },
  {
   "cell_type": "code",
   "execution_count": 9,
   "metadata": {},
   "outputs": [
    {
     "name": "stdout",
     "output_type": "stream",
     "text": [
      "----多重給值的id顯示\n",
      "140729475878112\n",
      "140729475878112\n",
      "140729475878112\n"
     ]
    }
   ],
   "source": [
    "#多重給值的id顯示\n",
    "a = b = c = None\n",
    "print('----多重給值的id顯示')\n",
    "print(id(a))\n",
    "print(id(b))\n",
    "print(id(c))"
   ]
  }
 ],
 "metadata": {
  "kernelspec": {
   "display_name": "Python 3",
   "language": "python",
   "name": "python3"
  },
  "language_info": {
   "codemirror_mode": {
    "name": "ipython",
    "version": 3
   },
   "file_extension": ".py",
   "mimetype": "text/x-python",
   "name": "python",
   "nbconvert_exporter": "python",
   "pygments_lexer": "ipython3",
   "version": "3.7.3"
  }
 },
 "nbformat": 4,
 "nbformat_minor": 5
}
