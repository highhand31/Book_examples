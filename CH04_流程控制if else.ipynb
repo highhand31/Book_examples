{
 "cells": [
  {
   "cell_type": "markdown",
   "metadata": {},
   "source": [
    "# 關係運算"
   ]
  },
  {
   "cell_type": "code",
   "execution_count": 9,
   "metadata": {},
   "outputs": [
    {
     "name": "stdout",
     "output_type": "stream",
     "text": [
      "a 大於 b?  False\n",
      "a 大於等於 b?  True\n",
      "a 不等於 b?  False\n",
      "a 小於 b?  False\n",
      "a 小於等於 b?  True\n",
      "a 等於 b?  True\n"
     ]
    }
   ],
   "source": [
    "a = 32\n",
    "b = 32\n",
    "\n",
    "print(\"a 大於 b? \",a > b)\n",
    "print(\"a 大於等於 b? \",a >= b)\n",
    "print(\"a 不等於 b? \",a != b)\n",
    "print(\"a 小於 b? \",a < b)\n",
    "print(\"a 小於等於 b? \",a <= b)\n",
    "print(\"a 等於 b? \",a == b)"
   ]
  },
  {
   "cell_type": "code",
   "execution_count": 10,
   "metadata": {},
   "outputs": [
    {
     "ename": "SyntaxError",
     "evalue": "invalid syntax (<ipython-input-10-c453a1c72274>, line 4)",
     "output_type": "error",
     "traceback": [
      "\u001b[1;36m  File \u001b[1;32m\"<ipython-input-10-c453a1c72274>\"\u001b[1;36m, line \u001b[1;32m4\u001b[0m\n\u001b[1;33m    print(a !> b)\u001b[0m\n\u001b[1;37m            ^\u001b[0m\n\u001b[1;31mSyntaxError\u001b[0m\u001b[1;31m:\u001b[0m invalid syntax\n"
     ]
    }
   ],
   "source": [
    "a = 32\n",
    "b = 32\n",
    "\n",
    "print(a !> b)"
   ]
  },
  {
   "cell_type": "markdown",
   "metadata": {},
   "source": [
    "# 變數給值=，與關係運算==的差異"
   ]
  },
  {
   "cell_type": "code",
   "execution_count": 17,
   "metadata": {},
   "outputs": [
    {
     "name": "stdout",
     "output_type": "stream",
     "text": [
      "True\n"
     ]
    }
   ],
   "source": [
    "#宣告變數a，將32的數值給變數a\n",
    "a = 32 \n",
    "\n",
    "#關係運算，檢驗變數a的數值是否等於數值32，並回傳布林值\n",
    "print(a == 32) "
   ]
  },
  {
   "cell_type": "code",
   "execution_count": 18,
   "metadata": {},
   "outputs": [
    {
     "name": "stdout",
     "output_type": "stream",
     "text": [
      "True\n"
     ]
    }
   ],
   "source": [
    "#宣告變數a，將32的數值給變數a\n",
    "a = 32\n",
    "#宣告變數b，將32的數值給變數b\n",
    "b = 32\n",
    "#宣告變數c，將關係運算的結果給變數c\n",
    "#關係運算(==)是檢驗a的數值是否等於b的數值，並回傳布林值\n",
    "#若不太懂，可以看成 c = (a == b)\n",
    "c = a == b\n",
    "\n",
    "print(c)"
   ]
  },
  {
   "cell_type": "markdown",
   "metadata": {},
   "source": [
    "# 多重給值"
   ]
  },
  {
   "cell_type": "code",
   "execution_count": 8,
   "metadata": {},
   "outputs": [
    {
     "name": "stdout",
     "output_type": "stream",
     "text": [
      "36000 36000 36000\n",
      "36000 36000 36000\n"
     ]
    }
   ],
   "source": [
    "#使用一般變數設定\n",
    "salary_1 = 36000\n",
    "salary_2 = 36000\n",
    "salary_3 = 36000\n",
    "\n",
    "print(salary_1,salary_2,salary_3)\n",
    "\n",
    "salary_1 = salary_2 = salary_3 = 36000 #相同數值給值至多個不同的變數\n",
    "print(salary_1,salary_2,salary_3)"
   ]
  },
  {
   "cell_type": "code",
   "execution_count": 10,
   "metadata": {},
   "outputs": [
    {
     "name": "stdout",
     "output_type": "stream",
     "text": [
      "36000 35000 34000\n"
     ]
    }
   ],
   "source": [
    "#不同數值給值至多個不同的變數\n",
    "salary_1, salary_2, salary_3 = 36000, 35000, 34000 \n",
    "print(salary_1,salary_2,salary_3)"
   ]
  },
  {
   "cell_type": "markdown",
   "metadata": {},
   "source": [
    "# 邏輯運算"
   ]
  },
  {
   "cell_type": "code",
   "execution_count": 22,
   "metadata": {},
   "outputs": [
    {
     "name": "stdout",
     "output_type": "stream",
     "text": [
      "False\n"
     ]
    }
   ],
   "source": [
    "math = 32\n",
    "history = 82\n",
    "standard = 60\n",
    "\n",
    "c = (math >= standard) and (history >= standard)\n",
    "print(c)"
   ]
  },
  {
   "cell_type": "code",
   "execution_count": 23,
   "metadata": {},
   "outputs": [
    {
     "name": "stdout",
     "output_type": "stream",
     "text": [
      "True\n"
     ]
    }
   ],
   "source": [
    "math = 32\n",
    "history = 82\n",
    "standard = 60\n",
    "\n",
    "c = (math >= standard) or (history >= standard)\n",
    "print(c)"
   ]
  },
  {
   "cell_type": "code",
   "execution_count": 24,
   "metadata": {},
   "outputs": [
    {
     "name": "stdout",
     "output_type": "stream",
     "text": [
      "True\n"
     ]
    }
   ],
   "source": [
    "math = 32\n",
    "history = 82\n",
    "standard = 60\n",
    "\n",
    "c = not(math >= standard)\n",
    "print(c)\n"
   ]
  },
  {
   "cell_type": "code",
   "execution_count": 26,
   "metadata": {},
   "outputs": [
    {
     "name": "stdout",
     "output_type": "stream",
     "text": [
      "False\n",
      "True\n"
     ]
    }
   ],
   "source": [
    "math = 32\n",
    "history = 82\n",
    "standard = 60\n",
    "#數學成績是否\"及格\"?\n",
    "math_is_greater_than_60 = (math >= standard)\n",
    "print(math_is_greater_than_60)\n",
    "\n",
    "#數學成績是否\"不及格\"?\n",
    "math_is_NOT_greater_than_60 = not(math >= standard)\n",
    "print(math_is_NOT_greater_than_60)"
   ]
  },
  {
   "cell_type": "code",
   "execution_count": 27,
   "metadata": {},
   "outputs": [
    {
     "name": "stdout",
     "output_type": "stream",
     "text": [
      "False\n",
      "True\n"
     ]
    }
   ],
   "source": [
    "math = 32\n",
    "history = 82\n",
    "standard = 60\n",
    "#數學成績是否\"及格\"?\n",
    "math_is_greater_than_60 = (math >= standard)\n",
    "print(math_is_greater_than_60)\n",
    "\n",
    "#數學成績是否\"不及格\"?\n",
    "math_is_NOT_greater_than_60 = (math < standard)\n",
    "print(math_is_NOT_greater_than_60)"
   ]
  },
  {
   "cell_type": "markdown",
   "metadata": {},
   "source": [
    "# 流程控制if else"
   ]
  },
  {
   "cell_type": "markdown",
   "metadata": {},
   "source": [
    "# 縮排"
   ]
  },
  {
   "cell_type": "code",
   "execution_count": 22,
   "metadata": {},
   "outputs": [
    {
     "name": "stdout",
     "output_type": "stream",
     "text": [
      "數學成績沒有及格\n"
     ]
    }
   ],
   "source": [
    "math = 32\n",
    "standard = 60\n",
    "\n",
    "if math >= standard:\n",
    " print(\"數學成績有及格\")#紅色字體表示縮排出了問題\n",
    "else:\n",
    "    print(\"數學成績沒有及格\")"
   ]
  },
  {
   "cell_type": "code",
   "execution_count": 1,
   "metadata": {},
   "outputs": [
    {
     "ename": "SyntaxError",
     "evalue": "invalid syntax (<ipython-input-1-e091572c4432>, line 6)",
     "output_type": "error",
     "traceback": [
      "\u001b[1;36m  File \u001b[1;32m\"<ipython-input-1-e091572c4432>\"\u001b[1;36m, line \u001b[1;32m6\u001b[0m\n\u001b[1;33m    else:\u001b[0m\n\u001b[1;37m    ^\u001b[0m\n\u001b[1;31mSyntaxError\u001b[0m\u001b[1;31m:\u001b[0m invalid syntax\n"
     ]
    }
   ],
   "source": [
    "math = 32\n",
    "standard = 60\n",
    "\n",
    "if math >= standard:\n",
    "    print(\"數學成績有及格\")\n",
    "    else:\n",
    "        print(\"數學成績沒有及格\")"
   ]
  },
  {
   "cell_type": "code",
   "execution_count": 3,
   "metadata": {},
   "outputs": [
    {
     "ename": "SyntaxError",
     "evalue": "invalid syntax (<ipython-input-3-b9413c56f072>, line 7)",
     "output_type": "error",
     "traceback": [
      "\u001b[1;36m  File \u001b[1;32m\"<ipython-input-3-b9413c56f072>\"\u001b[1;36m, line \u001b[1;32m7\u001b[0m\n\u001b[1;33m    else:\u001b[0m\n\u001b[1;37m    ^\u001b[0m\n\u001b[1;31mSyntaxError\u001b[0m\u001b[1;31m:\u001b[0m invalid syntax\n"
     ]
    }
   ],
   "source": [
    "math = 32\n",
    "standard = 60\n",
    "\n",
    "if math >= standard:\n",
    "    print(\"數學成績有及格\")\n",
    "print(\"多插一行沒有縮排的程式碼\")    \n",
    "else:\n",
    "    print(\"數學成績沒有及格\")"
   ]
  },
  {
   "cell_type": "code",
   "execution_count": 5,
   "metadata": {},
   "outputs": [
    {
     "name": "stdout",
     "output_type": "stream",
     "text": [
      "及格測試結束\n"
     ]
    }
   ],
   "source": [
    "math = 32\n",
    "standard = 60\n",
    "\n",
    "if math >= standard:\n",
    "    print(\"數學成績有及格\")\n",
    "print(\"及格測試結束\")    "
   ]
  },
  {
   "cell_type": "markdown",
   "metadata": {},
   "source": [
    "# 巢狀"
   ]
  },
  {
   "cell_type": "markdown",
   "metadata": {},
   "source": [
    "# 加入True, False的判斷"
   ]
  },
  {
   "cell_type": "code",
   "execution_count": 4,
   "metadata": {},
   "outputs": [
    {
     "name": "stdout",
     "output_type": "stream",
     "text": [
      "數學成績沒有及格\n"
     ]
    }
   ],
   "source": [
    "math = 32\n",
    "standard = 60\n",
    "\n",
    "if (math >= standard) is False:\n",
    "    print(\"數學成績沒有及格\")\n",
    "else:\n",
    "    print(\"數學成績有及格\")"
   ]
  },
  {
   "cell_type": "markdown",
   "metadata": {},
   "source": [
    "# 加入None的判斷"
   ]
  },
  {
   "cell_type": "code",
   "execution_count": 9,
   "metadata": {},
   "outputs": [
    {
     "name": "stdout",
     "output_type": "stream",
     "text": [
      "數學缺考\n"
     ]
    }
   ],
   "source": [
    "math = None\n",
    "standard = 60\n",
    "\n",
    "if math is None:\n",
    "    print(\"數學缺考\")\n",
    "elif (math >= standard) is False:\n",
    "    print(\"數學成績沒有及格\")\n",
    "else:\n",
    "    print(\"數學成績有及格\")"
   ]
  },
  {
   "cell_type": "markdown",
   "metadata": {},
   "source": [
    "# 邏輯的否定，使用not"
   ]
  },
  {
   "cell_type": "code",
   "execution_count": 7,
   "metadata": {},
   "outputs": [
    {
     "name": "stdout",
     "output_type": "stream",
     "text": [
      "數學成績沒有及格\n"
     ]
    }
   ],
   "source": [
    "math = 32\n",
    "standard = 60\n",
    "\n",
    "if math is None:\n",
    "    print(\"數學缺考\")\n",
    "elif (math >= standard) is not True:\n",
    "    print(\"數學成績沒有及格\")\n",
    "else:\n",
    "    print(\"數學成績有及格\")"
   ]
  },
  {
   "cell_type": "markdown",
   "metadata": {},
   "source": [
    "# GPA分級表"
   ]
  },
  {
   "cell_type": "code",
   "execution_count": 3,
   "metadata": {},
   "outputs": [
    {
     "name": "stdout",
     "output_type": "stream",
     "text": [
      "你的分數換算GPA等級為 分數有問題，請確認分數是0~100之間的數值\n"
     ]
    }
   ],
   "source": [
    "score = -32\n",
    "if score == 0:\n",
    "    gpa = 'X'\n",
    "elif score >= 1 and score <= 59:\n",
    "    gpa = 'F'\n",
    "elif score >= 60 and score <= 62:\n",
    "    gpa = 'C-'\n",
    "elif score >= 63 and score <= 66:\n",
    "    gpa = 'C'\n",
    "elif score >= 67 and score <= 69:\n",
    "    gpa = 'C+'\n",
    "elif score >= 70 and score <= 72:\n",
    "    gpa = 'B-'\n",
    "elif score >= 73 and score <= 76:\n",
    "    gpa = 'B'\n",
    "elif score >= 77 and score <= 79:\n",
    "    gpa = 'B+'\n",
    "elif score >= 80 and score <= 84:\n",
    "    gpa = 'A-'\n",
    "elif score >= 85 and score <= 89:\n",
    "    gpa = 'A'\n",
    "elif score >= 90 and score <= 100:\n",
    "    gpa = 'A+'\n",
    "else:\n",
    "    gpa = \"分數有問題，請確認分數是0~100之間的數值\"\n",
    "\n",
    "print(\"你的分數換算GPA等級為\",gpa)"
   ]
  },
  {
   "cell_type": "code",
   "execution_count": 14,
   "metadata": {},
   "outputs": [
    {
     "name": "stdout",
     "output_type": "stream",
     "text": [
      "你的分數換算GPA等級為 C-\n"
     ]
    }
   ],
   "source": [
    "score = 61\n",
    "if score == 0:\n",
    "    gpa = 'X'\n",
    "elif score <= 59:\n",
    "    gpa = 'F'\n",
    "elif score <= 62:\n",
    "    gpa = 'C-'\n",
    "elif score <= 66:\n",
    "    gpa = 'C'\n",
    "elif score <= 69:\n",
    "    gpa = 'C+'\n",
    "elif score <= 72:\n",
    "    gpa = 'B-'\n",
    "elif score <= 76:\n",
    "    gpa = 'B'\n",
    "elif score <= 79:\n",
    "    gpa = 'B+'\n",
    "elif score <= 84:\n",
    "    gpa = 'A-'\n",
    "elif score <= 89:\n",
    "    gpa = 'A'\n",
    "elif score <= 100:\n",
    "    gpa = 'A+'\n",
    "else:\n",
    "    gpa = \"分數有問題，請確認分數是0~100之間的數值\"\n",
    "\n",
    "print(\"你的分數換算GPA等級為\",gpa)"
   ]
  },
  {
   "cell_type": "markdown",
   "metadata": {},
   "source": [
    "# 輸入函數input()的使用"
   ]
  },
  {
   "cell_type": "code",
   "execution_count": 8,
   "metadata": {},
   "outputs": [
    {
     "name": "stdout",
     "output_type": "stream",
     "text": [
      "輸入科目名稱數學\n",
      "<class 'str'>\n",
      "輸入分數32\n",
      "<class 'str'>\n"
     ]
    }
   ],
   "source": [
    "subject = input(\"輸入科目名稱\")\n",
    "print(type(subject))\n",
    "\n",
    "score = input(\"輸入分數\")\n",
    "print(type(score))\n"
   ]
  },
  {
   "cell_type": "code",
   "execution_count": 12,
   "metadata": {},
   "outputs": [
    {
     "name": "stdout",
     "output_type": "stream",
     "text": [
      "輸入科目名稱數學\n",
      "輸入分數32\n",
      "你的分數換算GPA等級為 F\n"
     ]
    }
   ],
   "source": [
    "subject = input(\"輸入科目名稱\")\n",
    "score = input(\"輸入分數\")\n",
    "\n",
    "score = int(score)#數值轉換:字串str轉換成整數int\n",
    "\n",
    "if score == 0:\n",
    "    gpa = 'X'\n",
    "elif score <= 59:\n",
    "    gpa = 'F'\n",
    "elif score <= 62:\n",
    "    gpa = 'C-'\n",
    "elif score <= 66:\n",
    "    gpa = 'C'\n",
    "elif score <= 69:\n",
    "    gpa = 'C+'\n",
    "elif score <= 72:\n",
    "    gpa = 'B-'\n",
    "elif score <= 76:\n",
    "    gpa = 'B'\n",
    "elif score <= 79:\n",
    "    gpa = 'B+'\n",
    "elif score <= 84:\n",
    "    gpa = 'A-'\n",
    "elif score <= 89:\n",
    "    gpa = 'A'\n",
    "elif score <= 100:\n",
    "    gpa = 'A+'\n",
    "else:\n",
    "    gpa = \"分數有問題，請確認分數是0~100之間的數值\"\n",
    "\n",
    "print(\"你的分數換算GPA等級為\",gpa)"
   ]
  },
  {
   "cell_type": "code",
   "execution_count": 10,
   "metadata": {},
   "outputs": [
    {
     "name": "stdout",
     "output_type": "stream",
     "text": [
      "140709552596896\n",
      "140709552596896\n",
      "True\n",
      "True\n"
     ]
    }
   ],
   "source": [
    "a = 5\n",
    "b = 5\n",
    "print(id(a))\n",
    "print(id(b))\n",
    "print(a is b)\n",
    "print(a == b)\n"
   ]
  }
 ],
 "metadata": {
  "kernelspec": {
   "display_name": "Python 3",
   "language": "python",
   "name": "python3"
  },
  "language_info": {
   "codemirror_mode": {
    "name": "ipython",
    "version": 3
   },
   "file_extension": ".py",
   "mimetype": "text/x-python",
   "name": "python",
   "nbconvert_exporter": "python",
   "pygments_lexer": "ipython3",
   "version": "3.8.10"
  }
 },
 "nbformat": 4,
 "nbformat_minor": 2
}
