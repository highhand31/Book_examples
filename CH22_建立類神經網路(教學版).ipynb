{
 "cells": [
  {
   "cell_type": "markdown",
   "metadata": {},
   "source": [
    "# 匯入Tensorflow套件"
   ]
  },
  {
   "cell_type": "code",
   "execution_count": 1,
   "metadata": {},
   "outputs": [
    {
     "name": "stdout",
     "output_type": "stream",
     "text": [
      "WARNING:tensorflow:From C:\\Users\\JohnnyKavnie\\Anaconda3\\lib\\site-packages\\tensorflow\\python\\compat\\v2_compat.py:96: disable_resource_variables (from tensorflow.python.ops.variable_scope) is deprecated and will be removed in a future version.\n",
      "Instructions for updating:\n",
      "non-resource variables are not supported in the long term\n",
      "Tensorflow version:2.5.0\n"
     ]
    }
   ],
   "source": [
    "import tensorflow\n",
    "if tensorflow.__version__.startswith('1.'):\n",
    "    import tensorflow as tf\n",
    "    from tensorflow.python.platform import gfile\n",
    "else:\n",
    "    import tensorflow as v2\n",
    "    import tensorflow.compat.v1 as tf\n",
    "    tf.disable_v2_behavior()\n",
    "    import tensorflow.compat.v1.gfile as gfile\n",
    "print(\"Tensorflow version:{}\".format(tf.__version__))"
   ]
  },
  {
   "cell_type": "markdown",
   "metadata": {},
   "source": [
    "# 匯入其他套件"
   ]
  },
  {
   "cell_type": "code",
   "execution_count": 2,
   "metadata": {},
   "outputs": [],
   "source": [
    "import matplotlib.pyplot as plt\n",
    "import math\n",
    "import numpy as np"
   ]
  },
  {
   "cell_type": "markdown",
   "metadata": {},
   "source": [
    "# 匯入資料集mnist"
   ]
  },
  {
   "cell_type": "code",
   "execution_count": 3,
   "metadata": {},
   "outputs": [],
   "source": [
    " (img_train, label_train), (img_test, label_test) = tf.keras.datasets.mnist.load_data()"
   ]
  },
  {
   "cell_type": "markdown",
   "metadata": {},
   "source": [
    "# 查看資料集的type, shape, dtype訊息"
   ]
  },
  {
   "cell_type": "code",
   "execution_count": 4,
   "metadata": {},
   "outputs": [
    {
     "name": "stdout",
     "output_type": "stream",
     "text": [
      "img_train type: <class 'numpy.ndarray'>\n",
      "img_train shape: (60000, 28, 28)\n",
      "img_train dtype: uint8\n",
      "label_train type: <class 'numpy.ndarray'>\n",
      "label_train shape: (60000,)\n",
      "label_train dtype: uint8\n"
     ]
    }
   ],
   "source": [
    "print(\"img_train type:\",type(img_train))\n",
    "print(\"img_train shape:\",img_train.shape)\n",
    "print(\"img_train dtype:\",img_train.dtype)\n",
    "print(\"label_train type:\",type(label_train))\n",
    "print(\"label_train shape:\",label_train.shape)\n",
    "print(\"label_train dtype:\",label_train.dtype)"
   ]
  },
  {
   "cell_type": "markdown",
   "metadata": {},
   "source": [
    "# 圖片顯示函數"
   ]
  },
  {
   "cell_type": "code",
   "execution_count": 5,
   "metadata": {},
   "outputs": [],
   "source": [
    "def image_random_show(img_data,label_data,label2classname_dict,row=3,column=3):\n",
    "    a = np.array([1])\n",
    "    random_list = np.random.randint(0,img_data.shape[0], int(row * column))                           \n",
    "    print(\"random_list:\",random_list)\n",
    "    \n",
    "    #----設定圖片大小\n",
    "    plt.figure(figsize=(7,7))\n",
    "    #----display\n",
    "    for i, rdm_number in enumerate(random_list):\n",
    "        label = label_data[rdm_number]\n",
    "        if type(label) == type(a):\n",
    "            label = label[0]\n",
    "        classname = label2classname_dict[label]\n",
    "\n",
    "        plt.subplot(column,row,i+1)\n",
    "        plt.axis('off')\n",
    "        plt.title(\"{}\".format(classname))\n",
    "        \n",
    "        if img_data.ndim == 3:\n",
    "             plt.imshow(img_data[rdm_number],cmap='gray')\n",
    "        else:\n",
    "            plt.imshow(img_data[rdm_number])\n",
    "\n",
    "    plt.show()"
   ]
  },
  {
   "cell_type": "markdown",
   "metadata": {},
   "source": [
    "# 建立label轉換成類別名稱的字典集"
   ]
  },
  {
   "cell_type": "code",
   "execution_count": 5,
   "metadata": {},
   "outputs": [],
   "source": [
    "label2classname_dict = {0:'zero',\n",
    "                        1:\"one\",\n",
    "                        2:\"two\",\n",
    "                        3:\"three\",\n",
    "                        4:\"four\",\n",
    "                        5:\"five\",\n",
    "                        6:\"six\",\n",
    "                        7:\"seven\",\n",
    "                        8:'eight',\n",
    "                        9:\"nine\"}"
   ]
  },
  {
   "cell_type": "code",
   "execution_count": 7,
   "metadata": {},
   "outputs": [
    {
     "name": "stdout",
     "output_type": "stream",
     "text": [
      "random_list: [39997 33714  2907 57255 42151 43137  6548 39729 26854]\n"
     ]
    },
    {
     "data": {
      "image/png": "[encoded data removed]",
      "text/plain": [
       "<Figure size 504x504 with 9 Axes>"
      ]
     },
     "metadata": {
      "needs_background": "light"
     },
     "output_type": "display_data"
    }
   ],
   "source": [
    "image_random_show(img_train,label_train,label2classname_dict=label2classname_dict,row=3,column=3)"
   ]
  },
  {
   "cell_type": "code",
   "execution_count": 8,
   "metadata": {},
   "outputs": [
    {
     "name": "stdout",
     "output_type": "stream",
     "text": [
      "random_list: [9420 8361 1745 7620 6288 9959 6004 2400 1469]\n"
     ]
    },
    {
     "data": {
      "image/png": "[encoded data removed]",
      "text/plain": [
       "<Figure size 504x504 with 9 Axes>"
      ]
     },
     "metadata": {
      "needs_background": "light"
     },
     "output_type": "display_data"
    }
   ],
   "source": [
    "image_random_show(img_test,label_test,label2classname_dict=label2classname_dict,row=3,column=3)"
   ]
  },
  {
   "cell_type": "markdown",
   "metadata": {},
   "source": [
    "# 建立計算圖"
   ]
  },
  {
   "cell_type": "code",
   "execution_count": 5,
   "metadata": {},
   "outputs": [
    {
     "name": "stderr",
     "output_type": "stream",
     "text": [
      "C:\\Users\\JohnnyKavnie\\Anaconda3\\lib\\site-packages\\tensorflow\\python\\keras\\legacy_tf_layers\\core.py:329: UserWarning: `tf.layers.flatten` is deprecated and will be removed in a future version. Please use `tf.keras.layers.Flatten` instead.\n",
      "  warnings.warn('`tf.layers.flatten` is deprecated and '\n",
      "C:\\Users\\JohnnyKavnie\\Anaconda3\\lib\\site-packages\\tensorflow\\python\\keras\\engine\\base_layer_v1.py:1692: UserWarning: `layer.apply` is deprecated and will be removed in a future version. Please use `layer.__call__` method instead.\n",
      "  warnings.warn('`layer.apply` is deprecated and '\n",
      "C:\\Users\\JohnnyKavnie\\Anaconda3\\lib\\site-packages\\tensorflow\\python\\keras\\legacy_tf_layers\\core.py:171: UserWarning: `tf.layers.dense` is deprecated and will be removed in a future version. Please use `tf.keras.layers.Dense` instead.\n",
      "  warnings.warn('`tf.layers.dense` is deprecated and '\n"
     ]
    },
    {
     "name": "stdout",
     "output_type": "stream",
     "text": [
      "(?, 784)\n",
      "(?, 100)\n",
      "(?, 10)\n",
      "Device mapping:\n",
      "/job:localhost/replica:0/task:0/device:GPU:0 -> device: 0, name: NVIDIA GeForce GTX 1080 Ti, pci bus id: 0000:01:00.0, compute capability: 6.1\n",
      "\n"
     ]
    }
   ],
   "source": [
    "graph_1 = tf.Graph()\n",
    "with graph_1.as_default():\n",
    "    #----建立tf.placeholder()，接收非張量型態的資料\n",
    "    tf_input = tf.placeholder(tf.float32,shape=[None,28,28],name='input')\n",
    "    tf_label = tf.placeholder(tf.int32,shape=[None],name=\"label\")\n",
    "    \n",
    "    #----建立類神經網路\n",
    "    net = tf.layers.flatten(tf_input)\n",
    "    print(net.shape)\n",
    "    net = tf.layers.dense(inputs=net, units=100, activation=tf.nn.relu)\n",
    "    print(net.shape)\n",
    "    output = tf.layers.dense(inputs=net, units=10, activation=None)#輸出層就不需使用激勵函數\n",
    "    print(output.shape)\n",
    "\n",
    "    #----softmax函數輸出各類別的機率\n",
    "    tf_prediction = tf.nn.softmax(output,name=\"prediction\")\n",
    "\n",
    "     #----設定損失函數\n",
    "    tf_loss = tf.reduce_mean(tf.nn.sparse_softmax_cross_entropy_with_logits(labels=tf_label,logits=output),\n",
    "                      name=\"loss\")\n",
    "\n",
    "    #----設定最佳化函數\n",
    "    learning_rate = 1e-4\n",
    "    tf_optimizer = tf.train.AdamOptimizer(learning_rate=learning_rate).minimize(tf_loss)\n",
    "\n",
    "    #----GPU 資源設定\n",
    "    config = tf.ConfigProto(log_device_placement=True,\n",
    "                            allow_soft_placement=True)\n",
    "    config.gpu_options.allow_growth = True\n",
    "\n",
    "    sess = tf.Session(graph=graph_1,config=config)\n",
    "    sess.run(tf.global_variables_initializer())"
   ]
  },
  {
   "cell_type": "markdown",
   "metadata": {},
   "source": [
    "# 計算訓練的參數數量"
   ]
  },
  {
   "cell_type": "code",
   "execution_count": 8,
   "metadata": {},
   "outputs": [],
   "source": [
    "def get_qty_var(tf_graph):\n",
    "    qty = 0\n",
    "    with tf_graph.as_default():\n",
    "        for var in tf.global_variables():\n",
    "            \n",
    "            if var.trainable:\n",
    "                shape = var.shape\n",
    "                for i,num in enumerate(shape):\n",
    "                    if i == 0:\n",
    "                        product = num\n",
    "                    else:\n",
    "                        product *= num\n",
    "                qty += product \n",
    "\n",
    "        print(\"參數數量 = \",qty)"
   ]
  },
  {
   "cell_type": "code",
   "execution_count": 111,
   "metadata": {},
   "outputs": [
    {
     "name": "stdout",
     "output_type": "stream",
     "text": [
      "參數數量 =  79510\n"
     ]
    }
   ],
   "source": [
    "get_qty_var(graph_1)"
   ]
  },
  {
   "cell_type": "markdown",
   "metadata": {},
   "source": [
    "# 設定批次數量(batch size)"
   ]
  },
  {
   "cell_type": "code",
   "execution_count": 8,
   "metadata": {},
   "outputs": [],
   "source": [
    "batch_size = 128"
   ]
  },
  {
   "cell_type": "markdown",
   "metadata": {},
   "source": [
    "# 設定訓練週期(epoch)"
   ]
  },
  {
   "cell_type": "code",
   "execution_count": 9,
   "metadata": {},
   "outputs": [],
   "source": [
    "epochs = 10"
   ]
  },
  {
   "cell_type": "markdown",
   "metadata": {},
   "source": [
    "# 權重最佳化"
   ]
  },
  {
   "cell_type": "code",
   "execution_count": 12,
   "metadata": {},
   "outputs": [
    {
     "name": "stdout",
     "output_type": "stream",
     "text": [
      "loss_train =  18.961702694008345\n",
      "loss_train =  5.161735595035147\n",
      "loss_train =  3.425633777878178\n",
      "loss_train =  2.512377312903338\n",
      "loss_train =  1.9379341648077406\n",
      "loss_train =  1.538119407215797\n",
      "loss_train =  1.2464155049236028\n",
      "loss_train =  1.0247727491940533\n",
      "loss_train =  0.8507054216143534\n",
      "loss_train =  0.7089218667915178\n"
     ]
    }
   ],
   "source": [
    "#----計算迭代次數\n",
    "iterations =math.ceil(img_train.shape[0] / batch_size)\n",
    "\n",
    "for epoch in range(epochs):\n",
    "    loss_train = 0\n",
    "    for iteration in range(iterations):\n",
    "        #----選取進行迭代的圖片\n",
    "        num_start = batch_size * iteration\n",
    "        num_end = num_start + batch_size\n",
    "        if num_end > img_train.shape[0]:\n",
    "            num_end = img_train.shape[0]\n",
    "\n",
    "        ite_data = img_train[num_start:num_end]\n",
    "        ite_label = label_train[num_start:num_end]\n",
    "        \n",
    "        #----權重最佳化\n",
    "        sess.run(tf_optimizer,feed_dict={tf_input:ite_data,tf_label:ite_label})\n",
    "        \n",
    "        #----累加損失值\n",
    "        loss_train += sess.run(tf_loss,feed_dict={tf_input:ite_data,tf_label:ite_label})\n",
    "\n",
    "    #----計算平均損失值\n",
    "    loss_train /= iterations\n",
    "    print(\"loss_train = \",loss_train)"
   ]
  },
  {
   "cell_type": "code",
   "execution_count": 13,
   "metadata": {},
   "outputs": [
    {
     "name": "stdout",
     "output_type": "stream",
     "text": [
      "loss_train =  19.312923399624285\n",
      "loss_train =  4.979539842493753\n",
      "loss_train =  3.2775550967594707\n",
      "loss_train =  2.4094338619124405\n",
      "loss_train =  1.873642230712211\n",
      "loss_train =  1.501644201889219\n",
      "loss_train =  1.227631332165103\n",
      "loss_train =  1.0150657033638888\n",
      "loss_train =  0.845374993622005\n",
      "loss_train =  0.7052292447097337\n"
     ]
    }
   ],
   "source": [
    "#----計算迭代次數\n",
    "iterations =math.ceil(img_train.shape[0] / batch_size)\n",
    "\n",
    "for epoch in range(epochs):\n",
    "    loss_train = 0\n",
    "    for iteration in range(iterations):\n",
    "        num_start = batch_size * iteration\n",
    "        num_end = num_start + batch_size\n",
    "        if num_end >= img_train.shape[0]:\n",
    "            num_end = img_train.shape[0]\n",
    "\n",
    "        ite_data = img_train[num_start:num_end]\n",
    "        ite_label = label_train[num_start:num_end]\n",
    "\n",
    "        sess.run(tf_optimizer,feed_dict={tf_input:ite_data,tf_label:ite_label})\n",
    "\n",
    "        loss_train += sess.run(tf_loss,feed_dict={tf_input:ite_data,tf_label:ite_label})\n",
    "\n",
    "    loss_train /= iterations\n",
    "    print(\"loss_train = \",loss_train)"
   ]
  },
  {
   "cell_type": "markdown",
   "metadata": {},
   "source": [
    "# 單張圖片的預測結果 "
   ]
  },
  {
   "cell_type": "code",
   "execution_count": 38,
   "metadata": {},
   "outputs": [
    {
     "name": "stdout",
     "output_type": "stream",
     "text": [
      "ite_data shape: (1, 28, 28)\n"
     ]
    },
    {
     "data": {
      "image/png": "[encoded data removed]",
      "text/plain": [
       "<Figure size 432x288 with 1 Axes>"
      ]
     },
     "metadata": {
      "needs_background": "light"
     },
     "output_type": "display_data"
    }
   ],
   "source": [
    "rdm_number = np.random.randint(0,len(img_train))\n",
    "\n",
    "ite_data = img_train[rdm_number:rdm_number+1]\n",
    "print(\"ite_data shape:\",ite_data.shape)\n",
    "\n",
    "plt.imshow(ite_data[0],cmap='gray')\n",
    "plt.show()"
   ]
  },
  {
   "cell_type": "code",
   "execution_count": 39,
   "metadata": {},
   "outputs": [
    {
     "name": "stdout",
     "output_type": "stream",
     "text": [
      "prediction shape: (1, 10)\n",
      "[[3.6913826e-35 0.0000000e+00 4.9647961e-28 0.0000000e+00 0.0000000e+00\n",
      "  1.4112593e-30 1.0000000e+00 0.0000000e+00 0.0000000e+00 0.0000000e+00]]\n"
     ]
    }
   ],
   "source": [
    "prediction = sess.run(tf_prediction,feed_dict={tf_input:ite_data})\n",
    "print(\"prediction shape:\",prediction.shape)\n",
    "print(prediction)"
   ]
  },
  {
   "cell_type": "code",
   "execution_count": 43,
   "metadata": {},
   "outputs": [
    {
     "name": "stdout",
     "output_type": "stream",
     "text": [
      "預測類別: [6]\n",
      "正確答案: [6]\n"
     ]
    }
   ],
   "source": [
    "arg_prediction = np.argmax(prediction,axis=1)\n",
    "print(\"預測類別:\",arg_prediction)\n",
    "\n",
    "ite_label = label_train[rdm_number:rdm_number+1]\n",
    "print(\"正確答案:\",ite_label)"
   ]
  },
  {
   "cell_type": "markdown",
   "metadata": {},
   "source": [
    "# 將準確率的計算加入到訓練架構裡"
   ]
  },
  {
   "cell_type": "code",
   "execution_count": 12,
   "metadata": {},
   "outputs": [
    {
     "name": "stdout",
     "output_type": "stream",
     "text": [
      "訓練集 損失值 =  18.897037185712662\n",
      "訓練集 準確率 =  0.6784166666666667\n",
      "訓練集 損失值 =  4.979894632660249\n",
      "訓練集 準確率 =  0.85445\n",
      "訓練集 損失值 =  3.3227897911056528\n",
      "訓練集 準確率 =  0.8868\n",
      "訓練集 損失值 =  2.4769271111199216\n",
      "訓練集 準確率 =  0.9052166666666667\n",
      "訓練集 損失值 =  1.955485058092534\n",
      "訓練集 準確率 =  0.9184333333333333\n",
      "訓練集 損失值 =  1.5876341647218302\n",
      "訓練集 準確率 =  0.9280166666666667\n",
      "訓練集 損失值 =  1.308555233067518\n",
      "訓練集 準確率 =  0.9361166666666667\n",
      "訓練集 損失值 =  1.0898484974879703\n",
      "訓練集 準確率 =  0.9431333333333334\n",
      "訓練集 損失值 =  0.9105071438709956\n",
      "訓練集 準確率 =  0.9493833333333334\n",
      "訓練集 損失值 =  0.7634734666572767\n",
      "訓練集 準確率 =  0.9549\n"
     ]
    }
   ],
   "source": [
    "#----計算迭代次數\n",
    "iterations =math.ceil(img_train.shape[0] / batch_size)\n",
    "for epoch in range(epochs):\n",
    "    #----變數重置\n",
    "    loss_train = 0\n",
    "    correct_count = 0\n",
    "    prediction_count = 0\n",
    "    \n",
    "    for iteration in range(iterations):\n",
    "        num_start = batch_size * iteration\n",
    "        num_end = num_start + batch_size\n",
    "        if num_end >= img_train.shape[0]:\n",
    "            num_end = img_train.shape[0]\n",
    "\n",
    "        ite_data = img_train[num_start:num_end]\n",
    "        ite_label = label_train[num_start:num_end]\n",
    "\n",
    "        sess.run(tf_optimizer,feed_dict={tf_input:ite_data,tf_label:ite_label})\n",
    "\n",
    "        loss_train += sess.run(tf_loss,feed_dict={tf_input:ite_data,tf_label:ite_label})\n",
    "        prediction = sess.run(tf_prediction,feed_dict={tf_input:ite_data})\n",
    "        arg_predictions = np.argmax(prediction,axis=1)\n",
    "        for arg_prediction, label in zip(arg_predictions,ite_label):\n",
    "            prediction_count += 1\n",
    "            if arg_prediction == label:\n",
    "                correct_count += 1\n",
    "\n",
    "    loss_train /= iterations\n",
    "    print(\"訓練集 損失值 = \",loss_train)\n",
    "    print(\"訓練集 準確率 = \",correct_count/prediction_count)\n",
    "    \n",
    "    #----計算驗證集的損失值與準確率\n",
    "    "
   ]
  },
  {
   "cell_type": "markdown",
   "metadata": {},
   "source": [
    "# 加入圖形化所需的資料"
   ]
  },
  {
   "cell_type": "code",
   "execution_count": 13,
   "metadata": {},
   "outputs": [],
   "source": [
    "#----計算迭代次數\n",
    "iterations =math.ceil(img_train.shape[0] / batch_size)\n",
    "iterations_test = math.ceil(img_test.shape[0] / batch_size )\n",
    "\n",
    "#----宣告收集損失值與準確率的串列\n",
    "loss_train_list = list()\n",
    "acc_train_list = list()"
   ]
  },
  {
   "cell_type": "code",
   "execution_count": 21,
   "metadata": {},
   "outputs": [
    {
     "name": "stdout",
     "output_type": "stream",
     "text": [
      "訓練集 損失值 =  0.12212283362033073\n",
      "訓練集 準確率 =  0.9867\n",
      "訓練集 損失值 =  0.1027311119575506\n",
      "訓練集 準確率 =  0.9876666666666667\n",
      "訓練集 損失值 =  0.08624743355769846\n",
      "訓練集 準確率 =  0.9893666666666666\n",
      "訓練集 損失值 =  0.07234774519312594\n",
      "訓練集 準確率 =  0.9908666666666667\n",
      "訓練集 損失值 =  0.059941720754325176\n",
      "訓練集 準確率 =  0.9916833333333334\n",
      "訓練集 損失值 =  0.049028948944653636\n",
      "訓練集 準確率 =  0.9928333333333333\n",
      "訓練集 損失值 =  0.041822613753812375\n",
      "訓練集 準確率 =  0.9935333333333334\n",
      "訓練集 損失值 =  0.03431806554692709\n",
      "訓練集 準確率 =  0.9947166666666667\n",
      "訓練集 損失值 =  0.030910632790629965\n",
      "訓練集 準確率 =  0.9948833333333333\n",
      "訓練集 損失值 =  0.02706017231847375\n",
      "訓練集 準確率 =  0.9951833333333333\n"
     ]
    }
   ],
   "source": [
    "for epoch in range(epochs):\n",
    "    #----變數重置\n",
    "    loss_train = 0\n",
    "    correct_count = 0\n",
    "    prediction_count = 0\n",
    "    \n",
    "    for iteration in range(iterations):\n",
    "        num_start = batch_size * iteration\n",
    "        num_end = num_start + batch_size\n",
    "        if num_end > img_train.shape[0]:\n",
    "            num_end = img_train.shape[0]\n",
    "\n",
    "        ite_data = img_train[num_start:num_end]\n",
    "        ite_label = label_train[num_start:num_end]\n",
    "\n",
    "        sess.run(tf_optimizer,feed_dict={tf_input:ite_data,tf_label:ite_label})\n",
    "\n",
    "        loss_train += sess.run(tf_loss,feed_dict={tf_input:ite_data,tf_label:ite_label})\n",
    "        prediction = sess.run(tf_prediction,feed_dict={tf_input:ite_data})\n",
    "        arg_predictions = np.argmax(prediction,axis=1)\n",
    "        for arg_prediction, label in zip(arg_predictions,ite_label):\n",
    "            prediction_count += 1\n",
    "            if arg_prediction == label:\n",
    "                correct_count += 1\n",
    "\n",
    "    loss_train /= iterations\n",
    "    acc_train = correct_count/prediction_count\n",
    "    print(\"訓練集 損失值 = \",loss_train)\n",
    "    print(\"訓練集 準確率 = \",acc_train)\n",
    "    \n",
    "    #----收集損失值與準確率數值至串列\n",
    "    loss_train_list.append(loss_train)\n",
    "    acc_train_list.append(acc_train)"
   ]
  },
  {
   "cell_type": "markdown",
   "metadata": {},
   "source": [
    "# 訓練集的圖形化"
   ]
  },
  {
   "cell_type": "code",
   "execution_count": 22,
   "metadata": {},
   "outputs": [
    {
     "data": {
      "image/png": "[encoded data removed]",
      "text/plain": [
       "<Figure size 864x288 with 2 Axes>"
      ]
     },
     "metadata": {
      "needs_background": "light"
     },
     "output_type": "display_data"
    }
   ],
   "source": [
    "x_num = [i for i in range(0,len(loss_train_list))]\n",
    "\n",
    "plt.figure(figsize=(12,4))#圖形的大小可以自行設定\n",
    "\n",
    "plt.subplot(1,2,1)#設定第1張圖\n",
    "plt.plot(x_num,loss_train_list)\n",
    "plt.xlabel(\"epoch\")\n",
    "plt.ylabel(\"loss \")\n",
    "\n",
    "plt.subplot(1,2,2)#設定第2張圖\n",
    "plt.plot(x_num,acc_train_list)\n",
    "plt.xlabel(\"epoch\")\n",
    "plt.ylabel(\"accuracy\")\n",
    "\n",
    "plt.show()#所有圖都設定完再執行show()"
   ]
  },
  {
   "cell_type": "markdown",
   "metadata": {},
   "source": [
    "# 單獨計算驗證集的準確率"
   ]
  },
  {
   "cell_type": "code",
   "execution_count": 30,
   "metadata": {},
   "outputs": [
    {
     "name": "stdout",
     "output_type": "stream",
     "text": [
      "驗證集 損失值 =  0.9968182463283632\n",
      "驗證集 準確率 =  0.9501\n"
     ]
    }
   ],
   "source": [
    "iterations_test = math.ceil(img_test.shape[0] / batch_size )\n",
    "loss_test = 0\n",
    "correct_count = 0\n",
    "prediction_count = 0\n",
    "for iteration in range(iterations_test):\n",
    "    num_start = batch_size * iteration\n",
    "    num_end = num_start + batch_size\n",
    "    if num_end > img_test.shape[0]:\n",
    "        num_end = img_test.shape[0]\n",
    "\n",
    "    ite_data = img_test[num_start:num_end]\n",
    "    ite_label = label_test[num_start:num_end]\n",
    "\n",
    "    loss_test += sess.run(tf_loss,feed_dict={tf_input:ite_data,tf_label:ite_label})\n",
    "    prediction = sess.run(tf_prediction,feed_dict={tf_input:ite_data})\n",
    "    arg_predictions = np.argmax(prediction,axis=1)\n",
    "    for arg_prediction, label in zip(arg_predictions,ite_label):\n",
    "        prediction_count += 1\n",
    "        if arg_prediction == label:\n",
    "            correct_count += 1\n",
    "loss_test /= iterations_test\n",
    "print(\"驗證集 損失值 = \",loss_test)\n",
    "print(\"驗證集 準確率 = \",correct_count/prediction_count)"
   ]
  },
  {
   "cell_type": "markdown",
   "metadata": {},
   "source": [
    "# 加入驗證集的準確率計算"
   ]
  },
  {
   "cell_type": "code",
   "execution_count": 10,
   "metadata": {},
   "outputs": [],
   "source": [
    "#----設定超參數\n",
    "batch_size = 128\n",
    "epochs = 10\n",
    "\n",
    "#----計算迭代次數\n",
    "iterations_train =math.ceil(img_train.shape[0] / batch_size)\n",
    "iterations_test = math.ceil(img_test.shape[0] / batch_size )\n",
    "\n",
    "#----宣告收集損失值與準確率的串列\n",
    "loss_train_list = list()\n",
    "acc_train_list = list()\n",
    "loss_test_list = list()\n",
    "acc_test_list = list()"
   ]
  },
  {
   "cell_type": "code",
   "execution_count": 15,
   "metadata": {
    "scrolled": true
   },
   "outputs": [
    {
     "name": "stdout",
     "output_type": "stream",
     "text": [
      "訓練集 損失值 =  0.12921605089954327\n",
      "訓練集 準確率 =  0.9873833333333333\n",
      "驗證集 損失值 =  1.0461127871433569\n",
      "驗證集 準確率 =  0.9449\n",
      "訓練集 損失值 =  0.10954655096789649\n",
      "訓練集 準確率 =  0.9881833333333333\n",
      "驗證集 損失值 =  1.0722311334405743\n",
      "驗證集 準確率 =  0.9463\n",
      "訓練集 損失值 =  0.09685256922821588\n",
      "訓練集 準確率 =  0.9894333333333334\n",
      "驗證集 損失值 =  1.0648728159537164\n",
      "驗證集 準確率 =  0.9459\n",
      "訓練集 損失值 =  0.08361911938259119\n",
      "訓練集 準確率 =  0.9904333333333334\n",
      "驗證集 損失值 =  1.0281736885881765\n",
      "驗證集 準確率 =  0.9476\n",
      "訓練集 損失值 =  0.0710347178743547\n",
      "訓練集 準確率 =  0.9913833333333333\n",
      "驗證集 損失值 =  1.0094639000437176\n",
      "驗證集 準確率 =  0.9483\n",
      "訓練集 損失值 =  0.061411130883509135\n",
      "訓練集 準確率 =  0.9922333333333333\n",
      "驗證集 損失值 =  1.0012788895007183\n",
      "驗證集 準確率 =  0.9465\n",
      "訓練集 損失值 =  0.05074510490327767\n",
      "訓練集 準確率 =  0.9933666666666666\n",
      "驗證集 損失值 =  0.9704059523582841\n",
      "驗證集 準確率 =  0.9509\n",
      "訓練集 損失值 =  0.043932997669811076\n",
      "訓練集 準確率 =  0.99395\n",
      "驗證集 損失值 =  0.9889662997038152\n",
      "驗證集 準確率 =  0.9504\n",
      "訓練集 損失值 =  0.040852909375012285\n",
      "訓練集 準確率 =  0.99365\n",
      "驗證集 損失值 =  0.9832949856078087\n",
      "驗證集 準確率 =  0.9532\n",
      "訓練集 損失值 =  0.034814973604318504\n",
      "訓練集 準確率 =  0.9943333333333333\n",
      "驗證集 損失值 =  0.966832182989031\n",
      "驗證集 準確率 =  0.9526\n"
     ]
    }
   ],
   "source": [
    "for epoch in range(epochs):\n",
    "    #----變數重置\n",
    "    loss_train = 0\n",
    "    correct_count = 0\n",
    "    prediction_count = 0\n",
    "    \n",
    "    for iteration in range(iterations_train):\n",
    "        num_start = batch_size * iteration\n",
    "        num_end = num_start + batch_size\n",
    "        if num_end > img_train.shape[0]:\n",
    "            num_end = img_train.shape[0]\n",
    "\n",
    "        ite_data = img_train[num_start:num_end]\n",
    "        ite_label = label_train[num_start:num_end]\n",
    "\n",
    "        sess.run(tf_optimizer,feed_dict={tf_input:ite_data,tf_label:ite_label})\n",
    "\n",
    "        loss_train += sess.run(tf_loss,feed_dict={tf_input:ite_data,tf_label:ite_label})\n",
    "        prediction = sess.run(tf_prediction,feed_dict={tf_input:ite_data})\n",
    "        arg_predictions = np.argmax(prediction,axis=1)\n",
    "        for arg_prediction, label in zip(arg_predictions,ite_label):\n",
    "            prediction_count += 1\n",
    "            if arg_prediction == label:\n",
    "                correct_count += 1\n",
    "\n",
    "    loss_train /= iterations_train\n",
    "    acc_train = correct_count / prediction_count\n",
    "    print(\"訓練集 損失值 = \",loss_train)\n",
    "    print(\"訓練集 準確率 = \",acc_train)\n",
    "    \n",
    "    #----收集訓練集損失值與準確率數值至串列\n",
    "    loss_train_list.append(loss_train)\n",
    "    acc_train_list.append(acc_train)\n",
    "    \n",
    "    #----計算驗證集的損失值與準確率\n",
    "    loss_test = 0\n",
    "    correct_count = 0\n",
    "    prediction_count = 0\n",
    "    for iteration in range(iterations_test):\n",
    "        num_start = batch_size * iteration\n",
    "        num_end = num_start + batch_size\n",
    "        if num_end > img_test.shape[0]:\n",
    "            num_end = img_test.shape[0]\n",
    "\n",
    "        ite_data = img_test[num_start:num_end]\n",
    "        ite_label = label_test[num_start:num_end]\n",
    "        \n",
    "        loss_test += sess.run(tf_loss,feed_dict={tf_input:ite_data,tf_label:ite_label})\n",
    "        prediction = sess.run(tf_prediction,feed_dict={tf_input:ite_data})\n",
    "        arg_predictions = np.argmax(prediction,axis=1)\n",
    "        for arg_prediction, label in zip(arg_predictions,ite_label):\n",
    "            prediction_count += 1\n",
    "            if arg_prediction == label:\n",
    "                correct_count += 1\n",
    "    loss_test /= iterations_test\n",
    "    acc_test = correct_count / prediction_count\n",
    "    print(\"驗證集 損失值 = \",loss_test)\n",
    "    print(\"驗證集 準確率 = \",acc_test)\n",
    "    \n",
    "    #----收集驗證集損失值與準確率數值至串列\n",
    "    loss_test_list.append(loss_test)\n",
    "    acc_test_list.append(acc_test)\n",
    "    "
   ]
  },
  {
   "cell_type": "markdown",
   "metadata": {},
   "source": [
    "# 函數化"
   ]
  },
  {
   "cell_type": "code",
   "execution_count": 118,
   "metadata": {},
   "outputs": [],
   "source": [
    "#----設定超參數\n",
    "batch_size = 128\n",
    "epochs = 5\n",
    "\n",
    "#----計算迭代次數\n",
    "iterations_train =math.ceil(img_train.shape[0] / batch_size)\n",
    "iterations_test = math.ceil(img_test.shape[0] / batch_size )\n",
    "\n",
    "#----宣告收集損失值與準確率的串列\n",
    "loss_train_list = list()\n",
    "acc_train_list = list()\n",
    "loss_test_list = list()\n",
    "acc_test_list = list()"
   ]
  },
  {
   "cell_type": "code",
   "execution_count": 4,
   "metadata": {},
   "outputs": [],
   "source": [
    "def get_ite_data(img_data,label_data,ite_num,batch_size):\n",
    "    num_start = batch_size * ite_num\n",
    "    num_end = num_start + batch_size\n",
    "    if num_end > img_data.shape[0]:\n",
    "        num_end = img_data.shape[0]\n",
    "    \n",
    "    ite_data = img_data[num_start:num_end]\n",
    "    ite_label = label_data[num_start:num_end]\n",
    "    \n",
    "    return ite_data,ite_label"
   ]
  },
  {
   "cell_type": "code",
   "execution_count": 5,
   "metadata": {},
   "outputs": [],
   "source": [
    "def get_loss(img_data,label_data,batch_size,sess,use_dropout=False):\n",
    "    iterations =math.ceil(img_data.shape[0] / batch_size)\n",
    "    loss = 0\n",
    "    \n",
    "    for iteration in range(iterations):\n",
    "        ite_data,ite_label = get_ite_data(img_data,label_data,iteration,batch_size)\n",
    "        \n",
    "        if use_dropout is False:\n",
    "            loss += sess.run(tf_loss,feed_dict={tf_input:ite_data,tf_label:ite_label})\n",
    "        else:\n",
    "            loss += sess.run(tf_loss,feed_dict={tf_input:ite_data,\n",
    "                                                tf_label:ite_label,\n",
    "                                                tf_keep_prob:1})\n",
    "    \n",
    "    loss /= iterations\n",
    "    \n",
    "    return loss"
   ]
  },
  {
   "cell_type": "code",
   "execution_count": 6,
   "metadata": {},
   "outputs": [],
   "source": [
    "def get_accuracy(img_data,label_data,batch_size,sess,use_dropout=False):\n",
    "    iterations = math.ceil(img_data.shape[0] / batch_size)\n",
    "    correct_count = 0\n",
    "    prediction_count = 0\n",
    "    \n",
    "    for iteration in range(iterations):\n",
    "        ite_data,ite_label = get_ite_data(img_data,label_data,iteration,batch_size)\n",
    "        if use_dropout is False:\n",
    "            predictions = sess.run(tf_prediction,feed_dict={tf_input:ite_data})\n",
    "        else:\n",
    "            predictions = sess.run(tf_prediction,feed_dict={tf_input:ite_data,\n",
    "                                                tf_label:ite_label,\n",
    "                                                tf_keep_prob:1})\n",
    "        arg_predictions = np.argmax(predictions,axis=1)\n",
    "        for arg_prediction, label in zip(arg_predictions,ite_label):\n",
    "            prediction_count += 1\n",
    "            if arg_prediction == label:\n",
    "                correct_count += 1\n",
    "    acc = correct_count / prediction_count\n",
    "    \n",
    "    return acc"
   ]
  },
  {
   "cell_type": "code",
   "execution_count": 9,
   "metadata": {},
   "outputs": [
    {
     "name": "stdout",
     "output_type": "stream",
     "text": [
      "訓練集準確率: 0.13143333333333335\n",
      "驗證集準確率: 0.1298\n"
     ]
    }
   ],
   "source": [
    "acc_train = get_accuracy(img_train,label_train,batch_size,sess)\n",
    "print(\"訓練集準確率:\",acc_train)\n",
    "acc_test = get_accuracy(img_test,label_test,batch_size,sess)\n",
    "print(\"驗證集準確率:\",acc_test)"
   ]
  },
  {
   "cell_type": "code",
   "execution_count": 119,
   "metadata": {
    "scrolled": true
   },
   "outputs": [
    {
     "name": "stdout",
     "output_type": "stream",
     "text": [
      "訓練集 損失值 =  0.03537827873740536\n",
      "訓練集 準確率 =  0.9903333333333333\n",
      "驗證集 損失值 =  0.5355155507896149\n",
      "驗證集 準確率 =  0.9495\n",
      "訓練集 損失值 =  0.02352442301464746\n",
      "訓練集 準確率 =  0.9933333333333333\n",
      "驗證集 損失值 =  0.5143530017340674\n",
      "驗證集 準確率 =  0.9522\n",
      "訓練集 損失值 =  0.021544857057954267\n",
      "訓練集 準確率 =  0.9943333333333333\n",
      "驗證集 損失值 =  0.498517595965052\n",
      "驗證集 準確率 =  0.9545\n",
      "訓練集 損失值 =  0.022604799328999177\n",
      "訓練集 準確率 =  0.99315\n",
      "驗證集 損失值 =  0.5096761622342548\n",
      "驗證集 準確率 =  0.9538\n",
      "訓練集 損失值 =  0.013240002874966104\n",
      "訓練集 準確率 =  0.9957666666666667\n",
      "驗證集 損失值 =  0.48545480366846266\n",
      "驗證集 準確率 =  0.9562\n"
     ]
    }
   ],
   "source": [
    "for epoch in range(epochs):\n",
    "    \n",
    "    for iteration in range(iterations_train):\n",
    "        \n",
    "        ite_data,ite_label = get_ite_data(img_train,label_train,iteration,batch_size)\n",
    "        \n",
    "        sess.run(tf_optimizer,feed_dict={tf_input:ite_data,tf_label:ite_label})\n",
    "        \n",
    "    #----計算訓練集的損失值與準確率\n",
    "    loss_train = get_loss(img_train,label_train,batch_size,sess)\n",
    "    acc_train = get_accuracy(img_train,label_train,batch_size,sess)\n",
    "    print(\"訓練集 損失值 = \",loss_train)\n",
    "    print(\"訓練集 準確率 = \",acc_train)\n",
    "    \n",
    "    #----收集訓練集損失值與準確率數值至串列\n",
    "    loss_train_list.append(loss_train)\n",
    "    acc_train_list.append(acc_train)\n",
    "    \n",
    "    #----計算驗證集的損失值與準確率\n",
    "    loss_test = get_loss(img_test,label_test,batch_size,sess)\n",
    "    acc_test = get_accuracy(img_test,label_test,batch_size,sess)\n",
    "    print(\"驗證集 損失值 = \",loss_test)\n",
    "    print(\"驗證集 準確率 = \",acc_test)\n",
    "    \n",
    "    #----收集驗證集損失值與準確率數值至串列\n",
    "    loss_test_list.append(loss_test)\n",
    "    acc_test_list.append(acc_test)\n",
    "    "
   ]
  },
  {
   "cell_type": "markdown",
   "metadata": {},
   "source": [
    "# 訓練集與驗證集的圖形化"
   ]
  },
  {
   "cell_type": "code",
   "execution_count": 11,
   "metadata": {},
   "outputs": [
    {
     "data": {
      "image/png": "[encoded data removed]",
      "text/plain": [
       "<Figure size 864x288 with 2 Axes>"
      ]
     },
     "metadata": {
      "needs_background": "light"
     },
     "output_type": "display_data"
    }
   ],
   "source": [
    "x_num = [i for i in range(0,len(loss_train_list))]\n",
    "\n",
    "plt.figure(figsize=(12,4))#圖形的大小可以自行設定\n",
    "\n",
    "plt.subplot(1,2,1)#設定第1張圖\n",
    "plt.plot(x_num,loss_train_list,label='train data')\n",
    "plt.plot(x_num,loss_test_list,label='test data')\n",
    "plt.xlabel(\"epoch\")\n",
    "plt.ylabel(\"loss \")\n",
    "plt.legend()\n",
    "\n",
    "plt.subplot(1,2,2)#設定第2張圖\n",
    "plt.plot(x_num,acc_train_list,label='train data')\n",
    "plt.plot(x_num,acc_test_list,label='test data')\n",
    "plt.xlabel(\"epoch\")\n",
    "plt.ylabel(\"accuracy\")\n",
    "plt.legend()\n",
    "\n",
    "plt.show()#所有圖都設定完再執行show()"
   ]
  },
  {
   "cell_type": "markdown",
   "metadata": {},
   "source": [
    "# 查看訓練集與驗證集最高的準確率"
   ]
  },
  {
   "cell_type": "code",
   "execution_count": 12,
   "metadata": {},
   "outputs": [
    {
     "name": "stdout",
     "output_type": "stream",
     "text": [
      "訓練集最高的準確率為0.99135，出現在epoch 29\n",
      "驗證集最高的準確率為0.9507，出現在epoch 29\n"
     ]
    }
   ],
   "source": [
    "arg_train = np.argmax(acc_train_list)\n",
    "best_acc_train = acc_train_list[arg_train]\n",
    "print(\"訓練集最高的準確率為{}，出現在epoch {}\".format(best_acc_train,arg_train))\n",
    "\n",
    "arg_test = np.argmax(acc_test_list)\n",
    "best_acc_test = acc_test_list[arg_test]\n",
    "print(\"驗證集最高的準確率為{}，出現在epoch {}\".format(best_acc_test,arg_test))"
   ]
  },
  {
   "cell_type": "markdown",
   "metadata": {},
   "source": [
    "# 建立2層的神經元"
   ]
  },
  {
   "cell_type": "code",
   "execution_count": 19,
   "metadata": {},
   "outputs": [
    {
     "name": "stdout",
     "output_type": "stream",
     "text": [
      "(?, 784)\n",
      "(?, 100)\n",
      "(?, 200)\n",
      "(?, 10)\n",
      "Device mapping:\n",
      "/job:localhost/replica:0/task:0/device:GPU:0 -> device: 0, name: NVIDIA GeForce GTX 1080 Ti, pci bus id: 0000:01:00.0, compute capability: 6.1\n",
      "\n"
     ]
    }
   ],
   "source": [
    "graph_2 = tf.Graph()\n",
    "with graph_2.as_default():\n",
    "    \n",
    "    #----建立tf.placeholder()，接收非張量型態的資料\n",
    "    tf_input = tf.placeholder(tf.float32,shape=[None,28,28],name='input')\n",
    "    tf_label = tf.placeholder(tf.int32,shape=[None],name=\"label\")\n",
    "    tf_keep_prob = tf.placeholder(tf.float32,name='keep_prob')\n",
    "    \n",
    "    #----建立類神經網路\n",
    "    net = tf.layers.flatten(tf_input)\n",
    "    print(net.shape)\n",
    "    net = tf.layers.dense(inputs=net, units=100, activation=tf.nn.relu)\n",
    "    print(net.shape)\n",
    "    net = tf.layers.dense(inputs=net, units=200, activation=tf.nn.relu)\n",
    "    print(net.shape)\n",
    "    \n",
    "    net = tf.nn.dropout(net, keep_prob=tf_keep_prob)#加入dropout\n",
    "    \n",
    "    output = tf.layers.dense(inputs=net, units=10, activation=None)#輸出層就不需使用激勵函數\n",
    "    print(output.shape)\n",
    "\n",
    "    #----softmax函數輸出各類別的機率\n",
    "    tf_prediction = tf.nn.softmax(output,name=\"prediction\")\n",
    "\n",
    "     #----設定損失函數\n",
    "    tf_loss = tf.reduce_mean(tf.nn.sparse_softmax_cross_entropy_with_logits(labels=tf_label,logits=output),\n",
    "                      name=\"loss\")\n",
    "\n",
    "    #----設定最佳化函數\n",
    "    learning_rate = 1e-4\n",
    "    tf_optimizer = tf.train.AdamOptimizer(learning_rate=learning_rate).minimize(tf_loss)\n",
    "\n",
    "    #----GPU 資源設定\n",
    "    config = tf.ConfigProto(log_device_placement=True,\n",
    "                            allow_soft_placement=True)\n",
    "    config.gpu_options.allow_growth = True\n",
    "\n",
    "    sess = tf.Session(graph=graph_2,config=config)\n",
    "    sess.run(tf.global_variables_initializer())"
   ]
  },
  {
   "cell_type": "code",
   "execution_count": 9,
   "metadata": {},
   "outputs": [
    {
     "name": "stdout",
     "output_type": "stream",
     "text": [
      "參數數量 =  79510\n"
     ]
    }
   ],
   "source": [
    "get_qty_var(graph_1)"
   ]
  },
  {
   "cell_type": "code",
   "execution_count": 12,
   "metadata": {},
   "outputs": [
    {
     "name": "stdout",
     "output_type": "stream",
     "text": [
      "參數數量 =  100710\n"
     ]
    }
   ],
   "source": [
    "get_qty_var(graph_2)"
   ]
  },
  {
   "cell_type": "markdown",
   "metadata": {},
   "source": [
    "# 訓練程式碼函數化"
   ]
  },
  {
   "cell_type": "code",
   "execution_count": 16,
   "metadata": {},
   "outputs": [],
   "source": [
    "def run_training(*args,**kwargs):\n",
    "    #----參數擷取\n",
    "    img_train = args[0]\n",
    "    label_train = args[1]\n",
    "    img_test = args[2]\n",
    "    label_test = args[3]\n",
    "    sess = args[4]\n",
    "    batch_size = kwargs['batch_size']\n",
    "    epochs = kwargs['epochs']\n",
    "    dropout_ratio = kwargs.get('dropout_ratio')\n",
    "    \n",
    "    #----計算迭代次數\n",
    "    iterations_train =math.ceil(img_train.shape[0] / batch_size)\n",
    "    iterations_test = math.ceil(img_test.shape[0] / batch_size )\n",
    "    \n",
    "    #----宣告收集損失值與準確率的串列\n",
    "    loss_train_list = list()\n",
    "    acc_train_list = list()\n",
    "    loss_test_list = list()\n",
    "    acc_test_list = list()\n",
    "    \n",
    "    for epoch in range(epochs):\n",
    "        for iteration in range(iterations_train):\n",
    "            ite_data,ite_label = get_ite_data(img_train,label_train,iteration,batch_size)\n",
    "            if dropout_ratio is None:\n",
    "                sess.run(tf_optimizer,feed_dict={tf_input:ite_data,tf_label:ite_label})\n",
    "            else:\n",
    "                sess.run(tf_optimizer,feed_dict={tf_input:ite_data,\n",
    "                                                 tf_label:ite_label,\n",
    "                                                 tf_keep_prob:1-dropout_ratio})\n",
    "        \n",
    "        #----計算訓練集的損失值與準確率\n",
    "        if dropout_ratio is None:\n",
    "            loss_train = get_loss(img_train,label_train,batch_size,sess)\n",
    "            acc_train = get_accuracy(img_train,label_train,batch_size,sess)\n",
    "        else:\n",
    "            loss_train = get_loss(img_train,\n",
    "                                  label_train,\n",
    "                                  batch_size,sess,\n",
    "                                  use_dropout=True)\n",
    "            acc_train = get_accuracy(img_train,\n",
    "                                     label_train,\n",
    "                                     batch_size,sess,\n",
    "                                     use_dropout=True)\n",
    "        print(\"訓練集 損失值 = \",loss_train)\n",
    "        print(\"訓練集 準確率 = \",acc_train)\n",
    "\n",
    "        #----收集訓練集損失值與準確率數值至串列\n",
    "        loss_train_list.append(loss_train)\n",
    "        acc_train_list.append(acc_train)\n",
    "\n",
    "        #----計算驗證集的損失值與準確率\n",
    "        if dropout_ratio is None:\n",
    "            loss_test = get_loss(img_test,label_test,batch_size,sess)\n",
    "            acc_test = get_accuracy(img_test,label_test,batch_size,sess)\n",
    "        else:\n",
    "            loss_test = get_loss(img_test,\n",
    "                                  label_test,\n",
    "                                  batch_size,sess,\n",
    "                                  use_dropout=True)\n",
    "            acc_test = get_accuracy(img_test,\n",
    "                                     label_test,\n",
    "                                     batch_size,sess,\n",
    "                                     use_dropout=True)\n",
    "            \n",
    "        print(\"驗證集 損失值 = \",loss_test)\n",
    "        print(\"驗證集 準確率 = \",acc_test)\n",
    "\n",
    "        #----收集驗證集損失值與準確率數值至串列\n",
    "        loss_test_list.append(loss_test)\n",
    "        acc_test_list.append(acc_test)\n",
    "        \n",
    "    return loss_train_list,acc_train_list,loss_test_list,acc_test_list"
   ]
  },
  {
   "cell_type": "code",
   "execution_count": 9,
   "metadata": {},
   "outputs": [],
   "source": [
    "def get_plots(*args):\n",
    "    loss_train_list = args[0]\n",
    "    acc_train_list = args[1]\n",
    "    loss_test_list = args[2]\n",
    "    acc_test_list = args[3]\n",
    "    \n",
    "    x_num = [i for i in range(0,len(loss_train_list))]\n",
    "\n",
    "    plt.figure(figsize=(12,4))#圖形的大小可以自行設定\n",
    "\n",
    "    plt.subplot(1,2,1)#設定第1張圖\n",
    "    plt.plot(x_num,loss_train_list,label='train data')\n",
    "    plt.plot(x_num,loss_test_list,label='test data')\n",
    "    plt.xlabel(\"epoch\")\n",
    "    plt.ylabel(\"loss \")\n",
    "    plt.legend()\n",
    "\n",
    "    plt.subplot(1,2,2)#設定第2張圖\n",
    "    plt.plot(x_num,acc_train_list,label='train data')\n",
    "    plt.plot(x_num,acc_test_list,label='test data')\n",
    "    plt.xlabel(\"epoch\")\n",
    "    plt.ylabel(\"accuracy\")\n",
    "    plt.legend()\n",
    "\n",
    "    plt.show()#所有圖都設定完再執行show()\n",
    "    \n",
    "    arg_train = np.argmax(acc_train_list)\n",
    "    best_acc_train = acc_train_list[arg_train]\n",
    "    print(\"訓練集最高的準確率為{}，出現在epoch {}\".format(best_acc_train,arg_train))\n",
    "\n",
    "    arg_test = np.argmax(acc_test_list)\n",
    "    best_acc_test = acc_test_list[arg_test]\n",
    "    print(\"驗證集最高的準確率為{}，出現在epoch {}\".format(best_acc_test,arg_test))"
   ]
  },
  {
   "cell_type": "code",
   "execution_count": 20,
   "metadata": {
    "scrolled": true
   },
   "outputs": [
    {
     "name": "stdout",
     "output_type": "stream",
     "text": [
      "訓練集 損失值 =  2.8060277672464657\n",
      "訓練集 準確率 =  0.7656833333333334\n",
      "驗證集 損失值 =  2.718276715731319\n",
      "驗證集 準確率 =  0.7716\n",
      "訓練集 損失值 =  1.5582464625840502\n",
      "訓練集 準確率 =  0.8027333333333333\n",
      "驗證集 損失值 =  1.536412605945068\n",
      "驗證集 準確率 =  0.8058\n",
      "訓練集 損失值 =  1.121467795739296\n",
      "訓練集 準確率 =  0.79615\n",
      "驗證集 損失值 =  1.1082742570699016\n",
      "驗證集 準確率 =  0.8019\n",
      "訓練集 損失值 =  0.9500571546524064\n",
      "訓練集 準確率 =  0.7954166666666667\n",
      "驗證集 損失值 =  0.9552163376083856\n",
      "驗證集 準確率 =  0.797\n",
      "訓練集 損失值 =  0.8526634534221214\n",
      "訓練集 準確率 =  0.8107\n",
      "驗證集 損失值 =  0.870572919709773\n",
      "驗證集 準確率 =  0.8133\n",
      "訓練集 損失值 =  0.7663536845430382\n",
      "訓練集 準確率 =  0.8231666666666667\n",
      "驗證集 損失值 =  0.801504231517828\n",
      "驗證集 準確率 =  0.824\n",
      "訓練集 損失值 =  0.6895197241354599\n",
      "訓練集 準確率 =  0.83945\n",
      "驗證集 損失值 =  0.7398594983770878\n",
      "驗證集 準確率 =  0.8396\n",
      "訓練集 損失值 =  0.6181483850963334\n",
      "訓練集 準確率 =  0.8533833333333334\n",
      "驗證集 損失值 =  0.6710953341820572\n",
      "驗證集 準確率 =  0.851\n",
      "訓練集 損失值 =  0.5651865437436205\n",
      "訓練集 準確率 =  0.86625\n",
      "驗證集 損失值 =  0.6210068301356668\n",
      "驗證集 準確率 =  0.8635\n",
      "訓練集 損失值 =  0.509003751075217\n",
      "訓練集 準確率 =  0.8805166666666666\n",
      "驗證集 損失值 =  0.5777585569627678\n",
      "驗證集 準確率 =  0.8765\n",
      "訓練集 損失值 =  0.4596993512690449\n",
      "訓練集 準確率 =  0.8904333333333333\n",
      "驗證集 損失值 =  0.5315735934985967\n",
      "驗證集 準確率 =  0.8858\n",
      "訓練集 損失值 =  0.4200820296939248\n",
      "訓練集 準確率 =  0.8987333333333334\n",
      "驗證集 損失值 =  0.4986712758346826\n",
      "驗證集 準確率 =  0.8934\n",
      "訓練集 損失值 =  0.38316023943107774\n",
      "訓練集 準確率 =  0.9065166666666666\n",
      "驗證集 損失值 =  0.4727651569756526\n",
      "驗證集 準確率 =  0.9002\n",
      "訓練集 損失值 =  0.3547593091072431\n",
      "訓練集 準確率 =  0.9122333333333333\n",
      "驗證集 損失值 =  0.44666052715782123\n",
      "驗證集 準確率 =  0.9051\n",
      "訓練集 損失值 =  0.3302652273875183\n",
      "訓練集 準確率 =  0.91715\n",
      "驗證集 損失值 =  0.4291850070032892\n",
      "驗證集 準確率 =  0.9107\n",
      "訓練集 損失值 =  0.3034147801540935\n",
      "訓練集 準確率 =  0.9229833333333334\n",
      "驗證集 損失值 =  0.4099576285910569\n",
      "驗證集 準確率 =  0.9162\n",
      "訓練集 損失值 =  0.2843246749207092\n",
      "訓練集 準確率 =  0.92825\n",
      "驗證集 損失值 =  0.39294073822660536\n",
      "驗證集 準確率 =  0.9214\n",
      "訓練集 損失值 =  0.26625078493185134\n",
      "訓練集 準確率 =  0.9315\n",
      "驗證集 損失值 =  0.37711427029505185\n",
      "驗證集 準確率 =  0.9239\n",
      "訓練集 損失值 =  0.24795225552463931\n",
      "訓練集 準確率 =  0.9356\n",
      "驗證集 損失值 =  0.3621561804762747\n",
      "驗證集 準確率 =  0.9261\n",
      "訓練集 損失值 =  0.23328499273577732\n",
      "訓練集 準確率 =  0.9388666666666666\n",
      "驗證集 損失值 =  0.35026588216659765\n",
      "驗證集 準確率 =  0.929\n",
      "訓練集 損失值 =  0.21662734094054015\n",
      "訓練集 準確率 =  0.94225\n",
      "驗證集 損失值 =  0.33640885604191806\n",
      "驗證集 準確率 =  0.9298\n",
      "訓練集 損失值 =  0.205089108375058\n",
      "訓練集 準確率 =  0.94515\n",
      "驗證集 損失值 =  0.3226319483210203\n",
      "驗證集 準確率 =  0.934\n",
      "訓練集 損失值 =  0.1910681595235491\n",
      "訓練集 準確率 =  0.9485333333333333\n",
      "驗證集 損失值 =  0.3107977189960642\n",
      "驗證集 準確率 =  0.9363\n",
      "訓練集 損失值 =  0.1847817725631029\n",
      "訓練集 準確率 =  0.9505333333333333\n",
      "驗證集 損失值 =  0.3074046467619512\n",
      "驗證集 準確率 =  0.9381\n",
      "訓練集 損失值 =  0.1764915243867459\n",
      "訓練集 準確率 =  0.9522333333333334\n",
      "驗證集 損失值 =  0.2999904638722162\n",
      "驗證集 準確率 =  0.9389\n",
      "訓練集 損失值 =  0.16549937237800758\n",
      "訓練集 準確率 =  0.9542\n",
      "驗證集 損失值 =  0.28850955099951997\n",
      "驗證集 準確率 =  0.9409\n",
      "訓練集 損失值 =  0.16004319376608075\n",
      "訓練集 準確率 =  0.9558666666666666\n",
      "驗證集 損失值 =  0.2908482431711134\n",
      "驗證集 準確率 =  0.941\n",
      "訓練集 損失值 =  0.1511443357314986\n",
      "訓練集 準確率 =  0.9580833333333333\n",
      "驗證集 損失值 =  0.27796078287949194\n",
      "驗證集 準確率 =  0.943\n",
      "訓練集 損失值 =  0.14384975962277288\n",
      "訓練集 準確率 =  0.95955\n",
      "驗證集 損失值 =  0.27630206362397375\n",
      "驗證集 準確率 =  0.9438\n",
      "訓練集 損失值 =  0.14109397832371756\n",
      "訓練集 準確率 =  0.9602333333333334\n",
      "驗證集 損失值 =  0.27909422435656284\n",
      "驗證集 準確率 =  0.9438\n"
     ]
    }
   ],
   "source": [
    "loss_train_list,acc_train_list,loss_test_list,acc_test_list = run_training(img_train,\n",
    "                             label_train,\n",
    "                             img_test,\n",
    "                             label_test,\n",
    "                             sess,\n",
    "                             batch_size=128,\n",
    "                             epochs=30,\n",
    "                             dropout_ratio=0.5                                             \n",
    "                             )                                  "
   ]
  },
  {
   "cell_type": "code",
   "execution_count": 18,
   "metadata": {
    "scrolled": true
   },
   "outputs": [
    {
     "data": {
      "image/png": "[encoded data removed]",
      "text/plain": [
       "<Figure size 864x288 with 2 Axes>"
      ]
     },
     "metadata": {
      "needs_background": "light"
     },
     "output_type": "display_data"
    },
    {
     "name": "stdout",
     "output_type": "stream",
     "text": [
      "訓練集最高的準確率為0.98565，出現在epoch 28\n",
      "驗證集最高的準確率為0.9598，出現在epoch 24\n"
     ]
    }
   ],
   "source": [
    "get_plots(loss_train_list,acc_train_list,loss_test_list,acc_test_list)"
   ]
  }
 ],
 "metadata": {
  "kernelspec": {
   "display_name": "Python 3",
   "language": "python",
   "name": "python3"
  },
  "language_info": {
   "codemirror_mode": {
    "name": "ipython",
    "version": 3
   },
   "file_extension": ".py",
   "mimetype": "text/x-python",
   "name": "python",
   "nbconvert_exporter": "python",
   "pygments_lexer": "ipython3",
   "version": "3.8.10"
  }
 },
 "nbformat": 4,
 "nbformat_minor": 4
}
