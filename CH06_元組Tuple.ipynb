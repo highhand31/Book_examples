{
 "cells": [
  {
   "cell_type": "markdown",
   "metadata": {},
   "source": [
    "# 基本使用"
   ]
  },
  {
   "cell_type": "code",
   "execution_count": 2,
   "metadata": {},
   "outputs": [
    {
     "name": "stdout",
     "output_type": "stream",
     "text": [
      "Mary\n",
      "Kyo\n",
      "Iori\n",
      "Kyo\n",
      "Chris\n",
      "Kyo\n"
     ]
    }
   ],
   "source": [
    "name_list = ('Mary', 'Kyo', 'Iori','Kyo',\"Chris\",'Kyo')\n",
    "\n",
    "for name in name_list:\n",
    "    print(name)"
   ]
  },
  {
   "cell_type": "code",
   "execution_count": 9,
   "metadata": {},
   "outputs": [
    {
     "name": "stdout",
     "output_type": "stream",
     "text": [
      "Mary\n",
      "Kyo\n",
      "Iori\n",
      "Kyo\n",
      "Chris\n",
      "Kyo\n"
     ]
    }
   ],
   "source": [
    "name_list = ('Mary', 'Kyo', 'Iori','Kyo',\"Chris\",'Kyo')\n",
    "\n",
    "print(name_list[0])\n",
    "print(name_list[1])\n",
    "print(name_list[2])\n",
    "print(name_list[3])\n",
    "print(name_list[4])\n",
    "print(name_list[5])"
   ]
  },
  {
   "cell_type": "markdown",
   "metadata": {},
   "source": [
    "# 切片(slice)"
   ]
  },
  {
   "cell_type": "code",
   "execution_count": 13,
   "metadata": {},
   "outputs": [
    {
     "name": "stdout",
     "output_type": "stream",
     "text": [
      "<class 'tuple'>\n",
      "('Kyo', 'Iori', 'Kyo', 'Chris')\n",
      "1962818906816\n",
      "1962809215632\n"
     ]
    }
   ],
   "source": [
    "name_list = ('Mary', 'Kyo', 'Iori','Kyo',\"Chris\",'Kyo')\n",
    "\n",
    "slice_data = name_list[1:5]\n",
    "\n",
    "print(type(slice_data))\n",
    "print(slice_data)\n",
    "\n",
    "print(id(name_list))\n",
    "print(id(slice_data))"
   ]
  },
  {
   "cell_type": "markdown",
   "metadata": {},
   "source": [
    "# 不能使用索引值針對特定元素修改內容"
   ]
  },
  {
   "cell_type": "code",
   "execution_count": 25,
   "metadata": {},
   "outputs": [
    {
     "ename": "TypeError",
     "evalue": "'tuple' object does not support item assignment",
     "output_type": "error",
     "traceback": [
      "\u001b[1;31m---------------------------------------------------------------------------\u001b[0m",
      "\u001b[1;31mTypeError\u001b[0m                                 Traceback (most recent call last)",
      "\u001b[1;32m<ipython-input-25-b651f3bca82b>\u001b[0m in \u001b[0;36m<module>\u001b[1;34m\u001b[0m\n\u001b[0;32m      1\u001b[0m \u001b[0mname_list\u001b[0m \u001b[1;33m=\u001b[0m \u001b[1;33m(\u001b[0m\u001b[1;34m'Jay'\u001b[0m\u001b[1;33m,\u001b[0m \u001b[1;34m'Hannah'\u001b[0m\u001b[1;33m,\u001b[0m \u001b[1;34m'Jolin'\u001b[0m\u001b[1;33m)\u001b[0m\u001b[1;33m\u001b[0m\u001b[1;33m\u001b[0m\u001b[0m\n\u001b[0;32m      2\u001b[0m \u001b[1;33m\u001b[0m\u001b[0m\n\u001b[1;32m----> 3\u001b[1;33m \u001b[0mname_list\u001b[0m\u001b[1;33m[\u001b[0m\u001b[1;36m1\u001b[0m\u001b[1;33m]\u001b[0m \u001b[1;33m=\u001b[0m \u001b[1;34m'Peter'\u001b[0m\u001b[1;33m\u001b[0m\u001b[1;33m\u001b[0m\u001b[0m\n\u001b[0m",
      "\u001b[1;31mTypeError\u001b[0m: 'tuple' object does not support item assignment"
     ]
    }
   ],
   "source": [
    "name_list = ('Jay', 'Hannah', 'Jolin')\n",
    "\n",
    "name_list[1] = 'Peter'"
   ]
  },
  {
   "cell_type": "markdown",
   "metadata": {},
   "source": [
    "# 可以重新給值來改變元組內容"
   ]
  },
  {
   "cell_type": "code",
   "execution_count": 28,
   "metadata": {},
   "outputs": [
    {
     "name": "stdout",
     "output_type": "stream",
     "text": [
      "('Jay', 'Hannah', 'Jolin')\n",
      "('Jay',)\n"
     ]
    }
   ],
   "source": [
    "name_list = ('Jay', 'Hannah', 'Jolin')\n",
    "print(name_list)\n",
    "\n",
    "name_list = ('Jay',)\n",
    "print(name_list)\n",
    "\n"
   ]
  },
  {
   "cell_type": "markdown",
   "metadata": {},
   "source": [
    "# 元組內只有一個元素時"
   ]
  },
  {
   "cell_type": "code",
   "execution_count": 32,
   "metadata": {},
   "outputs": [
    {
     "name": "stdout",
     "output_type": "stream",
     "text": [
      "Jay\n",
      "<class 'str'>\n",
      "('Jay',)\n",
      "<class 'tuple'>\n"
     ]
    }
   ],
   "source": [
    "a = ('Jay')\n",
    "b = ('Jay',)\n",
    "\n",
    "print(a)\n",
    "print(type(a))\n",
    "\n",
    "print(b)\n",
    "print(type(b))"
   ]
  },
  {
   "cell_type": "code",
   "execution_count": 41,
   "metadata": {},
   "outputs": [
    {
     "name": "stdout",
     "output_type": "stream",
     "text": [
      "Jay Chou\n",
      "<class 'str'>\n",
      "('Jay Chou',)\n",
      "<class 'tuple'>\n",
      "('Jay Chou',)\n",
      "<class 'tuple'>\n"
     ]
    }
   ],
   "source": [
    "a = ('Jay ' + \"Chou\")\n",
    "print(a)\n",
    "print(type(a))\n",
    "\n",
    "b = ('Jay ' + \"Chou\",)\n",
    "print(b)\n",
    "print(type(b))\n",
    "\n",
    "c = (('Jay ' + \"Chou\"),)\n",
    "print(c)\n",
    "print(type(c))"
   ]
  },
  {
   "cell_type": "markdown",
   "metadata": {},
   "source": [
    "# 元組紀錄成績，讓學生查詢成績"
   ]
  },
  {
   "cell_type": "code",
   "execution_count": 13,
   "metadata": {},
   "outputs": [
    {
     "name": "stdout",
     "output_type": "stream",
     "text": [
      "請輸入學生姓名Hannah\n",
      "國文\n",
      "70\n",
      "英文\n",
      "88\n",
      "數學\n",
      "62\n"
     ]
    }
   ],
   "source": [
    "name_list = ('Jay', 'Hannah', 'Jolin')\n",
    "score_list = (\n",
    "                ('國文',90,'英文',62,'數學',58),\n",
    "                ('國文',70,'英文',88,'數學',62),\n",
    "                ('國文',80,'英文',92,'數學',66)\n",
    "             )\n",
    "\n",
    "name = input(\"請輸入學生姓名\")\n",
    "if name in name_list:\n",
    "    \n",
    "    idx = name_list.index(name)\n",
    "    \n",
    "    for element in score_list[idx]:\n",
    "        print(element)\n",
    "else:\n",
    "    print(\"輸入的名字不存在\")"
   ]
  },
  {
   "cell_type": "markdown",
   "metadata": {},
   "source": [
    "# 型態的轉換"
   ]
  },
  {
   "cell_type": "code",
   "execution_count": 5,
   "metadata": {},
   "outputs": [
    {
     "name": "stdout",
     "output_type": "stream",
     "text": [
      "<class 'list'>\n",
      "[100, 2, 3, 4]\n",
      "<class 'tuple'>\n"
     ]
    },
    {
     "ename": "TypeError",
     "evalue": "'tuple' object does not support item assignment",
     "output_type": "error",
     "traceback": [
      "\u001b[1;31m---------------------------------------------------------------------------\u001b[0m",
      "\u001b[1;31mTypeError\u001b[0m                                 Traceback (most recent call last)",
      "\u001b[1;32m<ipython-input-5-3036106cb9c1>\u001b[0m in \u001b[0;36m<module>\u001b[1;34m\u001b[0m\n\u001b[0;32m      8\u001b[0m \u001b[1;33m\u001b[0m\u001b[0m\n\u001b[0;32m      9\u001b[0m \u001b[0mprint\u001b[0m\u001b[1;33m(\u001b[0m\u001b[0mtype\u001b[0m\u001b[1;33m(\u001b[0m\u001b[0mb\u001b[0m\u001b[1;33m)\u001b[0m\u001b[1;33m)\u001b[0m\u001b[1;33m\u001b[0m\u001b[1;33m\u001b[0m\u001b[0m\n\u001b[1;32m---> 10\u001b[1;33m \u001b[0mb\u001b[0m\u001b[1;33m[\u001b[0m\u001b[1;36m0\u001b[0m\u001b[1;33m]\u001b[0m \u001b[1;33m+=\u001b[0m \u001b[1;36m99\u001b[0m\u001b[1;33m\u001b[0m\u001b[1;33m\u001b[0m\u001b[0m\n\u001b[0m\u001b[0;32m     11\u001b[0m \u001b[0mprint\u001b[0m\u001b[1;33m(\u001b[0m\u001b[0mb\u001b[0m\u001b[1;33m)\u001b[0m\u001b[1;33m\u001b[0m\u001b[1;33m\u001b[0m\u001b[0m\n",
      "\u001b[1;31mTypeError\u001b[0m: 'tuple' object does not support item assignment"
     ]
    }
   ],
   "source": [
    "a = [1,2,3,4]\n",
    "\n",
    "print(type(a))\n",
    "a[0] += 99\n",
    "print(a)\n",
    "\n",
    "b = tuple(a)\n",
    "\n",
    "print(type(b))\n",
    "b[0] += 99\n",
    "print(b)"
   ]
  },
  {
   "cell_type": "code",
   "execution_count": 4,
   "metadata": {},
   "outputs": [
    {
     "name": "stdout",
     "output_type": "stream",
     "text": [
      "請輸入密碼1234\n",
      "(75, 90, 80)\n"
     ]
    }
   ],
   "source": [
    "score_list = (70,90,80)\n",
    "\n",
    "pwd = input(\"請輸入密碼\")\n",
    "if pwd == '1234':\n",
    "    score_list = list(score_list)\n",
    "    score_list[0] += 5\n",
    "    score_list = tuple(score_list)\n",
    "    print(score_list)\n",
    "else:\n",
    "    print(score_list)\n",
    "    \n"
   ]
  },
  {
   "cell_type": "markdown",
   "metadata": {},
   "source": [
    "# 空元組的使用"
   ]
  },
  {
   "cell_type": "code",
   "execution_count": 42,
   "metadata": {},
   "outputs": [],
   "source": [
    "pwd = tuple()"
   ]
  },
  {
   "cell_type": "code",
   "execution_count": 45,
   "metadata": {},
   "outputs": [
    {
     "name": "stdout",
     "output_type": "stream",
     "text": [
      "密碼已經設定\n",
      "請問要更改密碼嗎?y\n",
      "你輸入目前密碼qwerty\n",
      "請輸入新的密碼asdfgh\n",
      "你所設定的新密碼為 ('asdfgh',)\n"
     ]
    }
   ],
   "source": [
    "if pwd == ():\n",
    "    text = input(\"目前沒有設定密碼，請輸入密碼\")\n",
    "    pwd = (text,)\n",
    "    print(\"你所設定的密碼為\",pwd)\n",
    "else:\n",
    "    print(\"密碼已經設定\")\n",
    "    ret = input(\"請問要更改密碼嗎?\")\n",
    "    if ret == 'y':\n",
    "        text = input(\"請輸入目前密碼\")\n",
    "        if text == pwd[0]:\n",
    "            text = input(\"請輸入新的密碼\")\n",
    "            pwd = (text,)\n",
    "            print(\"你所設定的新密碼為\",pwd)\n",
    "            \n",
    "        else:\n",
    "            print(\"你輸入的密碼錯誤!\")\n",
    "        \n",
    "        "
   ]
  },
  {
   "cell_type": "code",
   "execution_count": 53,
   "metadata": {},
   "outputs": [
    {
     "data": {
      "text/plain": [
       "['__add__',\n",
       " '__class__',\n",
       " '__contains__',\n",
       " '__delattr__',\n",
       " '__dir__',\n",
       " '__doc__',\n",
       " '__eq__',\n",
       " '__format__',\n",
       " '__ge__',\n",
       " '__getattribute__',\n",
       " '__getitem__',\n",
       " '__getnewargs__',\n",
       " '__gt__',\n",
       " '__hash__',\n",
       " '__init__',\n",
       " '__init_subclass__',\n",
       " '__iter__',\n",
       " '__le__',\n",
       " '__len__',\n",
       " '__lt__',\n",
       " '__mul__',\n",
       " '__ne__',\n",
       " '__new__',\n",
       " '__reduce__',\n",
       " '__reduce_ex__',\n",
       " '__repr__',\n",
       " '__rmul__',\n",
       " '__setattr__',\n",
       " '__sizeof__',\n",
       " '__str__',\n",
       " '__subclasshook__',\n",
       " 'count',\n",
       " 'index']"
      ]
     },
     "execution_count": 53,
     "metadata": {},
     "output_type": "execute_result"
    }
   ],
   "source": [
    "name_list = ('Jay', 'Hannah', 'Jolin')\n",
    "\n",
    "dir(name_list)"
   ]
  },
  {
   "cell_type": "markdown",
   "metadata": {},
   "source": [
    "# index()方法"
   ]
  },
  {
   "cell_type": "code",
   "execution_count": 52,
   "metadata": {},
   "outputs": [
    {
     "ename": "ValueError",
     "evalue": "tuple.index(x): x not in tuple",
     "output_type": "error",
     "traceback": [
      "\u001b[1;31m---------------------------------------------------------------------------\u001b[0m",
      "\u001b[1;31mValueError\u001b[0m                                Traceback (most recent call last)",
      "\u001b[1;32m<ipython-input-52-3da765e790ce>\u001b[0m in \u001b[0;36m<module>\u001b[1;34m\u001b[0m\n\u001b[0;32m      1\u001b[0m \u001b[0mname_tuple\u001b[0m \u001b[1;33m=\u001b[0m \u001b[1;33m(\u001b[0m\u001b[1;34m'Mary'\u001b[0m\u001b[1;33m,\u001b[0m \u001b[1;34m'Kyo'\u001b[0m\u001b[1;33m,\u001b[0m \u001b[1;34m'Iori'\u001b[0m\u001b[1;33m,\u001b[0m\u001b[1;34m'Kyo'\u001b[0m\u001b[1;33m,\u001b[0m\u001b[1;34m\"Chris\"\u001b[0m\u001b[1;33m,\u001b[0m\u001b[1;34m'Kyo'\u001b[0m\u001b[1;33m)\u001b[0m\u001b[1;33m\u001b[0m\u001b[1;33m\u001b[0m\u001b[0m\n\u001b[0;32m      2\u001b[0m \u001b[1;33m\u001b[0m\u001b[0m\n\u001b[1;32m----> 3\u001b[1;33m \u001b[0midx\u001b[0m \u001b[1;33m=\u001b[0m \u001b[0mname_tuple\u001b[0m\u001b[1;33m.\u001b[0m\u001b[0mindex\u001b[0m\u001b[1;33m(\u001b[0m\u001b[1;34m'Johnny'\u001b[0m\u001b[1;33m)\u001b[0m\u001b[1;33m\u001b[0m\u001b[1;33m\u001b[0m\u001b[0m\n\u001b[0m\u001b[0;32m      4\u001b[0m \u001b[1;33m\u001b[0m\u001b[0m\n\u001b[0;32m      5\u001b[0m \u001b[0mdir\u001b[0m\u001b[1;33m(\u001b[0m\u001b[0midx\u001b[0m\u001b[1;33m)\u001b[0m\u001b[1;33m\u001b[0m\u001b[1;33m\u001b[0m\u001b[0m\n",
      "\u001b[1;31mValueError\u001b[0m: tuple.index(x): x not in tuple"
     ]
    }
   ],
   "source": [
    "name_tuple = ('Mary', 'Kyo', 'Iori','Kyo',\"Chris\",'Kyo')\n",
    "\n",
    "idx = name_tuple.index('Johnny')\n",
    "\n",
    "print(idx)"
   ]
  },
  {
   "cell_type": "code",
   "execution_count": 49,
   "metadata": {},
   "outputs": [
    {
     "name": "stdout",
     "output_type": "stream",
     "text": [
      "你查詢的元素不存在\n"
     ]
    }
   ],
   "source": [
    "name_tuple = ('Mary', 'Kyo', 'Iori','Kyo',\"Chris\",'Kyo')\n",
    "name = \"Johnny\"\n",
    "\n",
    "if name in name_tuple:\n",
    "    idx = name_tuple.index(name)\n",
    "    print(\"元素索引值 = \",idx)\n",
    "else:\n",
    "    print(\"你查詢的元素不存在\")"
   ]
  },
  {
   "cell_type": "markdown",
   "metadata": {},
   "source": [
    "# count()方法 "
   ]
  },
  {
   "cell_type": "code",
   "execution_count": 51,
   "metadata": {},
   "outputs": [
    {
     "name": "stdout",
     "output_type": "stream",
     "text": [
      "3\n",
      "<class 'int'>\n"
     ]
    }
   ],
   "source": [
    "name_tuple = ('Mary', 'Kyo', 'Iori','Kyo',\"Chris\",'Kyo')\n",
    "qty = name_tuple.count('Kyo')\n",
    "\n",
    "print(qty)\n",
    "print(type(qty))"
   ]
  },
  {
   "cell_type": "markdown",
   "metadata": {},
   "source": [
    "# len()函數"
   ]
  },
  {
   "cell_type": "code",
   "execution_count": 54,
   "metadata": {},
   "outputs": [
    {
     "name": "stdout",
     "output_type": "stream",
     "text": [
      "6\n",
      "<class 'int'>\n"
     ]
    }
   ],
   "source": [
    "name_tuple = ('Mary', 'Kyo', 'Iori','Kyo',\"Chris\",'Kyo')\n",
    "qty_tuple= len(name_tuple)\n",
    "\n",
    "print(qty_tuple)\n",
    "print(type(qty_tuple))"
   ]
  },
  {
   "cell_type": "code",
   "execution_count": 56,
   "metadata": {},
   "outputs": [
    {
     "name": "stdout",
     "output_type": "stream",
     "text": [
      "2\n",
      "<class 'int'>\n"
     ]
    }
   ],
   "source": [
    "name_tuple = (\n",
    "                ('Mary', 'Kyo', 'Iori'),\n",
    "                ('Kyo',\"Chris\",'Kyo')\n",
    "            )\n",
    "\n",
    "qty_tuple= len(name_tuple)\n",
    "\n",
    "print(qty_tuple)"
   ]
  }
 ],
 "metadata": {
  "kernelspec": {
   "display_name": "Python 3",
   "language": "python",
   "name": "python3"
  },
  "language_info": {
   "codemirror_mode": {
    "name": "ipython",
    "version": 3
   },
   "file_extension": ".py",
   "mimetype": "text/x-python",
   "name": "python",
   "nbconvert_exporter": "python",
   "pygments_lexer": "ipython3",
   "version": "3.7.3"
  }
 },
 "nbformat": 4,
 "nbformat_minor": 5
}
